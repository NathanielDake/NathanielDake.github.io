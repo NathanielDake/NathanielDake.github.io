{
 "cells": [
  {
   "cell_type": "markdown",
   "metadata": {},
   "source": [
    "# 1. Components of an RL System\n",
    "\n",
    "<img src=\"images/sar-flow.png\" width=\"500\">\n",
    "\n",
    "Let's quickly recall what we had discussed earlier concerning the components of an RL system. We talked about the following:\n",
    "\n",
    "> * **Agent**: The thing that is playing the game, that we want to program the RL algorithm into.\n",
    "<br>\n",
    "<br>\n",
    "* **Environment**: The thing that the agent interacts with; the agents world.\n",
    "<br>\n",
    "<br> \n",
    "* **State**: Specific configuration of the environment that the agent is sensing. Note, the state only represents that which the agent can sense. \n",
    "<br>\n",
    "<br> \n",
    "* **Actions**: Things that an agent can do that will affect its state. In Tic-Tac-Toe, that's placing a piece on the board. Performing an actions always brings us to the next state, which also comes with a possible reward. \n",
    "<br>\n",
    "<br> \n",
    "* **Rewards**: Tells you how good your action was, not whether it was a correct or incorrect action. It does not tell you whether it was the best or worst action, it is just a number. The rewards you have received over the course of your existence doesn't necessarily represent possible rewards you could get in the future. For example, you could search a bad part of state space, hit a local max of 10pts, while the global max was actually 1000 pts. The agent does not know that (but in our case we will, since we designed the game). \n",
    "\n",
    "## 1.1 Notation\n",
    "We know that being in a state, $S(t)$, and taking an action $A(t)$, will lead us to the reward $R(t+1)$ and the state $S(t+1)$:\n",
    "\n",
    "#### $$S(t), A(t) \\rightarrow R(t+1), S(t+1)$$\n",
    "\n",
    "However, when we drop the time index's, we represent this as the 4-tuple: \n",
    "\n",
    "#### $$(s,a,r,s')$$\n",
    "\n",
    "The $r$ is not given a prime as you would expect, but it is standard notation. So, the prime symbol doesn't strictly mean \"at time t + 1\"\n",
    "\n",
    "## 1.2 New Terms \n",
    "The first new term we want to discuss is **Episode**. This represents one run of the game. For example, we will start a game of tic tac toe with an empty board, and as soon as one player gets 3 pieces in a row, that's the end of the episode. As you may imagine, our RL agent will learn across many episodes. For example, after playin 1000, 10000, or 100000 episodes, we can possibly have trained an intelligent agent. The number of episodes we will use is a hyper parameter and will depend on the game being played, the number of states, how random the game is, etc. \n",
    "\n",
    "Playing the game tic-tac-toe is an **episodic task** because you can play it again and again. This is different from a **continuous task** which never ends. We will not be looking at continuous tasks in this course. \n",
    "\n",
    "Now, the next question we ask is: when is the end of an episode? Well, there are certain states in the state space that tell us when the episode is over. These are states from which no more action can be taken. They are referred to as **terminal states**. For tic-tac-toe these are when one player gets 3 in a row, or when the board is full (a draw). \n",
    "\n",
    "## 1.3 Cart-Pole / Inverted Pendulum\n",
    "This problem comes up all the time in RL and control systems. If you search google for inverted pendulum, you will see research papers concerning control systems, and if you search cart-pole you will see all kinds of RL research papers. At the beginning of an episode, the cart is stationary and the pole is perpendicular to the ground. Because the system is unstable, the pole will then begin to fall, and the job of the cart is to move so that the pole does not fall down. \n",
    "\n",
    "When the pole falls so far that it is impossible to get back up, any angle past a threshold where it is impossible to get the pole back up is a terminal state. Note, because the angle in this example is a real number, is a continuous/infinite space. We will not deal with these. "
   ]
  },
  {
   "cell_type": "code",
   "execution_count": null,
   "metadata": {
    "collapsed": true
   },
   "outputs": [],
   "source": []
  }
 ],
 "metadata": {
  "kernelspec": {
   "display_name": "Python 3",
   "language": "python3",
   "name": "python3"
  },
  "language_info": {
   "codemirror_mode": {
    "name": "ipython",
    "version": 3
   },
   "file_extension": ".py",
   "mimetype": "text/x-python",
   "name": "python",
   "nbconvert_exporter": "python",
   "pygments_lexer": "ipython3",
   "version": "3.6.5"
  }
 },
 "nbformat": 4,
 "nbformat_minor": 2
}
