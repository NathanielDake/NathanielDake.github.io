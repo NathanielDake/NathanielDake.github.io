{
 "cells": [
  {
   "cell_type": "markdown",
   "metadata": {},
   "source": [
    "# 1. Markov Decision Processes\n",
    "We are now going to formalize some of the concepts that we have learned about in reinforcement learning. We have learning about the terms:\n",
    "> * **Agent**\n",
    "* **Environment**\n",
    "* **Action**\n",
    "* **State**\n",
    "* **Reward**\n",
    "* **Episode**\n",
    "\n",
    "This section is about putting these concepts into a formal framework called **Markov Decision Processes**.\n",
    "\n",
    "## 1.1 Gridworld\n",
    "In this section we are going to describe the game that we are going to use for the rest of this course. It is in some ways simpler than tic-tac-toe, but it has some properties that allow us to explore some of the more interesting properties of RL.\n",
    "\n",
    "<img src=\"images/gridworld.png\">\n",
    "\n",
    "In this game our agent is a robot, and the environment is a grid. The agent is allowed to move in 4 directions: up, down, left, and right. Grid world is generally built in the following way: \n",
    "> * at position (1, 1) there is a wall, so if the robot tries to go there it will bump into the wall. \n",
    "* (0,3) is a winning state (terminal state with a +1 reward)\n",
    "* (1, 3) is a losing state (terminal state with a -1 reward)\n",
    "\n",
    "One thing we will notice about gridworld is that it has a much smaller number of states than tic-tac-toe; there are only 12 positions, 11 states (where the robot is), and 4 actions-that is a small game! However, there are many concepts to be learned! "
   ]
  },
  {
   "cell_type": "code",
   "execution_count": null,
   "metadata": {
    "collapsed": true
   },
   "outputs": [],
   "source": []
  }
 ],
 "metadata": {
  "kernelspec": {
   "display_name": "Python 3",
   "language": "python3",
   "name": "python3"
  },
  "language_info": {
   "codemirror_mode": {
    "name": "ipython",
    "version": 3
   },
   "file_extension": ".py",
   "mimetype": "text/x-python",
   "name": "python",
   "nbconvert_exporter": "python",
   "pygments_lexer": "ipython3",
   "version": "3.6.5"
  }
 },
 "nbformat": 4,
 "nbformat_minor": 2
}
