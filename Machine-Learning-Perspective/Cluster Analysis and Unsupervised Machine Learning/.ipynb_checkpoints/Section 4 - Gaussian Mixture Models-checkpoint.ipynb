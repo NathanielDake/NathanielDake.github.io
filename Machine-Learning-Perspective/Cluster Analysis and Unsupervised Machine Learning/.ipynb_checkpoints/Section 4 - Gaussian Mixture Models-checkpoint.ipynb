{
 "cells": [
  {
   "cell_type": "markdown",
   "metadata": {},
   "source": [
    "# 1. Gaussian Mixture Models \n",
    "Gaussian Mixture Models are a form of **density estimation**. They give us an approximation of the probability distribution of our data. We want to use gaussian mixture models when we notice that our data is multimodal (meaning there are multiple modes or bumps). From probability, we can recall that the **mode** is just the most common value. \n",
    "\n",
    "<img src=\"images/bimodal.png\">\n",
    "\n",
    "A Gaussian mixture is just the sum of weighted gaussians. To represent these weights we will introduce a new symbol called $\\pi$. $\\pi_k$ is the probability that x belongs to the $k$th Gaussian. \n",
    "\n",
    "### $$p(x) = \\pi_1 N(\\mu_1, \\Sigma_1) + \\pi_2 N(\\mu_2, \\Sigma_2) + \\pi_3 N(\\mu_3, \\Sigma_3)$$\n",
    "\n",
    "### 1.1 $\\pi$ is a distribution\n",
    "Notice that there is a constraint here that all of the $\\pi$'s have to sum to 1. \n",
    "\n",
    "### $$1 = \\int p(x)dx = \\int \\pi_1 N(x | \\mu_1, \\Sigma_1)dx + \\pi_2 N(x | \\mu_2, \\Sigma_2)dx$$\n",
    "### $$\\pi_1 1 + \\pi_2 1$$\n",
    "\n",
    "### 1.2 Latent Variables\n",
    "Another way of thinking of this is that we introduced a new random variable called \"Z\". $Z$ represents which gaussian the data came from. So, we can say that:\n",
    "\n",
    "### $$\\pi_k = P(Z = k)$$\n",
    "\n",
    "This is like saying that there is some hidden cause called $Z$ that we can't measure. Each of these $Z$'s is causing a gaussian to be generated, and all we can see in our data is the combined effects of those individual $Z$'s. This will be important because it puts GMM's into the framework of **expectation maximization**.\n",
    "\n",
    "### 1.3 Training a GMM\n",
    "Training a GMM is very much like the k-means algorithm. There are two steps that mirror what we saw with k-means. \n",
    "\n",
    "1. **Calculate Responsibilites**<br>\n",
    "$\\gamma_k^{(n)}$ is the responsibility of the $k$th gaussian for generating the $n$th point. This is just the proportion of that gaussian, divided by all of the gaussians. If $\\pi_k$ is large here, then it will overtake the other gaussians, and this will be approximately equal to 1. \n",
    "### $$\\gamma_k^{(n)} = p(z^{(n)}|x) = \\frac{\\pi_k N (x^{(n)} | \\mu_k, \\Sigma_k) }{\\sum_{j=1}^K \\pi_j N (x^{(n)} | \\mu_j, \\Sigma_j)}$$\n",
    "\n",
    "2. **Calculate model parameters of the gaussians**\n",
    "We now need to recalculate the means, covariances, and $\\pi$s. The way that this is done is also similar to k-means, where we weight each samples influence on the parameter, by the responsibility. If that responsibility is small, then that $x$ matters less in the total calculation. \n",
    "### $$\\mu_k = \\frac{1}{N_k}\\sum_{n=1}^N \\gamma_k^{(n)} x^{(n)}$$\n",
    "### $$\\Sigma_k = \\frac{1}{N_k} \\sum_{n=1}^N \\gamma_k^{(n)} (x^{(n)} - \\mu_k)(x^{(n)} - \\mu_k)^T$$ \n",
    "### $$\\pi_k = \\frac{N_k}{N} \\; with \\; N_k = \\sum_{n=1}^N \\gamma_k^{(n)}$$"
   ]
  },
  {
   "cell_type": "markdown",
   "metadata": {},
   "source": []
  },
  {
   "cell_type": "code",
   "execution_count": 2,
   "metadata": {},
   "outputs": [
    {
     "ename": "SyntaxError",
     "evalue": "invalid syntax (<ipython-input-2-d950e2a0ee07>, line 1)",
     "output_type": "error",
     "traceback": [
      "\u001b[0;36m  File \u001b[0;32m\"<ipython-input-2-d950e2a0ee07>\"\u001b[0;36m, line \u001b[0;32m1\u001b[0m\n\u001b[0;31m    $\\matcal{n}$\u001b[0m\n\u001b[0m    ^\u001b[0m\n\u001b[0;31mSyntaxError\u001b[0m\u001b[0;31m:\u001b[0m invalid syntax\n"
     ]
    }
   ],
   "source": []
  },
  {
   "cell_type": "code",
   "execution_count": null,
   "metadata": {
    "collapsed": true
   },
   "outputs": [],
   "source": []
  }
 ],
 "metadata": {
  "kernelspec": {
   "display_name": "Python 3",
   "language": "python3",
   "name": "python3"
  },
  "language_info": {
   "codemirror_mode": {
    "name": "ipython",
    "version": 3
   },
   "file_extension": ".py",
   "mimetype": "text/x-python",
   "name": "python",
   "nbconvert_exporter": "python",
   "pygments_lexer": "ipython3",
   "version": "3.6.5"
  }
 },
 "nbformat": 4,
 "nbformat_minor": 2
}
