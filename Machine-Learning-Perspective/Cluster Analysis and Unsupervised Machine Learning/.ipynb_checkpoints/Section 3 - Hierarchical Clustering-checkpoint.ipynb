{
 "cells": [
  {
   "cell_type": "markdown",
   "metadata": {},
   "source": [
    "# 1. Hierarchical Clustering\n",
    "We are now going to talk about a different technique for building clustering known as: **Agglomerative Clustering**. If you have ever studied algorithms, you will recognize this as a greedy algorithm. We are going to be purposefully short sighted, and make what appears to be the best decision at the time.\n",
    "\n",
    "The basic idea looks something like this:\n",
    "> * **Start with a set of points**\n",
    "* **Merge the 2 closest**\n",
    "* **Repeat until you only have 1 group of all the points**\n",
    "\n",
    "## 1.1 Agglomerative Clustering \n",
    "\n",
    "An awesome video to help explain this can be seen <a href=\"https://www.youtube.com/watch?v=XJ3194AmH40\">here</a>.\n",
    "\n",
    "In order to work with the outcome of agglomerative clustering, we can use what is referred to as a **dendrogram**. In a dendrogram, the height of a cluster *(A,B)* is proportional to the height of the line that joins $A$ and $B$. \n",
    "\n",
    "## 1.2 How to calculate distance?\n",
    "So far, we have assumed that we are using **Euclidean Distance** are our measure of the closeness of the clusters. However, this does not need to be the case. There are other methods that can be used as well, seen <a href=\"https://numerics.mathdotnet.com/distance.html\">here</a>. Note, there are certain things that make a distance valid, which are discussed more <a href=\"https://en.wikipedia.org/wiki/Metric_(mathematics)\">here</a>.\n",
    "\n",
    "## 1.3 How do we join clusters together?\n",
    "Since we did have not gone too in depth regarding hierarchical clustering, we still don't fully know how to define the distance between 2 clusters. We have several options:\n",
    "\n",
    "> * **The mean distance between two clusters**\n",
    "* **The distance between the 2 closest cluster points**\n",
    "* **The distance between the 2 furthest cluster points**\n",
    "\n",
    "<img src=\"images/linkages.jpg\">\n",
    "\n",
    "### 1.3.1 Single-Linkage\n",
    "This is where we look at each point in cluster 1, and find the closest point in cluster 2. This looks like:\n",
    "> `d(clusterA, clusterB) = min distance between any 2 points, 1 from A, 1 from B`\n",
    "\n",
    "The pseudocode may look something like this:\n",
    "\n",
    "**Pseudocode**<br>\n",
    "```\n",
    "min_dist = Infinity\n",
    "for p1 in cluster1:\n",
    "    for p2 in cluster2:\n",
    "        min_dist = min( d(p1, p2), min_dist)\n",
    "```\n",
    "\n",
    "A down side to this method is that we may get something called **the chaining effect**. This is where we just keep choosing the thing beside our current cluster. However, we end up choosing something where the total points end up very far apart. \n",
    "\n",
    "### 1.3.2 Complete-Linkage\n",
    "The opposite of single linkage clustering is **complete linkage clustering**. This is where we look at each point in cluster 1, and find the furthest point in cluster 2. This looks like:\n",
    "\n",
    "> `d(clusterA, clusterB) = max distance between any 2 points, 1 from A, 1 from B`\n",
    "\n",
    "The pseudocode may look something like this:\n",
    "\n",
    "**Pseudocode**<br>\n",
    "```\n",
    "max_dist = Infinity\n",
    "for p1 in cluster1:\n",
    "    for p2 in cluster2:\n",
    "        min_dist = max( d(p1, p2), max_dist)\n",
    "```\n",
    "\n",
    "### 1.3.3 Mean Distance\n",
    "The third type of clustering, which is probably the most intuitive, is to just take the mean distance. \n",
    "\n",
    "**Pseudocode**<br>\n",
    "```\n",
    "dist = 0\n",
    "for p1 in cluster1:\n",
    "    for p2 in cluster2:\n",
    "        dist += d(p1, p2)\n",
    "    dist = dist / (len(cluster1)*len(cluster2))\n",
    "```"
   ]
  },
  {
   "cell_type": "code",
   "execution_count": null,
   "metadata": {
    "collapsed": true
   },
   "outputs": [],
   "source": []
  }
 ],
 "metadata": {
  "kernelspec": {
   "display_name": "Python 3",
   "language": "python3",
   "name": "python3"
  },
  "language_info": {
   "codemirror_mode": {
    "name": "ipython",
    "version": 3
   },
   "file_extension": ".py",
   "mimetype": "text/x-python",
   "name": "python",
   "nbconvert_exporter": "python",
   "pygments_lexer": "ipython3",
   "version": "3.6.5"
  }
 },
 "nbformat": 4,
 "nbformat_minor": 2
}
