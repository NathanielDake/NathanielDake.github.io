{
 "cells": [
  {
   "cell_type": "markdown",
   "metadata": {},
   "source": [
    "# 1. Gradient Descent: Full vs. Batch vs. Stochastic\n",
    "Let's take a moment to talk about the different ways that we can perform gradient descent, and their particular advantages and disadvantages. The three basic types we will go over are:\n",
    "1. **Full**\n",
    "2. **Batch**\n",
    "3. **Stochastic**\n",
    "\n",
    "## 1.1 Full Gradient Descent\n",
    "Up until, most of my notebooks have covered **full** gradient descent:\n",
    "\n",
    "#### $$J = \\sum_{n=1}^N t(n)logy(n)$$\n",
    "\n",
    "Why is that? Well it makes sense that we would want to maximize the likelihood over our entire training set! The main disadvantage of this however is that the calculation of the gradient is now **O(N)**, since it depends on each sample. This means that it will struggle to be effective when working with big data. \n",
    "\n",
    "## 1.2 Stochastic Gradient Descent\n",
    "On the other end of the spectrum we have **stochastic gradient descent**. This looks at one particular sample at a time, and the associated error. We are depending on the fact that all of the samples are **IID (independent and identically distributed)**. This means that in the long run your error will improve because all of your samples are coming from the same distribution. Now that we have reduced our calculation from $N$ operations to 1, that is a nice improvement, however, there is a disadvantage. Whereas the log likelihood always improves on every iteration of full gradient descent, sometimes the log likelihood can get worse with stochastic gradient descent. In fact, the cost function will behave pretty erratically over each iteration, but it will improve in the long run. \n",
    "\n",
    "## 1.3 Batch Gradient Descent\n",
    "Batch gradient descent can be thought of as the happy medium between these two. In this method we split our data up into batches. For instance, say we have 10,000 examples, we could split it up into 100 batches of size 100. Then we could compute our cost function based on each batch for each iteration. In this case the cost function can still get worse, but it will be much less erratic than if we had done pure stochastic gradient descent. "
   ]
  },
  {
   "cell_type": "markdown",
   "metadata": {},
   "source": [
    "# 2. Full vs. Batch vs. Stochastic in Code\n",
    "We are now going to compare each form of gradient descent in code, particularly how they progress. We start with the standard imports:"
   ]
  },
  {
   "cell_type": "code",
   "execution_count": 1,
   "metadata": {
    "collapsed": true
   },
   "outputs": [],
   "source": [
    "import numpy as np\n",
    "import pandas as pd\n",
    "import matplotlib.pyplot as plt\n",
    "from sklearn.utils import shuffle\n",
    "from datetime import datetime\n",
    "\n",
    "from util import get_transformed_data, forward, error_rate, cost, gradW, gradb, y2indicator"
   ]
  },
  {
   "cell_type": "markdown",
   "metadata": {},
   "source": [
    "We will be using the transformed data (after PCA has been applied). We will also be using logistic regression instead of a full neural network, just to speed things up. So we will start by getting the transformed data, and only take the first 300 columns. We will also normalize X, get our training and test set, and create our indicator matrices. "
   ]
  },
  {
   "cell_type": "code",
   "execution_count": 3,
   "metadata": {},
   "outputs": [
    {
     "name": "stdout",
     "output_type": "stream",
     "text": [
      "Reading in and transforming data...\n"
     ]
    },
    {
     "data": {
      "image/png": "[encoded data removed]",
      "text/plain": [
       "<matplotlib.figure.Figure at 0x10f367240>"
      ]
     },
     "metadata": {},
     "output_type": "display_data"
    }
   ],
   "source": [
    "X, Y, _, _ = get_transformed_data()\n",
    "X = X[:, :300]\n",
    "\n",
    "# normalize X first\n",
    "mu = X.mean(axis=0)\n",
    "std = X.std(axis=0)\n",
    "X = (X - mu) / std\n",
    "\n",
    "Xtrain = X[:-1000,]\n",
    "Ytrain = Y[:-1000]\n",
    "Xtest  = X[-1000:,]\n",
    "Ytest  = Y[-1000:]\n",
    "\n",
    "N, D = Xtrain.shape\n",
    "Ytrain_ind = y2indicator(Ytrain)\n",
    "Ytest_ind = y2indicator(Ytest)"
   ]
  },
  {
   "cell_type": "markdown",
   "metadata": {},
   "source": [
    "## 2.2 Full Gradient Descent\n",
    "Now we will perform full gradient descent. "
   ]
  },
  {
   "cell_type": "code",
   "execution_count": null,
   "metadata": {
    "collapsed": true
   },
   "outputs": [],
   "source": [
    "W = np.random.randn(D, 10) / 28    # initialize weights and bias\n",
    "b = np.zeros(10)\n",
    "LL = []\n",
    "lr = 0.0001                        # set learning rate and regularization\n",
    "reg = 0.01\n",
    "t0 = datetime.now()\n",
    "for i in range(200):\n",
    "    p_y = forward(Xtrain, W, b)    # forward pass\n",
    "\n",
    "    W += lr*(gradW(Ytrain_ind, p_y, Xtrain) - reg*W  # weight and bias update using gradient\n",
    "    b += lr*(gradb(Ytrain_ind, p_y) - reg*b)\n",
    "\n",
    "\n",
    "    p_y_test = forward(Xtest, W, b)                  # forward pass on test set\n",
    "    ll = cost(p_y_test, Ytest_ind)\n",
    "    LL.append(ll)\n",
    "    if i % 20 == 0:\n",
    "        err = error_rate(p_y_test, Ytest)\n",
    "        print(\"Cost at iteration %d: %.6f\" % (i, ll))\n",
    "        print(\"Error rate:\", err)\n",
    "p_y = forward(Xtest, W, b)                                    # final prediction\n",
    "print(\"Final error rate:\", error_rate(p_y, Ytest))            # print accuracy\n",
    "print(\"Elapsted time for full GD:\", datetime.now() - t0)      # print current time "
   ]
  }
 ],
 "metadata": {
  "kernelspec": {
   "display_name": "Python 3",
   "language": "python3",
   "name": "python3"
  },
  "language_info": {
   "codemirror_mode": {
    "name": "ipython",
    "version": 3
   },
   "file_extension": ".py",
   "mimetype": "text/x-python",
   "name": "python",
   "nbconvert_exporter": "python",
   "pygments_lexer": "ipython3",
   "version": "3.6.4"
  }
 },
 "nbformat": 4,
 "nbformat_minor": 2
}
