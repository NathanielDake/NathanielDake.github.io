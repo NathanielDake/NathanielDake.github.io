{
 "cells": [
  {
   "cell_type": "code",
   "execution_count": 2,
   "metadata": {},
   "outputs": [
    {
     "name": "stderr",
     "output_type": "stream",
     "text": [
      "/usr/local/lib/python3.6/site-packages/h5py/__init__.py:36: FutureWarning: Conversion of the second argument of issubdtype from `float` to `np.floating` is deprecated. In future, it will be treated as `np.float64 == np.dtype(float).type`.\n",
      "  from ._conv import register_converters as _register_converters\n",
      "Using TensorFlow backend.\n"
     ]
    },
    {
     "name": "stdout",
     "output_type": "stream",
     "text": [
      "Reading in and transforming data...\n",
      "Train on 28139 samples, validate on 13861 samples\n",
      "Epoch 1/15\n",
      "28139/28139 [==============================] - 5s 163us/step - loss: 0.2806 - acc: 0.9212 - val_loss: 0.1863 - val_acc: 0.9491\n",
      "Epoch 2/15\n",
      "28139/28139 [==============================] - 5s 175us/step - loss: 0.1291 - acc: 0.9638 - val_loss: 0.1780 - val_acc: 0.9530\n",
      "Epoch 3/15\n",
      "28139/28139 [==============================] - 6s 200us/step - loss: 0.0915 - acc: 0.9740 - val_loss: 0.1637 - val_acc: 0.9589\n",
      "Epoch 4/15\n",
      "28139/28139 [==============================] - 5s 194us/step - loss: 0.0774 - acc: 0.9784 - val_loss: 0.1752 - val_acc: 0.9585\n",
      "Epoch 5/15\n",
      "28139/28139 [==============================] - 5s 181us/step - loss: 0.0580 - acc: 0.9844 - val_loss: 0.2060 - val_acc: 0.9587\n",
      "Epoch 6/15\n",
      "28139/28139 [==============================] - 6s 199us/step - loss: 0.0608 - acc: 0.9840 - val_loss: 0.2275 - val_acc: 0.9553\n",
      "Epoch 7/15\n",
      "28139/28139 [==============================] - 5s 192us/step - loss: 0.0683 - acc: 0.9835 - val_loss: 0.2178 - val_acc: 0.9602\n",
      "Epoch 8/15\n",
      "28139/28139 [==============================] - 5s 186us/step - loss: 0.0691 - acc: 0.9849 - val_loss: 0.2860 - val_acc: 0.9535\n",
      "Epoch 9/15\n",
      "28139/28139 [==============================] - 5s 186us/step - loss: 0.0534 - acc: 0.9875 - val_loss: 0.2303 - val_acc: 0.9645\n",
      "Epoch 10/15\n",
      "28139/28139 [==============================] - 6s 209us/step - loss: 0.0398 - acc: 0.9908 - val_loss: 0.2475 - val_acc: 0.9616\n",
      "Epoch 11/15\n",
      "28139/28139 [==============================] - 6s 198us/step - loss: 0.0452 - acc: 0.9900 - val_loss: 0.2716 - val_acc: 0.9613\n",
      "Epoch 12/15\n",
      "28139/28139 [==============================] - 5s 190us/step - loss: 0.0399 - acc: 0.9906 - val_loss: 0.2720 - val_acc: 0.9612\n",
      "Epoch 13/15\n",
      "28139/28139 [==============================] - 6s 210us/step - loss: 0.0509 - acc: 0.9896 - val_loss: 0.3086 - val_acc: 0.9618\n",
      "Epoch 14/15\n",
      "28139/28139 [==============================] - 6s 210us/step - loss: 0.0368 - acc: 0.9919 - val_loss: 0.2778 - val_acc: 0.9649\n",
      "Epoch 15/15\n",
      "28139/28139 [==============================] - 6s 204us/step - loss: 0.0354 - acc: 0.9932 - val_loss: 0.2674 - val_acc: 0.9654\n",
      "Returned: <keras.callbacks.History object at 0x11dbf9cc0>\n",
      "dict_keys(['val_loss', 'val_acc', 'loss', 'acc'])\n"
     ]
    },
    {
     "data": {
      "text/plain": [
       "<matplotlib.figure.Figure at 0x11e221630>"
      ]
     },
     "metadata": {},
     "output_type": "display_data"
    },
    {
     "data": {
      "text/plain": [
       "<matplotlib.figure.Figure at 0x12ddf9860>"
      ]
     },
     "metadata": {},
     "output_type": "display_data"
    }
   ],
   "source": [
    "from keras.models import Sequential\n",
    "from keras.layers import Dense, Activation\n",
    "from util import get_normalized_data, y2indicator\n",
    "\n",
    "import matplotlib.pyplot as plt\n",
    "\n",
    "# NOTE: do NOT name your file keras.py because it will conflict\n",
    "# with importing keras\n",
    "\n",
    "# installation is easy! just the usual \"sudo pip(3) install keras\"\n",
    "\n",
    "\n",
    "# get the data, same as Theano + Tensorflow examples\n",
    "# no need to split now, the fit() function will do it\n",
    "X, Y = get_normalized_data()\n",
    "\n",
    "# get shapes\n",
    "N, D = X.shape\n",
    "K = len(set(Y))\n",
    "\n",
    "# by default Keras wants one-hot encoded labels\n",
    "# there's another cost function we can use\n",
    "# where we can just pass in the integer labels directly\n",
    "# just like Tensorflow / Theano\n",
    "Y = y2indicator(Y)\n",
    "\n",
    "\n",
    "# the model will be a sequence of layers\n",
    "model = Sequential()\n",
    "\n",
    "\n",
    "# ANN with layers [784] -> [500] -> [300] -> [10]\n",
    "model.add(Dense(units=500, input_dim=D))\n",
    "model.add(Activation('relu'))\n",
    "model.add(Dense(units=300)) # don't need to specify input_dim\n",
    "model.add(Activation('relu'))\n",
    "model.add(Dense(units=K))\n",
    "model.add(Activation('softmax'))\n",
    "\n",
    "\n",
    "# list of losses: https://keras.io/losses/\n",
    "# list of optimizers: https://keras.io/optimizers/\n",
    "# list of metrics: https://keras.io/metrics/\n",
    "model.compile(\n",
    "  loss='categorical_crossentropy',\n",
    "  optimizer='adam',\n",
    "  metrics=['accuracy']\n",
    ")\n",
    "\n",
    "# note: multiple ways to choose a backend\n",
    "# either theano, tensorflow, or cntk\n",
    "# https://keras.io/backend/\n",
    "\n",
    "\n",
    "# gives us back a <keras.callbacks.History object at 0x112e61a90>\n",
    "r = model.fit(X, Y, validation_split=0.33, epochs=15, batch_size=32)\n",
    "print(\"Returned:\", r)\n",
    "\n",
    "# print the available keys\n",
    "# should see: dict_keys(['val_loss', 'acc', 'loss', 'val_acc'])\n",
    "print(r.history.keys())\n",
    "\n",
    "# plot some data\n",
    "plt.plot(r.history['loss'], label='loss')\n",
    "plt.plot(r.history['val_loss'], label='val_loss')\n",
    "plt.legend()\n",
    "plt.show()\n",
    "\n",
    "# accuracies\n",
    "plt.plot(r.history['acc'], label='acc')\n",
    "plt.plot(r.history['val_acc'], label='val_acc')\n",
    "plt.legend()\n",
    "plt.show()"
   ]
  },
  {
   "cell_type": "code",
   "execution_count": null,
   "metadata": {
    "collapsed": true
   },
   "outputs": [],
   "source": []
  }
 ],
 "metadata": {
  "kernelspec": {
   "display_name": "Python 3",
   "language": "python3",
   "name": "python3"
  },
  "language_info": {
   "codemirror_mode": {
    "name": "ipython",
    "version": 3
   },
   "file_extension": ".py",
   "mimetype": "text/x-python",
   "name": "python",
   "nbconvert_exporter": "python",
   "pygments_lexer": "ipython3",
   "version": "3.6.5"
  }
 },
 "nbformat": 4,
 "nbformat_minor": 2
}
