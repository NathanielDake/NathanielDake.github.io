{
 "cells": [
  {
   "cell_type": "markdown",
   "metadata": {},
   "source": [
    "# 1. Facial Expression Recognition - Theano\n",
    "We are now going to go through the facial expression recognition project that we have worked on in the past, but we will use **Theano** as our framework of choice this time! We will be creating a neural network that has 2000 units in the first hidden layer, and 1000 units in the second hidden layer. We can start with our imports. "
   ]
  },
  {
   "cell_type": "code",
   "execution_count": 4,
   "metadata": {
    "collapsed": true
   },
   "outputs": [],
   "source": [
    "import numpy as np\n",
    "import theano\n",
    "import theano.tensor as T\n",
    "import matplotlib.pyplot as plt\n",
    "from sklearn.utils import shuffle"
   ]
  },
  {
   "cell_type": "markdown",
   "metadata": {},
   "source": [
    "And now we can define the utilities that we are going to need. "
   ]
  },
  {
   "cell_type": "code",
   "execution_count": 7,
   "metadata": {},
   "outputs": [],
   "source": [
    "\"\"\"----------------------- Function to get data -----------------------------\"\"\"\n",
    "def getData(balance_ones=True):\n",
    "    # images are 48x48 = 2304 size vectors\n",
    "    Y = []\n",
    "    X = []\n",
    "    first = True\n",
    "    for line in open('../../../data/fer/fer2013.csv'):\n",
    "        if first:\n",
    "            first = False\n",
    "        else:\n",
    "            row = line.split(',')\n",
    "            Y.append(int(row[0]))\n",
    "            X.append([int(p) for p in row[1].split()])\n",
    "\n",
    "    X, Y = np.array(X) / 255.0, np.array(Y)\n",
    "\n",
    "    if balance_ones:\n",
    "        # balance the 1 class\n",
    "        X0, Y0 = X[Y!=1, :], Y[Y!=1]\n",
    "        X1 = X[Y==1, :]\n",
    "        X1 = np.repeat(X1, 9, axis=0)\n",
    "        X = np.vstack([X0, X1])\n",
    "        Y = np.concatenate((Y0, [1]*len(X1)))\n",
    "\n",
    "    return X, Y\n",
    "  \n",
    "\"\"\" --------- Creates indicator (N x K), from an input N x 1 y matrix --------\"\"\"\n",
    "def y2indicator(y):\n",
    "    N = len(y)\n",
    "    K = len(set(y))\n",
    "    ind = np.zeros((N, K))\n",
    "    for i in range(N):\n",
    "        ind[i, y[i]] = 1\n",
    "    return ind\n",
    "  \n",
    "\"\"\" ----------- Gives the error rate between targets and predictions ---------------- \"\"\"\n",
    "def error_rate(targets, predictions):\n",
    "    return np.mean(targets != predictions)\n",
    "  \n",
    "\"\"\" Rectifier Linear Unit - an activation function that can be used in a neural network \"\"\"\n",
    "def relu(x):\n",
    "    return x * (x > 0)\n",
    "  \n",
    "\"\"\"\n",
    "Function to initialize a weight matrix and a bias. M1 is the input size, and M2 is the output size\n",
    "W is a matrix of size M1 x M2, which is randomized initialy to a gaussian normal\n",
    "We make the standard deviation of this the sqrt of size in + size out\n",
    "The bias is initialized as zeros. Each is then turned into float 32s so that they can be used in \n",
    "Theano and TensorFlow\n",
    "\"\"\"\n",
    "def init_weight_and_bias(M1, M2):\n",
    "    W = np.random.randn(M1, M2) / np.sqrt(M1)\n",
    "    b = np.zeros(M2)\n",
    "    return W.astype(np.float32), b.astype(np.float32)"
   ]
  },
  {
   "cell_type": "markdown",
   "metadata": {},
   "source": [
    "Now, we want to put our hidden layer into it's own class. We want to do this so we can add an arbitrary number of hidden layers more easily."
   ]
  },
  {
   "cell_type": "code",
   "execution_count": 8,
   "metadata": {},
   "outputs": [],
   "source": [
    "class HiddenLayer():\n",
    "  def __init__(self, M1, M2, an_id):\n",
    "    self.id = id\n",
    "    self.M1 = M1\n",
    "    self.M2 = M2\n",
    "    W, b = init_weight_and_bias(M1, M2)           # Getting initial weights and bias's\n",
    "    self.W = theano.shared(W, 'W_%s' % self.id)   # Unique name associated with id\n",
    "    self.b = theano.shared(b, 'W_%s' % self.id)\n",
    "    self.params = [self.W, self.b]                # Keep all params in 1 list to calc grad\n",
    "    \n",
    "  def forward(self, X):\n",
    "    return relu(X.dot(self.W) + self.b)"
   ]
  },
  {
   "cell_type": "markdown",
   "metadata": {},
   "source": [
    "Now we can define our **ANN** class. I will take in the number of hidden layer sizes. "
   ]
  },
  {
   "cell_type": "code",
   "execution_count": null,
   "metadata": {
    "collapsed": true
   },
   "outputs": [],
   "source": []
  },
  {
   "cell_type": "code",
   "execution_count": null,
   "metadata": {
    "collapsed": true
   },
   "outputs": [],
   "source": []
  },
  {
   "cell_type": "code",
   "execution_count": null,
   "metadata": {
    "collapsed": true
   },
   "outputs": [],
   "source": []
  },
  {
   "cell_type": "code",
   "execution_count": null,
   "metadata": {
    "collapsed": true
   },
   "outputs": [],
   "source": []
  },
  {
   "cell_type": "code",
   "execution_count": null,
   "metadata": {
    "collapsed": true
   },
   "outputs": [],
   "source": []
  },
  {
   "cell_type": "code",
   "execution_count": null,
   "metadata": {
    "collapsed": true
   },
   "outputs": [],
   "source": []
  },
  {
   "cell_type": "markdown",
   "metadata": {},
   "source": [
    "And we finally have our main method. We are going to create a model that contains 2000 units in the first hidden layer, and 1000 units in the second hidden layer. "
   ]
  },
  {
   "cell_type": "code",
   "execution_count": null,
   "metadata": {
    "collapsed": true
   },
   "outputs": [],
   "source": [
    "def main():\n",
    "  X, Y = getData()\n",
    "  \n",
    "  model = ANN([2000, 1000])\n",
    "  model.fit(X, Y, show_fig=True)\n",
    "  \n",
    "if __name__ == '__main__':\n",
    "  main()"
   ]
  }
 ],
 "metadata": {
  "kernelspec": {
   "display_name": "Python 3",
   "language": "python3",
   "name": "python3"
  },
  "language_info": {
   "codemirror_mode": {
    "name": "ipython",
    "version": 3
   },
   "file_extension": ".py",
   "mimetype": "text/x-python",
   "name": "python",
   "nbconvert_exporter": "python",
   "pygments_lexer": "ipython3",
   "version": "3.6.5"
  }
 },
 "nbformat": 4,
 "nbformat_minor": 2
}
