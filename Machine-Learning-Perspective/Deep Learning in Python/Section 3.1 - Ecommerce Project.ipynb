{
 "cells": [
  {
   "cell_type": "markdown",
   "metadata": {},
   "source": [
    "# E-commerce Project - Logistic Regression\n",
    "We are now going to look at training **logistic regression** with softmax. In my other walk throughs on logistic regression, we weren't looking at multiclass classification (just binary) so we had just been using the **sigmoid** function, and not softmax. This will give us the chance to see how logistic regression performs compared to a neural network. Remember, for logistic regression our architecture looks like:\n",
    "\n",
    "<img src=\"images/logistic-neuron.png\">\n",
    "\n",
    "The only difference now is that instead of using the sigmoid at at the logistic neuron, we are going to use the softmax as we are performing multiclass classification. \n",
    "\n",
    "<img src=\"images/logistic-regression-softmax.png\">\n",
    "\n",
    "We can start with our imports."
   ]
  },
  {
   "cell_type": "code",
   "execution_count": 2,
   "metadata": {},
   "outputs": [],
   "source": [
    "import numpy as np\n",
    "import matplotlib.pyplot as plt\n",
    "import pandas as pd\n",
    "import os\n",
    "\n",
    "from sklearn.utils import shuffle"
   ]
  },
  {
   "cell_type": "markdown",
   "metadata": {},
   "source": [
    "And lets define our `get_data` function:"
   ]
  },
  {
   "cell_type": "code",
   "execution_count": 3,
   "metadata": {},
   "outputs": [],
   "source": [
    "def get_data():\n",
    "    df = pd.read_csv('data/ecommerce_data.csv')\n",
    "    data = df.as_matrix()\n",
    "    np.random.shuffle(data)\n",
    "    X = data[:,:-1]\n",
    "    Y = data[:,-1].astype(np.int32)\n",
    "\n",
    "    # one-hot encode the categorical data\n",
    "    N, D = X.shape\n",
    "    X2 = np.zeros((N, D+3))\n",
    "    X2[:,0:(D-1)] = X[:,0:(D-1)] # non-categorical\n",
    "\n",
    "    # one-hot\n",
    "    for n in range(N):\n",
    "      t = int(X[n,D-1])\n",
    "      X2[n,t+D-1] = 1\n",
    "    X = X2\n",
    "\n",
    "    # split train and test\n",
    "    Xtrain = X[:-100]\n",
    "    Ytrain = Y[:-100]\n",
    "    Xtest = X[-100:]\n",
    "    Ytest = Y[-100:]\n",
    "\n",
    "    # normalize columns 1 and 2\n",
    "    for i in (1, 2):\n",
    "        m = Xtrain[:,i].mean()\n",
    "        s = Xtrain[:,i].std()\n",
    "        Xtrain[:,i] = (Xtrain[:,i] - m) / s\n",
    "        Xtest[:,i] = (Xtest[:,i] - m) / s\n",
    "\n",
    "    return Xtrain, Ytrain, Xtest, Ytest"
   ]
  },
  {
   "cell_type": "markdown",
   "metadata": {},
   "source": [
    "We are going to need a function to get the indicator matrix from the targets."
   ]
  },
  {
   "cell_type": "code",
   "execution_count": 4,
   "metadata": {},
   "outputs": [],
   "source": [
    "def y2indicator(y, K):\n",
    "    N = len(y)\n",
    "    ind = np.zeros((N,K))\n",
    "    for i in range(N):\n",
    "        ind[i, y[i]] = 1 \n",
    "    return ind"
   ]
  },
  {
   "cell_type": "markdown",
   "metadata": {},
   "source": [
    "Now we can can get our data."
   ]
  },
  {
   "cell_type": "code",
   "execution_count": 5,
   "metadata": {},
   "outputs": [],
   "source": [
    "Xtrain, Ytrain, Xtest, Ytest = get_data()\n",
    "D = Xtrain.shape[1]\n",
    "K = len(set(Ytrain) | set(Ytest))"
   ]
  },
  {
   "cell_type": "markdown",
   "metadata": {},
   "source": [
    "And convert our `Y` data into an indicator matrix. "
   ]
  },
  {
   "cell_type": "code",
   "execution_count": 6,
   "metadata": {},
   "outputs": [],
   "source": [
    "Ytrain_ind = y2indicator(Ytrain, K)\n",
    "Ytest_ind = y2indicator(Ytest, K)"
   ]
  },
  {
   "cell_type": "markdown",
   "metadata": {},
   "source": [
    "It is shape (400 x 4) because we have have four classes that make up Y. "
   ]
  },
  {
   "cell_type": "code",
   "execution_count": 7,
   "metadata": {},
   "outputs": [
    {
     "data": {
      "text/plain": [
       "(400, 4)"
      ]
     },
     "execution_count": 7,
     "metadata": {},
     "output_type": "execute_result"
    }
   ],
   "source": [
    "Ytrain_ind.shape"
   ]
  },
  {
   "cell_type": "markdown",
   "metadata": {},
   "source": [
    "Now randomly initialize our weights. "
   ]
  },
  {
   "cell_type": "code",
   "execution_count": 8,
   "metadata": {},
   "outputs": [],
   "source": [
    "W = np.random.randn(D, K)\n",
    "b = np.zeros(K)"
   ]
  },
  {
   "cell_type": "markdown",
   "metadata": {},
   "source": [
    "And we can define our `softmax` function:"
   ]
  },
  {
   "cell_type": "code",
   "execution_count": 9,
   "metadata": {},
   "outputs": [],
   "source": [
    "def softmax(a):\n",
    "    expA = np.exp(a)\n",
    "    return expA / expA.sum(axis=1, keepdims=True)"
   ]
  },
  {
   "cell_type": "markdown",
   "metadata": {},
   "source": [
    "And now lets define our forward function:"
   ]
  },
  {
   "cell_type": "code",
   "execution_count": 10,
   "metadata": {},
   "outputs": [],
   "source": [
    "def forward(X, W, b):\n",
    "    return softmax(X.dot(W) + b)"
   ]
  },
  {
   "cell_type": "markdown",
   "metadata": {},
   "source": [
    "Next, our predict function:"
   ]
  },
  {
   "cell_type": "code",
   "execution_count": 11,
   "metadata": {},
   "outputs": [],
   "source": [
    "def predict(P_Y_given_X):\n",
    "    return np.argmax(P_Y_given_X, axis=1)"
   ]
  },
  {
   "cell_type": "markdown",
   "metadata": {},
   "source": [
    "Our classification rate: "
   ]
  },
  {
   "cell_type": "code",
   "execution_count": 12,
   "metadata": {},
   "outputs": [],
   "source": [
    "def classification_rate(Y, P):\n",
    "    return np.mean(Y == P)"
   ]
  },
  {
   "cell_type": "markdown",
   "metadata": {},
   "source": [
    "And the **Cross Entropy**:"
   ]
  },
  {
   "cell_type": "code",
   "execution_count": 13,
   "metadata": {},
   "outputs": [],
   "source": [
    "def cross_entropy(T, pY):\n",
    "    return -np.mean(T * np.log(pY))"
   ]
  },
  {
   "cell_type": "markdown",
   "metadata": {},
   "source": [
    "Now that we have done all of that, we can enter our train loop. Note: our weight update rule in gradient descent is based on the rule we derived last lecture: `Z.T.dot(T - Y)`. Only in the case of logistic regression, we only have and input and output layer, no hidden layer, so in this case `Z` is going to be `X`. We are also now going to be performing gradient descent, not ascent, so we have a minus in our update, and we are subtracting the targets from the predictions. "
   ]
  },
  {
   "cell_type": "code",
   "execution_count": 14,
   "metadata": {},
   "outputs": [
    {
     "name": "stdout",
     "output_type": "stream",
     "text": [
      "0 0.5487036337934679 0.587425339056817\n",
      "1000 0.08847309034724614 0.09187567492094431\n",
      "2000 0.08377182711917026 0.09052982548097642\n",
      "3000 0.08196144166596504 0.09077510228825146\n",
      "4000 0.08102329620858013 0.09127851663313276\n",
      "5000 0.0804589669016488 0.0918014318036505\n",
      "6000 0.08008728169999321 0.09228846524706961\n",
      "7000 0.07982711471431775 0.09272871265757494\n",
      "8000 0.0796368998911137 0.09312353966499383\n",
      "9000 0.0794932153858824 0.09347752945439439\n",
      "('Final training classification rate: ', 0.93)\n",
      "('Final testing classification rate: ', 0.89)\n"
     ]
    },
    {
     "data": {
      "image/png": "[encoded data removed]",
      "text/plain": [
       "<Figure size 432x288 with 1 Axes>"
      ]
     },
     "metadata": {},
     "output_type": "display_data"
    }
   ],
   "source": [
    "train_costs = []\n",
    "test_costs = []\n",
    "learning_rate = 0.001\n",
    "for i in range(10000):\n",
    "    pYtrain = forward(Xtrain, W, b)        # find the predicitons for y train\n",
    "    pYtest = forward(Xtest, W, b)        # find the predicitons for y test\n",
    "    \n",
    "    ctrain = cross_entropy(Ytrain_ind, pYtrain)     # Ytrain_ind === targets in this case\n",
    "    ctest = cross_entropy(Ytest_ind, pYtest)\n",
    "    train_costs.append(ctrain)\n",
    "    test_costs.append(ctest)\n",
    "    \n",
    "    # now we can perform gradient descent\n",
    "    W -= learning_rate * Xtrain.T.dot(pYtrain - Ytrain_ind)  \n",
    "    b -= learning_rate * (pYtrain - Ytrain_ind).sum(axis=0)\n",
    "    if i % 1000 == 0:\n",
    "        print i, ctrain, ctest\n",
    "print(\"Final training classification rate: \", classification_rate(Ytrain, predict(pYtrain)))\n",
    "print(\"Final testing classification rate: \", classification_rate(Ytest, predict(pYtest)))\n",
    "\n",
    "legend1, = plt.plot(train_costs, label='train cost')\n",
    "legend2, = plt.plot(test_costs, label='test cost')\n",
    "plt.legend([legend1, legend2])\n",
    "plt.show()"
   ]
  },
  {
   "cell_type": "markdown",
   "metadata": {},
   "source": [
    "---\n",
    "<br></br>\n",
    "# Ecommerce Project - Training a Neural Network\n",
    "Let's now look at how a neural network performs compared to logistic regression in this case. Again, lets start with our imports:"
   ]
  },
  {
   "cell_type": "code",
   "execution_count": 15,
   "metadata": {},
   "outputs": [],
   "source": [
    "import numpy as np\n",
    "import matplotlib.pyplot as plt\n",
    "import pandas as pd\n",
    "import os\n",
    "\n",
    "from sklearn.utils import shuffle"
   ]
  },
  {
   "cell_type": "markdown",
   "metadata": {},
   "source": [
    "And again, we will want to define our y indicator function:"
   ]
  },
  {
   "cell_type": "code",
   "execution_count": 16,
   "metadata": {},
   "outputs": [],
   "source": [
    "def y2indicator(y, K):\n",
    "    N = len(y)\n",
    "    ind = np.zeros((N,K))\n",
    "    for i in range(N):\n",
    "        ind[i, y[i]] = 1 \n",
    "    return ind"
   ]
  },
  {
   "cell_type": "markdown",
   "metadata": {},
   "source": [
    "And get our data:"
   ]
  },
  {
   "cell_type": "code",
   "execution_count": 17,
   "metadata": {},
   "outputs": [],
   "source": [
    "Xtrain, Ytrain, Xtest, Ytest = get_data()"
   ]
  },
  {
   "cell_type": "markdown",
   "metadata": {},
   "source": [
    "Now lets set the size of our **hidden layer**, and the size of our input layer:"
   ]
  },
  {
   "cell_type": "code",
   "execution_count": 18,
   "metadata": {},
   "outputs": [],
   "source": [
    "M = 5\n",
    "Xtrain.shape[1]\n",
    "K = len(set(Ytrain) | set(Ytest))"
   ]
  },
  {
   "cell_type": "markdown",
   "metadata": {},
   "source": [
    "And lets convert our Target labels into an indicator matrix:"
   ]
  },
  {
   "cell_type": "code",
   "execution_count": 19,
   "metadata": {},
   "outputs": [],
   "source": [
    "Ytrain_ind = y2indicator(Ytrain, K)\n",
    "Ytest_ind = y2indicator(Ytest, K)"
   ]
  },
  {
   "cell_type": "markdown",
   "metadata": {},
   "source": [
    "Now randomly initialize our weights:"
   ]
  },
  {
   "cell_type": "code",
   "execution_count": 20,
   "metadata": {},
   "outputs": [],
   "source": [
    "W1 = np.random.randn(D, M)\n",
    "b1 = np.zeros(M)\n",
    "W2 = np.random.randn(M, K)\n",
    "b2 = np.zeros(K)"
   ]
  },
  {
   "cell_type": "markdown",
   "metadata": {},
   "source": [
    "Next, define our softmax:"
   ]
  },
  {
   "cell_type": "code",
   "execution_count": 21,
   "metadata": {},
   "outputs": [],
   "source": [
    "def softmax(a):\n",
    "    expA = np.exp(a)\n",
    "    return expA / expA.sum(axis=1, keepdims=True)"
   ]
  },
  {
   "cell_type": "markdown",
   "metadata": {},
   "source": [
    "And now for the forward function. It is similar to the forward function from Logistic Regression, but notice that now have an additional layer to consider. Remember, Z is the output of hidden layer nodes, and we need to return Z because it is used in the derivative. \n",
    "\n",
    "Keep in mind, as we run through this prediction, when we first perform matrix multiplication between our input matrix $X$ and our first weight matrix $W_1$, each weight matrix is having the dot product performed against it. As we know, the more similar two vectors are, the greater their dot product."
   ]
  },
  {
   "cell_type": "code",
   "execution_count": 22,
   "metadata": {},
   "outputs": [],
   "source": [
    "def forward(X, W1, b1, W2, b2):\n",
    "    Z = np.tanh(X.dot(W1) + b1)        \n",
    "    return softmax(Z.dot(W2) + b2), Z   "
   ]
  },
  {
   "cell_type": "markdown",
   "metadata": {},
   "source": [
    "Now lets redefine `predict` and `classification_rate`:"
   ]
  },
  {
   "cell_type": "code",
   "execution_count": 23,
   "metadata": {},
   "outputs": [],
   "source": [
    "def predict(P_Y_given_X):\n",
    "    return np.argmax(P_Y_given_X, axis=1)\n",
    "\n",
    "def classification_rate(Y, P):\n",
    "    return np.mean(Y == P)"
   ]
  },
  {
   "cell_type": "markdown",
   "metadata": {},
   "source": [
    "And lets redefine cross entropy as well:"
   ]
  },
  {
   "cell_type": "code",
   "execution_count": 24,
   "metadata": {},
   "outputs": [],
   "source": [
    "def cross_entropy(T, pY):\n",
    "    return -np.mean(T * np.log(pY))"
   ]
  },
  {
   "cell_type": "markdown",
   "metadata": {},
   "source": [
    "We can now enter our main training loop:"
   ]
  },
  {
   "cell_type": "code",
   "execution_count": 25,
   "metadata": {},
   "outputs": [
    {
     "name": "stdout",
     "output_type": "stream",
     "text": [
      "0 0.5112511245754163 0.5034374398825299\n",
      "1000 0.040578783494983936 0.045707901918409934\n",
      "2000 0.029555888166024804 0.04633345269429838\n",
      "3000 0.0235877160252051 0.04479735810092709\n",
      "4000 0.020515948962842093 0.04573993366731693\n",
      "5000 0.018515357771577968 0.047367539403102205\n",
      "6000 0.017084671294244937 0.04888953258949811\n",
      "7000 0.016012764493820292 0.05013368928403129\n",
      "8000 0.015181263275568237 0.05110831091060879\n",
      "9000 0.014516974759324945 0.05185692286936616\n",
      "('Final training classification rate: ', 0.9775)\n",
      "('Final testing classification rate: ', 0.93)\n"
     ]
    },
    {
     "data": {
      "image/png": "[encoded data removed]",
      "text/plain": [
       "<Figure size 432x288 with 1 Axes>"
      ]
     },
     "metadata": {},
     "output_type": "display_data"
    }
   ],
   "source": [
    "train_costs = []\n",
    "test_costs = []\n",
    "learning_rate = 0.001\n",
    "\n",
    "for i in range(10000):\n",
    "    pYtrain, Ztrain = forward(Xtrain, W1, b1, W2, b2)\n",
    "    pYtest, Ztest = forward(Xtest, W1, b1, W2, b2)\n",
    "    \n",
    "    ctrain = cross_entropy(Ytrain_ind, pYtrain)\n",
    "    ctest = cross_entropy(Ytest_ind, pYtest)\n",
    "    train_costs.append(ctrain)\n",
    "    test_costs.append(ctest)\n",
    "    \n",
    "    # we can now start gradient descent\n",
    "    W2 -= learning_rate * Ztrain.T.dot(pYtrain - Ytrain_ind)\n",
    "    b2 -= learning_rate * (pYtrain - Ytrain_ind).sum(axis=0)\n",
    "    # need to get error at the hidden node\n",
    "    # note, (1 - Ztrain * Ztrain) is the derivative of tanh, if we had been using sigmoid\n",
    "    # we would have it be (1 - Ztrain) * Ztrain\n",
    "    dZ = (pYtrain - Ytrain_ind).dot(W2.T) * (1 - Ztrain * Ztrain) \n",
    "    # now we can update W1 and W2\n",
    "    W1 -= learning_rate * Xtrain.T.dot(dZ)\n",
    "    b1 -= learning_rate * dZ.sum(axis=0)\n",
    "    \n",
    "    if i % 1000 == 0:\n",
    "        print i, ctrain, ctest\n",
    "        \n",
    "print(\"Final training classification rate: \", classification_rate(Ytrain, predict(pYtrain)))\n",
    "print(\"Final testing classification rate: \", classification_rate(Ytest, predict(pYtest)))\n",
    "\n",
    "legend1, = plt.plot(train_costs, label='train cost')\n",
    "legend2, = plt.plot(test_costs, label='test cost')\n",
    "plt.legend([legend1, legend2])\n",
    "plt.show()"
   ]
  },
  {
   "cell_type": "code",
   "execution_count": null,
   "metadata": {},
   "outputs": [],
   "source": []
  }
 ],
 "metadata": {
  "kernelspec": {
   "display_name": "Python 3",
   "language": "python",
   "name": "python3"
  },
  "language_info": {
   "codemirror_mode": {
    "name": "ipython",
    "version": 2
   },
   "file_extension": ".py",
   "mimetype": "text/x-python",
   "name": "python",
   "nbconvert_exporter": "python",
   "pygments_lexer": "ipython2",
   "version": "2.7.13"
  }
 },
 "nbformat": 4,
 "nbformat_minor": 2
}
