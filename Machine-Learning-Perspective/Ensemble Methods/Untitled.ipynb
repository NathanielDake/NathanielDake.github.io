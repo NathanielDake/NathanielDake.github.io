{
 "cells": [
  {
   "cell_type": "code",
   "execution_count": 1,
   "metadata": {
    "collapsed": true
   },
   "outputs": [],
   "source": [
    "import numpy as np\n",
    "import matplotlib.pyplot as plt\n",
    "from sklearn.linear_model import LinearRegression\n",
    "from sklearn.metrics import mean_squared_error as mse\n",
    "\n",
    "NUM_DATASETS = 50\n",
    "NOISE_VARIANCE = 0.5 \n",
    "MAX_POLY = 12\n",
    "N = 25 \n",
    "Ntrain = int(0.9 * N)\n",
    "np.random.seed(2)\n",
    "\n",
    "\"\"\"\n",
    " Function make_poly\n",
    " Params: x (size N), D (maximum degree)\n",
    "\"\"\"\n",
    "def make_poly(x, D):\n",
    "    N = len(x)\n",
    "    X = np.empty((N, D + 1))       # the plus 1 is for the bias term \n",
    "    \n",
    "    # loop through all dimensions\n",
    "    for d in range(D + 1): \n",
    "        X[:, d] = x**d                   # sets x for column d to x raised to the dth power\n",
    "        if d > 1:                        # if d > 1, normalize the column \n",
    "            X[:, d] = (X[:, d] - X[:, d].mean()) / X[:, d].std()\n",
    "    return X    \n",
    "\n",
    "\"\"\"\n",
    "Function that takes in a 1 dimensional X (not the polynomial), and returns the sin(X)\n",
    "\"\"\"\n",
    "def f(X):\n",
    "    return np.sin(X)\n",
    "\n",
    "x_axis = np.linspace(-np.pi, np.pi, 100)\n",
    "y_axis = f(x_axis)\n",
    "\n",
    "X = np.linspace(-np.pi, np.pi, N)\n",
    "np.random.shuffle(X)\n",
    "f_X = f(X)\n",
    "\n",
    "Xpoly = make_poly(X, MAX_POLY)\n",
    "\n",
    "train_scores = np.zeros((NUM_DATASETS, MAX_POLY))\n",
    "test_scores = np.zeros((NUM_DATASETS, MAX_POLY))\n",
    "train_predictions = np.zeros((Ntrain, NUM_DATASETS, MAX_POLY))\n",
    "prediction_curves = np.zeros((100, NUM_DATASETS, MAX_POLY))"
   ]
  },
  {
   "cell_type": "code",
   "execution_count": 2,
   "metadata": {},
   "outputs": [
    {
     "name": "stderr",
     "output_type": "stream",
     "text": [
      "/usr/local/lib/python3.6/site-packages/scipy/linalg/basic.py:1018: RuntimeWarning: internal gelsd driver lwork query error, required iwork dimension not returned. This is likely the result of LAPACK bug 0038, fixed in LAPACK 3.2.2 (released July 21, 2010). Falling back to 'gelss' driver.\n",
      "  warnings.warn(mesg, RuntimeWarning)\n"
     ]
    }
   ],
   "source": [
    "model = LinearRegression()\n",
    "\n",
    "# looping through our total number of datasets\n",
    "for k in range(NUM_DATASETS):\n",
    "    Y = f_X + np.random.randn(N) * NOISE_VARIANCE   # specific data set for this experiment\n",
    "    \n",
    "    Xtrain = Xpoly[:Ntrain]                 # our training data, 22 x MAX_POLY \n",
    "    Ytrain = Y[:Ntrain]                     # Our response we are trying to map, 22 x 1\n",
    "    \n",
    "    Xtest = Xpoly[Ntrain:]                  # test data, 3 x MAX_POLY, 3 x 13\n",
    "    Ytest = Y[Ntrain:]                      # 3 x 1\n",
    "    \n",
    "    # looping through all of the polynomial degrees \n",
    "    for d in range(MAX_POLY):\n",
    "        model.fit(Xtrain[:, :d + 2], Ytrain)         # an additional polynomial term each time\n",
    "        predictions = model.predict(Xpoly[:, :d+2])  # make ALL predictions (train & test)\n",
    "        \n",
    "        # debug code for looking at our data\n",
    "        x_axis_poly = make_poly(x_axis, d + 1)\n",
    "        prediction_axis = model.predict(x_axis_poly)\n",
    "        \n",
    "        # all predictions over entire x axis\n",
    "        prediction_curves[:, k, d] = prediction_axis \n",
    "        \n",
    "        # grab train and test predictions\n",
    "        train_prediction = predictions[:Ntrain]\n",
    "        test_prediction = predictions[Ntrain:]\n",
    "        \n",
    "        # use this to calculate bias/variance later\n",
    "        train_predictions[:,k,d] = train_prediction \n",
    "        \n",
    "        # calculate train and test scores \n",
    "        train_score = mse(train_prediction, Ytrain)\n",
    "        test_score = mse(test_prediction, Ytest)\n",
    "        \n",
    "        # store these scores \n",
    "        train_scores[k,d] = train_score\n",
    "        test_scores[k,d] = test_score"
   ]
  },
  {
   "cell_type": "code",
   "execution_count": 30,
   "metadata": {},
   "outputs": [
    {
     "data": {
      "text/plain": [
       "(13,)"
      ]
     },
     "execution_count": 30,
     "metadata": {},
     "output_type": "execute_result"
    }
   ],
   "source": [
    "x_axis_poly.mean(axis=0).shape"
   ]
  },
  {
   "cell_type": "code",
   "execution_count": 25,
   "metadata": {},
   "outputs": [
    {
     "data": {
      "text/plain": [
       "array([ 3.36490962,  2.90777979,  2.49542439,  2.12426407,  1.79093851,\n",
       "        1.49229732,  1.22539107,  0.9874626 ,  0.77593842,  0.58842041,\n",
       "        0.42267765,  0.27663848,  0.14838268,  0.03613397, -0.06174742,\n",
       "       -0.14677191, -0.22032755, -0.28368686, -0.33801335, -0.384368  ,\n",
       "       -0.42371546, -0.45693003, -0.48480151, -0.50804083, -0.5272855 ,\n",
       "       -0.54310479, -0.55600488, -0.56643361, -0.5747852 , -0.58140469,\n",
       "       -0.58659224, -0.59060717, -0.59367187, -0.59597545, -0.5976773 ,\n",
       "       -0.59891032, -0.59978408, -0.6003877 , -0.60079257, -0.60105491,\n",
       "       -0.60121803, -0.60131454, -0.60136824, -0.60139589, -0.60140876,\n",
       "       -0.60141399, -0.60141573, -0.60141616, -0.60141622, -0.60141623,\n",
       "       -0.60141623, -0.60141622, -0.60141616, -0.60141573, -0.60141399,\n",
       "       -0.60140876, -0.60139589, -0.60136824, -0.60131454, -0.60121803,\n",
       "       -0.60105491, -0.60079257, -0.6003877 , -0.59978408, -0.59891032,\n",
       "       -0.5976773 , -0.59597545, -0.59367187, -0.59060717, -0.58659224,\n",
       "       -0.58140469, -0.5747852 , -0.56643361, -0.55600488, -0.54310479,\n",
       "       -0.5272855 , -0.50804083, -0.48480151, -0.45693003, -0.42371546,\n",
       "       -0.384368  , -0.33801335, -0.28368686, -0.22032755, -0.14677191,\n",
       "       -0.06174742,  0.03613397,  0.14838268,  0.27663848,  0.42267765,\n",
       "        0.58842041,  0.77593842,  0.9874626 ,  1.22539107,  1.49229732,\n",
       "        1.79093851,  2.12426407,  2.49542439,  2.90777979,  3.36490962])"
      ]
     },
     "execution_count": 25,
     "metadata": {},
     "output_type": "execute_result"
    }
   ],
   "source": []
  },
  {
   "cell_type": "code",
   "execution_count": null,
   "metadata": {},
   "outputs": [],
   "source": []
  },
  {
   "cell_type": "code",
   "execution_count": null,
   "metadata": {
    "collapsed": true
   },
   "outputs": [],
   "source": []
  }
 ],
 "metadata": {
  "kernelspec": {
   "display_name": "Python 3",
   "language": "python3",
   "name": "python3"
  },
  "language_info": {
   "codemirror_mode": {
    "name": "ipython",
    "version": 3
   },
   "file_extension": ".py",
   "mimetype": "text/x-python",
   "name": "python",
   "nbconvert_exporter": "python",
   "pygments_lexer": "ipython3",
   "version": "3.6.4"
  }
 },
 "nbformat": 4,
 "nbformat_minor": 2
}
