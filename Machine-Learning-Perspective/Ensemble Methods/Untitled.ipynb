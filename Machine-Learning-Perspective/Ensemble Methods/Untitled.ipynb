{
 "cells": [
  {
   "cell_type": "code",
   "execution_count": 1,
   "metadata": {
    "collapsed": true
   },
   "outputs": [],
   "source": [
    "import numpy as np\n",
    "import matplotlib.pyplot as plt\n",
    "from sklearn.linear_model import LinearRegression\n",
    "from sklearn.metrics import mean_squared_error as mse"
   ]
  },
  {
   "cell_type": "code",
   "execution_count": 2,
   "metadata": {
    "collapsed": true
   },
   "outputs": [],
   "source": [
    "NUM_DATASETS = 50       # Want to perform this over 50 different data sets\n",
    "NOISE_VARIANCE = 0.5    # This is our amount of noise \n",
    "MAX_POLY = 12           # Will go up to the 12th order polynomial, i.e. the most complex\n",
    "N = 25                  # Each example has 25 data points\n",
    "Ntrain = int(0.9 * N)   # Training size of 22 data points\n",
    "\n",
    "np.random.seed(2)       # Set random number generator seed for debugging"
   ]
  },
  {
   "cell_type": "code",
   "execution_count": 19,
   "metadata": {
    "collapsed": true
   },
   "outputs": [],
   "source": [
    "\"\"\" Function to generate a polynomial up to order D based on input x\"\"\"\n",
    "def make_poly(x, D):\n",
    "    N = len(x)                    # Get length of input\n",
    "    X = np.empty((N, D + 1))      # Plus 1 is for the bias term, creating 2d matrix\n",
    "    \n",
    "    for d in range(D + 1):\n",
    "        X[:, d] = x ** d          # Sets X value for dth column of new matrix\n",
    "        if d > 1:                 # Normalize column, unless it is the bias column\n",
    "            X[:, d] = (X[:, d] - X[:, d].mean()) / X[:, d].std()     \n",
    "    return X\n",
    "\"\"\"Function that takes in a 1 dimensional X, and returns sin(X)\"\"\"\n",
    "def f(X):\n",
    "    return np.sin(X)"
   ]
  },
  {
   "cell_type": "code",
   "execution_count": 20,
   "metadata": {},
   "outputs": [],
   "source": [
    "\"\"\"Define axis data for plotting purposes\"\"\"\n",
    "x_axis = np.linspace(-np.pi, np.pi, 100)\n",
    "y_axis = f(x_axis)\n",
    "\n",
    "\"\"\"Define actual data set X\"\"\"\n",
    "X = np.linspace(-np.pi, np.pi, N)     # 25 points evenly spaced from -pi to pi\n",
    "np.random.shuffle(X)                  # Shuffle those points\n",
    "f_X = f(X)                            # Ground Truth function response"
   ]
  },
  {
   "cell_type": "code",
   "execution_count": 21,
   "metadata": {},
   "outputs": [],
   "source": [
    "\"\"\"Create a polynomial of order MAX_POLY from X\"\"\"\n",
    "Xpoly = make_poly(X, MAX_POLY)            # Shape (25 x 13)"
   ]
  },
  {
   "cell_type": "code",
   "execution_count": 24,
   "metadata": {},
   "outputs": [],
   "source": [
    "\"\"\"Create empty arrays to hold data as we loop through experiment\"\"\"\n",
    "\n",
    "# Each dataset/polynomial pair train and test score\n",
    "train_scores = np.zeros((NUM_DATASETS, MAX_POLY))    # Shape (50 x 12)\n",
    "test_scores = np.zeros((NUM_DATASETS, MAX_POLY))  \n",
    "\n",
    "# Set of training predictions for each dataset/polynomial pair\n",
    "train_predictions = np.zeros((Ntrain, NUM_DATASETS, MAX_POLY)) \n",
    "prediction_curves = np.zeros((100, NUM_DATASETS, MAX_POLY))"
   ]
  },
  {
   "cell_type": "markdown",
   "metadata": {},
   "source": [
    "**Experiment:**\n",
    "> 1. Create 50 different Y response based on our ground truth function and random noise"
   ]
  },
  {
   "cell_type": "code",
   "execution_count": null,
   "metadata": {
    "collapsed": true
   },
   "outputs": [],
   "source": [
    "\"\"\"Create 50 different Y responses, based on ground truth function and random noise\"\"\"\n",
    "for k in range(NUM_DATASETS):\n",
    "    Y = f_X + np.random.randn(N) + NOISE_VARIANCE    # Generating specific Y response data\n",
    "    \n",
    "    Xtrain = Xpoly[:Ntrain]                          # Training Data, 22 x 13\n",
    "    Ytrain = Y[:Ntrain]                              # Response we are trying to map, 22 x 1\n",
    "    \n",
    "    Xtest = Xpoly[Ntrain:]                           # Test data, 3 x 13\n",
    "    Ytest = Y[Ntrain:]                               # Test response, 3 x 1\n",
    "    \n",
    "    \"\"\"Create a linear regression model of order 1 to 12\"\"\"\n",
    "    for d in range(MAX_POLY):\n",
    "        # leaving off here"
   ]
  }
 ],
 "metadata": {
  "kernelspec": {
   "display_name": "Python 3",
   "language": "python3",
   "name": "python3"
  },
  "language_info": {
   "codemirror_mode": {
    "name": "ipython",
    "version": 3
   },
   "file_extension": ".py",
   "mimetype": "text/x-python",
   "name": "python",
   "nbconvert_exporter": "python",
   "pygments_lexer": "ipython3",
   "version": "3.6.4"
  }
 },
 "nbformat": 4,
 "nbformat_minor": 2
}
