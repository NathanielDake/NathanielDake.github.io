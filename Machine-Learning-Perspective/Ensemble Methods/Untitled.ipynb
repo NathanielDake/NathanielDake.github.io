{
 "cells": [
  {
   "cell_type": "code",
   "execution_count": 1,
   "metadata": {
    "collapsed": true
   },
   "outputs": [],
   "source": [
    "import numpy as np\n",
    "import matplotlib.pyplot as plt\n",
    "from sklearn.linear_model import LinearRegression\n",
    "from sklearn.metrics import mean_squared_error as mse\n",
    "\n",
    "NOISE_VARIANCE = 0.5 \n",
    "MAX_POLY = 12\n",
    "N = 25 \n",
    "Ntrain = int(0.9 * N)\n",
    "np.random.seed(2)\n",
    "\n",
    "\"\"\"\n",
    " Function make_poly\n",
    " Params: x (size N), D (maximum degree)\n",
    "\"\"\"\n",
    "def make_poly(x, D):\n",
    "    N = len(x)\n",
    "    X = np.empty((N, D + 1))       # the plus 1 is for the bias term \n",
    "    \n",
    "    # loop through all dimensions\n",
    "    for d in range(D + 1): \n",
    "        X[:, d] = x**d                   # sets x for column d to x raised to the dth power\n",
    "        if d > 1:                        # if d > 1, normalize the column \n",
    "            X[:, d] = (X[:, d] - X[:, d].mean()) / X[:, d].std()\n",
    "    return X    \n",
    "\n",
    "\"\"\"\n",
    "Function that takes in a 1 dimensional X (not the polynomial), and returns the sin(X)\n",
    "\"\"\"\n",
    "def f(X):\n",
    "    return np.sin(X)\n",
    "\n",
    "x_axis = np.linspace(-np.pi, np.pi, 100)     # data for x axis\n",
    "y_axis = f(x_axis)\n",
    "\n",
    "X = np.linspace(-np.pi, np.pi, N)\n",
    "np.random.shuffle(X)\n",
    "f_X = f(X)\n",
    "\n",
    "Xpoly = make_poly(X, MAX_POLY)\n",
    "\n",
    "train_scores = np.zeros((NUM_DATASETS, MAX_POLY))\n",
    "test_scores = np.zeros((NUM_DATASETS, MAX_POLY))\n",
    "train_predictions = np.zeros((Ntrain, NUM_DATASETS, MAX_POLY))\n",
    "prediction_curves = np.zeros((100, NUM_DATASETS, MAX_POLY))"
   ]
  },
  {
   "cell_type": "code",
   "execution_count": null,
   "metadata": {},
   "outputs": [],
   "source": []
  },
  {
   "cell_type": "code",
   "execution_count": null,
   "metadata": {},
   "outputs": [],
   "source": []
  },
  {
   "cell_type": "code",
   "execution_count": null,
   "metadata": {},
   "outputs": [],
   "source": []
  },
  {
   "cell_type": "code",
   "execution_count": null,
   "metadata": {
    "collapsed": true
   },
   "outputs": [],
   "source": []
  },
  {
   "cell_type": "code",
   "execution_count": null,
   "metadata": {
    "collapsed": true
   },
   "outputs": [],
   "source": []
  }
 ],
 "metadata": {
  "kernelspec": {
   "display_name": "Python 3",
   "language": "python3",
   "name": "python3"
  },
  "language_info": {
   "codemirror_mode": {
    "name": "ipython",
    "version": 3
   },
   "file_extension": ".py",
   "mimetype": "text/x-python",
   "name": "python",
   "nbconvert_exporter": "python",
   "pygments_lexer": "ipython3",
   "version": "3.6.4"
  }
 },
 "nbformat": 4,
 "nbformat_minor": 2
}
