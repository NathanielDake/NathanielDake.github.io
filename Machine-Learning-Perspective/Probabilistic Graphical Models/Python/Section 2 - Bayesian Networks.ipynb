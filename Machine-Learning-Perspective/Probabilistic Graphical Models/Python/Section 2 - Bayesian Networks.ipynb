{
 "cells": [
  {
   "cell_type": "markdown",
   "metadata": {},
   "source": [
    "# Bayesian Models\n",
    "We are now going to dig further into a specific type of **Probabilistic Graphical Model**, specifically **Bayesian Networks**. We will discuss the following:\n",
    "1. What are Bayesian Models\n",
    "2. Independencies in Bayesian Networks\n",
    "3. How is Bayesian Model encoding the Joint Distribution\n",
    "4. How we do inference from Bayesian models"
   ]
  },
  {
   "cell_type": "markdown",
   "metadata": {},
   "source": [
    "---\n",
    "\n",
    "## 1. What are Bayesian Models? \n",
    "A Bayesian Network is a probabilistic graphical model (a type of statistical model) that represents a set of **random variables** and their **conditional dependencies** via a **directed acyclic graph** (DAG). Bayesian networks are often used when we want to represent *causal relationships* between the random variables. They are parameterized by using **Conditional Probability Distributions** (CPD). Each node in the network is parameterized using:\n",
    "\n",
    "#### $$P(node|Pa(node))$$\n",
    "Where $Pa(node)$ represents the parents of the nodes in the network. We can dig into this further by looking at the following student model:\n",
    "\n",
    "<img src=\"images/student_full_param.png\">\n",
    "\n",
    "If we the use the library **pgmpy**, then we create the above model as follows:\n",
    "> 1. Define network structure (or learn it from data)\n",
    "2. Define CPD's between nodes (random variables)\n",
    "3. Associated CPD's with structure\n",
    "\n",
    "We can see this implemented below.\n",
    "\n",
    "### 1.1 Implementation"
   ]
  },
  {
   "cell_type": "code",
   "execution_count": 6,
   "metadata": {
    "collapsed": true
   },
   "outputs": [],
   "source": [
    "# Imports needed from pgmpy\n",
    "from pgmpy.models import BayesianModel\n",
    "from pgmpy.factors.discrete import TabularCPD"
   ]
  },
  {
   "cell_type": "markdown",
   "metadata": {},
   "source": [
    "### 1.1.1 Set the Structure\n",
    "So, with our imports taken care of, we start by defining the model structure. We are able to define this by passing in a list of edges. Note, these edges are *directional*; for example, we have the tuple `(D, G)`, which means that `difficulty` influences `grade`. "
   ]
  },
  {
   "cell_type": "code",
   "execution_count": 55,
   "metadata": {
    "collapsed": true
   },
   "outputs": [],
   "source": [
    "student_model = BayesianModel([('difficulty', 'grade'), \n",
    "                       ('intelligence', 'grade'), \n",
    "                       ('grade', 'letter'), \n",
    "                       ('intelligence', 'sat')])"
   ]
  },
  {
   "cell_type": "markdown",
   "metadata": {},
   "source": [
    "### 1.1.2 Setup the relationships (CPDs)\n",
    "We then want to set up our relationshisp in the form of CPD's. A few things to note:\n",
    "> 1. `variable_card`: this is meant ot represent the number of discrete possibilities that the random variable can take on.\n",
    "2. `evidence`: this is referring to the parent of the random variable, i.e. $Pa(node)$.\n"
   ]
  },
  {
   "cell_type": "code",
   "execution_count": 56,
   "metadata": {
    "collapsed": true
   },
   "outputs": [],
   "source": [
    "difficulty_cpd = TabularCPD(variable='difficulty',\n",
    "                       variable_card=2,\n",
    "                       values=[[0.6, 0.4]])"
   ]
  },
  {
   "cell_type": "code",
   "execution_count": 57,
   "metadata": {
    "collapsed": true
   },
   "outputs": [],
   "source": [
    "intelligence_cpd = TabularCPD(variable='intelligence',\n",
    "                              variable_card=2,\n",
    "                              values=[[0.7, 0.3]])"
   ]
  },
  {
   "cell_type": "code",
   "execution_count": 58,
   "metadata": {
    "collapsed": true
   },
   "outputs": [],
   "source": [
    "grade_cpd = TabularCPD(variable='grade', \n",
    "                       variable_card=3, \n",
    "                       values=[[0.3, 0.05, 0.9,  0.5],\n",
    "                               [0.4, 0.25, 0.08, 0.3],\n",
    "                               [0.3, 0.7,  0.02, 0.2]],\n",
    "                      evidence=['intelligence', 'difficulty'],\n",
    "                      evidence_card=[2, 2])"
   ]
  },
  {
   "cell_type": "code",
   "execution_count": 59,
   "metadata": {
    "collapsed": true
   },
   "outputs": [],
   "source": [
    "letter_cpd = TabularCPD(variable='letter', variable_card=2, \n",
    "                   values=[[0.1, 0.4, 0.99],\n",
    "                           [0.9, 0.6, 0.01]],\n",
    "                   evidence=['grade'],\n",
    "                   evidence_card=[3])"
   ]
  },
  {
   "cell_type": "code",
   "execution_count": 60,
   "metadata": {
    "collapsed": true
   },
   "outputs": [],
   "source": [
    "sat_cpd = TabularCPD(variable='sat', variable_card=2,\n",
    "                   values=[[0.95, 0.2],\n",
    "                           [0.05, 0.8]],\n",
    "                   evidence=['intelligence'],\n",
    "                   evidence_card=[2])"
   ]
  },
  {
   "cell_type": "markdown",
   "metadata": {},
   "source": [
    "### 1.1.3 Add the relationships (CPDs) to the Model\n",
    "The next step is to actually add our CPD's to our model. The way in whcih PGMPY specifies models is highly modular, which is great because it allows us to add and take away different CPD's very easily. "
   ]
  },
  {
   "cell_type": "code",
   "execution_count": 61,
   "metadata": {
    "collapsed": true
   },
   "outputs": [],
   "source": [
    "student_model.add_cpds(difficulty_cpd, intelligence_cpd, grade_cpd, letter_cpd, sat_cpd)"
   ]
  },
  {
   "cell_type": "markdown",
   "metadata": {},
   "source": [
    "At this point we can actually check our model for the network structure and CPDs and verifies that the CPDs are correctly defined and sum to 1."
   ]
  },
  {
   "cell_type": "code",
   "execution_count": 62,
   "metadata": {},
   "outputs": [
    {
     "data": {
      "text/plain": [
       "True"
      ]
     },
     "execution_count": 62,
     "metadata": {},
     "output_type": "execute_result"
    }
   ],
   "source": [
    "student_model.check_model()"
   ]
  },
  {
   "cell_type": "markdown",
   "metadata": {},
   "source": [
    "### 1.1.4 Examine the Structure of the Graph\n",
    "We can see our model with the respective CPD's incorporated:"
   ]
  },
  {
   "cell_type": "code",
   "execution_count": 63,
   "metadata": {},
   "outputs": [
    {
     "data": {
      "text/plain": [
       "[<TabularCPD representing P(difficulty:2) at 0x11352e198>,\n",
       " <TabularCPD representing P(intelligence:2) at 0x11352e128>,\n",
       " <TabularCPD representing P(grade:3 | intelligence:2, difficulty:2) at 0x1134fa7f0>,\n",
       " <TabularCPD representing P(letter:2 | grade:3) at 0x1134fcbe0>,\n",
       " <TabularCPD representing P(sat:2 | intelligence:2) at 0x1134fc710>]"
      ]
     },
     "execution_count": 63,
     "metadata": {},
     "output_type": "execute_result"
    }
   ],
   "source": [
    "student_model.get_cpds()"
   ]
  },
  {
   "cell_type": "markdown",
   "metadata": {},
   "source": [
    "And we can examine specific nodes to ensure that the corresponding distributions are correct. "
   ]
  },
  {
   "cell_type": "code",
   "execution_count": 64,
   "metadata": {},
   "outputs": [
    {
     "name": "stdout",
     "output_type": "stream",
     "text": [
      "╒══════════════╤═════╕\n",
      "│ difficulty_0 │ 0.6 │\n",
      "├──────────────┼─────┤\n",
      "│ difficulty_1 │ 0.4 │\n",
      "╘══════════════╧═════╛\n"
     ]
    }
   ],
   "source": [
    "print(student_model.get_cpds('difficulty'))"
   ]
  },
  {
   "cell_type": "code",
   "execution_count": 65,
   "metadata": {},
   "outputs": [
    {
     "name": "stdout",
     "output_type": "stream",
     "text": [
      "╒════════════════╤═════╕\n",
      "│ intelligence_0 │ 0.7 │\n",
      "├────────────────┼─────┤\n",
      "│ intelligence_1 │ 0.3 │\n",
      "╘════════════════╧═════╛\n"
     ]
    }
   ],
   "source": [
    "print(student_model.get_cpds('intelligence'))"
   ]
  },
  {
   "cell_type": "code",
   "execution_count": 66,
   "metadata": {},
   "outputs": [
    {
     "name": "stdout",
     "output_type": "stream",
     "text": [
      "╒══════════════╤════════════════╤════════════════╤════════════════╤════════════════╕\n",
      "│ intelligence │ intelligence_0 │ intelligence_0 │ intelligence_1 │ intelligence_1 │\n",
      "├──────────────┼────────────────┼────────────────┼────────────────┼────────────────┤\n",
      "│ difficulty   │ difficulty_0   │ difficulty_1   │ difficulty_0   │ difficulty_1   │\n",
      "├──────────────┼────────────────┼────────────────┼────────────────┼────────────────┤\n",
      "│ grade_0      │ 0.3            │ 0.05           │ 0.9            │ 0.5            │\n",
      "├──────────────┼────────────────┼────────────────┼────────────────┼────────────────┤\n",
      "│ grade_1      │ 0.4            │ 0.25           │ 0.08           │ 0.3            │\n",
      "├──────────────┼────────────────┼────────────────┼────────────────┼────────────────┤\n",
      "│ grade_2      │ 0.3            │ 0.7            │ 0.02           │ 0.2            │\n",
      "╘══════════════╧════════════════╧════════════════╧════════════════╧════════════════╛\n"
     ]
    }
   ],
   "source": [
    "print(student_model.get_cpds('grade'))"
   ]
  },
  {
   "cell_type": "markdown",
   "metadata": {},
   "source": [
    "---\n",
    "\n",
    "## 2. Independencies in Bayesian Networks \n",
    "Independencies implied the by the structure of our bayesian network can be categorized in 2 types:\n",
    "> 1. **Local Independencies:** Any variable in the network that is independent of its non-descendents given its parents. Mathematically it can be written as:<br>\n",
    "<br>\n",
    "$$X \\perp NonDesc(X)|Pa(X)$$\n",
    "where $NonDesc(X)$ is the set of variables which are not descendents of $X$ and $Pa(X)$ is the set of variables whcih are parents of $X$. \n",
    "2. **Global Independencies:** For discussing global independencies in bayesian networks we need to look at the various network structures possible. Starting with the case of 2 nodes, there are only 2 possible ways for it to be connected:\n",
    "\n",
    "<img src=\"images/two_nodes.png\">\n",
    "\n",
    "In the above two caes it is obvious that change in either node will effect the other. For the first case we can take the example of $difficulty \\rightarrow grade$. If we increase the difficulty of the course the probability of getting a higher grade decreases. For the second case we can take the example of $ SAT \\leftarrow Intel $. Now if we increase the probability of getting a good score in SAT that would imply that the student is intelligent, hence increasing the probability of $ i_1 $. Therefore in both the cases shown above any change in the variables leads to change in the other variable.\n",
    "\n",
    "Now, there are four possible ways of connection between 3 nodes:\n",
    "\n",
    "<img src=\"images/three_nodes.png\">\n"
   ]
  },
  {
   "cell_type": "markdown",
   "metadata": {},
   "source": [
    "Now in the above cases we will see the flow of influence from $ A $ to $ C $ under various cases.\n",
    "\n",
    "1. **Causal**: In the general case when we make any changes in the variable $ A $, it will have an effect on variable $ B $ (as we discussed above) and this change in $ B $ will change the values in $ C $. One other possible case can be when $ B $ is observed i.e. we know the value of $ B $. So, in this case any change in $ A $ won't affect $ B $ since we already know the value. And hence there won't be any change in $ C $ as it depends only on $ B $. Mathematically we can say that: \n",
    "$$ (A \\perp C | B) $$\n",
    "2. **Evidential**: Similarly in this case also observing $ B $ renders $ C $ independent of $ A $. Otherwise when $ B $ is not observed the influence flows from $ A $ to $ C $. Hence:\n",
    "$$ (A \\perp C | B) $$\n",
    "3. **Common Cause**: The influence flows from $ A $ to $ C $ when $ B $ is not observed. But when $ B $ is observed and change in $ A $ doesn't affect $ C $ since it's only dependent on $ B $. Hence here also:\n",
    "$$ ( A \\perp C | B) $$\n",
    "4. **Common Evidence**: This case is a bit different from the others. When $ B $ is not observed any change in $ A $ reflects some change in $ B $ but not in $ C $. Let's take the example of $ D \\rightarrow G \\leftarrow I $. In this case if we increase the difficulty of the course the probability of getting a higher grade reduces but this has no effect on the intelligence of the student. But when $ B $ is observed let's say that the student got a good grade. Now if we increase the difficulty of the course this will increase the probability of the student to be intelligent since we already know that he got a good grade. Hence in this case \n",
    "$$ (A \\perp C) $$ \n",
    "and \n",
    "$$ ( A \\not\\perp C | B) $$\n",
    "This structure is also commonly known as **V structure**. \n",
    "\n",
    "We can see this in greater detail by utilizing pgmpy."
   ]
  },
  {
   "cell_type": "markdown",
   "metadata": {},
   "source": [
    "### 2.1 Find Local Independencies\n",
    "We can look at the independencies for specific nodes."
   ]
  },
  {
   "cell_type": "code",
   "execution_count": 67,
   "metadata": {},
   "outputs": [
    {
     "data": {
      "text/plain": [
       "(difficulty _|_ intelligence, letter, sat, grade)"
      ]
     },
     "execution_count": 67,
     "metadata": {},
     "output_type": "execute_result"
    }
   ],
   "source": [
    "student_model.local_independencies('difficulty')"
   ]
  },
  {
   "cell_type": "code",
   "execution_count": 68,
   "metadata": {},
   "outputs": [
    {
     "data": {
      "text/plain": [
       "(grade _|_ letter, sat | intelligence, difficulty)"
      ]
     },
     "execution_count": 68,
     "metadata": {},
     "output_type": "execute_result"
    }
   ],
   "source": [
    "student_model.local_independencies('grade')"
   ]
  },
  {
   "cell_type": "code",
   "execution_count": 69,
   "metadata": {},
   "outputs": [
    {
     "data": {
      "text/plain": [
       "(difficulty _|_ intelligence, letter, sat, grade)\n",
       "(intelligence _|_ letter, difficulty, sat, grade)\n",
       "(sat _|_ difficulty, letter, grade | intelligence)\n",
       "(grade _|_ letter, sat | intelligence, difficulty)\n",
       "(letter _|_ intelligence, difficulty, sat | grade)"
      ]
     },
     "execution_count": 69,
     "metadata": {},
     "output_type": "execute_result"
    }
   ],
   "source": [
    "student_model.local_independencies(['difficulty', 'intelligence', 'sat', 'grade', 'letter'])"
   ]
  },
  {
   "cell_type": "code",
   "execution_count": 70,
   "metadata": {},
   "outputs": [
    {
     "data": {
      "text/plain": [
       "(difficulty _|_ intelligence, sat)\n",
       "(difficulty _|_ sat | intelligence)\n",
       "(difficulty _|_ intelligence | sat)\n",
       "(difficulty _|_ letter | grade)\n",
       "(difficulty _|_ sat | intelligence, letter)\n",
       "(difficulty _|_ letter, sat | intelligence, grade)\n",
       "(difficulty _|_ letter | sat, grade)\n",
       "(difficulty _|_ sat | intelligence, letter, grade)\n",
       "(difficulty _|_ letter | intelligence, sat, grade)\n",
       "(grade _|_ sat | intelligence)\n",
       "(grade _|_ sat | intelligence, letter)\n",
       "(grade _|_ sat | intelligence, difficulty)\n",
       "(grade _|_ sat | difficulty, letter, intelligence)\n",
       "(intelligence _|_ difficulty)\n",
       "(intelligence _|_ difficulty | sat)\n",
       "(intelligence _|_ letter | grade)\n",
       "(intelligence _|_ letter | difficulty, grade)\n",
       "(intelligence _|_ letter | sat, grade)\n",
       "(intelligence _|_ letter | difficulty, sat, grade)\n",
       "(letter _|_ sat | intelligence)\n",
       "(letter _|_ intelligence, difficulty, sat | grade)\n",
       "(letter _|_ sat | intelligence, difficulty)\n",
       "(letter _|_ difficulty, sat | intelligence, grade)\n",
       "(letter _|_ intelligence, sat | difficulty, grade)\n",
       "(letter _|_ intelligence, difficulty | sat, grade)\n",
       "(letter _|_ sat | intelligence, difficulty, grade)\n",
       "(letter _|_ difficulty | intelligence, sat, grade)\n",
       "(letter _|_ intelligence | difficulty, sat, grade)\n",
       "(sat _|_ difficulty)\n",
       "(sat _|_ letter | grade)\n",
       "(sat _|_ letter, difficulty, grade | intelligence)\n",
       "(sat _|_ difficulty, grade | intelligence, letter)\n",
       "(sat _|_ letter | difficulty, grade)\n",
       "(sat _|_ letter, grade | intelligence, difficulty)\n",
       "(sat _|_ letter, difficulty | intelligence, grade)\n",
       "(sat _|_ grade | difficulty, letter, intelligence)\n",
       "(sat _|_ difficulty | intelligence, letter, grade)\n",
       "(sat _|_ letter | intelligence, difficulty, grade)"
      ]
     },
     "execution_count": 70,
     "metadata": {},
     "output_type": "execute_result"
    }
   ],
   "source": [
    "student_model.get_independencies()"
   ]
  },
  {
   "cell_type": "markdown",
   "metadata": {},
   "source": [
    "### 2.2 Find Active Trail Nodes\n",
    "We can also look for **active trail nodes**. We can think of active trail nodes as path's of influence; what can give you information about something else?   "
   ]
  },
  {
   "cell_type": "code",
   "execution_count": 43,
   "metadata": {},
   "outputs": [
    {
     "data": {
      "text/plain": [
       "{'difficulty': {'difficulty', 'grade', 'letter'}}"
      ]
     },
     "execution_count": 43,
     "metadata": {},
     "output_type": "execute_result"
    }
   ],
   "source": [
    "student_model.active_trail_nodes('difficulty')"
   ]
  },
  {
   "cell_type": "code",
   "execution_count": 44,
   "metadata": {},
   "outputs": [
    {
     "data": {
      "text/plain": [
       "{'grade': {'difficulty', 'grade', 'intelligence', 'letter', 'sat'}}"
      ]
     },
     "execution_count": 44,
     "metadata": {},
     "output_type": "execute_result"
    }
   ],
   "source": [
    "student_model.active_trail_nodes('grade')"
   ]
  },
  {
   "cell_type": "markdown",
   "metadata": {},
   "source": [
    "Notice that for `grade` we had everything be fully returned. This is because everything provides information about grade, meaning grade is dependent upon all other random variables. \n",
    "\n",
    "We can also see how the active trails to difficulty change when we observed `grade`."
   ]
  },
  {
   "cell_type": "code",
   "execution_count": 78,
   "metadata": {},
   "outputs": [
    {
     "data": {
      "text/plain": [
       "{'difficulty': {'difficulty', 'grade', 'letter'}}"
      ]
     },
     "execution_count": 78,
     "metadata": {},
     "output_type": "execute_result"
    }
   ],
   "source": [
    "student_model.active_trail_nodes('difficulty')"
   ]
  },
  {
   "cell_type": "code",
   "execution_count": 79,
   "metadata": {},
   "outputs": [
    {
     "data": {
      "text/plain": [
       "{'difficulty': {'difficulty', 'intelligence', 'sat'}}"
      ]
     },
     "execution_count": 79,
     "metadata": {},
     "output_type": "execute_result"
    }
   ],
   "source": [
    "student_model.active_trail_nodes('difficulty', observed='grade')"
   ]
  },
  {
   "cell_type": "code",
   "execution_count": null,
   "metadata": {
    "collapsed": true
   },
   "outputs": [],
   "source": []
  },
  {
   "cell_type": "code",
   "execution_count": null,
   "metadata": {
    "collapsed": true
   },
   "outputs": [],
   "source": []
  },
  {
   "cell_type": "code",
   "execution_count": null,
   "metadata": {
    "collapsed": true
   },
   "outputs": [],
   "source": []
  },
  {
   "cell_type": "code",
   "execution_count": null,
   "metadata": {
    "collapsed": true
   },
   "outputs": [],
   "source": []
  }
 ],
 "metadata": {
  "kernelspec": {
   "display_name": "Python 3",
   "language": "python3",
   "name": "python3"
  },
  "language_info": {
   "codemirror_mode": {
    "name": "ipython",
    "version": 3
   },
   "file_extension": ".py",
   "mimetype": "text/x-python",
   "name": "python",
   "nbconvert_exporter": "python",
   "pygments_lexer": "ipython3",
   "version": "3.6.5"
  }
 },
 "nbformat": 4,
 "nbformat_minor": 2
}
