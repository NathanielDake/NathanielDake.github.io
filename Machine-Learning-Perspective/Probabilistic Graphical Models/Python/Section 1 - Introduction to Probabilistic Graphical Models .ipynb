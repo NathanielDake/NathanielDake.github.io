{
 "cells": [
  {
   "cell_type": "markdown",
   "metadata": {},
   "source": [
    "# 1. What is Machine Learning?\n",
    "Machine learning is a scientific discipline that explores the construction and study of algorithms that can *learn* from data. Such algorithms operate by building a model from example inputs an using that to make *predictions* or *decisions*, rather than following strictly static instructions. \n",
    "\n",
    "We can take an example of predicting the type of flower based on sepal length and width of the flower. Let's say we have some data (discretized iris data set on sepal length and width). The data set looks like:"
   ]
  },
  {
   "cell_type": "code",
   "execution_count": 21,
   "metadata": {
    "collapsed": true
   },
   "outputs": [],
   "source": [
    "import numpy as np\n",
    "import pandas as pd\n",
    "import seaborn as sns\n",
    "import matplotlib.pyplot as plt\n",
    "from sklearn.datasets import load_iris\n",
    "\n",
    "\n",
    "# Seaborn Plot Styling\n",
    "sns.set(style=\"white\", palette=\"husl\")\n",
    "sns.set_context(\"poster\")\n",
    "sns.set_style(\"ticks\")\n",
    "%matplotlib inline"
   ]
  },
  {
   "cell_type": "code",
   "execution_count": 3,
   "metadata": {
    "collapsed": true
   },
   "outputs": [],
   "source": [
    "iris = load_iris()\n",
    "mini_iris = np.round(iris.data[:, :2]).astype(int)\n",
    "data = pd.DataFrame(mini_iris, columns=['length', 'width'])\n",
    "data['type'] = iris.target\n",
    "\n",
    "#Shuffle data\n",
    "data = data.iloc[np.random.permutation(len(data))]"
   ]
  },
  {
   "cell_type": "code",
   "execution_count": 9,
   "metadata": {},
   "outputs": [
    {
     "data": {
      "text/html": [
       "<div>\n",
       "<style scoped>\n",
       "    .dataframe tbody tr th:only-of-type {\n",
       "        vertical-align: middle;\n",
       "    }\n",
       "\n",
       "    .dataframe tbody tr th {\n",
       "        vertical-align: top;\n",
       "    }\n",
       "\n",
       "    .dataframe thead th {\n",
       "        text-align: right;\n",
       "    }\n",
       "</style>\n",
       "<table border=\"1\" class=\"dataframe\">\n",
       "  <thead>\n",
       "    <tr style=\"text-align: right;\">\n",
       "      <th></th>\n",
       "      <th>length</th>\n",
       "      <th>width</th>\n",
       "      <th>type</th>\n",
       "    </tr>\n",
       "  </thead>\n",
       "  <tbody>\n",
       "    <tr>\n",
       "      <th>113</th>\n",
       "      <td>6</td>\n",
       "      <td>2</td>\n",
       "      <td>2</td>\n",
       "    </tr>\n",
       "    <tr>\n",
       "      <th>53</th>\n",
       "      <td>6</td>\n",
       "      <td>2</td>\n",
       "      <td>1</td>\n",
       "    </tr>\n",
       "    <tr>\n",
       "      <th>12</th>\n",
       "      <td>5</td>\n",
       "      <td>3</td>\n",
       "      <td>0</td>\n",
       "    </tr>\n",
       "    <tr>\n",
       "      <th>21</th>\n",
       "      <td>5</td>\n",
       "      <td>4</td>\n",
       "      <td>0</td>\n",
       "    </tr>\n",
       "    <tr>\n",
       "      <th>104</th>\n",
       "      <td>6</td>\n",
       "      <td>3</td>\n",
       "      <td>2</td>\n",
       "    </tr>\n",
       "  </tbody>\n",
       "</table>\n",
       "</div>"
      ],
      "text/plain": [
       "     length  width  type\n",
       "113       6      2     2\n",
       "53        6      2     1\n",
       "12        5      3     0\n",
       "21        5      4     0\n",
       "104       6      3     2"
      ]
     },
     "execution_count": 9,
     "metadata": {},
     "output_type": "execute_result"
    }
   ],
   "source": [
    "data.head()"
   ]
  },
  {
   "cell_type": "markdown",
   "metadata": {},
   "source": [
    "## 2. Different ways of learning from data\n",
    "Now, let's say we want to predict the type of flower for a new given data point. There are multiple ways to solve this problem. We will consider these two ways in some detail:\n",
    "1. We could find a **function** which can directly map an input value to its class label. \n",
    "2. We can find the probability distributions over the variables and then use this distribution to answer queries about the new data point. \n",
    "\n",
    "There are a lot of algorithms for finding a mapping function. For example, **linear regression** tries to find a linear equation which explains the data. **Support vector machines** try to find a plane which separates the data points. **Decision Trees** try to find a set of simple greater than and less than equations to classify the data. Let's try to apply a decision on this data set. \n",
    "\n",
    "We can plot the data and it looks something like this:"
   ]
  },
  {
   "cell_type": "code",
   "execution_count": 22,
   "metadata": {},
   "outputs": [
    {
     "data": {
      "text/plain": [
       "<matplotlib.collections.PathCollection at 0x112e326a0>"
      ]
     },
     "execution_count": 22,
     "metadata": {},
     "output_type": "execute_result"
    },
    {
     "data": {
      "image/png": "[encoded data removed]",
      "text/plain": [
       "<matplotlib.figure.Figure at 0x10fdde6d8>"
      ]
     },
     "metadata": {},
     "output_type": "display_data"
    }
   ],
   "source": [
    "# Plot data without noise\n",
    "fig, ax = plt.subplots(figsize=(12,8))\n",
    "plt.scatter(data.length, data.width, c=['b', 'g', 'r'], s=200, alpha=0.3)"
   ]
  },
  {
   "cell_type": "markdown",
   "metadata": {},
   "source": [
    "We can see that many of our points directly overlap. We can add some noise to make it easier to visualize:"
   ]
  },
  {
   "cell_type": "code",
   "execution_count": 24,
   "metadata": {},
   "outputs": [
    {
     "data": {
      "text/plain": [
       "<matplotlib.collections.PathCollection at 0x11352e630>"
      ]
     },
     "execution_count": 24,
     "metadata": {},
     "output_type": "execute_result"
    },
    {
     "data": {
      "image/png": "[encoded data removed]",
      "text/plain": [
       "<matplotlib.figure.Figure at 0x112f92a58>"
      ]
     },
     "metadata": {},
     "output_type": "display_data"
    }
   ],
   "source": [
    "# Adding a little bit of noise so that it's easier to visualize\n",
    "data_with_noise = data.iloc[:, :2] + np.random.normal(loc=0, scale=0.1, size=(150, 2))\n",
    "fig, ax = plt.subplots(figsize=(12,8))\n",
    "plt.scatter(data_with_noise.length, data_with_noise.width, c=['b', 'g', 'r'], s=200, alpha=0.3)"
   ]
  },
  {
   "cell_type": "code",
   "execution_count": 38,
   "metadata": {},
   "outputs": [],
   "source": [
    "from sklearn.tree import DecisionTreeClassifier\n",
    "from sklearn.cross_validation import train_test_split"
   ]
  },
  {
   "cell_type": "code",
   "execution_count": 57,
   "metadata": {},
   "outputs": [],
   "source": [
    "X_train, X_test, y_train, y_test = train_test_split(data.ix[:, ['length', 'width']]\n",
    "                                                    .values, data.type.values, test_size=0.2)"
   ]
  },
  {
   "cell_type": "code",
   "execution_count": 58,
   "metadata": {},
   "outputs": [
    {
     "data": {
      "text/plain": [
       "array([0, 0, 2, 2, 2, 1, 2, 2, 1, 0, 1, 1, 2, 1, 1, 0, 2, 0, 2, 1, 0, 1,\n",
       "       1, 2, 0, 0, 0, 1, 2, 1])"
      ]
     },
     "execution_count": 58,
     "metadata": {},
     "output_type": "execute_result"
    }
   ],
   "source": [
    "classifier = DecisionTreeClassifier(max_depth=4)\n",
    "classifier.fit(X_train, y_train)\n",
    "classifier.predict(X_test)"
   ]
  },
  {
   "cell_type": "code",
   "execution_count": 59,
   "metadata": {},
   "outputs": [
    {
     "data": {
      "text/plain": [
       "0.7"
      ]
     },
     "execution_count": 59,
     "metadata": {},
     "output_type": "execute_result"
    }
   ],
   "source": [
    "classifier.score(X_test, y_test)"
   ]
  },
  {
   "cell_type": "markdown",
   "metadata": {},
   "source": [
    "So, in this case we got a classification accuracy of 70%. \n",
    "\n",
    "Now, let's move on to our second approach using a probabilistic model. The most obvious way to do this classification task would be to compute a Joint Probability Distribution over all these variables and then marginalize and reduce over these according to our new data point to get the probabilities of each class."
   ]
  },
  {
   "cell_type": "code",
   "execution_count": 60,
   "metadata": {
    "collapsed": true
   },
   "outputs": [],
   "source": [
    "X_train, X_test = data[:120], data[120:]"
   ]
  },
  {
   "cell_type": "code",
   "execution_count": 61,
   "metadata": {},
   "outputs": [
    {
     "data": {
      "text/html": [
       "<div>\n",
       "<style scoped>\n",
       "    .dataframe tbody tr th:only-of-type {\n",
       "        vertical-align: middle;\n",
       "    }\n",
       "\n",
       "    .dataframe tbody tr th {\n",
       "        vertical-align: top;\n",
       "    }\n",
       "\n",
       "    .dataframe thead th {\n",
       "        text-align: right;\n",
       "    }\n",
       "</style>\n",
       "<table border=\"1\" class=\"dataframe\">\n",
       "  <thead>\n",
       "    <tr style=\"text-align: right;\">\n",
       "      <th></th>\n",
       "      <th>length</th>\n",
       "      <th>width</th>\n",
       "      <th>type</th>\n",
       "    </tr>\n",
       "  </thead>\n",
       "  <tbody>\n",
       "    <tr>\n",
       "      <th>113</th>\n",
       "      <td>6</td>\n",
       "      <td>2</td>\n",
       "      <td>2</td>\n",
       "    </tr>\n",
       "    <tr>\n",
       "      <th>53</th>\n",
       "      <td>6</td>\n",
       "      <td>2</td>\n",
       "      <td>1</td>\n",
       "    </tr>\n",
       "    <tr>\n",
       "      <th>12</th>\n",
       "      <td>5</td>\n",
       "      <td>3</td>\n",
       "      <td>0</td>\n",
       "    </tr>\n",
       "    <tr>\n",
       "      <th>21</th>\n",
       "      <td>5</td>\n",
       "      <td>4</td>\n",
       "      <td>0</td>\n",
       "    </tr>\n",
       "    <tr>\n",
       "      <th>104</th>\n",
       "      <td>6</td>\n",
       "      <td>3</td>\n",
       "      <td>2</td>\n",
       "    </tr>\n",
       "  </tbody>\n",
       "</table>\n",
       "</div>"
      ],
      "text/plain": [
       "     length  width  type\n",
       "113       6      2     2\n",
       "53        6      2     1\n",
       "12        5      3     0\n",
       "21        5      4     0\n",
       "104       6      3     2"
      ]
     },
     "execution_count": 61,
     "metadata": {},
     "output_type": "execute_result"
    }
   ],
   "source": [
    "X_train.head()"
   ]
  },
  {
   "cell_type": "code",
   "execution_count": 62,
   "metadata": {},
   "outputs": [
    {
     "data": {
      "text/plain": [
       "(120, 3)"
      ]
     },
     "execution_count": 62,
     "metadata": {},
     "output_type": "execute_result"
    }
   ],
   "source": [
    "X_train.shape"
   ]
  },
  {
   "cell_type": "code",
   "execution_count": 87,
   "metadata": {},
   "outputs": [
    {
     "data": {
      "text/plain": [
       "length  width  type\n",
       "4       2      0       0.008333\n",
       "        3      0       0.033333\n",
       "5       2      1       0.033333\n",
       "               2       0.008333\n",
       "        3      0       0.158333\n",
       "               1       0.016667\n",
       "        4      0       0.108333\n",
       "6       2      1       0.066667\n",
       "               2       0.016667\n",
       "        3      1       0.191667\n",
       "               2       0.150000\n",
       "        4      0       0.041667\n",
       "7       2      2       0.008333\n",
       "        3      1       0.033333\n",
       "               2       0.066667\n",
       "        4      2       0.008333\n",
       "8       3      2       0.033333\n",
       "        4      2       0.016667\n",
       "dtype: float64"
      ]
     },
     "execution_count": 87,
     "metadata": {},
     "output_type": "execute_result"
    }
   ],
   "source": [
    "# Computing the joint probability distribution over the training data\n",
    "joint_prob = X_train.groupby(['length', 'width', 'type']).size() / 120\n",
    "joint_prob "
   ]
  },
  {
   "cell_type": "code",
   "execution_count": 93,
   "metadata": {},
   "outputs": [
    {
     "data": {
      "text/plain": [
       "type\n",
       "1    0.033333\n",
       "2    0.008333\n",
       "dtype: float64"
      ]
     },
     "execution_count": 93,
     "metadata": {},
     "output_type": "execute_result"
    }
   ],
   "source": [
    "joint_prob[5, 2]"
   ]
  },
  {
   "cell_type": "code",
   "execution_count": 86,
   "metadata": {},
   "outputs": [
    {
     "name": "stdout",
     "output_type": "stream",
     "text": [
      "type\n",
      "1    0.033333\n",
      "2    0.066667\n",
      "dtype: float64\n",
      "type\n",
      "1    0.191667\n",
      "2    0.150000\n",
      "dtype: float64\n",
      "type\n",
      "1    0.191667\n",
      "2    0.150000\n",
      "dtype: float64\n",
      "type\n",
      "1    0.033333\n",
      "2    0.066667\n",
      "dtype: float64\n",
      "type\n",
      "1    0.191667\n",
      "2    0.150000\n",
      "dtype: float64\n",
      "type\n",
      "1    0.191667\n",
      "2    0.150000\n",
      "dtype: float64\n",
      "type\n",
      "1    0.191667\n",
      "2    0.150000\n",
      "dtype: float64\n",
      "type\n",
      "1    0.191667\n",
      "2    0.150000\n",
      "dtype: float64\n",
      "type\n",
      "0    0.158333\n",
      "1    0.016667\n",
      "dtype: float64\n",
      "type\n",
      "1    0.033333\n",
      "2    0.066667\n",
      "dtype: float64\n",
      "type\n",
      "1    0.033333\n",
      "2    0.066667\n",
      "dtype: float64\n",
      "type\n",
      "1    0.033333\n",
      "2    0.066667\n",
      "dtype: float64\n",
      "type\n",
      "1    0.191667\n",
      "2    0.150000\n",
      "dtype: float64\n",
      "type\n",
      "1    0.033333\n",
      "2    0.066667\n",
      "dtype: float64\n",
      "type\n",
      "1    0.033333\n",
      "2    0.066667\n",
      "dtype: float64\n",
      "type\n",
      "0    0.158333\n",
      "1    0.016667\n",
      "dtype: float64\n",
      "type\n",
      "0    0.158333\n",
      "1    0.016667\n",
      "dtype: float64\n",
      "type\n",
      "0    0.108333\n",
      "dtype: float64\n",
      "type\n",
      "0    0.158333\n",
      "1    0.016667\n",
      "dtype: float64\n",
      "type\n",
      "1    0.191667\n",
      "2    0.150000\n",
      "dtype: float64\n",
      "type\n",
      "1    0.191667\n",
      "2    0.150000\n",
      "dtype: float64\n",
      "type\n",
      "0    0.158333\n",
      "1    0.016667\n",
      "dtype: float64\n",
      "type\n",
      "1    0.066667\n",
      "2    0.016667\n",
      "dtype: float64\n",
      "type\n",
      "1    0.033333\n",
      "2    0.066667\n",
      "dtype: float64\n",
      "type\n",
      "1    0.066667\n",
      "2    0.016667\n",
      "dtype: float64\n",
      "type\n",
      "1    0.191667\n",
      "2    0.150000\n",
      "dtype: float64\n",
      "type\n",
      "0    0.108333\n",
      "dtype: float64\n",
      "type\n",
      "1    0.033333\n",
      "2    0.066667\n",
      "dtype: float64\n",
      "type\n",
      "0    0.108333\n",
      "dtype: float64\n",
      "type\n",
      "1    0.033333\n",
      "2    0.066667\n",
      "dtype: float64\n"
     ]
    },
    {
     "name": "stderr",
     "output_type": "stream",
     "text": [
      "/usr/local/lib/python3.6/site-packages/numpy/core/fromnumeric.py:52: FutureWarning: 'argmax' is deprecated. Use 'idxmax' instead. The behavior of 'argmax' will be corrected to return the positional maximum in the future. Use 'series.values.argmax' to get the position of the maximum now.\n",
      "  return getattr(obj, method)(*args, **kwds)\n"
     ]
    },
    {
     "data": {
      "text/plain": [
       "array([2, 1, 1, 2, 1, 1, 1, 1, 0, 2, 2, 2, 1, 2, 2, 0, 0, 0, 0, 1, 1, 0,\n",
       "       1, 2, 1, 1, 0, 2, 0, 2])"
      ]
     },
     "execution_count": 86,
     "metadata": {},
     "output_type": "execute_result"
    }
   ],
   "source": [
    "# Predicting values\n",
    "\n",
    "# Selecting just the feature variables.\n",
    "X_test_features = X_test.iloc[:, :2].values\n",
    "X_test_actual_results = X_test.iloc[:, 2].values\n",
    "\n",
    "predicted_values = []\n",
    "for i in X_test_features:\n",
    "    print(joint_prob[i[0], i[1]])\n",
    "    predicted_values.append(np.argmax(joint_prob[i[0], i[1]]))\n",
    "    \n",
    "predicted_values = np.array(predicted_values)\n",
    "predicted_values"
   ]
  },
  {
   "cell_type": "code",
   "execution_count": null,
   "metadata": {},
   "outputs": [],
   "source": []
  },
  {
   "cell_type": "code",
   "execution_count": null,
   "metadata": {
    "collapsed": true
   },
   "outputs": [],
   "source": []
  }
 ],
 "metadata": {
  "kernelspec": {
   "display_name": "Python 3",
   "language": "python3",
   "name": "python3"
  },
  "language_info": {
   "codemirror_mode": {
    "name": "ipython",
    "version": 3
   },
   "file_extension": ".py",
   "mimetype": "text/x-python",
   "name": "python",
   "nbconvert_exporter": "python",
   "pygments_lexer": "ipython3",
   "version": "3.6.5"
  }
 },
 "nbformat": 4,
 "nbformat_minor": 2
}
