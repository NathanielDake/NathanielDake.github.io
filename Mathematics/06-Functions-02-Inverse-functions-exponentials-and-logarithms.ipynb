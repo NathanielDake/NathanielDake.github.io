{
 "cells": [
  {
   "cell_type": "markdown",
   "metadata": {},
   "source": [
    "# 2. Inverse Functions Explored via the Exponential and Logarithm\n",
    "Throughout the fields of mathematics, computer science, physics, and many others, frequently you will into the concept of the **exponential** and the **logarithm**. Often you may have memorized these concepts at a young age, committed the rules for manipulating them to memory, and then simply treated axiomatically; they felt to be _fundamental givens_ rather than derivable from lower level principles. As with many things, this generally presents no problem. For instance, if I asked to you to simplify the following expression:\n",
    "\n",
    "$$x^3 + x^4 = ?$$\n",
    "\n",
    "Surely you would arrive at:\n",
    "\n",
    "$$x^3 + x^4 = x^7$$\n",
    "\n",
    "And if I asked someone who fancies themselves to be rather mathematically inclined, they may simplify the following:\n",
    "\n",
    "$$log_{10}(100) = ?$$\n",
    "\n",
    "To be: \n",
    "\n",
    "$$log_{10}(100) = 2$$\n",
    "\n",
    "If you just finished a course that deals specifically with exponentials and logarithms, you may even be able to reduce:\n",
    "\n",
    "$$e ^{log_e(x)} = ?$$\n",
    "\n",
    "To simply be:\n",
    "\n",
    "$$e ^{log_e(x)} = x$$\n",
    "\n",
    "But, most likely, you were recalling a specific _mechanical process_ that you had once memorized, and applying it to a very (relatively) familiar problem. Cognitively you were operating on a low level; shunting symbols around and follwing a set of steps (an **algorithm**) in order to arrive at an end result. There are several issues that can arise from having an approach that lives too much in the low level:\n",
    "\n",
    "#### 1. Why are you doing what you are doing?\n",
    "Operating at a low level is an incredibly effective way to solve complex problems. Consider the following: You are presented with a nicely restricted problem, take a brief moment to analyze it, classify it into a bucket that is similar to a problem that you solved before, and then immediately jump into the lower level mechanical mode. Once there, you are recalling a set of steps that can be used to solve a certain problem (thinking fast and slow?), operating nearly automatically. You are not in a period of deep contemplation; rather autopilot has taken over and you are performing manipulations in order to reach your end goal. But, **why**? Why are you performing the steps that you are in performing, in the specific order that you are performing them in? \n",
    "\n",
    "#### 2. The real world is more than the low level\n",
    "In a real world environment, there is much more going on than the simple, well constrained problem one may encounter on a test conveys. By spending too much time at the low level, or by being inefficient at transitioning from the high to low level, we risk missing critical insights into problems, and potentially not being able to solve for them at all. \n",
    "\n",
    "#### 3. Thinking via analogy tends to break down at the extremes\n",
    "If you encounter a problem that looks similar to something that you have seen before, you will implement the same process that you used to solve the previous problem. However, they almost never have the same conditions, assumptions, edge cases, etc; by nature you apply a process to a problem that is not the same as the one that you originally solved. This requires a high level consideration of what is different, and how to handle that difference (epstein). \n",
    "\n",
    "The goal of this post is to show how essential having a high level perspective is when it comes to applying mathematics to the real world. \n",
    "\n",
    "* use example from vanhorn paper as a difficult need to understand the log and exp on a deeper level \n",
    "* Have a section on CS complexity, digging into what exactly it means to be exponential \n",
    "* Visuals of inverse\n",
    "* Derivations of properties by hand\n",
    "* How can this be useful in a real world scenario?"
   ]
  },
  {
   "cell_type": "code",
   "execution_count": 9,
   "metadata": {},
   "outputs": [],
   "source": [
    "import numpy as np\n",
    "from scipy.stats import bernoulli, binom, norm\n",
    "import seaborn as sns\n",
    "import matplotlib.pyplot as plt\n",
    "\n",
    "%matplotlib inline\n",
    "%config InlineBackend.figure_format = 'retina'\n",
    "\n",
    "sns.set(style=\"white\", palette=\"husl\")\n",
    "sns.set_context(\"talk\")\n",
    "sns.set_style(\"ticks\")"
   ]
  },
  {
   "cell_type": "code",
   "execution_count": null,
   "metadata": {},
   "outputs": [],
   "source": []
  },
  {
   "cell_type": "code",
   "execution_count": null,
   "metadata": {},
   "outputs": [],
   "source": []
  },
  {
   "cell_type": "code",
   "execution_count": null,
   "metadata": {},
   "outputs": [],
   "source": []
  },
  {
   "cell_type": "code",
   "execution_count": null,
   "metadata": {},
   "outputs": [],
   "source": []
  },
  {
   "cell_type": "code",
   "execution_count": null,
   "metadata": {},
   "outputs": [],
   "source": []
  },
  {
   "cell_type": "raw",
   "metadata": {},
   "source": [
    "<script>\n",
    "  function code_toggle() {\n",
    "    if (code_shown){\n",
    "      $('div.input').hide('500');\n",
    "      $('#toggleButton').val('Show Code')\n",
    "    } else {\n",
    "      $('div.input').show('500');\n",
    "      $('#toggleButton').val('Hide Code')\n",
    "    }\n",
    "    code_shown = !code_shown\n",
    "  }\n",
    "\n",
    "  $( document ).ready(function(){\n",
    "    code_shown=false;\n",
    "    $('div.input').hide()\n",
    "  });\n",
    "</script>\n",
    "<form action=\"javascript:code_toggle()\"><input type=\"submit\" id=\"toggleButton\" value=\"Show Code\"></form>"
   ]
  },
  {
   "cell_type": "code",
   "execution_count": null,
   "metadata": {},
   "outputs": [],
   "source": []
  }
 ],
 "metadata": {
  "kernelspec": {
   "display_name": "Python 3",
   "language": "python",
   "name": "python3"
  },
  "language_info": {
   "codemirror_mode": {
    "name": "ipython",
    "version": 3
   },
   "file_extension": ".py",
   "mimetype": "text/x-python",
   "name": "python",
   "nbconvert_exporter": "python",
   "pygments_lexer": "ipython3",
   "version": "3.6.2"
  }
 },
 "nbformat": 4,
 "nbformat_minor": 2
}
