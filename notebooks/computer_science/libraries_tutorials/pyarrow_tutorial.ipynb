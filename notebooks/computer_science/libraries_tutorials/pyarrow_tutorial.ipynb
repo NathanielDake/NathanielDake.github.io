{
 "cells": [
  {
   "cell_type": "code",
   "execution_count": 1,
   "id": "d1689b49-88fc-496f-89c2-474803c6be1d",
   "metadata": {},
   "outputs": [],
   "source": [
    "import pyarrow as pa"
   ]
  },
  {
   "cell_type": "code",
   "execution_count": 2,
   "id": "b95affbc-da6d-4ba7-92fe-8102c9c6adc0",
   "metadata": {},
   "outputs": [],
   "source": [
    "data = b'abcdefghijklmnopqrstuvwxyz'"
   ]
  },
  {
   "cell_type": "code",
   "execution_count": 3,
   "id": "35c16276-fd50-46e7-ae02-9e0a530e6d66",
   "metadata": {},
   "outputs": [
    {
     "data": {
      "text/plain": [
       "bytes"
      ]
     },
     "execution_count": 3,
     "metadata": {},
     "output_type": "execute_result"
    }
   ],
   "source": [
    "type(data)"
   ]
  },
  {
   "cell_type": "code",
   "execution_count": 4,
   "id": "b6822d14-f45f-453a-8c95-ce335000c3f9",
   "metadata": {},
   "outputs": [],
   "source": [
    "buf = pa.py_buffer(data)"
   ]
  },
  {
   "cell_type": "code",
   "execution_count": 5,
   "id": "e8461c35-e778-4801-a6b7-6ea9495c8c9c",
   "metadata": {},
   "outputs": [
    {
     "data": {
      "text/plain": [
       "<pyarrow.lib.Buffer at 0x14078a3f0>"
      ]
     },
     "execution_count": 5,
     "metadata": {},
     "output_type": "execute_result"
    }
   ],
   "source": [
    "buf"
   ]
  },
  {
   "cell_type": "code",
   "execution_count": 6,
   "id": "aa4ee1a7-23a0-4281-864f-a8b4a6152a67",
   "metadata": {},
   "outputs": [
    {
     "data": {
      "text/plain": [
       "pyarrow.lib.Buffer"
      ]
     },
     "execution_count": 6,
     "metadata": {},
     "output_type": "execute_result"
    }
   ],
   "source": [
    "type(buf)"
   ]
  },
  {
   "cell_type": "code",
   "execution_count": 7,
   "id": "03297b3a-ac4b-47d7-a05d-40456448b1ca",
   "metadata": {},
   "outputs": [
    {
     "data": {
      "text/plain": [
       "26"
      ]
     },
     "execution_count": 7,
     "metadata": {},
     "output_type": "execute_result"
    }
   ],
   "source": [
    "buf.size"
   ]
  },
  {
   "cell_type": "code",
   "execution_count": null,
   "id": "8346cd0b-7da5-4756-8d9c-1fa96fc2a64a",
   "metadata": {},
   "outputs": [],
   "source": []
  }
 ],
 "metadata": {
  "kernelspec": {
   "display_name": "Python 3",
   "language": "python",
   "name": "python3"
  },
  "language_info": {
   "codemirror_mode": {
    "name": "ipython",
    "version": 3
   },
   "file_extension": ".py",
   "mimetype": "text/x-python",
   "name": "python",
   "nbconvert_exporter": "python",
   "pygments_lexer": "ipython3",
   "version": "3.8.0"
  }
 },
 "nbformat": 4,
 "nbformat_minor": 5
}
