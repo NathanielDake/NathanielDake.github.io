{
 "cells": [
  {
   "cell_type": "code",
   "execution_count": 149,
   "metadata": {},
   "outputs": [],
   "source": [
    "from random import normalvariate, random\n",
    "from itertools import count, groupby, islice\n",
    "from datetime import date\n",
    "import math"
   ]
  },
  {
   "cell_type": "markdown",
   "metadata": {},
   "source": [
    "# 1.  `read_fake_data`\n",
    "Let's explore how the `read_fake_data` function works.\n",
    "* It returns a generator.\n",
    "* This generator can be called via `__next__()`\n",
    "* Another way to call it successively is via `islice`. This is essentially a `for` loop, calling `__next__()` on the generator."
   ]
  },
  {
   "cell_type": "code",
   "execution_count": 396,
   "metadata": {},
   "outputs": [],
   "source": [
    "def read_fake_data(filename, debug=False):\n",
    "    \"\"\"\n",
    "    This function returns a generator.\n",
    "    Example usage:\n",
    "       gen = read_fake_date(\"test_file_name\")\n",
    "       a = gen.__next__()\n",
    "       => a = (1, 0.98234)\n",
    "\n",
    "    Note: docs on count -> https://docs.python.org/3/library/itertools.html#itertools.count\n",
    "    Essentially a wrapper around a basic while True loop\n",
    "    \"\"\"\n",
    "    for i in count():\n",
    "        if debug:\n",
    "            print(f\"Yielding data point #{i} from read_fake_data generator.\")\n",
    "        sigma = random() * 10\n",
    "        day = date.fromtimestamp(i)\n",
    "        value = normalvariate(0, sigma)\n",
    "        yield (day, value)"
   ]
  },
  {
   "cell_type": "code",
   "execution_count": 129,
   "metadata": {},
   "outputs": [],
   "source": [
    "data = read_fake_data(\"test\")"
   ]
  },
  {
   "cell_type": "code",
   "execution_count": 130,
   "metadata": {},
   "outputs": [
    {
     "name": "stdout",
     "output_type": "stream",
     "text": [
      "(datetime.date(1969, 12, 31), 0.15449132434539767)\n"
     ]
    }
   ],
   "source": [
    "data_point_1 = data.__next__()\n",
    "print(data_point_1)"
   ]
  },
  {
   "cell_type": "code",
   "execution_count": 131,
   "metadata": {},
   "outputs": [
    {
     "name": "stdout",
     "output_type": "stream",
     "text": [
      "(datetime.date(1969, 12, 31), 2.7335094042676014)\n"
     ]
    }
   ],
   "source": [
    "data_point_2 = data.__next__()\n",
    "print(data_point_2)"
   ]
  },
  {
   "cell_type": "code",
   "execution_count": 136,
   "metadata": {},
   "outputs": [
    {
     "name": "stdout",
     "output_type": "stream",
     "text": [
      "(datetime.date(1969, 12, 31), 0.013996346667972032)\n",
      "(datetime.date(1969, 12, 31), -0.8741304471887233)\n",
      "(datetime.date(1969, 12, 31), -1.0111260338016816)\n",
      "(datetime.date(1969, 12, 31), -0.19077098115058688)\n",
      "(datetime.date(1969, 12, 31), 2.6459114426509207)\n"
     ]
    }
   ],
   "source": [
    "data_point_3_through_13 = islice(data, 5)\n",
    "for point in list(data_point_3_through_13):\n",
    "    print(point)"
   ]
  },
  {
   "cell_type": "code",
   "execution_count": 138,
   "metadata": {},
   "outputs": [
    {
     "name": "stdout",
     "output_type": "stream",
     "text": [
      "(datetime.date(1969, 12, 31), 1.7800160686913784)\n",
      "(datetime.date(1969, 12, 31), 11.044291525815439)\n",
      "(datetime.date(1969, 12, 31), 1.148786215637162)\n",
      "(datetime.date(1969, 12, 31), -21.859771492126264)\n",
      "(datetime.date(1969, 12, 31), 3.51119802571488)\n"
     ]
    }
   ],
   "source": [
    "for i in range(0, 5):\n",
    "    print(data.__next__())"
   ]
  },
  {
   "cell_type": "markdown",
   "metadata": {},
   "source": [
    "# 2. `day_grouper`"
   ]
  },
  {
   "cell_type": "code",
   "execution_count": 198,
   "metadata": {},
   "outputs": [],
   "source": [
    "def day_grouper(iterable):\n",
    "    \"\"\"\n",
    "    lambda takes in a data point of form: time, value\n",
    "    Returns itertools groupby, which is an iterator with a next method\n",
    "\n",
    "    Note: date.fromtimestamp() will return (1969, 12, 31) for any value in range [0, 25199]\n",
    "    Hence, the first 25200 pieces of read fake data will be grouped together for day (1969, 12, 31)\n",
    "    \"\"\"\n",
    "    key = lambda timestamp_value: timestamp_value[0]\n",
    "    return groupby(iterable, key)"
   ]
  },
  {
   "cell_type": "markdown",
   "metadata": {},
   "source": [
    "Let's just look at the standard `itertools.groupby` to start (note, contents must be presorted):"
   ]
  },
  {
   "cell_type": "code",
   "execution_count": 203,
   "metadata": {},
   "outputs": [
    {
     "name": "stdout",
     "output_type": "stream",
     "text": [
      "Group Name: a   Group contents: ['a', 'a', 'a', 'a']\n",
      "Group Name: b   Group contents: ['b', 'b', 'b', 'b']\n",
      "Group Name: c   Group contents: ['c', 'c']\n"
     ]
    }
   ],
   "source": [
    "iterable = [\"a\", \"a\", \"a\", \"a\", \"b\", \"b\", \"b\", \"b\", \"c\", \"c\"]\n",
    "grouped = groupby(iterable)\n",
    "\n",
    "for group_name, group in grouped:\n",
    "    print(\"Group Name:\", group_name, \"  Group contents:\", list(group))"
   ]
  },
  {
   "cell_type": "markdown",
   "metadata": {},
   "source": [
    "Above, `groupby` takes in an iterable that is simple a precomputed list. Could it take in a generator? Yes! Let's look at a generator that creates the above list:"
   ]
  },
  {
   "cell_type": "code",
   "execution_count": 337,
   "metadata": {},
   "outputs": [],
   "source": [
    "def simple_generator(debug=True):\n",
    "    i = 0\n",
    "    while True:\n",
    "        if debug:\n",
    "            print(\"Generator hit and yielding a value\")\n",
    "        if i < 4:\n",
    "            yield \"a\"\n",
    "        elif i < 8:\n",
    "            yield \"b\"\n",
    "        elif i < 11:\n",
    "            yield \"c\"\n",
    "        else: \n",
    "            break\n",
    "        i += 1"
   ]
  },
  {
   "cell_type": "code",
   "execution_count": 338,
   "metadata": {},
   "outputs": [],
   "source": [
    "iterable = simple_generator()"
   ]
  },
  {
   "cell_type": "code",
   "execution_count": 339,
   "metadata": {},
   "outputs": [
    {
     "name": "stdout",
     "output_type": "stream",
     "text": [
      "Generator hit and yielding a value\n",
      "a\n"
     ]
    }
   ],
   "source": [
    "first_iterable_value = iterable.__next__()\n",
    "print(first_iterable_value)"
   ]
  },
  {
   "cell_type": "code",
   "execution_count": 340,
   "metadata": {},
   "outputs": [
    {
     "name": "stdout",
     "output_type": "stream",
     "text": [
      "Generator hit and yielding a value\n",
      "Generator hit and yielding a value\n",
      "Generator hit and yielding a value\n",
      "Generator hit and yielding a value\n",
      "Generator hit and yielding a value\n",
      "Generator hit and yielding a value\n",
      "Generator hit and yielding a value\n",
      "Generator hit and yielding a value\n",
      "Generator hit and yielding a value\n",
      "Generator hit and yielding a value\n",
      "['a', 'a', 'a', 'a', 'b', 'b', 'b', 'b', 'c', 'c']\n"
     ]
    }
   ],
   "source": [
    "iterable = simple_generator()\n",
    "print(\n",
    "    list(islice(iterable, 10))\n",
    ")"
   ]
  },
  {
   "cell_type": "markdown",
   "metadata": {},
   "source": [
    "Can `groupby` handle a generator as an input (as compared to a simple precomputed list?). The answer is yes! We can see this in a variety of ways. To start, let's see that `groupby` returns two items: the group `key` and an `iterator`. This means that `groupy` by does _not_ precompute the groups and group contents! It must be accessed via `__next__()`. This is great since it gives us more control and prevents loading all contents of generator into memory unless we want to. Let's take a look at how it can be accessed:"
   ]
  },
  {
   "cell_type": "code",
   "execution_count": 359,
   "metadata": {},
   "outputs": [],
   "source": [
    "iterable = simple_generator(debug=True)\n",
    "grouped = groupby(iterable)"
   ]
  },
  {
   "cell_type": "code",
   "execution_count": 360,
   "metadata": {},
   "outputs": [
    {
     "name": "stdout",
     "output_type": "stream",
     "text": [
      "Generator hit and yielding a value\n",
      "Group Name: a\n",
      "Group a value:  a\n",
      "Generator hit and yielding a value\n",
      "Group a value:  a\n",
      "Generator hit and yielding a value\n",
      "Group a value:  a\n",
      "Generator hit and yielding a value\n",
      "Group a value:  a\n",
      "Generator hit and yielding a value\n",
      "\n",
      "\n",
      "Group Name: b\n",
      "Group b value:  b\n",
      "Generator hit and yielding a value\n",
      "Group b value:  b\n",
      "Generator hit and yielding a value\n",
      "Group b value:  b\n",
      "Generator hit and yielding a value\n",
      "Group b value:  b\n",
      "Generator hit and yielding a value\n",
      "\n",
      "\n",
      "Group Name: c\n",
      "Group c value:  c\n",
      "Generator hit and yielding a value\n",
      "Group c value:  c\n",
      "Generator hit and yielding a value\n",
      "Group c value:  c\n",
      "Generator hit and yielding a value\n",
      "\n",
      "\n"
     ]
    }
   ],
   "source": [
    "for group_name, group in grouped:\n",
    "    print(\"Group Name:\", group_name)\n",
    "    while True:\n",
    "        try:\n",
    "            print(f\"Group {group_name} value: \", group.__next__())\n",
    "        except StopIteration:\n",
    "            print(\"\\n\")\n",
    "            break"
   ]
  },
  {
   "cell_type": "markdown",
   "metadata": {},
   "source": [
    "We can also grab _all_ of the contents by advancing the iterator entirely to the end via `list`. This looks like:"
   ]
  },
  {
   "cell_type": "code",
   "execution_count": 361,
   "metadata": {},
   "outputs": [
    {
     "name": "stdout",
     "output_type": "stream",
     "text": [
      "Generator hit and yielding a value\n",
      "Generator hit and yielding a value\n",
      "Generator hit and yielding a value\n",
      "Generator hit and yielding a value\n",
      "Generator hit and yielding a value\n",
      "Group Name: a   Group contents: ['a', 'a', 'a', 'a']\n",
      "Generator hit and yielding a value\n",
      "Generator hit and yielding a value\n",
      "Generator hit and yielding a value\n",
      "Generator hit and yielding a value\n",
      "Group Name: b   Group contents: ['b', 'b', 'b', 'b']\n",
      "Generator hit and yielding a value\n",
      "Generator hit and yielding a value\n",
      "Generator hit and yielding a value\n",
      "Group Name: c   Group contents: ['c', 'c', 'c']\n"
     ]
    }
   ],
   "source": [
    "iterable = simple_generator(debug=True)\n",
    "grouped = groupby(iterable)\n",
    "\n",
    "for group_name, group in grouped:\n",
    "    print(\"Group Name:\", group_name, \"  Group contents:\", list(group))"
   ]
  },
  {
   "cell_type": "markdown",
   "metadata": {},
   "source": [
    "How does this work in the context of our example? Let's take a look via the `day_grouper` function and our `read_fake_data` function:"
   ]
  },
  {
   "cell_type": "code",
   "execution_count": 369,
   "metadata": {},
   "outputs": [],
   "source": [
    "data = read_fake_data(\"test\")\n",
    "data_day = day_grouper(data)"
   ]
  },
  {
   "cell_type": "code",
   "execution_count": 370,
   "metadata": {},
   "outputs": [
    {
     "data": {
      "text/plain": [
       "<itertools.groupby at 0x102d50e08>"
      ]
     },
     "execution_count": 370,
     "metadata": {},
     "output_type": "execute_result"
    }
   ],
   "source": [
    "iter(data_day)"
   ]
  },
  {
   "cell_type": "markdown",
   "metadata": {},
   "source": [
    "Remember, `data` is a generator and `data_day` is an `itertools.groupby` that is taking `data` as it's input iterable. In other words, `data_day` is a groupby that has taken a generator as an input. groupby returns an `itertools.groupby`, which is also an iterable:"
   ]
  },
  {
   "cell_type": "code",
   "execution_count": 371,
   "metadata": {},
   "outputs": [
    {
     "data": {
      "text/plain": [
       "True"
      ]
     },
     "execution_count": 371,
     "metadata": {},
     "output_type": "execute_result"
    }
   ],
   "source": [
    "type(iter(data_day)) == type(data_day)"
   ]
  },
  {
   "cell_type": "markdown",
   "metadata": {},
   "source": [
    "So, the `groupby` will be successively calling `__next__()` on the generator (an iterable), which will be yielding day/value tuple pairs:"
   ]
  },
  {
   "cell_type": "code",
   "execution_count": 372,
   "metadata": {},
   "outputs": [],
   "source": [
    "group_name, group_iterable = data_day.__next__()"
   ]
  },
  {
   "cell_type": "code",
   "execution_count": 373,
   "metadata": {},
   "outputs": [
    {
     "name": "stdout",
     "output_type": "stream",
     "text": [
      "1969-12-31\n",
      "<itertools._grouper object at 0x102cec400>\n"
     ]
    }
   ],
   "source": [
    "print(group_name)\n",
    "print(group_iterable)"
   ]
  },
  {
   "cell_type": "code",
   "execution_count": 374,
   "metadata": {},
   "outputs": [
    {
     "name": "stdout",
     "output_type": "stream",
     "text": [
      "(datetime.date(1969, 12, 31), -1.2140982362813253)\n"
     ]
    }
   ],
   "source": [
    "print(group_iterable.__next__())"
   ]
  },
  {
   "cell_type": "code",
   "execution_count": 375,
   "metadata": {},
   "outputs": [
    {
     "name": "stdout",
     "output_type": "stream",
     "text": [
      "(datetime.date(1969, 12, 31), -8.435549216466036)\n"
     ]
    }
   ],
   "source": [
    "print(group_iterable.__next__())"
   ]
  },
  {
   "cell_type": "code",
   "execution_count": 376,
   "metadata": {},
   "outputs": [
    {
     "name": "stdout",
     "output_type": "stream",
     "text": [
      "(datetime.date(1969, 12, 31), 2.5887059614629875)\n"
     ]
    }
   ],
   "source": [
    "print(group_iterable.__next__())"
   ]
  },
  {
   "cell_type": "code",
   "execution_count": 377,
   "metadata": {},
   "outputs": [
    {
     "name": "stdout",
     "output_type": "stream",
     "text": [
      "(datetime.date(1969, 12, 31), 8.36185095178034)\n"
     ]
    }
   ],
   "source": [
    "print(group_iterable.__next__())"
   ]
  },
  {
   "cell_type": "code",
   "execution_count": 379,
   "metadata": {},
   "outputs": [
    {
     "name": "stdout",
     "output_type": "stream",
     "text": [
      "(datetime.date(1969, 12, 31), 12.858924260744535)\n",
      "(datetime.date(1969, 12, 31), -8.102339986813885)\n",
      "(datetime.date(1969, 12, 31), 1.1281637632800638)\n",
      "(datetime.date(1969, 12, 31), 2.616516481219527)\n",
      "(datetime.date(1969, 12, 31), 0.5825416034689577)\n",
      "(datetime.date(1969, 12, 31), -5.475462044963013)\n",
      "(datetime.date(1969, 12, 31), 1.734426388223523)\n",
      "(datetime.date(1969, 12, 31), 2.8339230931639454)\n",
      "(datetime.date(1969, 12, 31), -0.4247739211417971)\n",
      "(datetime.date(1969, 12, 31), 9.731967617917219)\n"
     ]
    }
   ],
   "source": [
    "for pair in list(islice(group_iterable, 10)): \n",
    "    print(pair)"
   ]
  },
  {
   "cell_type": "markdown",
   "metadata": {},
   "source": [
    "Above, `group_iterable` contains all of the day/value tuple's for day (`group_name`) `datetime.date(1969, 12, 31)`. We can see that when `group_iterable.__next__()` is called, our `read_fake_data` yields a value by enabling `debug`:"
   ]
  },
  {
   "cell_type": "code",
   "execution_count": 397,
   "metadata": {},
   "outputs": [],
   "source": [
    "data = read_fake_data(\"test\", debug=True)\n",
    "data_day = day_grouper(data)"
   ]
  },
  {
   "cell_type": "code",
   "execution_count": 398,
   "metadata": {},
   "outputs": [
    {
     "name": "stdout",
     "output_type": "stream",
     "text": [
      "Yielding data point #0 from read_fake_data generator.\n"
     ]
    }
   ],
   "source": [
    "group_name, group_iterable = data_day.__next__()"
   ]
  },
  {
   "cell_type": "code",
   "execution_count": 400,
   "metadata": {},
   "outputs": [
    {
     "name": "stdout",
     "output_type": "stream",
     "text": [
      "Yielding data point #1 from read_fake_data generator.\n"
     ]
    },
    {
     "data": {
      "text/plain": [
       "(datetime.date(1969, 12, 31), -3.0773053343360584)"
      ]
     },
     "execution_count": 400,
     "metadata": {},
     "output_type": "execute_result"
    }
   ],
   "source": [
    "group_iterable.__next__()"
   ]
  },
  {
   "cell_type": "code",
   "execution_count": 401,
   "metadata": {},
   "outputs": [
    {
     "name": "stdout",
     "output_type": "stream",
     "text": [
      "Yielding data point #2 from read_fake_data generator.\n",
      "Yielding data point #3 from read_fake_data generator.\n",
      "Yielding data point #4 from read_fake_data generator.\n",
      "Yielding data point #5 from read_fake_data generator.\n",
      "Yielding data point #6 from read_fake_data generator.\n",
      "Yielding data point #7 from read_fake_data generator.\n",
      "Yielding data point #8 from read_fake_data generator.\n",
      "Yielding data point #9 from read_fake_data generator.\n",
      "Yielding data point #10 from read_fake_data generator.\n",
      "Yielding data point #11 from read_fake_data generator.\n",
      "(datetime.date(1969, 12, 31), -2.438625884470149)\n",
      "(datetime.date(1969, 12, 31), 1.4012717712493605)\n",
      "(datetime.date(1969, 12, 31), 4.99099942687332)\n",
      "(datetime.date(1969, 12, 31), -10.853344799696204)\n",
      "(datetime.date(1969, 12, 31), -4.363478914024846)\n",
      "(datetime.date(1969, 12, 31), 1.157289121329716)\n",
      "(datetime.date(1969, 12, 31), 0.8902768894172846)\n",
      "(datetime.date(1969, 12, 31), -2.7388773546196497)\n",
      "(datetime.date(1969, 12, 31), -1.4049422890990317)\n",
      "(datetime.date(1969, 12, 31), -10.17027772315578)\n"
     ]
    }
   ],
   "source": [
    "for pair in list(islice(group_iterable, 10)): \n",
    "    print(pair)"
   ]
  },
  {
   "cell_type": "markdown",
   "metadata": {},
   "source": [
    "One of the most important things to keep in mind with the `groupby` is that there are technically 2 iterables that we are dealing with. \n",
    "1. `data_day` is an iterable. Every time we call `data_day.__next__()` we are going to have the generator yield values, until the `key` no longer matches for the group. Again, this looks like:"
   ]
  },
  {
   "cell_type": "code",
   "execution_count": 445,
   "metadata": {},
   "outputs": [],
   "source": [
    "iterable = simple_generator(debug=True)\n",
    "grouped = groupby(iterable)"
   ]
  },
  {
   "cell_type": "code",
   "execution_count": 446,
   "metadata": {},
   "outputs": [
    {
     "name": "stdout",
     "output_type": "stream",
     "text": [
      "Generator hit and yielding a value\n",
      "('a', <itertools._grouper object at 0x102b5f1d0>)\n"
     ]
    }
   ],
   "source": [
    "a_group = grouped.__next__()\n",
    "print(a_group)"
   ]
  },
  {
   "cell_type": "markdown",
   "metadata": {},
   "source": [
    "We are now in the `a` group. `groupby` essentially allows `__next__()` to be called on `grouped`, and it will keep requesting values from the generator until the group no longer matches. At that point, it will return the new group, in this case `b`:"
   ]
  },
  {
   "cell_type": "code",
   "execution_count": 447,
   "metadata": {},
   "outputs": [
    {
     "name": "stdout",
     "output_type": "stream",
     "text": [
      "Generator hit and yielding a value\n",
      "Generator hit and yielding a value\n",
      "Generator hit and yielding a value\n",
      "Generator hit and yielding a value\n"
     ]
    },
    {
     "data": {
      "text/plain": [
       "('b', <itertools._grouper at 0x102d5f128>)"
      ]
     },
     "execution_count": 447,
     "metadata": {},
     "output_type": "execute_result"
    }
   ],
   "source": [
    "grouped.__next__()"
   ]
  },
  {
   "cell_type": "markdown",
   "metadata": {},
   "source": [
    "As expected, `b` is returned. If we call it again, `groupby` will continue requesting values from the generator until the `b` group is no longer matched (we expect to see 4 values), in this case returning the `c` group:"
   ]
  },
  {
   "cell_type": "code",
   "execution_count": 448,
   "metadata": {},
   "outputs": [
    {
     "name": "stdout",
     "output_type": "stream",
     "text": [
      "Generator hit and yielding a value\n",
      "Generator hit and yielding a value\n",
      "Generator hit and yielding a value\n",
      "Generator hit and yielding a value\n"
     ]
    },
    {
     "data": {
      "text/plain": [
       "('c', <itertools._grouper at 0x102b5f7f0>)"
      ]
     },
     "execution_count": 448,
     "metadata": {},
     "output_type": "execute_result"
    }
   ],
   "source": [
    "grouped.__next__()"
   ]
  },
  {
   "cell_type": "markdown",
   "metadata": {},
   "source": [
    "And calling `__next__()` a final time will yield the values from the generator where the group is `c`. This should be 3, and we should expect to stop at this point and have `None` returned, since the generator has been exhausted (meaning a `StopIteration` will be thrown):"
   ]
  },
  {
   "cell_type": "code",
   "execution_count": 449,
   "metadata": {},
   "outputs": [
    {
     "name": "stdout",
     "output_type": "stream",
     "text": [
      "Generator hit and yielding a value\n",
      "Generator hit and yielding a value\n",
      "Generator hit and yielding a value\n"
     ]
    },
    {
     "ename": "StopIteration",
     "evalue": "",
     "output_type": "error",
     "traceback": [
      "\u001b[0;31m---------------------------------------------------------------------------\u001b[0m",
      "\u001b[0;31mStopIteration\u001b[0m                             Traceback (most recent call last)",
      "\u001b[0;32m<ipython-input-449-62d2e6ab4aa1>\u001b[0m in \u001b[0;36m<module>\u001b[0;34m\u001b[0m\n\u001b[0;32m----> 1\u001b[0;31m \u001b[0mgrouped\u001b[0m\u001b[0;34m.\u001b[0m\u001b[0m__next__\u001b[0m\u001b[0;34m(\u001b[0m\u001b[0;34m)\u001b[0m\u001b[0;34m\u001b[0m\u001b[0m\n\u001b[0m",
      "\u001b[0;31mStopIteration\u001b[0m: "
     ]
    }
   ],
   "source": [
    "grouped.__next__()"
   ]
  },
  {
   "cell_type": "markdown",
   "metadata": {},
   "source": [
    "Note, to get a better understanding of generator _state_ let's look at the `a_group` tuple that was returned earlier: `('a', <itertools._grouper object at 0x102b5f1d0>)`. Can we call `__next__()` on the iterator that was returned, `a[0]`? "
   ]
  },
  {
   "cell_type": "code",
   "execution_count": 452,
   "metadata": {},
   "outputs": [
    {
     "ename": "StopIteration",
     "evalue": "",
     "output_type": "error",
     "traceback": [
      "\u001b[0;31m---------------------------------------------------------------------------\u001b[0m",
      "\u001b[0;31mStopIteration\u001b[0m                             Traceback (most recent call last)",
      "\u001b[0;32m<ipython-input-452-fbb114dba358>\u001b[0m in \u001b[0;36m<module>\u001b[0;34m\u001b[0m\n\u001b[0;32m----> 1\u001b[0;31m \u001b[0ma_group\u001b[0m\u001b[0;34m[\u001b[0m\u001b[0;36m1\u001b[0m\u001b[0;34m]\u001b[0m\u001b[0;34m.\u001b[0m\u001b[0m__next__\u001b[0m\u001b[0;34m(\u001b[0m\u001b[0;34m)\u001b[0m\u001b[0;34m\u001b[0m\u001b[0m\n\u001b[0m",
      "\u001b[0;31mStopIteration\u001b[0m: "
     ]
    }
   ],
   "source": [
    "a_group[1].__next__()"
   ]
  },
  {
   "cell_type": "markdown",
   "metadata": {},
   "source": [
    "No, we cannot! The generator (`simple_generator`) has been exhausted and has no more values to yield. The way that `groupby` works is that it will grab a value from the generator/iterable and start a new group. This looks like:\n",
    "\n",
    "```\n",
    "grouped = groupby(iterable)\n",
    "a_group = grouped.__next__()\n",
    "```\n",
    "\n",
    "This group that is returned, `a_group` above, will have a group name and iterable returned (that will gather group values). Via `__next__()`, `a_group[1]` will then continue to grab values from the generator/iterable where the group is present, and finally throw a `StopIteration` error when the group does not match. This causes a break to occur. Note, that **this is exhausting values from the generator**. In other words, the generator state is being updated and we cannot gather these values again at a later point in time. This can be seen in detail below:"
   ]
  },
  {
   "cell_type": "code",
   "execution_count": 453,
   "metadata": {},
   "outputs": [],
   "source": [
    "iterable = simple_generator(debug=True)\n",
    "grouped = groupby(iterable)"
   ]
  },
  {
   "cell_type": "code",
   "execution_count": 454,
   "metadata": {},
   "outputs": [
    {
     "name": "stdout",
     "output_type": "stream",
     "text": [
      "Generator hit and yielding a value\n"
     ]
    }
   ],
   "source": [
    "a_group = grouped.__next__()"
   ]
  },
  {
   "cell_type": "code",
   "execution_count": 456,
   "metadata": {},
   "outputs": [
    {
     "data": {
      "text/plain": [
       "'a'"
      ]
     },
     "execution_count": 456,
     "metadata": {},
     "output_type": "execute_result"
    }
   ],
   "source": [
    "a_group[1].__next__()"
   ]
  },
  {
   "cell_type": "code",
   "execution_count": 457,
   "metadata": {},
   "outputs": [
    {
     "name": "stdout",
     "output_type": "stream",
     "text": [
      "Generator hit and yielding a value\n"
     ]
    },
    {
     "data": {
      "text/plain": [
       "'a'"
      ]
     },
     "execution_count": 457,
     "metadata": {},
     "output_type": "execute_result"
    }
   ],
   "source": [
    "a_group[1].__next__()"
   ]
  },
  {
   "cell_type": "code",
   "execution_count": 458,
   "metadata": {},
   "outputs": [
    {
     "name": "stdout",
     "output_type": "stream",
     "text": [
      "Generator hit and yielding a value\n"
     ]
    },
    {
     "data": {
      "text/plain": [
       "'a'"
      ]
     },
     "execution_count": 458,
     "metadata": {},
     "output_type": "execute_result"
    }
   ],
   "source": [
    "a_group[1].__next__()"
   ]
  },
  {
   "cell_type": "code",
   "execution_count": 459,
   "metadata": {},
   "outputs": [
    {
     "name": "stdout",
     "output_type": "stream",
     "text": [
      "Generator hit and yielding a value\n"
     ]
    },
    {
     "data": {
      "text/plain": [
       "'a'"
      ]
     },
     "execution_count": 459,
     "metadata": {},
     "output_type": "execute_result"
    }
   ],
   "source": [
    "a_group[1].__next__()"
   ]
  },
  {
   "cell_type": "code",
   "execution_count": 460,
   "metadata": {},
   "outputs": [
    {
     "name": "stdout",
     "output_type": "stream",
     "text": [
      "Generator hit and yielding a value\n"
     ]
    },
    {
     "ename": "StopIteration",
     "evalue": "",
     "output_type": "error",
     "traceback": [
      "\u001b[0;31m---------------------------------------------------------------------------\u001b[0m",
      "\u001b[0;31mStopIteration\u001b[0m                             Traceback (most recent call last)",
      "\u001b[0;32m<ipython-input-460-fbb114dba358>\u001b[0m in \u001b[0;36m<module>\u001b[0;34m\u001b[0m\n\u001b[0;32m----> 1\u001b[0;31m \u001b[0ma_group\u001b[0m\u001b[0;34m[\u001b[0m\u001b[0;36m1\u001b[0m\u001b[0;34m]\u001b[0m\u001b[0;34m.\u001b[0m\u001b[0m__next__\u001b[0m\u001b[0;34m(\u001b[0m\u001b[0;34m)\u001b[0m\u001b[0;34m\u001b[0m\u001b[0m\n\u001b[0m",
      "\u001b[0;31mStopIteration\u001b[0m: "
     ]
    }
   ],
   "source": [
    "a_group[1].__next__()"
   ]
  },
  {
   "cell_type": "markdown",
   "metadata": {},
   "source": [
    "We see that four times `Generator hit and yielding a value` is printed, meaning out generator is hit and yields a value. The final time, it is hit, but the value is `b` and our group is `a`, so a `StopIteration` error is thrown. "
   ]
  },
  {
   "cell_type": "markdown",
   "metadata": {},
   "source": [
    "# 3. `check_anomaly`\n",
    "How does `check_anomaly` fit into all of this? Well, let's start by passing it a single `day_data_tuple` as input:"
   ]
  },
  {
   "cell_type": "code",
   "execution_count": 461,
   "metadata": {},
   "outputs": [],
   "source": [
    "def check_anomaly(day_data_tuple):\n",
    "    \"\"\"\n",
    "    Find mean, std, and maximum values for the day. Using a single pass (online)\n",
    "    mean/std algorithm allows us to only read through the day's data once.\n",
    "\n",
    "    Note: M2 = 2nd moment, variance\n",
    "          day_data is an iterable, returned from groupby, and we request values via for loop\n",
    "    \"\"\"\n",
    "    (day, day_data) = day_data_tuple\n",
    "\n",
    "    n = 0\n",
    "    mean = 0\n",
    "    M2 = 0\n",
    "    max_value = 0\n",
    "    for timestamp, value in day_data:\n",
    "        n += 1\n",
    "        delta = value - mean\n",
    "        mean = mean + (delta / n)\n",
    "        M2 += delta * (value - mean)\n",
    "        max_value = max(max_value, value)\n",
    "    variance = M2 / (n - 1)\n",
    "    standard_deviation = math.sqrt(variance)\n",
    "\n",
    "    # Check if day's data is anomalous, if True return day\n",
    "    if max_value > mean + 6 * standard_deviation:\n",
    "        return day\n",
    "    return False"
   ]
  },
  {
   "cell_type": "markdown",
   "metadata": {},
   "source": [
    "What does `day_data_tuple` look like? Well, it is essentially a single group with the key being the day and all of it's associated values. Specifically it a tuple, shown below as `day_1_tuple`. It is returned from `day_grouper`. It looks like:"
   ]
  },
  {
   "cell_type": "code",
   "execution_count": 485,
   "metadata": {},
   "outputs": [],
   "source": [
    "data = read_fake_data(\"test\", debug=True)\n",
    "data_day = day_grouper(data)"
   ]
  },
  {
   "cell_type": "code",
   "execution_count": 486,
   "metadata": {},
   "outputs": [
    {
     "name": "stdout",
     "output_type": "stream",
     "text": [
      "Yielding data point #0 from read_fake_data generator.\n"
     ]
    }
   ],
   "source": [
    "day_1_tuple = data_day.__next__()"
   ]
  },
  {
   "cell_type": "code",
   "execution_count": 489,
   "metadata": {},
   "outputs": [
    {
     "data": {
      "text/plain": [
       "(datetime.date(1969, 12, 31), <itertools._grouper at 0x102b5fb70>)"
      ]
     },
     "execution_count": 489,
     "metadata": {},
     "output_type": "execute_result"
    }
   ],
   "source": [
    "day_1_tuple"
   ]
  },
  {
   "cell_type": "markdown",
   "metadata": {},
   "source": [
    "At index 1 we see that `day_1_tuple` has an iterator. This iterator will request values from our fake data generator, continually yielding them until the day no longer matches the group date (`datetime.date(1969, 12, 31)` above). These values can be accessed via a `for` loop, shown below. Note, `i` is only used to avoid printing 25000+ values:"
   ]
  },
  {
   "cell_type": "code",
   "execution_count": 488,
   "metadata": {},
   "outputs": [
    {
     "name": "stdout",
     "output_type": "stream",
     "text": [
      "Day: 1969-12-31 Value: -8.928451135335273 \n",
      "\n",
      "Yielding data point #1 from read_fake_data generator.\n",
      "Day: 1969-12-31 Value: -2.6842722720032413 \n",
      "\n",
      "Yielding data point #2 from read_fake_data generator.\n",
      "Day: 1969-12-31 Value: 1.988017533134936 \n",
      "\n",
      "Yielding data point #3 from read_fake_data generator.\n",
      "Day: 1969-12-31 Value: -4.318303288053731 \n",
      "\n",
      "Yielding data point #4 from read_fake_data generator.\n",
      "Day: 1969-12-31 Value: 1.2756273714792294 \n",
      "\n",
      "Yielding data point #5 from read_fake_data generator.\n",
      "Day: 1969-12-31 Value: -3.6213015089109053 \n",
      "\n",
      "Yielding data point #6 from read_fake_data generator.\n",
      "Day: 1969-12-31 Value: -5.295121946930241 \n",
      "\n",
      "Yielding data point #7 from read_fake_data generator.\n",
      "Day: 1969-12-31 Value: 4.571744935215041 \n",
      "\n",
      "Yielding data point #8 from read_fake_data generator.\n",
      "Day: 1969-12-31 Value: -0.9216798216394321 \n",
      "\n",
      "Yielding data point #9 from read_fake_data generator.\n",
      "Day: 1969-12-31 Value: -5.16559247678084 \n",
      "\n",
      "Yielding data point #10 from read_fake_data generator.\n",
      "Day: 1969-12-31 Value: 16.3491591472332 \n",
      "\n",
      "Yielding data point #11 from read_fake_data generator.\n"
     ]
    }
   ],
   "source": [
    "i = 0\n",
    "for timestamp, value in day_1_tuple[1]:\n",
    "    if i > 10:\n",
    "        break\n",
    "    print(\"Day:\", timestamp, \"Value:\", value, \"\\n\")\n",
    "    i += 1"
   ]
  },
  {
   "cell_type": "markdown",
   "metadata": {},
   "source": [
    "A minor implementation detail: see that the first `timestamp` and `value` printed, `Day: 1969-12-31 Value: -8.928451135335273`, do not also print `Yielding data point #0 from read_fake_data generator.`; this is because this value was already yielded from the generator and stored temporarily by `groupby` in the background. Because this is a generator, we cannot request it again, so there is no call the the fake data generator here. \n",
    "\n",
    "So, `check_anomaly` will be using a `for` loop to essentially call `__next__()` on the iterator contained in `day_data_tuple` (`day_data_tuple[1]`). We can see this in action below:"
   ]
  },
  {
   "cell_type": "code",
   "execution_count": 503,
   "metadata": {},
   "outputs": [
    {
     "data": {
      "text/plain": [
       "False"
      ]
     },
     "execution_count": 503,
     "metadata": {},
     "output_type": "execute_result"
    }
   ],
   "source": [
    "data = read_fake_data(\"test\", debug=False)\n",
    "data_day = day_grouper(data)\n",
    "\n",
    "day_1_tuple = data_day.__next__()\n",
    "\n",
    "check_anomaly(day_1_tuple)"
   ]
  },
  {
   "cell_type": "code",
   "execution_count": 506,
   "metadata": {},
   "outputs": [
    {
     "data": {
      "text/plain": [
       "datetime.date(1969, 12, 31)"
      ]
     },
     "execution_count": 506,
     "metadata": {},
     "output_type": "execute_result"
    }
   ],
   "source": [
    "data = read_fake_data(\"test\", debug=False)\n",
    "data_day = day_grouper(data)\n",
    "\n",
    "day_tuple = data_day.__next__()\n",
    "\n",
    "check_anomaly(day_tuple)"
   ]
  },
  {
   "cell_type": "markdown",
   "metadata": {},
   "source": [
    "Above we have examples of where we found anomalous dates, and where we did not. In both cases, we are passing in the return tuple from `groupby`, which again returns a tuple of the shape: `(<group key>, <iterable which we can call __next__() on to get group contents>)`."
   ]
  },
  {
   "cell_type": "markdown",
   "metadata": {},
   "source": [
    "# 4. `filter` and `map` application"
   ]
  },
  {
   "cell_type": "code",
   "execution_count": null,
   "metadata": {},
   "outputs": [],
   "source": []
  }
 ],
 "metadata": {
  "kernelspec": {
   "display_name": "Python 3",
   "language": "python",
   "name": "python3"
  },
  "language_info": {
   "codemirror_mode": {
    "name": "ipython",
    "version": 3
   },
   "file_extension": ".py",
   "mimetype": "text/x-python",
   "name": "python",
   "nbconvert_exporter": "python",
   "pygments_lexer": "ipython3",
   "version": "3.6.2"
  }
 },
 "nbformat": 4,
 "nbformat_minor": 2
}
