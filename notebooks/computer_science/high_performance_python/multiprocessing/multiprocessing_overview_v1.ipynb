{
 "cells": [
  {
   "cell_type": "markdown",
   "metadata": {},
   "source": [
    "# Basic multiprocessing implementation "
   ]
  },
  {
   "cell_type": "code",
   "execution_count": 6,
   "metadata": {},
   "outputs": [],
   "source": [
    "import time\n",
    "import multiprocessing\n",
    "from multiprocessing import Process, Queue\n",
    "\n",
    "import pandas as pd\n",
    "import numpy as np"
   ]
  },
  {
   "cell_type": "code",
   "execution_count": 2,
   "metadata": {},
   "outputs": [],
   "source": [
    "def do_some_computation(q_in, q_out):\n",
    "    pid = multiprocessing.current_process().pid\n",
    "\n",
    "    data_in = q_in.get()\n",
    "\n",
    "    while data_in:\n",
    "        q_out.put(data_in + 'UPDATED!')\n",
    "        \n",
    "        data_in = q_in.get()\n",
    "        \n",
    "        \n",
    "def orchestrate_processors():\n",
    "    \n",
    "    data_queue, return_queue = Queue(1), Queue()\n",
    "    nproc = multiprocessing.cpu_count()\n",
    "    print('Number of cpus: ', nproc)\n",
    "    \n",
    "    procs = [Process(target=do_some_computation, args=(data_queue, return_queue,)) for x in range(nproc)]\n",
    "\n",
    "    for p in procs:\n",
    "        p.start()\n",
    "    \n",
    "    process_return_data_structure = []\n",
    "    running = 0\n",
    "    counter = 1\n",
    "    while True:\n",
    "        if counter > 40 and return_queue.empty():\n",
    "            break\n",
    "        if running < nproc:\n",
    "            data_queue.put(f'String for index {counter}')\n",
    "            counter += 1\n",
    "            running += 1\n",
    "        else:\n",
    "            time.sleep(0.1)\n",
    "        while not return_queue.empty():\n",
    "            return_from_process = return_queue.get()\n",
    "            running -= 1\n",
    "            process_return_data_structure.append(return_from_process)\n",
    "\n",
    "    for x in procs:\n",
    "        data_queue.put(False)\n",
    "    for proc in procs:\n",
    "        proc.join()\n",
    "        \n",
    "    return process_return_data_structure\n"
   ]
  },
  {
   "cell_type": "code",
   "execution_count": 3,
   "metadata": {},
   "outputs": [
    {
     "name": "stdout",
     "output_type": "stream",
     "text": [
      "Number of cpus:  32\n"
     ]
    }
   ],
   "source": [
    "output = orchestrate_processors()"
   ]
  },
  {
   "cell_type": "code",
   "execution_count": 4,
   "metadata": {},
   "outputs": [
    {
     "data": {
      "text/plain": [
       "39"
      ]
     },
     "execution_count": 4,
     "metadata": {},
     "output_type": "execute_result"
    }
   ],
   "source": [
    "#output\n",
    "len(output)"
   ]
  },
  {
   "cell_type": "markdown",
   "metadata": {},
   "source": [
    "# Multiprocessing of Dataframe (via a groupby)"
   ]
  },
  {
   "cell_type": "code",
   "execution_count": 13,
   "metadata": {},
   "outputs": [],
   "source": [
    "n = 10000\n",
    "\n",
    "df = pd.DataFrame({\n",
    "    'id': np.arange(0, n, 1),\n",
    "    'color': np.random.choice(['red', 'blue', 'green', 'yellow'], size=n),\n",
    "    'method': np.random.choice(['cash', 'credit'], size=n),\n",
    "    'price': np.random.normal(size=n) + 100 \n",
    "})"
   ]
  },
  {
   "cell_type": "code",
   "execution_count": 14,
   "metadata": {},
   "outputs": [
    {
     "data": {
      "text/html": [
       "<div>\n",
       "<style scoped>\n",
       "    .dataframe tbody tr th:only-of-type {\n",
       "        vertical-align: middle;\n",
       "    }\n",
       "\n",
       "    .dataframe tbody tr th {\n",
       "        vertical-align: top;\n",
       "    }\n",
       "\n",
       "    .dataframe thead th {\n",
       "        text-align: right;\n",
       "    }\n",
       "</style>\n",
       "<table border=\"1\" class=\"dataframe\">\n",
       "  <thead>\n",
       "    <tr style=\"text-align: right;\">\n",
       "      <th></th>\n",
       "      <th>id</th>\n",
       "      <th>color</th>\n",
       "      <th>method</th>\n",
       "      <th>price</th>\n",
       "    </tr>\n",
       "  </thead>\n",
       "  <tbody>\n",
       "    <tr>\n",
       "      <th>0</th>\n",
       "      <td>0</td>\n",
       "      <td>blue</td>\n",
       "      <td>credit</td>\n",
       "      <td>99.418801</td>\n",
       "    </tr>\n",
       "    <tr>\n",
       "      <th>1</th>\n",
       "      <td>1</td>\n",
       "      <td>yellow</td>\n",
       "      <td>credit</td>\n",
       "      <td>99.721372</td>\n",
       "    </tr>\n",
       "    <tr>\n",
       "      <th>2</th>\n",
       "      <td>2</td>\n",
       "      <td>red</td>\n",
       "      <td>credit</td>\n",
       "      <td>99.088344</td>\n",
       "    </tr>\n",
       "    <tr>\n",
       "      <th>3</th>\n",
       "      <td>3</td>\n",
       "      <td>red</td>\n",
       "      <td>credit</td>\n",
       "      <td>102.255027</td>\n",
       "    </tr>\n",
       "    <tr>\n",
       "      <th>4</th>\n",
       "      <td>4</td>\n",
       "      <td>red</td>\n",
       "      <td>cash</td>\n",
       "      <td>100.042368</td>\n",
       "    </tr>\n",
       "    <tr>\n",
       "      <th>...</th>\n",
       "      <td>...</td>\n",
       "      <td>...</td>\n",
       "      <td>...</td>\n",
       "      <td>...</td>\n",
       "    </tr>\n",
       "    <tr>\n",
       "      <th>9995</th>\n",
       "      <td>9995</td>\n",
       "      <td>green</td>\n",
       "      <td>credit</td>\n",
       "      <td>100.066886</td>\n",
       "    </tr>\n",
       "    <tr>\n",
       "      <th>9996</th>\n",
       "      <td>9996</td>\n",
       "      <td>blue</td>\n",
       "      <td>cash</td>\n",
       "      <td>100.491765</td>\n",
       "    </tr>\n",
       "    <tr>\n",
       "      <th>9997</th>\n",
       "      <td>9997</td>\n",
       "      <td>yellow</td>\n",
       "      <td>credit</td>\n",
       "      <td>99.962566</td>\n",
       "    </tr>\n",
       "    <tr>\n",
       "      <th>9998</th>\n",
       "      <td>9998</td>\n",
       "      <td>green</td>\n",
       "      <td>credit</td>\n",
       "      <td>100.524023</td>\n",
       "    </tr>\n",
       "    <tr>\n",
       "      <th>9999</th>\n",
       "      <td>9999</td>\n",
       "      <td>blue</td>\n",
       "      <td>credit</td>\n",
       "      <td>100.237512</td>\n",
       "    </tr>\n",
       "  </tbody>\n",
       "</table>\n",
       "<p>10000 rows × 4 columns</p>\n",
       "</div>"
      ],
      "text/plain": [
       "        id   color  method       price\n",
       "0        0    blue  credit   99.418801\n",
       "1        1  yellow  credit   99.721372\n",
       "2        2     red  credit   99.088344\n",
       "3        3     red  credit  102.255027\n",
       "4        4     red    cash  100.042368\n",
       "...    ...     ...     ...         ...\n",
       "9995  9995   green  credit  100.066886\n",
       "9996  9996    blue    cash  100.491765\n",
       "9997  9997  yellow  credit   99.962566\n",
       "9998  9998   green  credit  100.524023\n",
       "9999  9999    blue  credit  100.237512\n",
       "\n",
       "[10000 rows x 4 columns]"
      ]
     },
     "execution_count": 14,
     "metadata": {},
     "output_type": "execute_result"
    }
   ],
   "source": [
    "df"
   ]
  },
  {
   "cell_type": "code",
   "execution_count": 15,
   "metadata": {},
   "outputs": [
    {
     "data": {
      "text/html": [
       "<div>\n",
       "<style scoped>\n",
       "    .dataframe tbody tr th:only-of-type {\n",
       "        vertical-align: middle;\n",
       "    }\n",
       "\n",
       "    .dataframe tbody tr th {\n",
       "        vertical-align: top;\n",
       "    }\n",
       "\n",
       "    .dataframe thead th {\n",
       "        text-align: right;\n",
       "    }\n",
       "</style>\n",
       "<table border=\"1\" class=\"dataframe\">\n",
       "  <thead>\n",
       "    <tr style=\"text-align: right;\">\n",
       "      <th></th>\n",
       "      <th>color</th>\n",
       "      <th>price</th>\n",
       "      <th>method</th>\n",
       "    </tr>\n",
       "  </thead>\n",
       "  <tbody>\n",
       "    <tr>\n",
       "      <th>0</th>\n",
       "      <td>blue</td>\n",
       "      <td>100.010925</td>\n",
       "      <td>cash</td>\n",
       "    </tr>\n",
       "    <tr>\n",
       "      <th>1</th>\n",
       "      <td>green</td>\n",
       "      <td>99.997698</td>\n",
       "      <td>cash</td>\n",
       "    </tr>\n",
       "    <tr>\n",
       "      <th>2</th>\n",
       "      <td>red</td>\n",
       "      <td>99.994406</td>\n",
       "      <td>cash</td>\n",
       "    </tr>\n",
       "    <tr>\n",
       "      <th>3</th>\n",
       "      <td>yellow</td>\n",
       "      <td>100.023259</td>\n",
       "      <td>credit</td>\n",
       "    </tr>\n",
       "  </tbody>\n",
       "</table>\n",
       "</div>"
      ],
      "text/plain": [
       "    color       price  method\n",
       "0    blue  100.010925    cash\n",
       "1   green   99.997698    cash\n",
       "2     red   99.994406    cash\n",
       "3  yellow  100.023259  credit"
      ]
     },
     "execution_count": 15,
     "metadata": {},
     "output_type": "execute_result"
    }
   ],
   "source": [
    "df2 = df.groupby('color').agg({'price': 'mean', 'method': lambda x:x.value_counts().index[0]})\n",
    "test1 = df2.reset_index()\n",
    "test1"
   ]
  },
  {
   "cell_type": "code",
   "execution_count": 16,
   "metadata": {},
   "outputs": [],
   "source": [
    "def process_group(q_in, q_out):\n",
    "    pid = multiprocessing.current_process().pid\n",
    "\n",
    "    data_in = q_in.get()\n",
    "    \n",
    "    while type(data_in) == pd.DataFrame:\n",
    "        group = data_in\n",
    "        \n",
    "        mean_price = group.price.mean()\n",
    "        mode_method = group.method.value_counts().index[0]\n",
    "        row = pd.DataFrame({'color': [group.color.iloc[0]], 'mean_price': [mean_price], 'mode_method': [mode_method]})\n",
    "        \n",
    "        q_out.put(row)\n",
    "            \n",
    "        data_in = q_in.get()\n",
    "\n",
    "    \n",
    "def orchestrate_df_creation(df):\n",
    "    \n",
    "    data_queue, return_queue = Queue(1), Queue()\n",
    "    \n",
    "    nproc = multiprocessing.cpu_count()\n",
    "    \n",
    "    procs = [Process(target=process_group, args=(data_queue, return_queue,)) for x in range(nproc)]\n",
    "\n",
    "    for p in procs:\n",
    "        p.start()\n",
    "    \n",
    "    df_row_list = []\n",
    "    running = 0    \n",
    "    \n",
    "    groups = df.groupby('color')\n",
    "    num_groups = len(groups)\n",
    "    groups_processed_index = 0\n",
    "    \n",
    "    while True:\n",
    "        \n",
    "        if groups_processed_index == num_groups and running == 0:\n",
    "            break\n",
    "\n",
    "        if running < nproc and groups_processed_index < num_groups:\n",
    "            group_key = list(groups.groups.keys())[groups_processed_index]\n",
    "            data_queue.put(groups.get_group(group_key))\n",
    "            running += 1\n",
    "            groups_processed_index +=1\n",
    "        else:\n",
    "            time.sleep(0.1)\n",
    "\n",
    "        while not return_queue.empty():\n",
    "            output_row = return_queue.get()\n",
    "            running -= 1\n",
    "            df_row_list.append(output_row)\n",
    "\n",
    "    for x in procs:\n",
    "        data_queue.put(False)\n",
    "    for proc in procs:\n",
    "        proc.join()\n",
    "\n",
    "    return df_row_list\n"
   ]
  },
  {
   "cell_type": "code",
   "execution_count": 17,
   "metadata": {},
   "outputs": [
    {
     "name": "stdout",
     "output_type": "stream",
     "text": [
      "CPU times: user 13.2 ms, sys: 86.7 ms, total: 99.9 ms\n",
      "Wall time: 204 ms\n"
     ]
    }
   ],
   "source": [
    "%%time\n",
    "df_row_list = orchestrate_df_creation(df)"
   ]
  },
  {
   "cell_type": "code",
   "execution_count": 18,
   "metadata": {},
   "outputs": [
    {
     "data": {
      "text/html": [
       "<div>\n",
       "<style scoped>\n",
       "    .dataframe tbody tr th:only-of-type {\n",
       "        vertical-align: middle;\n",
       "    }\n",
       "\n",
       "    .dataframe tbody tr th {\n",
       "        vertical-align: top;\n",
       "    }\n",
       "\n",
       "    .dataframe thead th {\n",
       "        text-align: right;\n",
       "    }\n",
       "</style>\n",
       "<table border=\"1\" class=\"dataframe\">\n",
       "  <thead>\n",
       "    <tr style=\"text-align: right;\">\n",
       "      <th></th>\n",
       "      <th>color</th>\n",
       "      <th>mean_price</th>\n",
       "      <th>mode_method</th>\n",
       "    </tr>\n",
       "  </thead>\n",
       "  <tbody>\n",
       "    <tr>\n",
       "      <th>0</th>\n",
       "      <td>blue</td>\n",
       "      <td>100.010925</td>\n",
       "      <td>cash</td>\n",
       "    </tr>\n",
       "    <tr>\n",
       "      <th>1</th>\n",
       "      <td>green</td>\n",
       "      <td>99.997698</td>\n",
       "      <td>cash</td>\n",
       "    </tr>\n",
       "    <tr>\n",
       "      <th>2</th>\n",
       "      <td>red</td>\n",
       "      <td>99.994406</td>\n",
       "      <td>cash</td>\n",
       "    </tr>\n",
       "    <tr>\n",
       "      <th>3</th>\n",
       "      <td>yellow</td>\n",
       "      <td>100.023259</td>\n",
       "      <td>credit</td>\n",
       "    </tr>\n",
       "  </tbody>\n",
       "</table>\n",
       "</div>"
      ],
      "text/plain": [
       "    color  mean_price mode_method\n",
       "0    blue  100.010925        cash\n",
       "1   green   99.997698        cash\n",
       "2     red   99.994406        cash\n",
       "3  yellow  100.023259      credit"
      ]
     },
     "execution_count": 18,
     "metadata": {},
     "output_type": "execute_result"
    }
   ],
   "source": [
    "test2 = pd.concat(df_row_list).set_index(pd.Index(np.arange(0,len(df_row_list),1)))\n",
    "test2"
   ]
  },
  {
   "cell_type": "code",
   "execution_count": null,
   "metadata": {},
   "outputs": [],
   "source": []
  },
  {
   "cell_type": "code",
   "execution_count": null,
   "metadata": {},
   "outputs": [],
   "source": []
  },
  {
   "cell_type": "code",
   "execution_count": null,
   "metadata": {},
   "outputs": [],
   "source": []
  }
 ],
 "metadata": {
  "kernelspec": {
   "display_name": "Python 3",
   "language": "python",
   "name": "python3"
  },
  "language_info": {
   "codemirror_mode": {
    "name": "ipython",
    "version": 3
   },
   "file_extension": ".py",
   "mimetype": "text/x-python",
   "name": "python",
   "nbconvert_exporter": "python",
   "pygments_lexer": "ipython3",
   "version": "3.7.5"
  }
 },
 "nbformat": 4,
 "nbformat_minor": 4
}
