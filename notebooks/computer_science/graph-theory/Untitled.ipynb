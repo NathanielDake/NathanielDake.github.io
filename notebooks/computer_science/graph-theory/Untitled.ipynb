{
 "cells": [
  {
   "cell_type": "code",
   "execution_count": null,
   "metadata": {},
   "outputs": [],
   "source": [
    "import networkx as nx\n",
    "import numpy as np\n",
    "import copy"
   ]
  },
  {
   "cell_type": "code",
   "execution_count": null,
   "metadata": {},
   "outputs": [],
   "source": [
    "N = 10\n",
    "P = .25\n",
    "G = nx.fast_gnp_random_graph(n=N, p=P)"
   ]
  },
  {
   "cell_type": "code",
   "execution_count": null,
   "metadata": {},
   "outputs": [],
   "source": [
    "nx.draw(G)"
   ]
  },
  {
   "cell_type": "code",
   "execution_count": null,
   "metadata": {},
   "outputs": [],
   "source": [
    "sorted(G.degree, key=lambda x: x[1], reverse=True)"
   ]
  },
  {
   "cell_type": "code",
   "execution_count": null,
   "metadata": {},
   "outputs": [],
   "source": [
    "def reduce_graph(G, ignore_nodes=None):\n",
    "    ignore_nodes = ignore_nodes if ignore_nodes else []\n",
    "    g = copy.deepcopy(G)\n",
    "    # Find highest degree node that hasn't already been reduced\n",
    "    n0 = next((x for x in sorted(g.degree, key=lambda x: x[1], reverse=True) if x[0] not in ignore_nodes), (None, None))[0]\n",
    "    if not n0:\n",
    "        return g\n",
    "    # find all nearest neighbors to n0 ... \n",
    "    neighbors = [x for x in g[n0] if x not in ignore_nodes]\n",
    "    if not neighbors:\n",
    "        return g\n",
    "    # ... attach all of their connections to n0 and then delete the nearest neighbors\n",
    "    for n in neighbors:\n",
    "        nnn = [x for x in g[n] if x not in neighbors]\n",
    "        if nnn:\n",
    "            for nn in g[n]:\n",
    "                g.add_edge(nn, n0)\n",
    "            g.remove_node(n)\n",
    "    return reduce_graph(g, ignore_nodes=ignore_nodes + [n0])"
   ]
  },
  {
   "cell_type": "code",
   "execution_count": null,
   "metadata": {},
   "outputs": [],
   "source": [
    "reduced_G = reduce_graph(G)"
   ]
  },
  {
   "cell_type": "code",
   "execution_count": null,
   "metadata": {},
   "outputs": [],
   "source": [
    "nx.draw(reduced_G)"
   ]
  },
  {
   "cell_type": "code",
   "execution_count": null,
   "metadata": {},
   "outputs": [],
   "source": [
    "len(G) - len(reduced_G) # Number of redundant patterns"
   ]
  },
  {
   "cell_type": "code",
   "execution_count": null,
   "metadata": {},
   "outputs": [],
   "source": []
  }
 ],
 "metadata": {
  "kernelspec": {
   "display_name": "Python 3",
   "language": "python",
   "name": "python3"
  },
  "language_info": {
   "codemirror_mode": {
    "name": "ipython",
    "version": 3
   },
   "file_extension": ".py",
   "mimetype": "text/x-python",
   "name": "python",
   "nbconvert_exporter": "python",
   "pygments_lexer": "ipython3",
   "version": "3.7.1"
  }
 },
 "nbformat": 4,
 "nbformat_minor": 4
}
