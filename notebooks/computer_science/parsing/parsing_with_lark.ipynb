{
 "cells": [
  {
   "cell_type": "code",
   "execution_count": 7,
   "id": "21eb26e9-06a2-4b3c-81e7-4ddb525db404",
   "metadata": {},
   "outputs": [],
   "source": [
    "# !pip install lark\n",
    "\n",
    "from lark import Lark"
   ]
  },
  {
   "cell_type": "code",
   "execution_count": 8,
   "id": "f56f7af8-5a8f-4a53-bc7f-c723c978c047",
   "metadata": {},
   "outputs": [],
   "source": [
    "GRAMMAR = r\"\"\"\n",
    "    value: dict\n",
    "         | list\n",
    "         | ESCAPED_STRING\n",
    "         | SIGNED_NUMBER\n",
    "         | \"true\" | \"false\" | \"null\"\n",
    "\n",
    "    list : \"[\" [value (\",\" value)*] \"]\"\n",
    "\n",
    "    dict : \"{\" [pair (\",\" pair)*] \"}\"\n",
    "    pair : ESCAPED_STRING \":\" value\n",
    "\n",
    "    %import common.ESCAPED_STRING\n",
    "    %import common.SIGNED_NUMBER\n",
    "    %import common.WS\n",
    "    %ignore WS\n",
    "\n",
    "    \"\"\""
   ]
  },
  {
   "cell_type": "code",
   "execution_count": 9,
   "id": "d1aed012-9c3a-4097-bbd3-62ff7732e97f",
   "metadata": {},
   "outputs": [],
   "source": [
    "json_parser = Lark(GRAMMAR, start='value')"
   ]
  },
  {
   "cell_type": "code",
   "execution_count": 10,
   "id": "4ee88fd3-fe8d-4157-8fdd-0180a3bf7b0b",
   "metadata": {},
   "outputs": [],
   "source": [
    "text = '{\"key\": [\"item0\", \"item1\", 3.14]}'"
   ]
  },
  {
   "cell_type": "code",
   "execution_count": 12,
   "id": "00543d23-1868-457b-b1b2-6657b13b3869",
   "metadata": {},
   "outputs": [
    {
     "data": {
      "text/plain": [
       "Tree('value', [Tree('dict', [Tree('pair', [Token('ESCAPED_STRING', '\"key\"'), Tree('value', [Tree('list', [Tree('value', [Token('ESCAPED_STRING', '\"item0\"')]), Tree('value', [Token('ESCAPED_STRING', '\"item1\"')]), Tree('value', [Token('SIGNED_NUMBER', '3.14')])])])])])])"
      ]
     },
     "execution_count": 12,
     "metadata": {},
     "output_type": "execute_result"
    }
   ],
   "source": [
    "mytree = json_parser.parse(text)\n",
    "mytree"
   ]
  },
  {
   "cell_type": "code",
   "execution_count": 14,
   "id": "c0ba0086-bd44-4a4f-8e24-38df607b3ab4",
   "metadata": {},
   "outputs": [
    {
     "name": "stdout",
     "output_type": "stream",
     "text": [
      "value\n",
      "  dict\n",
      "    pair\n",
      "      \"key\"\n",
      "      value\n",
      "        list\n",
      "          value\t\"item0\"\n",
      "          value\t\"item1\"\n",
      "          value\t3.14\n",
      "\n"
     ]
    }
   ],
   "source": [
    "print(mytree.pretty())"
   ]
  },
  {
   "cell_type": "markdown",
   "id": "28e49c09-0718-4a88-b18f-acf598f326f5",
   "metadata": {},
   "source": [
    "### Shaping the tree"
   ]
  },
  {
   "cell_type": "code",
   "execution_count": 80,
   "id": "f9143453-ba54-4b4b-a71d-64db1e528bd6",
   "metadata": {},
   "outputs": [],
   "source": [
    "GRAMMAR = r\"\"\"\n",
    "    ?value: dict\n",
    "          | list\n",
    "          | string\n",
    "          | SIGNED_NUMBER      -> number\n",
    "          | \"true\"             -> true\n",
    "          | \"false\"            -> false\n",
    "          | \"null\"             -> null\n",
    "\n",
    "    list : \"[\" [value (\",\" value)*] \"]\"\n",
    "\n",
    "    dict : \"{\" [pair (\",\" pair)*] \"}\"\n",
    "    pair : string \":\" value\n",
    "\n",
    "    string : ESCAPED_STRING\n",
    "\n",
    "    %import common.ESCAPED_STRING\n",
    "    %import common.SIGNED_NUMBER\n",
    "    %import common.WS\n",
    "    %ignore WS\n",
    "\n",
    "    \"\"\""
   ]
  },
  {
   "cell_type": "code",
   "execution_count": 81,
   "id": "04f94992-a247-4c81-adb4-63678ad00055",
   "metadata": {},
   "outputs": [],
   "source": [
    "json_parser = Lark(GRAMMAR, start='value')"
   ]
  },
  {
   "cell_type": "code",
   "execution_count": 82,
   "id": "e7799582-a396-4087-bf6b-4207bb26e552",
   "metadata": {},
   "outputs": [],
   "source": [
    "text = '{\"key\": [\"item0\", \"item1\", 3.14, true]}'"
   ]
  },
  {
   "cell_type": "code",
   "execution_count": 83,
   "id": "24cb28bb-7b6c-4d4c-bef5-643821bd3392",
   "metadata": {},
   "outputs": [],
   "source": [
    "tree = json_parser.parse(text)"
   ]
  },
  {
   "cell_type": "code",
   "execution_count": 84,
   "id": "928415ad-e1f5-4f81-9384-9379e327edbe",
   "metadata": {},
   "outputs": [
    {
     "data": {
      "text/plain": [
       "Tree('dict', [Tree('pair', [Tree('string', [Token('ESCAPED_STRING', '\"key\"')]), Tree('list', [Tree('string', [Token('ESCAPED_STRING', '\"item0\"')]), Tree('string', [Token('ESCAPED_STRING', '\"item1\"')]), Tree('number', [Token('SIGNED_NUMBER', '3.14')]), Tree('true', [])])])])"
      ]
     },
     "execution_count": 84,
     "metadata": {},
     "output_type": "execute_result"
    }
   ],
   "source": [
    "tree"
   ]
  },
  {
   "cell_type": "code",
   "execution_count": 85,
   "id": "a83e824b-98d6-43a8-ae0b-6b1d793ff15a",
   "metadata": {},
   "outputs": [
    {
     "name": "stdout",
     "output_type": "stream",
     "text": [
      "dict\n",
      "  pair\n",
      "    string\t\"key\"\n",
      "    list\n",
      "      string\t\"item0\"\n",
      "      string\t\"item1\"\n",
      "      number\t3.14\n",
      "      true\n",
      "\n"
     ]
    }
   ],
   "source": [
    "print(tree.pretty())"
   ]
  },
  {
   "cell_type": "code",
   "execution_count": 78,
   "id": "0dc4e27b-4e2f-494c-b189-efd619fd7888",
   "metadata": {},
   "outputs": [
    {
     "data": {
      "text/plain": [
       "Tree('value', [Tree('dict', [Tree('pair', [Tree('string', [Token('ESCAPED_STRING', '\"key\"')]), Tree('value', [Tree('list', [Tree('value', [Tree('string', [Token('ESCAPED_STRING', '\"item0\"')])]), Tree('value', [Tree('string', [Token('ESCAPED_STRING', '\"item1\"')])]), Tree('number', [Token('SIGNED_NUMBER', '3.14')]), Tree('true', [])])])])])])"
      ]
     },
     "execution_count": 78,
     "metadata": {},
     "output_type": "execute_result"
    }
   ],
   "source": [
    "tree"
   ]
  },
  {
   "cell_type": "code",
   "execution_count": 79,
   "id": "f2f06ffd-7a6f-422b-b392-12f8fcfd7692",
   "metadata": {},
   "outputs": [
    {
     "name": "stdout",
     "output_type": "stream",
     "text": [
      "value\n",
      "  dict\n",
      "    pair\n",
      "      string\t\"key\"\n",
      "      value\n",
      "        list\n",
      "          value\n",
      "            string\t\"item0\"\n",
      "          value\n",
      "            string\t\"item1\"\n",
      "          number\t3.14\n",
      "          true\n",
      "\n"
     ]
    }
   ],
   "source": [
    "print(tree.pretty())"
   ]
  },
  {
   "cell_type": "code",
   "execution_count": 88,
   "id": "b651044b-5227-42bc-8baf-0ea5d4f9d210",
   "metadata": {},
   "outputs": [],
   "source": [
    "from lark import common"
   ]
  },
  {
   "cell_type": "code",
   "execution_count": 90,
   "id": "e4561e0f-4799-4671-9338-663ba5afebc5",
   "metadata": {},
   "outputs": [
    {
     "data": {
      "text/plain": [
       "['LexerConf',\n",
       " 'ParserConf',\n",
       " 'Serialize',\n",
       " 'TerminalDef',\n",
       " '__builtins__',\n",
       " '__cached__',\n",
       " '__doc__',\n",
       " '__file__',\n",
       " '__loader__',\n",
       " '__name__',\n",
       " '__package__',\n",
       " '__spec__',\n",
       " 'warn']"
      ]
     },
     "execution_count": 90,
     "metadata": {},
     "output_type": "execute_result"
    }
   ],
   "source": [
    "dir(common)"
   ]
  },
  {
   "cell_type": "code",
   "execution_count": 91,
   "id": "e9f70030-9366-4098-a9dd-644e6b8cd8eb",
   "metadata": {},
   "outputs": [
    {
     "ename": "AttributeError",
     "evalue": "module 'lark.common' has no attribute 'NUMBER'",
     "output_type": "error",
     "traceback": [
      "\u001b[0;31m---------------------------------------------------------------------------\u001b[0m",
      "\u001b[0;31mAttributeError\u001b[0m                            Traceback (most recent call last)",
      "\u001b[0;32m<ipython-input-91-d31e76614a8d>\u001b[0m in \u001b[0;36m<module>\u001b[0;34m\u001b[0m\n\u001b[0;32m----> 1\u001b[0;31m \u001b[0mcommon\u001b[0m\u001b[0;34m.\u001b[0m\u001b[0mNUMBER\u001b[0m\u001b[0;34m\u001b[0m\u001b[0;34m\u001b[0m\u001b[0m\n\u001b[0m",
      "\u001b[0;31mAttributeError\u001b[0m: module 'lark.common' has no attribute 'NUMBER'"
     ]
    }
   ],
   "source": [
    "common.NUMBER"
   ]
  },
  {
   "cell_type": "code",
   "execution_count": null,
   "id": "d25bb386-d460-4883-abbf-aa5aa7cd30e3",
   "metadata": {},
   "outputs": [],
   "source": []
  },
  {
   "cell_type": "code",
   "execution_count": null,
   "id": "eb8020e1-8a90-47c6-b705-9b3d153fcd58",
   "metadata": {},
   "outputs": [],
   "source": []
  },
  {
   "cell_type": "markdown",
   "id": "f1be0dda-85ed-4fb3-afd3-816f7528d86d",
   "metadata": {},
   "source": [
    "### Evalute Tree (to json)"
   ]
  },
  {
   "cell_type": "code",
   "execution_count": 22,
   "id": "c1946847-03de-448e-aa3a-125b1ea736bb",
   "metadata": {},
   "outputs": [],
   "source": [
    "from lark import Transformer\n",
    "\n",
    "class MyTransformer(Transformer):\n",
    "    \n",
    "    def list(self, items):\n",
    "        return list(items)\n",
    "    \n",
    "    def pair(self, key_value):\n",
    "        k, v = key_value\n",
    "        return k, v\n",
    "    \n",
    "    def dict(self, items):\n",
    "        return dict(items)"
   ]
  },
  {
   "cell_type": "code",
   "execution_count": 30,
   "id": "f577853b-ab75-44cc-8468-8c51a2226dc5",
   "metadata": {},
   "outputs": [
    {
     "data": {
      "text/plain": [
       "'{\"key\": [\"item0\", \"item1\", 3.14, true]}'"
      ]
     },
     "execution_count": 30,
     "metadata": {},
     "output_type": "execute_result"
    }
   ],
   "source": [
    "text"
   ]
  },
  {
   "cell_type": "code",
   "execution_count": 24,
   "id": "d9e9be09-3015-4751-a740-5397d76fde44",
   "metadata": {},
   "outputs": [],
   "source": [
    "tree = json_parser.parse(text)"
   ]
  },
  {
   "cell_type": "code",
   "execution_count": 25,
   "id": "57c9c3a2-1b7c-48ec-90bc-d9c4522f8271",
   "metadata": {},
   "outputs": [
    {
     "data": {
      "text/plain": [
       "{Tree('string', [Token('ESCAPED_STRING', '\"key\"')]): [Tree('string', [Token('ESCAPED_STRING', '\"item0\"')]),\n",
       "  Tree('string', [Token('ESCAPED_STRING', '\"item1\"')]),\n",
       "  Tree('number', [Token('SIGNED_NUMBER', '3.14')]),\n",
       "  Tree('true', [])]}"
      ]
     },
     "execution_count": 25,
     "metadata": {},
     "output_type": "execute_result"
    }
   ],
   "source": [
    "MyTransformer().transform(tree)"
   ]
  },
  {
   "cell_type": "code",
   "execution_count": 61,
   "id": "6e6b99b5-7933-4bdf-8c06-a9eb6e329212",
   "metadata": {},
   "outputs": [],
   "source": [
    "class TreeToJson(Transformer):\n",
    "    \n",
    "    def string(self, s):\n",
    "        (s,) = s\n",
    "        return s[1:-1]\n",
    "    \n",
    "    def number(self, n):\n",
    "        (n,) = n\n",
    "        return float(n)\n",
    "\n",
    "#     list = list\n",
    "    def list(self, items):\n",
    "        breakpoint()\n",
    "        return list(items)\n",
    "    \n",
    "    def dict(self, items):\n",
    "        breakpoint()\n",
    "        return dict(items)\n",
    "    \n",
    "    def pair(self, key_value):\n",
    "        breakpoint()\n",
    "        k, v = key_value\n",
    "        return k, v\n",
    "#     pair = tuple\n",
    "#     dict = dict\n",
    "\n",
    "    null = lambda self, _: None\n",
    "    true = lambda self, _: True\n",
    "    false = lambda self, _: False"
   ]
  },
  {
   "cell_type": "code",
   "execution_count": 62,
   "id": "1862af46-3435-40be-b98a-f5b643837b36",
   "metadata": {},
   "outputs": [
    {
     "data": {
      "text/plain": [
       "'{\"key\": [\"item0\", \"item1\", 3.14, true]}'"
      ]
     },
     "execution_count": 62,
     "metadata": {},
     "output_type": "execute_result"
    }
   ],
   "source": [
    "text"
   ]
  },
  {
   "cell_type": "code",
   "execution_count": 63,
   "id": "93a703c9-9e96-44a3-ad2b-3f7d29e31696",
   "metadata": {},
   "outputs": [
    {
     "data": {
      "text/plain": [
       "Tree('dict', [Tree('pair', [Tree('string', [Token('ESCAPED_STRING', '\"key\"')]), Tree('list', [Tree('string', [Token('ESCAPED_STRING', '\"item0\"')]), Tree('string', [Token('ESCAPED_STRING', '\"item1\"')]), Tree('number', [Token('SIGNED_NUMBER', '3.14')]), Tree('true', [])])])])"
      ]
     },
     "execution_count": 63,
     "metadata": {},
     "output_type": "execute_result"
    }
   ],
   "source": [
    "tree"
   ]
  },
  {
   "cell_type": "code",
   "execution_count": 64,
   "id": "86a6695b-17f6-44ea-9d3c-8c11d15a1b1c",
   "metadata": {},
   "outputs": [
    {
     "name": "stdout",
     "output_type": "stream",
     "text": [
      "> \u001b[0;32m<ipython-input-61-02bf1411a236>\u001b[0m(14)\u001b[0;36mlist\u001b[0;34m()\u001b[0m\n",
      "\u001b[0;32m     12 \u001b[0;31m    \u001b[0;32mdef\u001b[0m \u001b[0mlist\u001b[0m\u001b[0;34m(\u001b[0m\u001b[0mself\u001b[0m\u001b[0;34m,\u001b[0m \u001b[0mitems\u001b[0m\u001b[0;34m)\u001b[0m\u001b[0;34m:\u001b[0m\u001b[0;34m\u001b[0m\u001b[0;34m\u001b[0m\u001b[0m\n",
      "\u001b[0m\u001b[0;32m     13 \u001b[0;31m        \u001b[0mbreakpoint\u001b[0m\u001b[0;34m(\u001b[0m\u001b[0;34m)\u001b[0m\u001b[0;34m\u001b[0m\u001b[0;34m\u001b[0m\u001b[0m\n",
      "\u001b[0m\u001b[0;32m---> 14 \u001b[0;31m        \u001b[0;32mreturn\u001b[0m \u001b[0mlist\u001b[0m\u001b[0;34m(\u001b[0m\u001b[0mitems\u001b[0m\u001b[0;34m)\u001b[0m\u001b[0;34m\u001b[0m\u001b[0;34m\u001b[0m\u001b[0m\n",
      "\u001b[0m\u001b[0;32m     15 \u001b[0;31m\u001b[0;34m\u001b[0m\u001b[0m\n",
      "\u001b[0m\u001b[0;32m     16 \u001b[0;31m    \u001b[0;32mdef\u001b[0m \u001b[0mdict\u001b[0m\u001b[0;34m(\u001b[0m\u001b[0mself\u001b[0m\u001b[0;34m,\u001b[0m \u001b[0mitems\u001b[0m\u001b[0;34m)\u001b[0m\u001b[0;34m:\u001b[0m\u001b[0;34m\u001b[0m\u001b[0;34m\u001b[0m\u001b[0m\n",
      "\u001b[0m\n"
     ]
    },
    {
     "name": "stdin",
     "output_type": "stream",
     "text": [
      "ipdb>  items\n"
     ]
    },
    {
     "name": "stdout",
     "output_type": "stream",
     "text": [
      "['item0', 'item1', 3.14, True]\n"
     ]
    },
    {
     "name": "stdin",
     "output_type": "stream",
     "text": [
      "ipdb>  c\n"
     ]
    },
    {
     "name": "stdout",
     "output_type": "stream",
     "text": [
      "> \u001b[0;32m<ipython-input-61-02bf1411a236>\u001b[0m(22)\u001b[0;36mpair\u001b[0;34m()\u001b[0m\n",
      "\u001b[0;32m     20 \u001b[0;31m    \u001b[0;32mdef\u001b[0m \u001b[0mpair\u001b[0m\u001b[0;34m(\u001b[0m\u001b[0mself\u001b[0m\u001b[0;34m,\u001b[0m \u001b[0mkey_value\u001b[0m\u001b[0;34m)\u001b[0m\u001b[0;34m:\u001b[0m\u001b[0;34m\u001b[0m\u001b[0;34m\u001b[0m\u001b[0m\n",
      "\u001b[0m\u001b[0;32m     21 \u001b[0;31m        \u001b[0mbreakpoint\u001b[0m\u001b[0;34m(\u001b[0m\u001b[0;34m)\u001b[0m\u001b[0;34m\u001b[0m\u001b[0;34m\u001b[0m\u001b[0m\n",
      "\u001b[0m\u001b[0;32m---> 22 \u001b[0;31m        \u001b[0mk\u001b[0m\u001b[0;34m,\u001b[0m \u001b[0mv\u001b[0m \u001b[0;34m=\u001b[0m \u001b[0mkey_value\u001b[0m\u001b[0;34m\u001b[0m\u001b[0;34m\u001b[0m\u001b[0m\n",
      "\u001b[0m\u001b[0;32m     23 \u001b[0;31m        \u001b[0;32mreturn\u001b[0m \u001b[0mk\u001b[0m\u001b[0;34m,\u001b[0m \u001b[0mv\u001b[0m\u001b[0;34m\u001b[0m\u001b[0;34m\u001b[0m\u001b[0m\n",
      "\u001b[0m\u001b[0;32m     24 \u001b[0;31m\u001b[0;31m#     pair = tuple\u001b[0m\u001b[0;34m\u001b[0m\u001b[0;34m\u001b[0m\u001b[0;34m\u001b[0m\u001b[0m\n",
      "\u001b[0m\n"
     ]
    },
    {
     "name": "stdin",
     "output_type": "stream",
     "text": [
      "ipdb>  key_value\n"
     ]
    },
    {
     "name": "stdout",
     "output_type": "stream",
     "text": [
      "['key', ['item0', 'item1', 3.14, True]]\n"
     ]
    },
    {
     "name": "stdin",
     "output_type": "stream",
     "text": [
      "ipdb>  n\n"
     ]
    },
    {
     "name": "stdout",
     "output_type": "stream",
     "text": [
      "> \u001b[0;32m<ipython-input-61-02bf1411a236>\u001b[0m(23)\u001b[0;36mpair\u001b[0;34m()\u001b[0m\n",
      "\u001b[0;32m     21 \u001b[0;31m        \u001b[0mbreakpoint\u001b[0m\u001b[0;34m(\u001b[0m\u001b[0;34m)\u001b[0m\u001b[0;34m\u001b[0m\u001b[0;34m\u001b[0m\u001b[0m\n",
      "\u001b[0m\u001b[0;32m     22 \u001b[0;31m        \u001b[0mk\u001b[0m\u001b[0;34m,\u001b[0m \u001b[0mv\u001b[0m \u001b[0;34m=\u001b[0m \u001b[0mkey_value\u001b[0m\u001b[0;34m\u001b[0m\u001b[0;34m\u001b[0m\u001b[0m\n",
      "\u001b[0m\u001b[0;32m---> 23 \u001b[0;31m        \u001b[0;32mreturn\u001b[0m \u001b[0mk\u001b[0m\u001b[0;34m,\u001b[0m \u001b[0mv\u001b[0m\u001b[0;34m\u001b[0m\u001b[0;34m\u001b[0m\u001b[0m\n",
      "\u001b[0m\u001b[0;32m     24 \u001b[0;31m\u001b[0;31m#     pair = tuple\u001b[0m\u001b[0;34m\u001b[0m\u001b[0;34m\u001b[0m\u001b[0;34m\u001b[0m\u001b[0m\n",
      "\u001b[0m\u001b[0;32m     25 \u001b[0;31m\u001b[0;31m#     dict = dict\u001b[0m\u001b[0;34m\u001b[0m\u001b[0;34m\u001b[0m\u001b[0;34m\u001b[0m\u001b[0m\n",
      "\u001b[0m\n"
     ]
    },
    {
     "name": "stdin",
     "output_type": "stream",
     "text": [
      "ipdb>  k\n"
     ]
    },
    {
     "name": "stdout",
     "output_type": "stream",
     "text": [
      "'key'\n"
     ]
    },
    {
     "name": "stdin",
     "output_type": "stream",
     "text": [
      "ipdb>  v\n"
     ]
    },
    {
     "name": "stdout",
     "output_type": "stream",
     "text": [
      "['item0', 'item1', 3.14, True]\n"
     ]
    },
    {
     "name": "stdin",
     "output_type": "stream",
     "text": [
      "ipdb>  c\n"
     ]
    },
    {
     "name": "stdout",
     "output_type": "stream",
     "text": [
      "> \u001b[0;32m<ipython-input-61-02bf1411a236>\u001b[0m(18)\u001b[0;36mdict\u001b[0;34m()\u001b[0m\n",
      "\u001b[0;32m     16 \u001b[0;31m    \u001b[0;32mdef\u001b[0m \u001b[0mdict\u001b[0m\u001b[0;34m(\u001b[0m\u001b[0mself\u001b[0m\u001b[0;34m,\u001b[0m \u001b[0mitems\u001b[0m\u001b[0;34m)\u001b[0m\u001b[0;34m:\u001b[0m\u001b[0;34m\u001b[0m\u001b[0;34m\u001b[0m\u001b[0m\n",
      "\u001b[0m\u001b[0;32m     17 \u001b[0;31m        \u001b[0mbreakpoint\u001b[0m\u001b[0;34m(\u001b[0m\u001b[0;34m)\u001b[0m\u001b[0;34m\u001b[0m\u001b[0;34m\u001b[0m\u001b[0m\n",
      "\u001b[0m\u001b[0;32m---> 18 \u001b[0;31m        \u001b[0;32mreturn\u001b[0m \u001b[0mdict\u001b[0m\u001b[0;34m(\u001b[0m\u001b[0mitems\u001b[0m\u001b[0;34m)\u001b[0m\u001b[0;34m\u001b[0m\u001b[0;34m\u001b[0m\u001b[0m\n",
      "\u001b[0m\u001b[0;32m     19 \u001b[0;31m\u001b[0;34m\u001b[0m\u001b[0m\n",
      "\u001b[0m\u001b[0;32m     20 \u001b[0;31m    \u001b[0;32mdef\u001b[0m \u001b[0mpair\u001b[0m\u001b[0;34m(\u001b[0m\u001b[0mself\u001b[0m\u001b[0;34m,\u001b[0m \u001b[0mkey_value\u001b[0m\u001b[0;34m)\u001b[0m\u001b[0;34m:\u001b[0m\u001b[0;34m\u001b[0m\u001b[0;34m\u001b[0m\u001b[0m\n",
      "\u001b[0m\n"
     ]
    },
    {
     "name": "stdin",
     "output_type": "stream",
     "text": [
      "ipdb>  items\n"
     ]
    },
    {
     "name": "stdout",
     "output_type": "stream",
     "text": [
      "[('key', ['item0', 'item1', 3.14, True])]\n"
     ]
    },
    {
     "name": "stdin",
     "output_type": "stream",
     "text": [
      "ipdb>  c\n"
     ]
    },
    {
     "data": {
      "text/plain": [
       "{'key': ['item0', 'item1', 3.14, True]}"
      ]
     },
     "execution_count": 64,
     "metadata": {},
     "output_type": "execute_result"
    }
   ],
   "source": [
    "TreeToJson().transform(tree)"
   ]
  },
  {
   "cell_type": "markdown",
   "id": "2c71591d-2603-481e-b52f-8ddac457f8a7",
   "metadata": {},
   "source": [
    "### Regex overview"
   ]
  },
  {
   "cell_type": "code",
   "execution_count": 92,
   "id": "ad9eb4fe-4309-4f7a-830b-95b9760993c4",
   "metadata": {},
   "outputs": [],
   "source": [
    "import re"
   ]
  },
  {
   "cell_type": "markdown",
   "id": "66d2fa11-d6d3-4b58-a6ed-51697e48c086",
   "metadata": {},
   "source": [
    "Regex were so widely adopted because they are incredibly _compact_. "
   ]
  },
  {
   "cell_type": "markdown",
   "id": "1e5aec81-dec7-42d7-b2c6-c90123317eef",
   "metadata": {},
   "source": [
    "Given an input string, match the string if it contains: an `a` followed by any number of `b`s (represented via the `*`) followed by a `c`."
   ]
  },
  {
   "cell_type": "code",
   "execution_count": 123,
   "id": "e5a8585f-ae64-485c-b657-8c10d52aec8c",
   "metadata": {},
   "outputs": [],
   "source": [
    "result = re.match(r\"ab*c\", \"abbbbbbbbbc\")"
   ]
  },
  {
   "cell_type": "code",
   "execution_count": 124,
   "id": "e1909f2a-84b4-45c9-a3c9-fa565ef1cf2e",
   "metadata": {},
   "outputs": [
    {
     "data": {
      "text/plain": [
       "'abbbbbbbbbc'"
      ]
     },
     "execution_count": 124,
     "metadata": {},
     "output_type": "execute_result"
    }
   ],
   "source": [
    "result.group()"
   ]
  },
  {
   "cell_type": "code",
   "execution_count": 125,
   "id": "89317342-e05d-45d0-9fcc-fc9c91c00cf5",
   "metadata": {},
   "outputs": [],
   "source": [
    "result = re.findall(r\"ab*c\", \"abbbbbbbbbc\")"
   ]
  },
  {
   "cell_type": "code",
   "execution_count": 127,
   "id": "84c6a4db-df48-4c28-8e84-47cdb4edad62",
   "metadata": {},
   "outputs": [
    {
     "data": {
      "text/plain": [
       "['abbbbbbbbbc']"
      ]
     },
     "execution_count": 127,
     "metadata": {},
     "output_type": "execute_result"
    }
   ],
   "source": [
    "result"
   ]
  },
  {
   "cell_type": "code",
   "execution_count": 128,
   "id": "31094ebf-98ff-486b-98a3-4adac85d2c91",
   "metadata": {},
   "outputs": [],
   "source": [
    "result = re.search(r\"ab*c\", \"abbbbbbbbbc\")"
   ]
  },
  {
   "cell_type": "code",
   "execution_count": 129,
   "id": "2706b0ed-a4ed-4222-bcda-5ee8a5f3cbb7",
   "metadata": {},
   "outputs": [
    {
     "data": {
      "text/plain": [
       "'abbbbbbbbbc'"
      ]
     },
     "execution_count": 129,
     "metadata": {},
     "output_type": "execute_result"
    }
   ],
   "source": [
    "result.group()"
   ]
  },
  {
   "cell_type": "code",
   "execution_count": 130,
   "id": "2124c5c5-927c-4bc2-a38a-e5ff009f35fb",
   "metadata": {},
   "outputs": [],
   "source": [
    "result = re.search(r\"ab*c|nate\", \"abbbbbbbbbc\")"
   ]
  },
  {
   "cell_type": "code",
   "execution_count": 131,
   "id": "ce808de1-7ccf-4a45-ab91-0323a5ebc2f7",
   "metadata": {},
   "outputs": [
    {
     "data": {
      "text/plain": [
       "'abbbbbbbbbc'"
      ]
     },
     "execution_count": 131,
     "metadata": {},
     "output_type": "execute_result"
    }
   ],
   "source": [
    "result.group()"
   ]
  },
  {
   "cell_type": "code",
   "execution_count": 134,
   "id": "085d8cd4-3e60-46f8-be62-033480df4837",
   "metadata": {},
   "outputs": [],
   "source": [
    "result = re.match(r\"ab*c|nate\", \"this is nate\")"
   ]
  },
  {
   "cell_type": "code",
   "execution_count": 135,
   "id": "1f6be532-c155-420d-93db-6e5c2a9998ce",
   "metadata": {},
   "outputs": [
    {
     "ename": "AttributeError",
     "evalue": "'NoneType' object has no attribute 'group'",
     "output_type": "error",
     "traceback": [
      "\u001b[0;31m---------------------------------------------------------------------------\u001b[0m",
      "\u001b[0;31mAttributeError\u001b[0m                            Traceback (most recent call last)",
      "\u001b[0;32m<ipython-input-135-c8eb6f1e4981>\u001b[0m in \u001b[0;36m<module>\u001b[0;34m\u001b[0m\n\u001b[0;32m----> 1\u001b[0;31m \u001b[0mresult\u001b[0m\u001b[0;34m.\u001b[0m\u001b[0mgroup\u001b[0m\u001b[0;34m(\u001b[0m\u001b[0;34m)\u001b[0m\u001b[0;34m\u001b[0m\u001b[0;34m\u001b[0m\u001b[0m\n\u001b[0m",
      "\u001b[0;31mAttributeError\u001b[0m: 'NoneType' object has no attribute 'group'"
     ]
    }
   ],
   "source": [
    "result.group()"
   ]
  },
  {
   "cell_type": "code",
   "execution_count": null,
   "id": "9f860aa0-f716-49a0-b371-c71d5a414bb1",
   "metadata": {},
   "outputs": [],
   "source": [
    "# https://regex101.com/ This is a great source to learn from"
   ]
  }
 ],
 "metadata": {
  "kernelspec": {
   "display_name": "Python 3",
   "language": "python",
   "name": "python3"
  },
  "language_info": {
   "codemirror_mode": {
    "name": "ipython",
    "version": 3
   },
   "file_extension": ".py",
   "mimetype": "text/x-python",
   "name": "python",
   "nbconvert_exporter": "python",
   "pygments_lexer": "ipython3",
   "version": "3.8.0"
  }
 },
 "nbformat": 4,
 "nbformat_minor": 5
}
