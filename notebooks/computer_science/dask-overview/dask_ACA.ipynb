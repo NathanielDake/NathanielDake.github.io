{
 "cells": [
  {
   "cell_type": "markdown",
   "metadata": {},
   "source": [
    "# Code for Dask Implementation of the correlation functions"
   ]
  },
  {
   "cell_type": "markdown",
   "metadata": {},
   "source": [
    "# Imports"
   ]
  },
  {
   "cell_type": "code",
   "execution_count": 3,
   "metadata": {},
   "outputs": [],
   "source": [
    "from dask import delayed\n",
    "import pandas as pd\n",
    "import dask.dataframe as dd\n",
    "from dask.dataframe.core import aca\n",
    "import scipy.stats as ss\n",
    "import numpy as np\n",
    "from collections import Counter\n",
    "from multiprocessing import Pool, cpu_count"
   ]
  },
  {
   "cell_type": "markdown",
   "metadata": {},
   "source": [
    "## Correlation Func Primitives"
   ]
  },
  {
   "cell_type": "code",
   "execution_count": 4,
   "metadata": {},
   "outputs": [],
   "source": [
    "def conditional_entropy(x, y):\n",
    "    \"\"\"Calculates the conditional entropy of x given y: S(x|y)\n",
    "    Wikipedia: https://en.wikipedia.org/wiki/Conditional_entropy\n",
    "\n",
    "    Parameters\n",
    "    ----------\n",
    "    x : array-like\n",
    "        A sequence of measurements.\n",
    "    y : array-like\n",
    "        A sequence of measurements.\n",
    "\n",
    "    Returns\n",
    "    -------\n",
    "    float\n",
    "        The total entropy of x given y\n",
    "\n",
    "    Examples\n",
    "    --------\n",
    "    >>> np.random.seed(1)\n",
    "    >>> x = np.random.randint(0,2, size=10)\n",
    "    >>> y = np.random.randint(0,2, size=10)\n",
    "    >>> conditional_entropy(x,y)\n",
    "    0.606842558824411\n",
    "\n",
    "    \"\"\"\n",
    "    y_counter = Counter(y)\n",
    "    xy_counter = Counter(list(zip(x, y)))\n",
    "    total_occurrences = sum(y_counter.values())\n",
    "    p_xy = np.array([val for val in xy_counter.values()])/total_occurrences\n",
    "    p_y = np.array([y_counter[xy[1]] for xy in xy_counter.keys()])/total_occurrences\n",
    "    entropy = np.sum((p_xy * np.log(p_y/p_xy)))\n",
    "    return entropy\n",
    "\n",
    "\n",
    "def cramers_v(x, y):\n",
    "    \"\"\"Calculates Cramer's V statistic for categorical-categorical association.\n",
    "    Uses correction from Bergsma and Wicher, Journal of the Korean Statistical Society 42 (2013): 323-328.\n",
    "    This is a symmetric coefficient: V(x,y) = V(y,x)\n",
    "    Original function taken from: https://stackoverflow.com/a/46498792/5863503\n",
    "    Wikipedia: https://en.wikipedia.org/wiki/Cram%C3%A9r%27s_V\n",
    "\n",
    "    Parameters\n",
    "    ----------\n",
    "    x : array-like\n",
    "        A sequence of categorical measurements.\n",
    "    y : array-like\n",
    "        A sequence of categorical measurements.\n",
    "\n",
    "    Returns\n",
    "    -------\n",
    "    float\n",
    "        Coefficient in the range [0, 1].\n",
    "\n",
    "    Examples\n",
    "    --------\n",
    "    >>> np.random.seed(1)\n",
    "    >>> x = np.random.randint(0, 2, size=100)\n",
    "    >>> y = x\n",
    "    >>> cramers_v(x, y)\n",
    "    0.9795896894087645\n",
    "\n",
    "    \"\"\"\n",
    "\n",
    "    confusion_matrix = pd.crosstab(x, y)\n",
    "    chi2 = ss.chi2_contingency(confusion_matrix)[0]\n",
    "    n = confusion_matrix.sum().sum()\n",
    "    phi2 = chi2/n\n",
    "    r, k = confusion_matrix.shape\n",
    "    phi2corr = max(0, phi2-((k-1)*(r-1))/(n-1))\n",
    "    rcorr = r-((r-1)**2)/(n-1)\n",
    "    kcorr = k-((k-1)**2)/(n-1)\n",
    "    return np.sqrt(phi2corr/min((kcorr-1), (rcorr-1)))\n",
    "\n",
    "\n",
    "def theils_u(x, y):\n",
    "    \"\"\"Calculates Theil's U statistic (Uncertainty coefficient) for categorical-categorical association.\n",
    "    This is the uncertainty of x given y: value is on the range of [0,1] - where 0 means y provides no information about\n",
    "    x, and 1 means y provides full information about x.\n",
    "    Given the value of x, how many possible states does y have, and how often do they occur.\n",
    "    This is an asymmetric coefficient: U(x,y) != U(y,x)\n",
    "    Wikipedia: https://en.wikipedia.org/wiki/Uncertainty_coefficient\n",
    "\n",
    "    Parameters\n",
    "    ----------\n",
    "    x : array-like\n",
    "        A sequence of categorical measurements.\n",
    "    y : array-like\n",
    "        A sequence of categorical measurements.\n",
    "\n",
    "    Returns\n",
    "    -------\n",
    "    float\n",
    "        Coefficient in the range [0, 1].\n",
    "\n",
    "    Examples\n",
    "    --------\n",
    "    >>> np.random.seed(1)\n",
    "    >>> x = np.random.randint(0, 2, size=100)\n",
    "    >>> y = x\n",
    "    >>> theils_u(x, y)\n",
    "    1.0\n",
    "\n",
    "    \"\"\"\n",
    "    s_xy = conditional_entropy(x, y)\n",
    "    x_counter = Counter(x)\n",
    "    total_occurrences = sum(x_counter.values())\n",
    "    p_x = list(map(lambda n: n/total_occurrences, x_counter.values()))\n",
    "    s_x = ss.entropy(p_x)\n",
    "    if s_x == 0:\n",
    "        return 1\n",
    "    else:\n",
    "        return (s_x - s_xy) / s_x\n",
    "\n",
    "\n",
    "def correlation_ratio(categories, measurements):\n",
    "    \"\"\"Calculates the Correlation Ratio (sometimes marked by the greek letter Eta) for categorical-continuous association.\n",
    "    Answers the question - given a continuous value of a measurement, is it possible to know which category is it\n",
    "    associated with?\n",
    "    Value is in the range [0,1], where 0 means a category cannot be determined by a continuous measurement, and 1 means\n",
    "    a category can be determined with absolute certainty.\n",
    "    Wikipedia: https://en.wikipedia.org/wiki/Correlation_ratio\n",
    "\n",
    "    Parameters\n",
    "    ----------\n",
    "    categories : array-like\n",
    "        A sequence of categorical measurements.\n",
    "    measurements : array-like\n",
    "        A sequence of continuous measurements.\n",
    "\n",
    "    Returns\n",
    "    -------\n",
    "    float\n",
    "        Coefficient in the range [0, 1].\n",
    "\n",
    "    Examples\n",
    "    --------\n",
    "    >>> np.random.seed(1)\n",
    "    >>> categories = np.random.randint(0,2, size=100)\n",
    "    >>> measurements = np.random.rand(100)\n",
    "    >>> correlation_ratio(categories, measurements)\n",
    "    0.042988734885557815\n",
    "\n",
    "    \"\"\"\n",
    "    fcat, _ = pd.factorize(categories)\n",
    "    cat_num = np.max(fcat)+1\n",
    "    y_avg_array = np.zeros(cat_num)\n",
    "    n_array = np.zeros(cat_num)\n",
    "    for i in range(0, cat_num):\n",
    "        cat_measures = measurements[np.argwhere(fcat == i).flatten()]\n",
    "        n_array[i] = len(cat_measures)\n",
    "        y_avg_array[i] = np.average(cat_measures)\n",
    "    y_total_avg = np.sum(np.multiply(y_avg_array, n_array))/np.sum(n_array)\n",
    "    numerator = np.sum(np.multiply(n_array, np.power(np.subtract(y_avg_array, y_total_avg), 2)))\n",
    "    denominator = np.sum(np.power(np.subtract(measurements, y_total_avg), 2))\n",
    "    if numerator == 0:\n",
    "        eta = 0.0\n",
    "    else:\n",
    "        eta = numerator/denominator\n",
    "    return eta"
   ]
  },
  {
   "cell_type": "markdown",
   "metadata": {},
   "source": [
    "## Make a symmetrical Theils U with mproc"
   ]
  },
  {
   "cell_type": "code",
   "execution_count": 5,
   "metadata": {},
   "outputs": [],
   "source": [
    "def theils_u_symmetrical(x, y):\n",
    "    with Pool(cpu_count()) as pool:\n",
    "        return np.mean(pool.starmap(theils_u, [(x, y), (y, x)]))"
   ]
  },
  {
   "cell_type": "markdown",
   "metadata": {},
   "source": [
    "## Apply-Concat-Apply function for Dask Distributed"
   ]
  },
  {
   "cell_type": "code",
   "execution_count": 18,
   "metadata": {},
   "outputs": [],
   "source": [
    "def dask_correlation_aca(corr_func, *args):\n",
    "    return aca(\n",
    "        args, \n",
    "        chunk=corr_func, # Function to apply to each chunk \n",
    "        aggregate=np.mean, # How to reduce results of function applied to each chunk\n",
    "        combine=np.mean,\n",
    "        meta=pd.Series([], dtype=float)\n",
    "    )"
   ]
  },
  {
   "cell_type": "code",
   "execution_count": null,
   "metadata": {},
   "outputs": [],
   "source": []
  },
  {
   "cell_type": "markdown",
   "metadata": {},
   "source": [
    "## Load Test Data"
   ]
  },
  {
   "cell_type": "code",
   "execution_count": 20,
   "metadata": {},
   "outputs": [],
   "source": [
    "data_path = '../../../data/flights_data/trip_logs.parquet'"
   ]
  },
  {
   "cell_type": "code",
   "execution_count": 21,
   "metadata": {},
   "outputs": [],
   "source": [
    "df = dd.read_parquet(data_path, engine='pyarrow')"
   ]
  },
  {
   "cell_type": "code",
   "execution_count": 22,
   "metadata": {},
   "outputs": [],
   "source": [
    "df = df.persist()"
   ]
  },
  {
   "cell_type": "code",
   "execution_count": 23,
   "metadata": {},
   "outputs": [
    {
     "data": {
      "text/plain": [
       "Index(['trip_log_id', 'flight_id', 'date_scheduled', 'scheduled_dep_time',\n",
       "       'scheduled_arr_time', 'dep_time', 'arr_time', 'dep_delay', 'taxi_out',\n",
       "       'taxi_in', 'arr_delay', 'scheduled_elapsed_time', 'air_time',\n",
       "       'distance', 'carrier_delay', 'weather_delay', 'national_airspace_delay',\n",
       "       'security_delay', 'late_aircraft_delay', 'canceled', 'diverted'],\n",
       "      dtype='object')"
      ]
     },
     "execution_count": 23,
     "metadata": {},
     "output_type": "execute_result"
    }
   ],
   "source": [
    "df.columns"
   ]
  },
  {
   "cell_type": "code",
   "execution_count": 24,
   "metadata": {},
   "outputs": [
    {
     "data": {
      "text/html": [
       "<div><strong>Dask DataFrame Structure:</strong></div>\n",
       "<div>\n",
       "<style scoped>\n",
       "    .dataframe tbody tr th:only-of-type {\n",
       "        vertical-align: middle;\n",
       "    }\n",
       "\n",
       "    .dataframe tbody tr th {\n",
       "        vertical-align: top;\n",
       "    }\n",
       "\n",
       "    .dataframe thead th {\n",
       "        text-align: right;\n",
       "    }\n",
       "</style>\n",
       "<table border=\"1\" class=\"dataframe\">\n",
       "  <thead>\n",
       "    <tr style=\"text-align: right;\">\n",
       "      <th></th>\n",
       "      <th>trip_log_id</th>\n",
       "      <th>flight_id</th>\n",
       "      <th>date_scheduled</th>\n",
       "      <th>scheduled_dep_time</th>\n",
       "      <th>scheduled_arr_time</th>\n",
       "      <th>dep_time</th>\n",
       "      <th>arr_time</th>\n",
       "      <th>dep_delay</th>\n",
       "      <th>taxi_out</th>\n",
       "      <th>taxi_in</th>\n",
       "      <th>arr_delay</th>\n",
       "      <th>scheduled_elapsed_time</th>\n",
       "      <th>air_time</th>\n",
       "      <th>distance</th>\n",
       "      <th>carrier_delay</th>\n",
       "      <th>weather_delay</th>\n",
       "      <th>national_airspace_delay</th>\n",
       "      <th>security_delay</th>\n",
       "      <th>late_aircraft_delay</th>\n",
       "      <th>canceled</th>\n",
       "      <th>diverted</th>\n",
       "    </tr>\n",
       "    <tr>\n",
       "      <th>npartitions=1</th>\n",
       "      <th></th>\n",
       "      <th></th>\n",
       "      <th></th>\n",
       "      <th></th>\n",
       "      <th></th>\n",
       "      <th></th>\n",
       "      <th></th>\n",
       "      <th></th>\n",
       "      <th></th>\n",
       "      <th></th>\n",
       "      <th></th>\n",
       "      <th></th>\n",
       "      <th></th>\n",
       "      <th></th>\n",
       "      <th></th>\n",
       "      <th></th>\n",
       "      <th></th>\n",
       "      <th></th>\n",
       "      <th></th>\n",
       "      <th></th>\n",
       "      <th></th>\n",
       "    </tr>\n",
       "  </thead>\n",
       "  <tbody>\n",
       "    <tr>\n",
       "      <th></th>\n",
       "      <td>int64</td>\n",
       "      <td>object</td>\n",
       "      <td>datetime64[ns]</td>\n",
       "      <td>datetime64[ns]</td>\n",
       "      <td>datetime64[ns]</td>\n",
       "      <td>datetime64[ns]</td>\n",
       "      <td>datetime64[ns]</td>\n",
       "      <td>float64</td>\n",
       "      <td>float64</td>\n",
       "      <td>float64</td>\n",
       "      <td>float64</td>\n",
       "      <td>int64</td>\n",
       "      <td>float64</td>\n",
       "      <td>float64</td>\n",
       "      <td>float64</td>\n",
       "      <td>float64</td>\n",
       "      <td>float64</td>\n",
       "      <td>float64</td>\n",
       "      <td>float64</td>\n",
       "      <td>float64</td>\n",
       "      <td>float64</td>\n",
       "    </tr>\n",
       "    <tr>\n",
       "      <th></th>\n",
       "      <td>...</td>\n",
       "      <td>...</td>\n",
       "      <td>...</td>\n",
       "      <td>...</td>\n",
       "      <td>...</td>\n",
       "      <td>...</td>\n",
       "      <td>...</td>\n",
       "      <td>...</td>\n",
       "      <td>...</td>\n",
       "      <td>...</td>\n",
       "      <td>...</td>\n",
       "      <td>...</td>\n",
       "      <td>...</td>\n",
       "      <td>...</td>\n",
       "      <td>...</td>\n",
       "      <td>...</td>\n",
       "      <td>...</td>\n",
       "      <td>...</td>\n",
       "      <td>...</td>\n",
       "      <td>...</td>\n",
       "      <td>...</td>\n",
       "    </tr>\n",
       "  </tbody>\n",
       "</table>\n",
       "</div>\n",
       "<div>Dask Name: read-parquet, 1 tasks</div>"
      ],
      "text/plain": [
       "Dask DataFrame Structure:\n",
       "              trip_log_id flight_id  date_scheduled scheduled_dep_time scheduled_arr_time        dep_time        arr_time dep_delay taxi_out  taxi_in arr_delay scheduled_elapsed_time air_time distance carrier_delay weather_delay national_airspace_delay security_delay late_aircraft_delay canceled diverted\n",
       "npartitions=1                                                                                                                                                                                                                                                                                                    \n",
       "                    int64    object  datetime64[ns]     datetime64[ns]     datetime64[ns]  datetime64[ns]  datetime64[ns]   float64  float64  float64   float64                  int64  float64  float64       float64       float64                 float64        float64             float64  float64  float64\n",
       "                      ...       ...             ...                ...                ...             ...             ...       ...      ...      ...       ...                    ...      ...      ...           ...           ...                     ...            ...                 ...      ...      ...\n",
       "Dask Name: read-parquet, 1 tasks"
      ]
     },
     "execution_count": 24,
     "metadata": {},
     "output_type": "execute_result"
    }
   ],
   "source": [
    "df"
   ]
  },
  {
   "cell_type": "markdown",
   "metadata": {},
   "source": [
    "# Test all the funcs"
   ]
  },
  {
   "cell_type": "markdown",
   "metadata": {},
   "source": [
    "### symmetrical theils_u"
   ]
  },
  {
   "cell_type": "code",
   "execution_count": 25,
   "metadata": {},
   "outputs": [
    {
     "data": {
      "text/plain": [
       "0.0015895431338338387"
      ]
     },
     "execution_count": 25,
     "metadata": {},
     "output_type": "execute_result"
    }
   ],
   "source": [
    "theils_u_symmetrical(df['canceled'].compute(), df['diverted'].compute())"
   ]
  },
  {
   "cell_type": "markdown",
   "metadata": {},
   "source": [
    "### All the ACAs"
   ]
  },
  {
   "cell_type": "code",
   "execution_count": 26,
   "metadata": {},
   "outputs": [
    {
     "data": {
      "text/plain": [
       "0    0.007023\n",
       "dtype: float64"
      ]
     },
     "execution_count": 26,
     "metadata": {},
     "output_type": "execute_result"
    }
   ],
   "source": [
    "dask_correlation_aca(cramers_v, df['canceled'], df['diverted']).compute()"
   ]
  },
  {
   "cell_type": "code",
   "execution_count": 27,
   "metadata": {},
   "outputs": [
    {
     "data": {
      "text/plain": [
       "0    0.000576\n",
       "dtype: float64"
      ]
     },
     "execution_count": 27,
     "metadata": {},
     "output_type": "execute_result"
    }
   ],
   "source": [
    "dask_correlation_aca(theils_u, df['canceled'], df['diverted']).compute()"
   ]
  },
  {
   "cell_type": "code",
   "execution_count": 28,
   "metadata": {},
   "outputs": [
    {
     "data": {
      "text/plain": [
       "0    0.000334\n",
       "dtype: float64"
      ]
     },
     "execution_count": 28,
     "metadata": {},
     "output_type": "execute_result"
    }
   ],
   "source": [
    "dask_correlation_aca(correlation_ratio, df['canceled'], df['carrier_delay']).compute()"
   ]
  },
  {
   "cell_type": "code",
   "execution_count": 29,
   "metadata": {},
   "outputs": [
    {
     "data": {
      "text/plain": [
       "0    0.00159\n",
       "dtype: float64"
      ]
     },
     "execution_count": 29,
     "metadata": {},
     "output_type": "execute_result"
    }
   ],
   "source": [
    "dask_correlation_aca(theils_u_symmetrical, df['canceled'], df['diverted']).compute()"
   ]
  },
  {
   "cell_type": "code",
   "execution_count": null,
   "metadata": {},
   "outputs": [],
   "source": []
  }
 ],
 "metadata": {
  "kernelspec": {
   "display_name": "Python 3",
   "language": "python",
   "name": "python3"
  },
  "language_info": {
   "codemirror_mode": {
    "name": "ipython",
    "version": 3
   },
   "file_extension": ".py",
   "mimetype": "text/x-python",
   "name": "python",
   "nbconvert_exporter": "python",
   "pygments_lexer": "ipython3",
   "version": "3.7.1"
  }
 },
 "nbformat": 4,
 "nbformat_minor": 4
}
