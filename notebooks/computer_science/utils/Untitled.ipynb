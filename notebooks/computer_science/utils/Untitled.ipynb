{
 "cells": [
  {
   "cell_type": "code",
   "execution_count": 46,
   "id": "11b7f10d-ac33-488a-a836-c88e15778dff",
   "metadata": {},
   "outputs": [
    {
     "name": "stdout",
     "output_type": "stream",
     "text": [
      "Collecting ReParser\n",
      "  Downloading ReParser-1.4.3.tar.gz (4.6 kB)\n",
      "Building wheels for collected packages: ReParser\n",
      "  Building wheel for ReParser (setup.py) ... \u001b[?25ldone\n",
      "\u001b[?25h  Created wheel for ReParser: filename=ReParser-1.4.3-py3-none-any.whl size=4000 sha256=e157318f292c625e564e889d6268790e90a4769498d68f3f19ebd494aec7d5d0\n",
      "  Stored in directory: /Users/nathanieldake/Library/Caches/pip/wheels/0a/26/30/428bb0a44e53f0b7a8cac2d98de2c86224c5268ea6b4b04321\n",
      "Successfully built ReParser\n",
      "Installing collected packages: ReParser\n",
      "Successfully installed ReParser-1.4.3\n",
      "\u001b[33mWARNING: You are using pip version 21.0.1; however, version 21.3.1 is available.\n",
      "You should consider upgrading via the '/Users/nathanieldake/development/data-science/intuitiveml/venv/bin/python -m pip install --upgrade pip' command.\u001b[0m\n"
     ]
    }
   ],
   "source": [
    "!pip install ReParser"
   ]
  },
  {
   "cell_type": "code",
   "execution_count": 48,
   "id": "32f27d1f-0a6a-4681-8670-2d6a632b9cdd",
   "metadata": {},
   "outputs": [],
   "source": [
    "import re\n",
    "import reparser"
   ]
  },
  {
   "cell_type": "code",
   "execution_count": 51,
   "id": "3e1524e9-3c83-4dbf-84ac-5dcfa932b74c",
   "metadata": {},
   "outputs": [
    {
     "data": {
      "text/plain": [
       "['MatchGroup',\n",
       " 'MatchType',\n",
       " 'Parser',\n",
       " 'Segment',\n",
       " 'Token',\n",
       " '__builtins__',\n",
       " '__cached__',\n",
       " '__doc__',\n",
       " '__file__',\n",
       " '__loader__',\n",
       " '__name__',\n",
       " '__package__',\n",
       " '__spec__',\n",
       " 'enum',\n",
       " 'group_regex',\n",
       " 're']"
      ]
     },
     "execution_count": 51,
     "metadata": {},
     "output_type": "execute_result"
    }
   ],
   "source": [
    "dir(reparser)"
   ]
  },
  {
   "cell_type": "code",
   "execution_count": 65,
   "id": "fd1f17b6-15de-47bb-84a7-550ce1d8a2fe",
   "metadata": {},
   "outputs": [],
   "source": [
    "test_str = \"\"\"\n",
    "# Principles & Big Ideas\n",
    "This page is going to be a home base for all of the big picture ideas that I have come across related to, well, anything that is interesting! Ideally all of the ideas in here are of the type that really caused me to go \"Wow, what a beautiful way of looking at things\" when I first heard it. They are so powerful that I simply need them in my toolbox. They are worth the effort to add to. They should be a *distillation* of a much larger and more complex group of ideas.\n",
    "\n",
    "1. [The Right Representation](/posts/Right-Representation.md)\n",
    "2. [Patterns-and-Information-Compression](/posts/Patterns-and-Information-Compression.md)\n",
    "3. [Intelligence-is-Error-Correction](/posts/Intelligence-is-Error-Correction.md)\n",
    "4. [Calculus-is-a-System-of-Reasoning](/posts/Calculus-is-a-System-of-Reasoning.md)\n",
    "5. [Constraints-in-Math-and-Science](/posts/Constraints-in-Math-and-Science.md)\n",
    "6. [Mathematical-Structure, Patterns, Constraints, Information and Logic](Mathematical-Structure,%20Patterns,%20Constraints,%20Information%20and%20Logic)\n",
    "7. [All-of-Math-IS](/posts/All-of-Math-IS.md)\n",
    "8. [Science-is-about-correcting-errors-in-our-explanations](/posts/Science-is-about-correcting-errors-in-our-explanations.md)\n",
    "9. [Dual-Use-of-Information](/posts/Dual-Use-of-Information.md)\n",
    "10. [Algorithms-Exploit-Constraints](/posts/Algorithms-Exploit-Constraints.md)\n",
    "11. [Algorithms-and-Structures-can-create-new-Structures](/posts/Algorithms-and-Structures-can-create-new-Structures.md)\n",
    "12. [Software-Engineering-Architecture-and-Dependencies](/posts/Software-Engineering-Architecture-and-Dependencies.md)\n",
    "13. [Simplify-the-Problem](/posts/Simplify-the-Problem.md)\n",
    "14. [Applied-Complexity](/posts/Applied-Complexity.md)\n",
    "15. [Using-Models-as-Anchor-Points](/posts/Using-Models-as-Anchor-Points.md)\n",
    "16. [Creators-vs-Exploiters](/posts/Creators-vs-Exploiters.md)\n",
    "17. [Derivatives-provide-Direction](/posts/Derivatives-provide-Direction.md)\n",
    "18. [Never-Forget-the-Data-Generating-Process](/posts/Never-Forget-the-Data-Generating-Process.md)\n",
    "19. [360-Framing,-multiple-lenses](/posts/360-Framing,-multiple-lenses.md)\n",
    "20. [Do-not-be-too-general](/posts/Do-not-be-too-general.md)\n",
    "21. [Machine Learning and Expressiveness](posts/Machine-Learning-and-Expressiveness.md)\n",
    "22. \n",
    "\n",
    "### Mindset\n",
    "\n",
    "\n",
    "### General Thinking & Problem Solving\n",
    "\n",
    "\n",
    "### Technical Thinking\n",
    "\n",
    "\n",
    "### [Startup-Principles](posts/Startup-Principles.md)\n",
    "\n",
    "\n",
    "### To add\n",
    "* Max Tegmark (during fridman podcast) on Neural networks work because we can determine a local direction to move in. We always want to be able to determine the next best move.\n",
    "* Strogatz, infinity principle, churning nature of calculus\n",
    "* High dimensional spaces \n",
    "* Tons of stuff on bitcoin\n",
    "* error correction\n",
    "* deutsch writings\n",
    "* taleb writings (asymmetry, etc)\n",
    "* Algorithms and information space (see [Hash-Maps > Meta idea](Hash-Maps#Meta%20idea), [Algorithms-Some-intuition](posts/Algorithms-Some-intuition.md), hash map notes in noteability)\n",
    "\n",
    "### \n",
    "\n",
    "\n",
    "---\n",
    "Date: 20210811\n",
    "Links to: \n",
    "Tags: \n",
    "References:\n",
    "* []()\n",
    "\n",
    "\"\"\""
   ]
  },
  {
   "cell_type": "code",
   "execution_count": 44,
   "id": "dc4554a7-f8bd-497c-a2ee-ccc4798ec1d4",
   "metadata": {},
   "outputs": [],
   "source": [
    "# regex_str = \"\\[([^\\[]+)\\](\\(.*\\))\"\n",
    "\n",
    "name_regex = \"[^]]+\"\n",
    "# http: // or https:// followed by anything but a closing paren\n",
    "url_regex = \"http[s]?://[^)]+\"\n",
    "regex_str = '\\[({0})]\\(\\s*({1})\\s*\\)'.format(name_regex, url_regex)"
   ]
  },
  {
   "cell_type": "code",
   "execution_count": 45,
   "id": "122b0727-75f2-4d58-88b9-b5df2db4b431",
   "metadata": {},
   "outputs": [
    {
     "name": "stdout",
     "output_type": "stream",
     "text": [
      "[]\n"
     ]
    }
   ],
   "source": [
    "res = re.findall(regex_str, test_str)\n",
    "print(res)"
   ]
  },
  {
   "cell_type": "code",
   "execution_count": 36,
   "id": "eb9c600d-e91e-4309-9383-f7808200a21c",
   "metadata": {},
   "outputs": [],
   "source": [
    "for (g1, g2) in res:\n",
    "    g1_updated = g1.replace('-', ' ')\n",
    "    test_str = test_str.replace(g1, g1_updated)"
   ]
  },
  {
   "cell_type": "code",
   "execution_count": 37,
   "id": "ecf2f222-a7ec-4432-b467-0778bb605847",
   "metadata": {},
   "outputs": [
    {
     "name": "stdout",
     "output_type": "stream",
     "text": [
      "\n",
      "# Principles & Big Ideas\n",
      "This page is going to be a home base for all of the big picture ideas that I have come across related to, well, anything that is interesting! Ideally all of the ideas in here are of the type that really caused me to go \"Wow, what a beautiful way of looking at things\" when I first heard it. They are so powerful that I simply need them in my toolbox. They are worth the effort to add to. They should be a *distillation* of a much larger and more complex group of ideas.\n",
      "\n",
      "1. [The Right Representation](/posts/Right-Representation.md)\n",
      "2. [Patterns-and-Information-Compression](/posts/Patterns-and-Information-Compression.md)\n",
      "3. [Intelligence-is-Error-Correction](/posts/Intelligence-is-Error-Correction.md)\n",
      "4. [Calculus-is-a-System-of-Reasoning](/posts/Calculus-is-a-System-of-Reasoning.md)\n",
      "5. [Constraints-in-Math-and-Science](/posts/Constraints-in-Math-and-Science.md)\n",
      "6. [Mathematical-Structure, Patterns, Constraints, Information and Logic](Mathematical-Structure,%20Patterns,%20Constraints,%20Information%20and%20Logic)\n",
      "7. [All-of-Math-IS](/posts/All-of-Math-IS.md)\n",
      "8. [Science-is-about-correcting-errors-in-our-explanations](/posts/Science-is-about-correcting-errors-in-our-explanations.md)\n",
      "9. [Dual-Use-of-Information](/posts/Dual-Use-of-Information.md)\n",
      "10. [Algorithms-Exploit-Constraints](/posts/Algorithms-Exploit-Constraints.md)\n",
      "11. [Algorithms-and-Structures-can-create-new-Structures](/posts/Algorithms-and-Structures-can-create-new-Structures.md)\n",
      "12. [Software-Engineering-Architecture-and-Dependencies](/posts/Software-Engineering-Architecture-and-Dependencies.md)\n",
      "13. [Simplify-the-Problem](/posts/Simplify-the-Problem.md)\n",
      "14. [Applied-Complexity](/posts/Applied-Complexity.md)\n",
      "15. [Using-Models-as-Anchor-Points](/posts/Using-Models-as-Anchor-Points.md)\n",
      "16. [Creators-vs-Exploiters](/posts/Creators-vs-Exploiters.md)\n",
      "17. [Derivatives-provide-Direction](/posts/Derivatives-provide-Direction.md)\n",
      "18. [Never-Forget-the-Data-Generating-Process](/posts/Never-Forget-the-Data-Generating-Process.md)\n",
      "19. [360-Framing,-multiple-lenses](/posts/360-Framing,-multiple-lenses.md)\n",
      "20. [Do-not-be-too-general](/posts/Do-not-be-too-general.md)\n",
      "21. [Machine Learning and Expressiveness](posts/Machine-Learning-and-Expressiveness.md)\n",
      "22. \n",
      "\n",
      "### Mindset\n",
      "\n",
      "\n",
      "### General Thinking & Problem Solving\n",
      "\n",
      "\n",
      "### Technical Thinking\n",
      "\n",
      "\n",
      "### [Startup-Principles](posts/Startup-Principles.md)\n",
      "\n",
      "\n",
      "### To add\n",
      "* Max Tegmark (during fridman podcast) on Neural networks work because we can determine a local direction to move in. We always want to be able to determine the next best move.\n",
      "* Strogatz, infinity principle, churning nature of calculus\n",
      "* High dimensional spaces \n",
      "* Tons of stuff on bitcoin\n",
      "* error correction\n",
      "* deutsch writings\n",
      "* taleb writings (asymmetry, etc)\n",
      "* Algorithms and information space (see [Hash-Maps > Meta idea](Hash-Maps#Meta%20idea), [Algorithms-Some-intuition](posts/Algorithms-Some-intuition.md), hash map notes in noteability)\n",
      "\n",
      "### \n",
      "\n",
      "\n",
      "---\n",
      "Date: 20210811\n",
      "Links to: \n",
      "Tags: \n",
      "References:\n",
      "* []()\n",
      "\n",
      "\n"
     ]
    }
   ],
   "source": [
    "print(test_str)"
   ]
  },
  {
   "cell_type": "code",
   "execution_count": 26,
   "id": "8561e47e-a6e8-452e-96cb-164b83ff86ad",
   "metadata": {},
   "outputs": [
    {
     "data": {
      "text/plain": [
       "[('The Right Representation', '(/posts/Right-Representation.md)'),\n",
       " ('Patterns-and-Information-Compression',\n",
       "  '(/posts/Patterns-and-Information-Compression.md)'),\n",
       " ('Intelligence-is-Error-Correction',\n",
       "  '(/posts/Intelligence-is-Error-Correction.md)'),\n",
       " ('Calculus-is-a-System-of-Reasoning',\n",
       "  '(/posts/Calculus-is-a-System-of-Reasoning.md)'),\n",
       " ('Constraints-in-Math-and-Science',\n",
       "  '(/posts/Constraints-in-Math-and-Science.md)'),\n",
       " ('Mathematical-Structure, Patterns, Constraints, Information and Logic',\n",
       "  '(Mathematical-Structure,%20Patterns,%20Constraints,%20Information%20and%20Logic)'),\n",
       " ('All-of-Math-IS', '(/posts/All-of-Math-IS.md)'),\n",
       " ('Science-is-about-correcting-errors-in-our-explanations',\n",
       "  '(/posts/Science-is-about-correcting-errors-in-our-explanations.md)'),\n",
       " ('Dual-Use-of-Information', '(/posts/Dual-Use-of-Information.md)'),\n",
       " ('Algorithms-Exploit-Constraints',\n",
       "  '(/posts/Algorithms-Exploit-Constraints.md)'),\n",
       " ('Algorithms-and-Structures-can-create-new-Structures',\n",
       "  '(/posts/Algorithms-and-Structures-can-create-new-Structures.md)'),\n",
       " ('Software-Engineering-Architecture-and-Dependencies',\n",
       "  '(/posts/Software-Engineering-Architecture-and-Dependencies.md)'),\n",
       " ('Simplify-the-Problem', '(/posts/Simplify-the-Problem.md)'),\n",
       " ('Applied-Complexity', '(/posts/Applied-Complexity.md)'),\n",
       " ('Using-Models-as-Anchor-Points',\n",
       "  '(/posts/Using-Models-as-Anchor-Points.md)'),\n",
       " ('Creators-vs-Exploiters', '(/posts/Creators-vs-Exploiters.md)'),\n",
       " ('Derivatives-provide-Direction',\n",
       "  '(/posts/Derivatives-provide-Direction.md)'),\n",
       " ('Never-Forget-the-Data-Generating-Process',\n",
       "  '(/posts/Never-Forget-the-Data-Generating-Process.md)'),\n",
       " ('360-Framing,-multiple-lenses', '(/posts/360-Framing,-multiple-lenses.md)'),\n",
       " ('Do-not-be-too-general', '(/posts/Do-not-be-too-general.md)'),\n",
       " ('Machine Learning and Expressiveness',\n",
       "  '(posts/Machine-Learning-and-Expressiveness.md)'),\n",
       " ('Startup-Principles', '(posts/Startup-Principles.md)'),\n",
       " ('Hash-Maps > Meta idea',\n",
       "  '(Hash-Maps#Meta%20idea), [Algorithms-Some-intuition](posts/Algorithms-Some-intuition.md), hash map notes in noteability)')]"
      ]
     },
     "execution_count": 26,
     "metadata": {},
     "output_type": "execute_result"
    }
   ],
   "source": [
    "res\n"
   ]
  },
  {
   "cell_type": "code",
   "execution_count": 62,
   "id": "01f7f5b6-be73-480d-9d73-7d03ff20325a",
   "metadata": {},
   "outputs": [
    {
     "name": "stdout",
     "output_type": "stream",
     "text": [
      "Collecting lxml\n",
      "  Downloading lxml-4.7.1-cp38-cp38-macosx_10_14_x86_64.whl (4.5 MB)\n",
      "\u001b[K     |████████████████████████████████| 4.5 MB 1.4 MB/s eta 0:00:01\n",
      "\u001b[?25hInstalling collected packages: lxml\n",
      "Successfully installed lxml-4.7.1\n",
      "\u001b[33mWARNING: You are using pip version 21.0.1; however, version 21.3.1 is available.\n",
      "You should consider upgrading via the '/Users/nathanieldake/development/data-science/intuitiveml/venv/bin/python -m pip install --upgrade pip' command.\u001b[0m\n"
     ]
    }
   ],
   "source": [
    "!pip install lxml"
   ]
  },
  {
   "cell_type": "code",
   "execution_count": 63,
   "id": "3814149a-46c9-4563-9a97-e5e260bc762d",
   "metadata": {},
   "outputs": [
    {
     "name": "stdout",
     "output_type": "stream",
     "text": [
      "inline link http://google.com\n",
      "non inline link http://yahoo.com\n"
     ]
    }
   ],
   "source": [
    "import markdown\n",
    "from lxml import etree\n",
    "\n",
    "body_markdown = \"This is an [inline link](http://google.com). This is a [non inline link][1]\\r\\n\\r\\n  [1]: http://yahoo.com\"\n",
    "\n",
    "doc = etree.fromstring(markdown.markdown(body_markdown))\n",
    "for link in doc.xpath('//a'):\n",
    "    print(link.text, link.get('href'))"
   ]
  },
  {
   "cell_type": "code",
   "execution_count": 68,
   "id": "5ddfbabf-1b84-42a1-a73d-d78ada9b601e",
   "metadata": {},
   "outputs": [
    {
     "data": {
      "text/plain": [
       "'<h1>Principles &amp; Big Ideas</h1>\\n<p>This page is going to be a home base for all of the big picture ideas that I have come across related to, well, anything that is interesting! Ideally all of the ideas in here are of the type that really caused me to go \"Wow, what a beautiful way of looking at things\" when I first heard it. They are so powerful that I simply need them in my toolbox. They are worth the effort to add to. They should be a <em>distillation</em> of a much larger and more complex group of ideas.</p>\\n<ol>\\n<li><a href=\"/posts/Right-Representation.md\">The Right Representation</a></li>\\n<li><a href=\"/posts/Patterns-and-Information-Compression.md\">Patterns-and-Information-Compression</a></li>\\n<li><a href=\"/posts/Intelligence-is-Error-Correction.md\">Intelligence-is-Error-Correction</a></li>\\n<li><a href=\"/posts/Calculus-is-a-System-of-Reasoning.md\">Calculus-is-a-System-of-Reasoning</a></li>\\n<li><a href=\"/posts/Constraints-in-Math-and-Science.md\">Constraints-in-Math-and-Science</a></li>\\n<li><a href=\"Mathematical-Structure,%20Patterns,%20Constraints,%20Information%20and%20Logic\">Mathematical-Structure, Patterns, Constraints, Information and Logic</a></li>\\n<li><a href=\"/posts/All-of-Math-IS.md\">All-of-Math-IS</a></li>\\n<li><a href=\"/posts/Science-is-about-correcting-errors-in-our-explanations.md\">Science-is-about-correcting-errors-in-our-explanations</a></li>\\n<li><a href=\"/posts/Dual-Use-of-Information.md\">Dual-Use-of-Information</a></li>\\n<li><a href=\"/posts/Algorithms-Exploit-Constraints.md\">Algorithms-Exploit-Constraints</a></li>\\n<li><a href=\"/posts/Algorithms-and-Structures-can-create-new-Structures.md\">Algorithms-and-Structures-can-create-new-Structures</a></li>\\n<li><a href=\"/posts/Software-Engineering-Architecture-and-Dependencies.md\">Software-Engineering-Architecture-and-Dependencies</a></li>\\n<li><a href=\"/posts/Simplify-the-Problem.md\">Simplify-the-Problem</a></li>\\n<li><a href=\"/posts/Applied-Complexity.md\">Applied-Complexity</a></li>\\n<li><a href=\"/posts/Using-Models-as-Anchor-Points.md\">Using-Models-as-Anchor-Points</a></li>\\n<li><a href=\"/posts/Creators-vs-Exploiters.md\">Creators-vs-Exploiters</a></li>\\n<li><a href=\"/posts/Derivatives-provide-Direction.md\">Derivatives-provide-Direction</a></li>\\n<li><a href=\"/posts/Never-Forget-the-Data-Generating-Process.md\">Never-Forget-the-Data-Generating-Process</a></li>\\n<li><a href=\"/posts/360-Framing,-multiple-lenses.md\">360-Framing,-multiple-lenses</a></li>\\n<li><a href=\"/posts/Do-not-be-too-general.md\">Do-not-be-too-general</a></li>\\n<li><a href=\"posts/Machine-Learning-and-Expressiveness.md\">Machine Learning and Expressiveness</a></li>\\n<li></li>\\n</ol>\\n<h3>Mindset</h3>\\n<h3>General Thinking &amp; Problem Solving</h3>\\n<h3>Technical Thinking</h3>\\n<h3><a href=\"posts/Startup-Principles.md\">Startup-Principles</a></h3>\\n<h3>To add</h3>\\n<ul>\\n<li>Max Tegmark (during fridman podcast) on Neural networks work because we can determine a local direction to move in. We always want to be able to determine the next best move.</li>\\n<li>Strogatz, infinity principle, churning nature of calculus</li>\\n<li>High dimensional spaces </li>\\n<li>Tons of stuff on bitcoin</li>\\n<li>error correction</li>\\n<li>deutsch writings</li>\\n<li>taleb writings (asymmetry, etc)</li>\\n<li>Algorithms and information space (see <a href=\"Hash-Maps#Meta%20idea\">Hash-Maps &gt; Meta idea</a>, <a href=\"posts/Algorithms-Some-intuition.md\">Algorithms-Some-intuition</a>, hash map notes in noteability)</li>\\n</ul>\\n<h3></h3>\\n<hr />\\n<p>Date: 20210811\\nLinks to: \\nTags: \\nReferences:\\n* <a href=\"\"></a></p>'"
      ]
     },
     "execution_count": 68,
     "metadata": {},
     "output_type": "execute_result"
    }
   ],
   "source": [
    "markdown.markdown(test_str)"
   ]
  },
  {
   "cell_type": "code",
   "execution_count": 71,
   "id": "4b39aae8-ffc9-40fe-a5f9-23cf3c430739",
   "metadata": {},
   "outputs": [],
   "source": [
    "import re\n",
    "\n",
    "INLINE_LINK_RE = re.compile(r'\\[([^\\]]+)\\]\\(([^)]+)\\)')\n",
    "FOOTNOTE_LINK_TEXT_RE = re.compile(r'\\[([^\\]]+)\\]\\[(\\d+)\\]')\n",
    "FOOTNOTE_LINK_URL_RE = re.compile(r'\\[(\\d+)\\]:\\s+(\\S+)')\n",
    "\n",
    "\n",
    "def find_md_links(md):\n",
    "    \"\"\" Return dict of links in markdown \"\"\"\n",
    "\n",
    "    links = dict(INLINE_LINK_RE.findall(md))\n",
    "    footnote_links = dict(FOOTNOTE_LINK_TEXT_RE.findall(md))\n",
    "    footnote_urls = dict(FOOTNOTE_LINK_URL_RE.findall(md))\n",
    "\n",
    "    for key, value in footnote_links.items():\n",
    "        footnote_links[key] = footnote_urls[value]\n",
    "    links.update(footnote_links)\n",
    "\n",
    "    return links"
   ]
  },
  {
   "cell_type": "code",
   "execution_count": 72,
   "id": "19f1e753-fa8e-4b53-9aa5-ccdfce660ff4",
   "metadata": {},
   "outputs": [
    {
     "data": {
      "text/plain": [
       "{'The Right Representation': '/posts/Right-Representation.md',\n",
       " 'Patterns-and-Information-Compression': '/posts/Patterns-and-Information-Compression.md',\n",
       " 'Intelligence-is-Error-Correction': '/posts/Intelligence-is-Error-Correction.md',\n",
       " 'Calculus-is-a-System-of-Reasoning': '/posts/Calculus-is-a-System-of-Reasoning.md',\n",
       " 'Constraints-in-Math-and-Science': '/posts/Constraints-in-Math-and-Science.md',\n",
       " 'Mathematical-Structure, Patterns, Constraints, Information and Logic': 'Mathematical-Structure,%20Patterns,%20Constraints,%20Information%20and%20Logic',\n",
       " 'All-of-Math-IS': '/posts/All-of-Math-IS.md',\n",
       " 'Science-is-about-correcting-errors-in-our-explanations': '/posts/Science-is-about-correcting-errors-in-our-explanations.md',\n",
       " 'Dual-Use-of-Information': '/posts/Dual-Use-of-Information.md',\n",
       " 'Algorithms-Exploit-Constraints': '/posts/Algorithms-Exploit-Constraints.md',\n",
       " 'Algorithms-and-Structures-can-create-new-Structures': '/posts/Algorithms-and-Structures-can-create-new-Structures.md',\n",
       " 'Software-Engineering-Architecture-and-Dependencies': '/posts/Software-Engineering-Architecture-and-Dependencies.md',\n",
       " 'Simplify-the-Problem': '/posts/Simplify-the-Problem.md',\n",
       " 'Applied-Complexity': '/posts/Applied-Complexity.md',\n",
       " 'Using-Models-as-Anchor-Points': '/posts/Using-Models-as-Anchor-Points.md',\n",
       " 'Creators-vs-Exploiters': '/posts/Creators-vs-Exploiters.md',\n",
       " 'Derivatives-provide-Direction': '/posts/Derivatives-provide-Direction.md',\n",
       " 'Never-Forget-the-Data-Generating-Process': '/posts/Never-Forget-the-Data-Generating-Process.md',\n",
       " '360-Framing,-multiple-lenses': '/posts/360-Framing,-multiple-lenses.md',\n",
       " 'Do-not-be-too-general': '/posts/Do-not-be-too-general.md',\n",
       " 'Machine Learning and Expressiveness': 'posts/Machine-Learning-and-Expressiveness.md',\n",
       " 'Startup-Principles': 'posts/Startup-Principles.md',\n",
       " 'Hash-Maps > Meta idea': 'Hash-Maps#Meta%20idea',\n",
       " 'Algorithms-Some-intuition': 'posts/Algorithms-Some-intuition.md'}"
      ]
     },
     "execution_count": 72,
     "metadata": {},
     "output_type": "execute_result"
    }
   ],
   "source": [
    "find_md_links(test_str)"
   ]
  },
  {
   "cell_type": "code",
   "execution_count": null,
   "id": "27f58d37-d6b5-4cb2-9d76-9ae025de8ddf",
   "metadata": {},
   "outputs": [],
   "source": []
  }
 ],
 "metadata": {
  "kernelspec": {
   "display_name": "Python 3",
   "language": "python",
   "name": "python3"
  },
  "language_info": {
   "codemirror_mode": {
    "name": "ipython",
    "version": 3
   },
   "file_extension": ".py",
   "mimetype": "text/x-python",
   "name": "python",
   "nbconvert_exporter": "python",
   "pygments_lexer": "ipython3",
   "version": "3.8.0"
  }
 },
 "nbformat": 4,
 "nbformat_minor": 5
}
