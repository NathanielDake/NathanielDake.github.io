{
 "cells": [
  {
   "cell_type": "code",
   "execution_count": 1,
   "id": "ca2b62f9-d07b-44f0-9311-c28a853e3864",
   "metadata": {},
   "outputs": [],
   "source": [
    "import hashlib"
   ]
  },
  {
   "cell_type": "code",
   "execution_count": 2,
   "id": "76d9fa0b-ac8b-4f92-96a2-c700ca6bd2cf",
   "metadata": {
    "jupyter": {
     "source_hidden": true
    },
    "tags": []
   },
   "outputs": [],
   "source": [
    "my_string = \"\"\"\n",
    "\n",
    "@Darwesh According to RFC 1321, the md5 is always 16 bytes. If you just want a 16 character long digest, you can do a slice as Baris Demiray said. – ryan Dec 6 '16 at 10:20 \n",
    "Add a comment  |  Show 3 more comments\n",
    "\n",
    "629\n",
    "\n",
    "You can do the following:\n",
    "\n",
    "Python 2.x\n",
    "\n",
    "import hashlib\n",
    "print hashlib.md5(\"whatever your string is\").hexdigest()\n",
    "Python 3.x\n",
    "\n",
    "import hashlib\n",
    "print(hashlib.md5(\"whatever your string is\".encode('utf-8')).hexdigest())\n",
    "However in this case you're probably better off using this helpful Python module for interacting with the Flickr API:\n",
    "\n",
    "http://stuvel.eu/flickrapi\n",
    "... which will deal with the authentication for you.\n",
    "\n",
    "Official documentation of hashlib\n",
    "\n",
    "Share\n",
    "Edit\n",
    "Follow\n",
    "Flag\n",
    "edited Apr 15 '14 at 9:02\n",
    "\n",
    "akki\n",
    "1,1681717 silver badges2828 bronze badges\n",
    "answered Mar 14 '11 at 10:42\n",
    "\n",
    "Mark Longair\n",
    "383k6666 gold badges391391 silver badges319319 bronze badges\n",
    "\n",
    "I saw the API. I was just curious how I could do it anyhow. Thanks! – super9 Mar 14 '11 at 10:50\n",
    "1\n",
    "\n",
    "hexdigest() returns a 32 character long digest. How to get a 16 character long digest? – Adil Malik Jun 15 '16 at 19:03\n",
    "2\n",
    "\n",
    "Nice answer! May I ask why in Python 2 we don't need to do utf-8 encoding, however in Python 3 we need to do the encoding. Thanks. @Mark Longair – Jeff Hu Nov 20 '17 at 5:04\n",
    "3\n",
    "\n",
    "@JeffHu, because hashlib.md5 expects a bytes-like-object – MaxU Jan 25 '18 at 15:48\n",
    "1\n",
    "\n",
    "The Python 3 version should be used in Python 2 as well. @JeffHu expanding on what @MaxU said, the md5 function takes a bytestring and does not accept unicode. Python 3 is (correctly) strict/explicit, and so a an str (\"\") is unicode and has to be encoded to a bytestring. Strings in python2 can be interpreted as either a btyestring or unicode string, and passing a str (\"\") string is interpreted as a bytestring. If the string has unicode characters, this will raise an Exception. Encoding a bytestring will leave ascii characters untouched and convert unicode correctly – Charles L. Aug 20 '18 at 16:13 \n",
    "Add a comment  |  Show 2 more comments\n",
    "\n",
    "11\n",
    "\n",
    "Have you tried using the MD5 implementation in hashlib? Note that hashing algorithms typically act on binary data rather than text data, so you may want to be careful about which character encoding is used to convert from text to binary data before hashing.\n",
    "\n",
    "The result of a hash is also binary data - it looks like Flickr's example has then been converted into text using hex encoding. Use the hexdigest function in hashlib to get this.\n",
    "\n",
    "\"\"\""
   ]
  },
  {
   "cell_type": "code",
   "execution_count": 3,
   "id": "f092a22b-39e7-403b-a7ab-d135eb27a005",
   "metadata": {},
   "outputs": [
    {
     "data": {
      "text/plain": [
       "'\\n\\n@Darwesh According to RFC 1321, the md5 is always 16 bytes. If you just want a 16 character long digest, you can do a slice as Baris Demiray said. – ryan Dec 6 \\'16 at 10:20 \\nAdd a comment  |  Show 3 more comments\\n\\n629\\n\\nYou can do the following:\\n\\nPython 2.x\\n\\nimport hashlib\\nprint hashlib.md5(\"whatever your string is\").hexdigest()\\nPython 3.x\\n\\nimport hashlib\\nprint(hashlib.md5(\"whatever your string is\".encode(\\'utf-8\\')).hexdigest())\\nHowever in this case you\\'re probably better off using this helpful Python module for interacting with the Flickr API:\\n\\nhttp://stuvel.eu/flickrapi\\n... which will deal with the authentication for you.\\n\\nOfficial documentation of hashlib\\n\\nShare\\nEdit\\nFollow\\nFlag\\nedited Apr 15 \\'14 at 9:02\\n\\nakki\\n1,1681717 silver badges2828 bronze badges\\nanswered Mar 14 \\'11 at 10:42\\n\\nMark Longair\\n383k6666 gold badges391391 silver badges319319 bronze badges\\n\\nI saw the API. I was just curious how I could do it anyhow. Thanks! – super9 Mar 14 \\'11 at 10:50\\n1\\n\\nhexdigest() returns a 32 character long digest. How to get a 16 character long digest? – Adil Malik Jun 15 \\'16 at 19:03\\n2\\n\\nNice answer! May I ask why in Python 2 we don\\'t need to do utf-8 encoding, however in Python 3 we need to do the encoding. Thanks. @Mark Longair – Jeff Hu Nov 20 \\'17 at 5:04\\n3\\n\\n@JeffHu, because hashlib.md5 expects a bytes-like-object – MaxU Jan 25 \\'18 at 15:48\\n1\\n\\nThe Python 3 version should be used in Python 2 as well. @JeffHu expanding on what @MaxU said, the md5 function takes a bytestring and does not accept unicode. Python 3 is (correctly) strict/explicit, and so a an str (\"\") is unicode and has to be encoded to a bytestring. Strings in python2 can be interpreted as either a btyestring or unicode string, and passing a str (\"\") string is interpreted as a bytestring. If the string has unicode characters, this will raise an Exception. Encoding a bytestring will leave ascii characters untouched and convert unicode correctly – Charles L. Aug 20 \\'18 at 16:13 \\nAdd a comment  |  Show 2 more comments\\n\\n11\\n\\nHave you tried using the MD5 implementation in hashlib? Note that hashing algorithms typically act on binary data rather than text data, so you may want to be careful about which character encoding is used to convert from text to binary data before hashing.\\n\\nThe result of a hash is also binary data - it looks like Flickr\\'s example has then been converted into text using hex encoding. Use the hexdigest function in hashlib to get this.\\n\\n'"
      ]
     },
     "execution_count": 3,
     "metadata": {},
     "output_type": "execute_result"
    }
   ],
   "source": [
    "my_string"
   ]
  },
  {
   "cell_type": "code",
   "execution_count": 5,
   "id": "ded6d352-8771-4c55-af6b-89fdc76ea925",
   "metadata": {},
   "outputs": [],
   "source": [
    "md5_hash_string = hashlib.md5(my_string.encode('utf-8')).hexdigest()"
   ]
  },
  {
   "cell_type": "code",
   "execution_count": 6,
   "id": "6ab0ef54-8a6a-4ca2-a1e0-f61851f41eba",
   "metadata": {},
   "outputs": [
    {
     "ename": "ModuleNotFoundError",
     "evalue": "No module named 'bitarray'",
     "output_type": "error",
     "traceback": [
      "\u001b[0;31m---------------------------------------------------------------------------\u001b[0m",
      "\u001b[0;31mModuleNotFoundError\u001b[0m                       Traceback (most recent call last)",
      "\u001b[0;32m<ipython-input-6-cf02ce84556c>\u001b[0m in \u001b[0;36m<module>\u001b[0;34m\u001b[0m\n\u001b[0;32m----> 1\u001b[0;31m \u001b[0;32mimport\u001b[0m \u001b[0mbitarray\u001b[0m\u001b[0;34m\u001b[0m\u001b[0;34m\u001b[0m\u001b[0m\n\u001b[0m",
      "\u001b[0;31mModuleNotFoundError\u001b[0m: No module named 'bitarray'"
     ]
    }
   ],
   "source": [
    "import bitarray"
   ]
  },
  {
   "cell_type": "code",
   "execution_count": null,
   "id": "23bb2e12-4b0f-404e-94cf-54b4bb429554",
   "metadata": {},
   "outputs": [],
   "source": [
    "md5_hash_in_bits = b"
   ]
  },
  {
   "cell_type": "code",
   "execution_count": 7,
   "id": "0d023ea1-6346-473b-ac99-b330d3cabd05",
   "metadata": {},
   "outputs": [],
   "source": [
    "def text_to_bits(text):\n",
    "    \"\"\"\n",
    "    >>> text_to_bits(\"Hi\")\n",
    "    [0, 1, 0, 0, 1, 0, 0, 0, 0, 1, 1, 0, 1, 0, 0, 1]\n",
    "    \"\"\"\n",
    "    bits = bin(int.from_bytes(text.encode(), 'big'))[2:]\n",
    "    return list(map(int, bits.zfill(8 * ((len(bits) + 7) // 8))))"
   ]
  },
  {
   "cell_type": "code",
   "execution_count": 18,
   "id": "b78210dc-d7a8-4f9e-a1f6-6267b4ffd31b",
   "metadata": {},
   "outputs": [],
   "source": [
    "md5_hash_in_bits = \"\".join([str(x) for x in text_to_bits(md5_hash_string)])"
   ]
  },
  {
   "cell_type": "code",
   "execution_count": 19,
   "id": "58f4bd8e-1c74-454b-bf58-3270e3ede67a",
   "metadata": {},
   "outputs": [
    {
     "data": {
      "text/plain": [
       "256"
      ]
     },
     "execution_count": 19,
     "metadata": {},
     "output_type": "execute_result"
    }
   ],
   "source": [
    "len(md5_hash_in_bits) # 256 bits, as expected!"
   ]
  },
  {
   "cell_type": "code",
   "execution_count": null,
   "id": "c9546bd3-5dd3-4555-8b94-95505e61bab0",
   "metadata": {},
   "outputs": [],
   "source": []
  },
  {
   "cell_type": "code",
   "execution_count": null,
   "id": "30acd66e-4672-4d2d-9435-96d53d7059fb",
   "metadata": {},
   "outputs": [],
   "source": []
  }
 ],
 "metadata": {
  "kernelspec": {
   "display_name": "Python 3",
   "language": "python",
   "name": "python3"
  },
  "language_info": {
   "codemirror_mode": {
    "name": "ipython",
    "version": 3
   },
   "file_extension": ".py",
   "mimetype": "text/x-python",
   "name": "python",
   "nbconvert_exporter": "python",
   "pygments_lexer": "ipython3",
   "version": "3.8.0"
  }
 },
 "nbformat": 4,
 "nbformat_minor": 5
}
