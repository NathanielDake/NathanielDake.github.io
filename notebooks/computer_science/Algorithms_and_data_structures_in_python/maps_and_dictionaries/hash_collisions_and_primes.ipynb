{
 "cells": [
  {
   "cell_type": "code",
   "execution_count": 15,
   "id": "1474bec5-8b36-4d50-afa3-9a35db8aeb67",
   "metadata": {},
   "outputs": [],
   "source": [
    "import numpy as np\n",
    "import matplotlib.pyplot as plt"
   ]
  },
  {
   "cell_type": "code",
   "execution_count": null,
   "id": "bba945e2-326c-41fd-9cf4-936ce7edfe65",
   "metadata": {},
   "outputs": [],
   "source": [
    "# https://computinglife.wordpress.com/2008/11/20/why-do-hash-functions-use-prime-numbers/"
   ]
  },
  {
   "cell_type": "code",
   "execution_count": 2,
   "id": "9eb84194-5923-430e-9d66-8f35b54f8e2d",
   "metadata": {},
   "outputs": [],
   "source": [
    "def h(x, alpha=7, p=31):\n",
    "    sum_counter = 0\n",
    "    for idx, x_ in enumerate(x):\n",
    "        sum_counter += x_ * alpha**idx\n",
    "    return sum_counter % p"
   ]
  },
  {
   "cell_type": "code",
   "execution_count": 9,
   "id": "e40ca694-4d6f-4085-98a6-95823eccd562",
   "metadata": {},
   "outputs": [],
   "source": [
    "x_list = [np.random.choice(range(0, 26), 6) for i in range(0, 1000)]"
   ]
  },
  {
   "cell_type": "code",
   "execution_count": 12,
   "id": "8301fd76-4412-4b20-aa8a-dfd3a98563ca",
   "metadata": {},
   "outputs": [
    {
     "name": "stdout",
     "output_type": "stream",
     "text": [
      "1000\n",
      "6\n"
     ]
    }
   ],
   "source": [
    "print(len(x_list))\n",
    "print(len(x_list[0]))"
   ]
  },
  {
   "cell_type": "code",
   "execution_count": 13,
   "id": "7afb9632-67bf-4e35-b14a-efffdb437760",
   "metadata": {},
   "outputs": [],
   "source": [
    "x_list_transformed = [h(x) for x in x_list]"
   ]
  },
  {
   "cell_type": "code",
   "execution_count": 16,
   "id": "5085d7b9-4ed0-4090-b37e-79c902fdb150",
   "metadata": {},
   "outputs": [
    {
     "data": {
      "text/plain": [
       "(array([ 85.,  97., 113., 100., 109.,  86.,  87., 100.,  91., 132.]),\n",
       " array([ 0.,  3.,  6.,  9., 12., 15., 18., 21., 24., 27., 30.]),\n",
       " <BarContainer object of 10 artists>)"
      ]
     },
     "execution_count": 16,
     "metadata": {},
     "output_type": "execute_result"
    },
    {
     "data": {
      "image/png": "[encoded data removed]",
      "text/plain": [
       "<Figure size 432x288 with 1 Axes>"
      ]
     },
     "metadata": {
      "needs_background": "light"
     },
     "output_type": "display_data"
    }
   ],
   "source": [
    "plt.hist(x_list_transformed)"
   ]
  },
  {
   "cell_type": "code",
   "execution_count": 17,
   "id": "51250451-13b2-4d38-879e-90da4f7fc0c8",
   "metadata": {},
   "outputs": [],
   "source": [
    "x_list_transformed_2 = [h(x, p=32) for x in x_list]"
   ]
  },
  {
   "cell_type": "code",
   "execution_count": 18,
   "id": "1a44f4c2-bed7-4039-8866-f20f66c46b11",
   "metadata": {},
   "outputs": [
    {
     "data": {
      "text/plain": [
       "(array([136., 100., 110.,  88., 103.,  78.,  88.,  86.,  93., 118.]),\n",
       " array([ 0. ,  3.1,  6.2,  9.3, 12.4, 15.5, 18.6, 21.7, 24.8, 27.9, 31. ]),\n",
       " <BarContainer object of 10 artists>)"
      ]
     },
     "execution_count": 18,
     "metadata": {},
     "output_type": "execute_result"
    },
    {
     "data": {
      "image/png": "[encoded data removed]",
      "text/plain": [
       "<Figure size 432x288 with 1 Axes>"
      ]
     },
     "metadata": {
      "needs_background": "light"
     },
     "output_type": "display_data"
    }
   ],
   "source": [
    "plt.hist(x_list_transformed_2)"
   ]
  },
  {
   "cell_type": "code",
   "execution_count": 31,
   "id": "6fae25a5-8e22-4fb8-a167-d7b0264b66de",
   "metadata": {},
   "outputs": [],
   "source": [
    "from scipy.stats import ks_2samp"
   ]
  },
  {
   "cell_type": "code",
   "execution_count": 32,
   "id": "f719a987-3c01-40f7-8450-81a4b7f04fdb",
   "metadata": {},
   "outputs": [
    {
     "data": {
      "text/plain": [
       "KstestResult(statistic=0.024, pvalue=0.9357699014782725)"
      ]
     },
     "execution_count": 32,
     "metadata": {},
     "output_type": "execute_result"
    }
   ],
   "source": [
    "ks_2samp(x_list_transformed, x_list_transformed_2)"
   ]
  },
  {
   "cell_type": "code",
   "execution_count": 33,
   "id": "de727ae6-822b-4b0e-92ce-c8edbb39f139",
   "metadata": {},
   "outputs": [],
   "source": [
    "def cdf(x):\n",
    "    x, y = sorted(x), np.arange(len(x)) / len(x)\n",
    "    return x, y\n",
    "    "
   ]
  },
  {
   "cell_type": "code",
   "execution_count": 34,
   "id": "8cb6de82-ce3c-4a2d-b3c2-70f169a0e361",
   "metadata": {},
   "outputs": [],
   "source": [
    "x, y = cdf(x_list_transformed)"
   ]
  },
  {
   "cell_type": "code",
   "execution_count": 35,
   "id": "0b9fcebf-9ddb-48f3-a550-827941514a80",
   "metadata": {},
   "outputs": [
    {
     "data": {
      "text/plain": [
       "[<matplotlib.lines.Line2D at 0x15bba4cd0>]"
      ]
     },
     "execution_count": 35,
     "metadata": {},
     "output_type": "execute_result"
    },
    {
     "data": {
      "image/png": "[encoded data removed]",
      "text/plain": [
       "<Figure size 432x288 with 1 Axes>"
      ]
     },
     "metadata": {
      "needs_background": "light"
     },
     "output_type": "display_data"
    }
   ],
   "source": [
    "plt.plot(x, y)"
   ]
  },
  {
   "cell_type": "code",
   "execution_count": 36,
   "id": "5d7370dc-3c0e-4880-9400-0ee1b7ec4289",
   "metadata": {},
   "outputs": [
    {
     "data": {
      "text/plain": [
       "[<matplotlib.lines.Line2D at 0x15c5fb610>]"
      ]
     },
     "execution_count": 36,
     "metadata": {},
     "output_type": "execute_result"
    },
    {
     "data": {
      "image/png": "[encoded data removed]",
      "text/plain": [
       "<Figure size 432x288 with 1 Axes>"
      ]
     },
     "metadata": {
      "needs_background": "light"
     },
     "output_type": "display_data"
    }
   ],
   "source": [
    "x, y = cdf(x_list_transformed_2)\n",
    "plt.plot(x, y)"
   ]
  },
  {
   "cell_type": "code",
   "execution_count": 41,
   "id": "c854fe17-1d45-4500-8da7-40e8044249ee",
   "metadata": {},
   "outputs": [],
   "source": [
    "x_uniform = []\n",
    "for i in range(0, 1000):\n",
    "    x_uniform.extend([i for j in range(0, round(1000 / 32))])"
   ]
  },
  {
   "cell_type": "code",
   "execution_count": 43,
   "id": "b3f7aa45-fefb-42d3-8b81-4656746da6aa",
   "metadata": {},
   "outputs": [
    {
     "data": {
      "text/plain": [
       "[<matplotlib.lines.Line2D at 0x15c89eee0>]"
      ]
     },
     "execution_count": 43,
     "metadata": {},
     "output_type": "execute_result"
    },
    {
     "data": {
      "image/png": "[encoded data removed]",
      "text/plain": [
       "<Figure size 432x288 with 1 Axes>"
      ]
     },
     "metadata": {
      "needs_background": "light"
     },
     "output_type": "display_data"
    }
   ],
   "source": [
    "x, y = cdf(x_uniform)\n",
    "plt.plot(x, y)"
   ]
  },
  {
   "cell_type": "code",
   "execution_count": 44,
   "id": "de496e8c-a53c-4d9f-a7cc-add9e4d41e3d",
   "metadata": {},
   "outputs": [
    {
     "data": {
      "text/plain": [
       "KstestResult(statistic=0.969, pvalue=0.0)"
      ]
     },
     "execution_count": 44,
     "metadata": {},
     "output_type": "execute_result"
    }
   ],
   "source": [
    "ks_2samp(x_uniform, x_list_transformed)"
   ]
  },
  {
   "cell_type": "code",
   "execution_count": 45,
   "id": "7cab1356-1efb-4bcd-9428-9283abcebd2c",
   "metadata": {},
   "outputs": [
    {
     "data": {
      "text/plain": [
       "KstestResult(statistic=0.968, pvalue=0.0)"
      ]
     },
     "execution_count": 45,
     "metadata": {},
     "output_type": "execute_result"
    }
   ],
   "source": [
    "ks_2samp(x_uniform, x_list_transformed_2)"
   ]
  },
  {
   "cell_type": "code",
   "execution_count": null,
   "id": "9a9ab9ef-4a56-4bfa-85fa-41e8a4e801ea",
   "metadata": {},
   "outputs": [],
   "source": [
    "a"
   ]
  }
 ],
 "metadata": {
  "kernelspec": {
   "display_name": "Python 3",
   "language": "python",
   "name": "python3"
  },
  "language_info": {
   "codemirror_mode": {
    "name": "ipython",
    "version": 3
   },
   "file_extension": ".py",
   "mimetype": "text/x-python",
   "name": "python",
   "nbconvert_exporter": "python",
   "pygments_lexer": "ipython3",
   "version": "3.8.0"
  }
 },
 "nbformat": 4,
 "nbformat_minor": 5
}
