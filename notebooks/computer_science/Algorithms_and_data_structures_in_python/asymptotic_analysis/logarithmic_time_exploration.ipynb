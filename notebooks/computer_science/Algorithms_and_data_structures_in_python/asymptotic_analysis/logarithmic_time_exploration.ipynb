{
 "cells": [
  {
   "cell_type": "code",
   "execution_count": 1,
   "metadata": {},
   "outputs": [],
   "source": [
    "import random\n",
    "import matplotlib.pyplot as plt\n",
    "import numpy"
   ]
  },
  {
   "cell_type": "code",
   "execution_count": 2,
   "metadata": {},
   "outputs": [],
   "source": [
    "def find_max(data):\n",
    "    biggest = data[0]\n",
    "    biggest_update_count = 0\n",
    "    for val in data:\n",
    "        if val > biggest:\n",
    "            biggest = val\n",
    "            biggest_update_count += 1\n",
    "\n",
    "    return biggest, biggest_update_count"
   ]
  },
  {
   "cell_type": "code",
   "execution_count": 4,
   "metadata": {},
   "outputs": [],
   "source": []
  },
  {
   "cell_type": "code",
   "execution_count": 6,
   "metadata": {},
   "outputs": [],
   "source": [
    "biggest, biggest_update_count = find_max(data)"
   ]
  },
  {
   "cell_type": "code",
   "execution_count": 46,
   "metadata": {},
   "outputs": [],
   "source": [
    "biggest_update_count_average = 0\n",
    "trials = 10_000\n",
    "for i in range(0, trials):\n",
    "    n = 100\n",
    "    data = [random.randrange(1, 50, 1) for i in range(0, n)]\n",
    "    biggest, biggest_update_count = find_max(data)\n",
    "    biggest_update_count_average += biggest_update_count\n",
    "    \n",
    "biggest_update_count_average = biggest_update_count_average / trials"
   ]
  },
  {
   "cell_type": "code",
   "execution_count": 47,
   "metadata": {},
   "outputs": [
    {
     "data": {
      "text/plain": [
       "3.3025"
      ]
     },
     "execution_count": 47,
     "metadata": {},
     "output_type": "execute_result"
    }
   ],
   "source": [
    "biggest_update_count_average"
   ]
  },
  {
   "cell_type": "code",
   "execution_count": 50,
   "metadata": {},
   "outputs": [],
   "source": [
    "biggest_update_count_average = 0\n",
    "trials = 10_000\n",
    "for i in range(0, trials):\n",
    "    n = 1000\n",
    "    data = [random.randrange(1, 50, 1) for i in range(0, n)]\n",
    "    biggest, biggest_update_count = find_max(data)\n",
    "    biggest_update_count_average += biggest_update_count\n",
    "    \n",
    "biggest_update_count_average = biggest_update_count_average / trials"
   ]
  },
  {
   "cell_type": "code",
   "execution_count": 51,
   "metadata": {},
   "outputs": [
    {
     "data": {
      "text/plain": [
       "3.5003"
      ]
     },
     "execution_count": 51,
     "metadata": {},
     "output_type": "execute_result"
    }
   ],
   "source": [
    "biggest_update_count_average"
   ]
  },
  {
   "cell_type": "code",
   "execution_count": 58,
   "metadata": {},
   "outputs": [],
   "source": [
    "biggest_update_count_average = 0\n",
    "trials = 100\n",
    "for i in range(0, trials):\n",
    "    n = 1_000\n",
    "    data = [random.randrange(1, n, 1) for i in range(0, n)]\n",
    "    biggest, biggest_update_count = find_max(data)\n",
    "    biggest_update_count_average += biggest_update_count\n",
    "    \n",
    "biggest_update_count_average = biggest_update_count_average / trials"
   ]
  },
  {
   "cell_type": "code",
   "execution_count": 59,
   "metadata": {},
   "outputs": [
    {
     "data": {
      "text/plain": [
       "5.61"
      ]
     },
     "execution_count": 59,
     "metadata": {},
     "output_type": "execute_result"
    }
   ],
   "source": [
    "biggest_update_count_average"
   ]
  },
  {
   "cell_type": "code",
   "execution_count": 60,
   "metadata": {},
   "outputs": [],
   "source": [
    "biggest_update_count_average = 0\n",
    "trials = 100\n",
    "for i in range(0, trials):\n",
    "    n = 10_000\n",
    "    data = [random.randrange(1, n, 1) for i in range(0, n)]\n",
    "    biggest, biggest_update_count = find_max(data)\n",
    "    biggest_update_count_average += biggest_update_count\n",
    "    \n",
    "biggest_update_count_average = biggest_update_count_average / trials"
   ]
  },
  {
   "cell_type": "code",
   "execution_count": 61,
   "metadata": {},
   "outputs": [
    {
     "data": {
      "text/plain": [
       "8.53"
      ]
     },
     "execution_count": 61,
     "metadata": {},
     "output_type": "execute_result"
    }
   ],
   "source": [
    "biggest_update_count_average"
   ]
  },
  {
   "cell_type": "code",
   "execution_count": 62,
   "metadata": {},
   "outputs": [],
   "source": [
    "biggest_update_count_average = 0\n",
    "trials = 100\n",
    "for i in range(0, trials):\n",
    "    n = 100_000\n",
    "    data = [random.randrange(1, n, 1) for i in range(0, n)]\n",
    "    biggest, biggest_update_count = find_max(data)\n",
    "    biggest_update_count_average += biggest_update_count\n",
    "    \n",
    "biggest_update_count_average = biggest_update_count_average / trials"
   ]
  },
  {
   "cell_type": "code",
   "execution_count": 63,
   "metadata": {},
   "outputs": [
    {
     "data": {
      "text/plain": [
       "11.07"
      ]
     },
     "execution_count": 63,
     "metadata": {},
     "output_type": "execute_result"
    }
   ],
   "source": [
    "biggest_update_count_average"
   ]
  },
  {
   "cell_type": "code",
   "execution_count": 66,
   "metadata": {},
   "outputs": [],
   "source": [
    "biggest_update_count_average = 0\n",
    "trials = 100\n",
    "for i in range(0, trials):\n",
    "    n = 1_000_000\n",
    "    data = [random.randrange(1, n, 1) for i in range(0, n)]\n",
    "    biggest, biggest_update_count = find_max(data)\n",
    "    biggest_update_count_average += biggest_update_count\n",
    "    \n",
    "biggest_update_count_average = biggest_update_count_average / trials"
   ]
  },
  {
   "cell_type": "code",
   "execution_count": 67,
   "metadata": {},
   "outputs": [
    {
     "data": {
      "text/plain": [
       "13.31"
      ]
     },
     "execution_count": 67,
     "metadata": {},
     "output_type": "execute_result"
    }
   ],
   "source": [
    "biggest_update_count_average"
   ]
  },
  {
   "cell_type": "code",
   "execution_count": null,
   "metadata": {},
   "outputs": [],
   "source": []
  }
 ],
 "metadata": {
  "kernelspec": {
   "display_name": "Python 3",
   "language": "python",
   "name": "python3"
  },
  "language_info": {
   "codemirror_mode": {
    "name": "ipython",
    "version": 3
   },
   "file_extension": ".py",
   "mimetype": "text/x-python",
   "name": "python",
   "nbconvert_exporter": "python",
   "pygments_lexer": "ipython3",
   "version": "3.6.2"
  }
 },
 "nbformat": 4,
 "nbformat_minor": 2
}
