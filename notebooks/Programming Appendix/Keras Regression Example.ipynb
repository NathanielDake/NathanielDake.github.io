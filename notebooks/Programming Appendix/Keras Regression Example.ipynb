{
 "cells": [
  {
   "cell_type": "markdown",
   "metadata": {},
   "source": [
    "# Goal: Predict value of car sale\n",
    "Based on blog post [here](https://datascienceplus.com/keras-regression-based-neural-networks/)."
   ]
  },
  {
   "cell_type": "code",
   "execution_count": 40,
   "metadata": {},
   "outputs": [],
   "source": [
    "import numpy as np\n",
    "import pandas\n",
    "import boto3\n",
    "import datetime\n",
    "import matplotlib.pyplot as plt\n",
    "\n",
    "s3 = boto3.client('s3')\n",
    "\n",
    "\n",
    "def get_csv_from_s3(key, bucket=\"intuitiveml-data-sets\"):\n",
    "    obj = s3.get_object(Bucket=bucket, Key=key)\n",
    "    return pandas.read_csv(obj[\"Body\"])\n",
    "\n",
    "\n",
    "def get_obj_s3(key, bucket=\"intuitiveml-data-sets\"):\n",
    "    obj = s3.get_object(Bucket=bucket, Key=key)[\"Body\"]\n",
    "    return obj"
   ]
  },
  {
   "cell_type": "code",
   "execution_count": 3,
   "metadata": {},
   "outputs": [],
   "source": [
    "df = get_csv_from_s3(\"cars.csv\")"
   ]
  },
  {
   "cell_type": "code",
   "execution_count": 38,
   "metadata": {},
   "outputs": [
    {
     "data": {
      "text/html": [
       "<div>\n",
       "<style scoped>\n",
       "    .dataframe tbody tr th:only-of-type {\n",
       "        vertical-align: middle;\n",
       "    }\n",
       "\n",
       "    .dataframe tbody tr th {\n",
       "        vertical-align: top;\n",
       "    }\n",
       "\n",
       "    .dataframe thead th {\n",
       "        text-align: right;\n",
       "    }\n",
       "</style>\n",
       "<table border=\"1\" class=\"dataframe\">\n",
       "  <thead>\n",
       "    <tr style=\"text-align: right;\">\n",
       "      <th></th>\n",
       "      <th>age</th>\n",
       "      <th>gender</th>\n",
       "      <th>miles</th>\n",
       "      <th>debt</th>\n",
       "      <th>income</th>\n",
       "      <th>sales</th>\n",
       "    </tr>\n",
       "  </thead>\n",
       "  <tbody>\n",
       "    <tr>\n",
       "      <th>0</th>\n",
       "      <td>28</td>\n",
       "      <td>0</td>\n",
       "      <td>23</td>\n",
       "      <td>0</td>\n",
       "      <td>4099</td>\n",
       "      <td>620</td>\n",
       "    </tr>\n",
       "    <tr>\n",
       "      <th>1</th>\n",
       "      <td>26</td>\n",
       "      <td>0</td>\n",
       "      <td>27</td>\n",
       "      <td>0</td>\n",
       "      <td>2677</td>\n",
       "      <td>1792</td>\n",
       "    </tr>\n",
       "    <tr>\n",
       "      <th>2</th>\n",
       "      <td>30</td>\n",
       "      <td>1</td>\n",
       "      <td>58</td>\n",
       "      <td>41576</td>\n",
       "      <td>6215</td>\n",
       "      <td>27754</td>\n",
       "    </tr>\n",
       "    <tr>\n",
       "      <th>3</th>\n",
       "      <td>26</td>\n",
       "      <td>1</td>\n",
       "      <td>25</td>\n",
       "      <td>43172</td>\n",
       "      <td>7626</td>\n",
       "      <td>28256</td>\n",
       "    </tr>\n",
       "    <tr>\n",
       "      <th>4</th>\n",
       "      <td>20</td>\n",
       "      <td>1</td>\n",
       "      <td>17</td>\n",
       "      <td>6979</td>\n",
       "      <td>8071</td>\n",
       "      <td>4438</td>\n",
       "    </tr>\n",
       "  </tbody>\n",
       "</table>\n",
       "</div>"
      ],
      "text/plain": [
       "   age  gender  miles   debt  income  sales\n",
       "0   28       0     23      0    4099    620\n",
       "1   26       0     27      0    2677   1792\n",
       "2   30       1     58  41576    6215  27754\n",
       "3   26       1     25  43172    7626  28256\n",
       "4   20       1     17   6979    8071   4438"
      ]
     },
     "execution_count": 38,
     "metadata": {},
     "output_type": "execute_result"
    }
   ],
   "source": [
    "df.head()"
   ]
  },
  {
   "cell_type": "code",
   "execution_count": 39,
   "metadata": {},
   "outputs": [
    {
     "data": {
      "text/plain": [
       "(963, 6)"
      ]
     },
     "execution_count": 39,
     "metadata": {},
     "output_type": "execute_result"
    }
   ],
   "source": [
    "df.shape"
   ]
  },
  {
   "cell_type": "code",
   "execution_count": 31,
   "metadata": {},
   "outputs": [],
   "source": [
    "from keras.models import Sequential\n",
    "from keras.layers import Dense\n",
    "\n",
    "from sklearn.model_selection import train_test_split\n",
    "from sklearn.preprocessing import MinMaxScaler"
   ]
  },
  {
   "cell_type": "code",
   "execution_count": 29,
   "metadata": {},
   "outputs": [
    {
     "name": "stdout",
     "output_type": "stream",
     "text": [
      "MinMaxScaler(copy=True, feature_range=(0, 1))\n",
      "MinMaxScaler(copy=True, feature_range=(0, 1))\n"
     ]
    }
   ],
   "source": [
    "dataset = df.to_numpy()\n",
    "x = dataset[:, 0:5]\n",
    "y = dataset[:, 5]\n",
    "y = np.reshape(y, (-1, 1))\n",
    "\n",
    "scaler_x = MinMaxScaler()\n",
    "scaler_y = MinMaxScaler()\n",
    "print(scaler_x.fit(x))\n",
    "x_scale = scaler_x.transform(x)\n",
    "print(scaler_y.fit(y))\n",
    "y_scale = scaler_y.transform(y)"
   ]
  },
  {
   "cell_type": "code",
   "execution_count": 34,
   "metadata": {},
   "outputs": [],
   "source": [
    "X_train, X_test, y_train, y_test = train_test_split(x_scale, y_scale)"
   ]
  },
  {
   "cell_type": "markdown",
   "metadata": {},
   "source": [
    "# Configure Keras Model"
   ]
  },
  {
   "cell_type": "code",
   "execution_count": 35,
   "metadata": {},
   "outputs": [
    {
     "name": "stdout",
     "output_type": "stream",
     "text": [
      "WARNING:tensorflow:From /Users/natedake/.virtualenvs/intuitiveml/lib/python3.6/site-packages/tensorflow/python/ops/resource_variable_ops.py:435: colocate_with (from tensorflow.python.framework.ops) is deprecated and will be removed in a future version.\n",
      "Instructions for updating:\n",
      "Colocations handled automatically by placer.\n",
      "Model: \"sequential_1\"\n",
      "_________________________________________________________________\n",
      "Layer (type)                 Output Shape              Param #   \n",
      "=================================================================\n",
      "dense_1 (Dense)              (None, 12)                72        \n",
      "_________________________________________________________________\n",
      "dense_2 (Dense)              (None, 8)                 104       \n",
      "_________________________________________________________________\n",
      "dense_3 (Dense)              (None, 1)                 9         \n",
      "=================================================================\n",
      "Total params: 185\n",
      "Trainable params: 185\n",
      "Non-trainable params: 0\n",
      "_________________________________________________________________\n"
     ]
    }
   ],
   "source": [
    "model = Sequential([\n",
    "    Dense(12, input_dim=5, kernel_initializer=\"normal\", activation=\"relu\"),\n",
    "    Dense(8, activation=\"relu\"),\n",
    "    Dense(1, activation=\"linear\")\n",
    "])\n",
    "\n",
    "model.summary()"
   ]
  },
  {
   "cell_type": "code",
   "execution_count": 36,
   "metadata": {},
   "outputs": [],
   "source": [
    "model.compile(\n",
    "    loss=\"mse\",\n",
    "    optimizer=\"adam\",\n",
    "    metrics=[\"mse\", \"mae\"]\n",
    ")"
   ]
  },
  {
   "cell_type": "markdown",
   "metadata": {},
   "source": [
    "# Fit Model"
   ]
  },
  {
   "cell_type": "code",
   "execution_count": 37,
   "metadata": {},
   "outputs": [
    {
     "name": "stdout",
     "output_type": "stream",
     "text": [
      "WARNING:tensorflow:From /Users/natedake/.virtualenvs/intuitiveml/lib/python3.6/site-packages/tensorflow/python/ops/math_ops.py:3066: to_int32 (from tensorflow.python.ops.math_ops) is deprecated and will be removed in a future version.\n",
      "Instructions for updating:\n",
      "Use tf.cast instead.\n",
      "Train on 577 samples, validate on 145 samples\n",
      "Epoch 1/150\n",
      "577/577 [==============================] - 0s 231us/step - loss: 0.1992 - mse: 0.1992 - mae: 0.3341 - val_loss: 0.1410 - val_mse: 0.1410 - val_mae: 0.2786\n",
      "Epoch 2/150\n",
      "577/577 [==============================] - 0s 34us/step - loss: 0.1322 - mse: 0.1322 - mae: 0.2780 - val_loss: 0.0981 - val_mse: 0.0981 - val_mae: 0.2538\n",
      "Epoch 3/150\n",
      "577/577 [==============================] - 0s 27us/step - loss: 0.0920 - mse: 0.0920 - mae: 0.2527 - val_loss: 0.0765 - val_mse: 0.0765 - val_mae: 0.2436\n",
      "Epoch 4/150\n",
      "577/577 [==============================] - 0s 24us/step - loss: 0.0739 - mse: 0.0739 - mae: 0.2366 - val_loss: 0.0638 - val_mse: 0.0638 - val_mae: 0.2270\n",
      "Epoch 5/150\n",
      "577/577 [==============================] - 0s 26us/step - loss: 0.0592 - mse: 0.0592 - mae: 0.2149 - val_loss: 0.0492 - val_mse: 0.0492 - val_mae: 0.1996\n",
      "Epoch 6/150\n",
      "577/577 [==============================] - 0s 24us/step - loss: 0.0466 - mse: 0.0466 - mae: 0.1919 - val_loss: 0.0376 - val_mse: 0.0376 - val_mae: 0.1743\n",
      "Epoch 7/150\n",
      "577/577 [==============================] - 0s 24us/step - loss: 0.0363 - mse: 0.0363 - mae: 0.1680 - val_loss: 0.0291 - val_mse: 0.0291 - val_mae: 0.1507\n",
      "Epoch 8/150\n",
      "577/577 [==============================] - 0s 23us/step - loss: 0.0280 - mse: 0.0280 - mae: 0.1456 - val_loss: 0.0223 - val_mse: 0.0223 - val_mae: 0.1283\n",
      "Epoch 9/150\n",
      "577/577 [==============================] - 0s 24us/step - loss: 0.0225 - mse: 0.0225 - mae: 0.1266 - val_loss: 0.0183 - val_mse: 0.0183 - val_mae: 0.1116\n",
      "Epoch 10/150\n",
      "577/577 [==============================] - 0s 25us/step - loss: 0.0195 - mse: 0.0195 - mae: 0.1143 - val_loss: 0.0157 - val_mse: 0.0157 - val_mae: 0.1006\n",
      "Epoch 11/150\n",
      "577/577 [==============================] - 0s 25us/step - loss: 0.0176 - mse: 0.0176 - mae: 0.1064 - val_loss: 0.0143 - val_mse: 0.0143 - val_mae: 0.0938\n",
      "Epoch 12/150\n",
      "577/577 [==============================] - 0s 23us/step - loss: 0.0167 - mse: 0.0167 - mae: 0.1026 - val_loss: 0.0135 - val_mse: 0.0135 - val_mae: 0.0903\n",
      "Epoch 13/150\n",
      "577/577 [==============================] - 0s 23us/step - loss: 0.0162 - mse: 0.0162 - mae: 0.0999 - val_loss: 0.0130 - val_mse: 0.0130 - val_mae: 0.0879\n",
      "Epoch 14/150\n",
      "577/577 [==============================] - 0s 23us/step - loss: 0.0161 - mse: 0.0161 - mae: 0.0987 - val_loss: 0.0128 - val_mse: 0.0128 - val_mae: 0.0873\n",
      "Epoch 15/150\n",
      "577/577 [==============================] - 0s 23us/step - loss: 0.0159 - mse: 0.0159 - mae: 0.0982 - val_loss: 0.0126 - val_mse: 0.0126 - val_mae: 0.0857\n",
      "Epoch 16/150\n",
      "577/577 [==============================] - 0s 24us/step - loss: 0.0159 - mse: 0.0159 - mae: 0.0968 - val_loss: 0.0125 - val_mse: 0.0125 - val_mae: 0.0855\n",
      "Epoch 17/150\n",
      "577/577 [==============================] - 0s 25us/step - loss: 0.0157 - mse: 0.0157 - mae: 0.0972 - val_loss: 0.0124 - val_mse: 0.0124 - val_mae: 0.0845\n",
      "Epoch 18/150\n",
      "577/577 [==============================] - 0s 25us/step - loss: 0.0158 - mse: 0.0158 - mae: 0.0958 - val_loss: 0.0123 - val_mse: 0.0123 - val_mae: 0.0860\n",
      "Epoch 19/150\n",
      "577/577 [==============================] - 0s 25us/step - loss: 0.0156 - mse: 0.0156 - mae: 0.0971 - val_loss: 0.0122 - val_mse: 0.0122 - val_mae: 0.0829\n",
      "Epoch 20/150\n",
      "577/577 [==============================] - 0s 26us/step - loss: 0.0154 - mse: 0.0154 - mae: 0.0947 - val_loss: 0.0121 - val_mse: 0.0121 - val_mae: 0.0839\n",
      "Epoch 21/150\n",
      "577/577 [==============================] - 0s 25us/step - loss: 0.0153 - mse: 0.0153 - mae: 0.0955 - val_loss: 0.0120 - val_mse: 0.0120 - val_mae: 0.0829\n",
      "Epoch 22/150\n",
      "577/577 [==============================] - 0s 24us/step - loss: 0.0152 - mse: 0.0152 - mae: 0.0949 - val_loss: 0.0121 - val_mse: 0.0121 - val_mae: 0.0810\n",
      "Epoch 23/150\n",
      "577/577 [==============================] - 0s 25us/step - loss: 0.0153 - mse: 0.0153 - mae: 0.0936 - val_loss: 0.0119 - val_mse: 0.0119 - val_mae: 0.0843\n",
      "Epoch 24/150\n",
      "577/577 [==============================] - 0s 25us/step - loss: 0.0154 - mse: 0.0154 - mae: 0.0958 - val_loss: 0.0118 - val_mse: 0.0118 - val_mae: 0.0805\n",
      "Epoch 25/150\n",
      "577/577 [==============================] - 0s 24us/step - loss: 0.0150 - mse: 0.0150 - mae: 0.0935 - val_loss: 0.0117 - val_mse: 0.0117 - val_mae: 0.0812\n",
      "Epoch 26/150\n",
      "577/577 [==============================] - 0s 24us/step - loss: 0.0149 - mse: 0.0149 - mae: 0.0929 - val_loss: 0.0116 - val_mse: 0.0116 - val_mae: 0.0814\n",
      "Epoch 27/150\n",
      "577/577 [==============================] - 0s 24us/step - loss: 0.0148 - mse: 0.0148 - mae: 0.0935 - val_loss: 0.0115 - val_mse: 0.0115 - val_mae: 0.0811\n",
      "Epoch 28/150\n",
      "577/577 [==============================] - 0s 24us/step - loss: 0.0148 - mse: 0.0148 - mae: 0.0930 - val_loss: 0.0115 - val_mse: 0.0115 - val_mae: 0.0810\n",
      "Epoch 29/150\n",
      "577/577 [==============================] - 0s 24us/step - loss: 0.0147 - mse: 0.0147 - mae: 0.0928 - val_loss: 0.0114 - val_mse: 0.0114 - val_mae: 0.0802\n",
      "Epoch 30/150\n",
      "577/577 [==============================] - 0s 23us/step - loss: 0.0148 - mse: 0.0148 - mae: 0.0922 - val_loss: 0.0114 - val_mse: 0.0114 - val_mae: 0.0808\n",
      "Epoch 31/150\n",
      "577/577 [==============================] - 0s 24us/step - loss: 0.0145 - mse: 0.0145 - mae: 0.0917 - val_loss: 0.0113 - val_mse: 0.0113 - val_mae: 0.0800\n",
      "Epoch 32/150\n",
      "577/577 [==============================] - 0s 23us/step - loss: 0.0145 - mse: 0.0145 - mae: 0.0925 - val_loss: 0.0112 - val_mse: 0.0112 - val_mae: 0.0791\n",
      "Epoch 33/150\n",
      "577/577 [==============================] - 0s 26us/step - loss: 0.0144 - mse: 0.0144 - mae: 0.0914 - val_loss: 0.0112 - val_mse: 0.0112 - val_mae: 0.0801\n",
      "Epoch 34/150\n",
      "577/577 [==============================] - 0s 26us/step - loss: 0.0143 - mse: 0.0143 - mae: 0.0915 - val_loss: 0.0111 - val_mse: 0.0111 - val_mae: 0.0791\n",
      "Epoch 35/150\n",
      "577/577 [==============================] - 0s 24us/step - loss: 0.0144 - mse: 0.0144 - mae: 0.0910 - val_loss: 0.0111 - val_mse: 0.0111 - val_mae: 0.0799\n",
      "Epoch 36/150\n",
      "577/577 [==============================] - 0s 25us/step - loss: 0.0142 - mse: 0.0142 - mae: 0.0918 - val_loss: 0.0111 - val_mse: 0.0111 - val_mae: 0.0781\n",
      "Epoch 37/150\n",
      "577/577 [==============================] - 0s 23us/step - loss: 0.0141 - mse: 0.0141 - mae: 0.0899 - val_loss: 0.0110 - val_mse: 0.0110 - val_mae: 0.0789\n",
      "Epoch 38/150\n",
      "577/577 [==============================] - 0s 23us/step - loss: 0.0140 - mse: 0.0140 - mae: 0.0911 - val_loss: 0.0110 - val_mse: 0.0110 - val_mae: 0.0773\n",
      "Epoch 39/150\n",
      "577/577 [==============================] - 0s 23us/step - loss: 0.0139 - mse: 0.0139 - mae: 0.0897 - val_loss: 0.0109 - val_mse: 0.0109 - val_mae: 0.0784\n",
      "Epoch 40/150\n",
      "577/577 [==============================] - 0s 22us/step - loss: 0.0139 - mse: 0.0139 - mae: 0.0900 - val_loss: 0.0109 - val_mse: 0.0109 - val_mae: 0.0782\n",
      "Epoch 41/150\n",
      "577/577 [==============================] - 0s 24us/step - loss: 0.0138 - mse: 0.0138 - mae: 0.0895 - val_loss: 0.0108 - val_mse: 0.0108 - val_mae: 0.0781\n",
      "Epoch 42/150\n",
      "577/577 [==============================] - 0s 25us/step - loss: 0.0137 - mse: 0.0137 - mae: 0.0897 - val_loss: 0.0108 - val_mse: 0.0108 - val_mae: 0.0771\n",
      "Epoch 43/150\n",
      "577/577 [==============================] - 0s 27us/step - loss: 0.0137 - mse: 0.0137 - mae: 0.0888 - val_loss: 0.0108 - val_mse: 0.0108 - val_mae: 0.0770\n",
      "Epoch 44/150\n",
      "577/577 [==============================] - 0s 25us/step - loss: 0.0137 - mse: 0.0137 - mae: 0.0886 - val_loss: 0.0108 - val_mse: 0.0108 - val_mae: 0.0777\n",
      "Epoch 45/150\n",
      "577/577 [==============================] - 0s 25us/step - loss: 0.0136 - mse: 0.0136 - mae: 0.0895 - val_loss: 0.0108 - val_mse: 0.0108 - val_mae: 0.0760\n",
      "Epoch 46/150\n",
      "577/577 [==============================] - 0s 25us/step - loss: 0.0135 - mse: 0.0135 - mae: 0.0877 - val_loss: 0.0107 - val_mse: 0.0107 - val_mae: 0.0780\n",
      "Epoch 47/150\n",
      "577/577 [==============================] - 0s 25us/step - loss: 0.0135 - mse: 0.0135 - mae: 0.0895 - val_loss: 0.0108 - val_mse: 0.0108 - val_mae: 0.0757\n",
      "Epoch 48/150\n"
     ]
    },
    {
     "name": "stdout",
     "output_type": "stream",
     "text": [
      "577/577 [==============================] - 0s 24us/step - loss: 0.0135 - mse: 0.0135 - mae: 0.0873 - val_loss: 0.0109 - val_mse: 0.0109 - val_mae: 0.0798\n",
      "Epoch 49/150\n",
      "577/577 [==============================] - 0s 23us/step - loss: 0.0134 - mse: 0.0134 - mae: 0.0888 - val_loss: 0.0110 - val_mse: 0.0110 - val_mae: 0.0754\n",
      "Epoch 50/150\n",
      "577/577 [==============================] - 0s 23us/step - loss: 0.0137 - mse: 0.0137 - mae: 0.0881 - val_loss: 0.0106 - val_mse: 0.0106 - val_mae: 0.0774\n",
      "Epoch 51/150\n",
      "577/577 [==============================] - 0s 24us/step - loss: 0.0135 - mse: 0.0135 - mae: 0.0874 - val_loss: 0.0108 - val_mse: 0.0108 - val_mae: 0.0789\n",
      "Epoch 52/150\n",
      "577/577 [==============================] - 0s 24us/step - loss: 0.0134 - mse: 0.0134 - mae: 0.0897 - val_loss: 0.0109 - val_mse: 0.0109 - val_mae: 0.0751\n",
      "Epoch 53/150\n",
      "577/577 [==============================] - 0s 23us/step - loss: 0.0135 - mse: 0.0135 - mae: 0.0864 - val_loss: 0.0107 - val_mse: 0.0107 - val_mae: 0.0779\n",
      "Epoch 54/150\n",
      "577/577 [==============================] - 0s 24us/step - loss: 0.0134 - mse: 0.0134 - mae: 0.0872 - val_loss: 0.0108 - val_mse: 0.0108 - val_mae: 0.0778\n",
      "Epoch 55/150\n",
      "577/577 [==============================] - 0s 24us/step - loss: 0.0131 - mse: 0.0131 - mae: 0.0881 - val_loss: 0.0107 - val_mse: 0.0107 - val_mae: 0.0755\n",
      "Epoch 56/150\n",
      "577/577 [==============================] - 0s 24us/step - loss: 0.0131 - mse: 0.0131 - mae: 0.0863 - val_loss: 0.0106 - val_mse: 0.0106 - val_mae: 0.0782\n",
      "Epoch 57/150\n",
      "577/577 [==============================] - 0s 24us/step - loss: 0.0130 - mse: 0.0130 - mae: 0.0877 - val_loss: 0.0106 - val_mse: 0.0106 - val_mae: 0.0750\n",
      "Epoch 58/150\n",
      "577/577 [==============================] - 0s 23us/step - loss: 0.0132 - mse: 0.0132 - mae: 0.0861 - val_loss: 0.0107 - val_mse: 0.0107 - val_mae: 0.0793\n",
      "Epoch 59/150\n",
      "577/577 [==============================] - 0s 27us/step - loss: 0.0131 - mse: 0.0131 - mae: 0.0878 - val_loss: 0.0106 - val_mse: 0.0106 - val_mae: 0.0751\n",
      "Epoch 60/150\n",
      "577/577 [==============================] - 0s 26us/step - loss: 0.0131 - mse: 0.0131 - mae: 0.0878 - val_loss: 0.0105 - val_mse: 0.0105 - val_mae: 0.0753\n",
      "Epoch 61/150\n",
      "577/577 [==============================] - 0s 23us/step - loss: 0.0129 - mse: 0.0129 - mae: 0.0859 - val_loss: 0.0104 - val_mse: 0.0104 - val_mae: 0.0752\n",
      "Epoch 62/150\n",
      "577/577 [==============================] - 0s 23us/step - loss: 0.0129 - mse: 0.0129 - mae: 0.0848 - val_loss: 0.0105 - val_mse: 0.0105 - val_mae: 0.0774\n",
      "Epoch 63/150\n",
      "577/577 [==============================] - 0s 23us/step - loss: 0.0129 - mse: 0.0129 - mae: 0.0862 - val_loss: 0.0105 - val_mse: 0.0105 - val_mae: 0.0749\n",
      "Epoch 64/150\n",
      "577/577 [==============================] - 0s 23us/step - loss: 0.0128 - mse: 0.0128 - mae: 0.0847 - val_loss: 0.0106 - val_mse: 0.0106 - val_mae: 0.0770\n",
      "Epoch 65/150\n",
      "577/577 [==============================] - 0s 23us/step - loss: 0.0127 - mse: 0.0127 - mae: 0.0858 - val_loss: 0.0104 - val_mse: 0.0104 - val_mae: 0.0752\n",
      "Epoch 66/150\n",
      "577/577 [==============================] - 0s 23us/step - loss: 0.0127 - mse: 0.0127 - mae: 0.0848 - val_loss: 0.0104 - val_mse: 0.0104 - val_mae: 0.0746\n",
      "Epoch 67/150\n",
      "577/577 [==============================] - 0s 24us/step - loss: 0.0126 - mse: 0.0126 - mae: 0.0845 - val_loss: 0.0104 - val_mse: 0.0104 - val_mae: 0.0764\n",
      "Epoch 68/150\n",
      "577/577 [==============================] - 0s 26us/step - loss: 0.0128 - mse: 0.0128 - mae: 0.0861 - val_loss: 0.0104 - val_mse: 0.0104 - val_mae: 0.0751\n",
      "Epoch 69/150\n",
      "577/577 [==============================] - 0s 24us/step - loss: 0.0127 - mse: 0.0127 - mae: 0.0866 - val_loss: 0.0104 - val_mse: 0.0104 - val_mae: 0.0748\n",
      "Epoch 70/150\n",
      "577/577 [==============================] - 0s 24us/step - loss: 0.0128 - mse: 0.0128 - mae: 0.0841 - val_loss: 0.0105 - val_mse: 0.0105 - val_mae: 0.0772\n",
      "Epoch 71/150\n",
      "577/577 [==============================] - 0s 24us/step - loss: 0.0126 - mse: 0.0126 - mae: 0.0860 - val_loss: 0.0106 - val_mse: 0.0106 - val_mae: 0.0740\n",
      "Epoch 72/150\n",
      "577/577 [==============================] - 0s 24us/step - loss: 0.0127 - mse: 0.0127 - mae: 0.0849 - val_loss: 0.0104 - val_mse: 0.0104 - val_mae: 0.0763\n",
      "Epoch 73/150\n",
      "577/577 [==============================] - 0s 23us/step - loss: 0.0125 - mse: 0.0125 - mae: 0.0847 - val_loss: 0.0103 - val_mse: 0.0103 - val_mae: 0.0743\n",
      "Epoch 74/150\n",
      "577/577 [==============================] - 0s 23us/step - loss: 0.0125 - mse: 0.0125 - mae: 0.0848 - val_loss: 0.0103 - val_mse: 0.0103 - val_mae: 0.0745\n",
      "Epoch 75/150\n",
      "577/577 [==============================] - 0s 25us/step - loss: 0.0126 - mse: 0.0126 - mae: 0.0841 - val_loss: 0.0104 - val_mse: 0.0104 - val_mae: 0.0759\n",
      "Epoch 76/150\n",
      "577/577 [==============================] - 0s 24us/step - loss: 0.0125 - mse: 0.0125 - mae: 0.0858 - val_loss: 0.0106 - val_mse: 0.0106 - val_mae: 0.0739\n",
      "Epoch 77/150\n",
      "577/577 [==============================] - 0s 24us/step - loss: 0.0129 - mse: 0.0129 - mae: 0.0846 - val_loss: 0.0108 - val_mse: 0.0108 - val_mae: 0.0788\n",
      "Epoch 78/150\n",
      "577/577 [==============================] - 0s 23us/step - loss: 0.0124 - mse: 0.0124 - mae: 0.0852 - val_loss: 0.0104 - val_mse: 0.0104 - val_mae: 0.0738\n",
      "Epoch 79/150\n",
      "577/577 [==============================] - 0s 23us/step - loss: 0.0128 - mse: 0.0128 - mae: 0.0837 - val_loss: 0.0108 - val_mse: 0.0108 - val_mae: 0.0786\n",
      "Epoch 80/150\n",
      "577/577 [==============================] - 0s 23us/step - loss: 0.0128 - mse: 0.0128 - mae: 0.0855 - val_loss: 0.0102 - val_mse: 0.0102 - val_mae: 0.0740\n",
      "Epoch 81/150\n",
      "577/577 [==============================] - 0s 24us/step - loss: 0.0124 - mse: 0.0124 - mae: 0.0848 - val_loss: 0.0103 - val_mse: 0.0103 - val_mae: 0.0736\n",
      "Epoch 82/150\n",
      "577/577 [==============================] - 0s 24us/step - loss: 0.0124 - mse: 0.0124 - mae: 0.0845 - val_loss: 0.0102 - val_mse: 0.0102 - val_mae: 0.0736\n",
      "Epoch 83/150\n",
      "577/577 [==============================] - 0s 24us/step - loss: 0.0123 - mse: 0.0123 - mae: 0.0832 - val_loss: 0.0104 - val_mse: 0.0104 - val_mae: 0.0757\n",
      "Epoch 84/150\n",
      "577/577 [==============================] - 0s 24us/step - loss: 0.0123 - mse: 0.0123 - mae: 0.0843 - val_loss: 0.0102 - val_mse: 0.0102 - val_mae: 0.0740\n",
      "Epoch 85/150\n",
      "577/577 [==============================] - 0s 24us/step - loss: 0.0123 - mse: 0.0123 - mae: 0.0842 - val_loss: 0.0102 - val_mse: 0.0102 - val_mae: 0.0734\n",
      "Epoch 86/150\n",
      "577/577 [==============================] - 0s 24us/step - loss: 0.0123 - mse: 0.0123 - mae: 0.0827 - val_loss: 0.0103 - val_mse: 0.0103 - val_mae: 0.0752\n",
      "Epoch 87/150\n",
      "577/577 [==============================] - 0s 23us/step - loss: 0.0124 - mse: 0.0124 - mae: 0.0845 - val_loss: 0.0102 - val_mse: 0.0102 - val_mae: 0.0740\n",
      "Epoch 88/150\n",
      "577/577 [==============================] - 0s 23us/step - loss: 0.0122 - mse: 0.0122 - mae: 0.0842 - val_loss: 0.0102 - val_mse: 0.0102 - val_mae: 0.0737\n",
      "Epoch 89/150\n",
      "577/577 [==============================] - 0s 26us/step - loss: 0.0122 - mse: 0.0122 - mae: 0.0827 - val_loss: 0.0102 - val_mse: 0.0102 - val_mae: 0.0742\n",
      "Epoch 90/150\n",
      "577/577 [==============================] - 0s 26us/step - loss: 0.0122 - mse: 0.0122 - mae: 0.0836 - val_loss: 0.0102 - val_mse: 0.0102 - val_mae: 0.0735\n",
      "Epoch 91/150\n",
      "577/577 [==============================] - 0s 28us/step - loss: 0.0122 - mse: 0.0122 - mae: 0.0829 - val_loss: 0.0102 - val_mse: 0.0102 - val_mae: 0.0742\n",
      "Epoch 92/150\n",
      "577/577 [==============================] - 0s 25us/step - loss: 0.0122 - mse: 0.0122 - mae: 0.0838 - val_loss: 0.0102 - val_mse: 0.0102 - val_mae: 0.0739\n",
      "Epoch 93/150\n",
      "577/577 [==============================] - 0s 24us/step - loss: 0.0121 - mse: 0.0121 - mae: 0.0833 - val_loss: 0.0101 - val_mse: 0.0101 - val_mae: 0.0733\n",
      "Epoch 94/150\n",
      "577/577 [==============================] - 0s 23us/step - loss: 0.0121 - mse: 0.0121 - mae: 0.0831 - val_loss: 0.0101 - val_mse: 0.0101 - val_mae: 0.0728\n",
      "Epoch 95/150\n",
      "577/577 [==============================] - 0s 23us/step - loss: 0.0122 - mse: 0.0122 - mae: 0.0833 - val_loss: 0.0102 - val_mse: 0.0102 - val_mae: 0.0742\n",
      "Epoch 96/150\n",
      "577/577 [==============================] - 0s 23us/step - loss: 0.0121 - mse: 0.0121 - mae: 0.0829 - val_loss: 0.0103 - val_mse: 0.0103 - val_mae: 0.0733\n",
      "Epoch 97/150\n"
     ]
    },
    {
     "name": "stdout",
     "output_type": "stream",
     "text": [
      "577/577 [==============================] - 0s 23us/step - loss: 0.0122 - mse: 0.0122 - mae: 0.0836 - val_loss: 0.0100 - val_mse: 0.0100 - val_mae: 0.0730\n",
      "Epoch 98/150\n",
      "577/577 [==============================] - 0s 23us/step - loss: 0.0121 - mse: 0.0121 - mae: 0.0821 - val_loss: 0.0101 - val_mse: 0.0101 - val_mae: 0.0737\n",
      "Epoch 99/150\n",
      "577/577 [==============================] - 0s 23us/step - loss: 0.0122 - mse: 0.0122 - mae: 0.0837 - val_loss: 0.0101 - val_mse: 0.0101 - val_mae: 0.0731\n",
      "Epoch 100/150\n",
      "577/577 [==============================] - 0s 23us/step - loss: 0.0121 - mse: 0.0121 - mae: 0.0838 - val_loss: 0.0100 - val_mse: 0.0100 - val_mae: 0.0732\n",
      "Epoch 101/150\n",
      "577/577 [==============================] - 0s 26us/step - loss: 0.0121 - mse: 0.0121 - mae: 0.0822 - val_loss: 0.0100 - val_mse: 0.0100 - val_mae: 0.0733\n",
      "Epoch 102/150\n",
      "577/577 [==============================] - 0s 23us/step - loss: 0.0123 - mse: 0.0123 - mae: 0.0847 - val_loss: 0.0101 - val_mse: 0.0101 - val_mae: 0.0727\n",
      "Epoch 103/150\n",
      "577/577 [==============================] - 0s 26us/step - loss: 0.0121 - mse: 0.0121 - mae: 0.0821 - val_loss: 0.0103 - val_mse: 0.0103 - val_mae: 0.0760\n",
      "Epoch 104/150\n",
      "577/577 [==============================] - 0s 24us/step - loss: 0.0121 - mse: 0.0121 - mae: 0.0831 - val_loss: 0.0099 - val_mse: 0.0099 - val_mae: 0.0726\n",
      "Epoch 105/150\n",
      "577/577 [==============================] - 0s 24us/step - loss: 0.0120 - mse: 0.0120 - mae: 0.0831 - val_loss: 0.0099 - val_mse: 0.0099 - val_mae: 0.0724\n",
      "Epoch 106/150\n",
      "577/577 [==============================] - 0s 25us/step - loss: 0.0120 - mse: 0.0120 - mae: 0.0819 - val_loss: 0.0099 - val_mse: 0.0099 - val_mae: 0.0731\n",
      "Epoch 107/150\n",
      "577/577 [==============================] - 0s 24us/step - loss: 0.0122 - mse: 0.0122 - mae: 0.0842 - val_loss: 0.0101 - val_mse: 0.0101 - val_mae: 0.0725\n",
      "Epoch 108/150\n",
      "577/577 [==============================] - 0s 25us/step - loss: 0.0122 - mse: 0.0122 - mae: 0.0831 - val_loss: 0.0098 - val_mse: 0.0098 - val_mae: 0.0730\n",
      "Epoch 109/150\n",
      "577/577 [==============================] - 0s 24us/step - loss: 0.0121 - mse: 0.0121 - mae: 0.0820 - val_loss: 0.0099 - val_mse: 0.0099 - val_mae: 0.0738\n",
      "Epoch 110/150\n",
      "577/577 [==============================] - 0s 25us/step - loss: 0.0120 - mse: 0.0120 - mae: 0.0825 - val_loss: 0.0099 - val_mse: 0.0099 - val_mae: 0.0721\n",
      "Epoch 111/150\n",
      "577/577 [==============================] - 0s 25us/step - loss: 0.0119 - mse: 0.0119 - mae: 0.0817 - val_loss: 0.0099 - val_mse: 0.0099 - val_mae: 0.0739\n",
      "Epoch 112/150\n",
      "577/577 [==============================] - 0s 25us/step - loss: 0.0120 - mse: 0.0120 - mae: 0.0827 - val_loss: 0.0097 - val_mse: 0.0097 - val_mae: 0.0723\n",
      "Epoch 113/150\n",
      "577/577 [==============================] - 0s 26us/step - loss: 0.0119 - mse: 0.0119 - mae: 0.0814 - val_loss: 0.0098 - val_mse: 0.0098 - val_mae: 0.0728\n",
      "Epoch 114/150\n",
      "577/577 [==============================] - 0s 25us/step - loss: 0.0119 - mse: 0.0119 - mae: 0.0822 - val_loss: 0.0098 - val_mse: 0.0098 - val_mae: 0.0725\n",
      "Epoch 115/150\n",
      "577/577 [==============================] - 0s 24us/step - loss: 0.0120 - mse: 0.0120 - mae: 0.0824 - val_loss: 0.0097 - val_mse: 0.0097 - val_mae: 0.0718\n",
      "Epoch 116/150\n",
      "577/577 [==============================] - 0s 24us/step - loss: 0.0118 - mse: 0.0118 - mae: 0.0813 - val_loss: 0.0097 - val_mse: 0.0097 - val_mae: 0.0724\n",
      "Epoch 117/150\n",
      "577/577 [==============================] - 0s 24us/step - loss: 0.0119 - mse: 0.0119 - mae: 0.0818 - val_loss: 0.0098 - val_mse: 0.0098 - val_mae: 0.0734\n",
      "Epoch 118/150\n",
      "577/577 [==============================] - 0s 24us/step - loss: 0.0119 - mse: 0.0119 - mae: 0.0823 - val_loss: 0.0097 - val_mse: 0.0097 - val_mae: 0.0718\n",
      "Epoch 119/150\n",
      "577/577 [==============================] - 0s 24us/step - loss: 0.0119 - mse: 0.0119 - mae: 0.0825 - val_loss: 0.0097 - val_mse: 0.0097 - val_mae: 0.0718\n",
      "Epoch 120/150\n",
      "577/577 [==============================] - 0s 23us/step - loss: 0.0120 - mse: 0.0120 - mae: 0.0817 - val_loss: 0.0100 - val_mse: 0.0100 - val_mae: 0.0747\n",
      "Epoch 121/150\n",
      "577/577 [==============================] - 0s 22us/step - loss: 0.0120 - mse: 0.0120 - mae: 0.0821 - val_loss: 0.0097 - val_mse: 0.0097 - val_mae: 0.0725\n",
      "Epoch 122/150\n",
      "577/577 [==============================] - 0s 22us/step - loss: 0.0119 - mse: 0.0119 - mae: 0.0833 - val_loss: 0.0097 - val_mse: 0.0097 - val_mae: 0.0718\n",
      "Epoch 123/150\n",
      "577/577 [==============================] - 0s 22us/step - loss: 0.0119 - mse: 0.0119 - mae: 0.0817 - val_loss: 0.0100 - val_mse: 0.0100 - val_mae: 0.0748\n",
      "Epoch 124/150\n",
      "577/577 [==============================] - 0s 23us/step - loss: 0.0118 - mse: 0.0118 - mae: 0.0820 - val_loss: 0.0097 - val_mse: 0.0097 - val_mae: 0.0719\n",
      "Epoch 125/150\n",
      "577/577 [==============================] - 0s 24us/step - loss: 0.0119 - mse: 0.0119 - mae: 0.0815 - val_loss: 0.0096 - val_mse: 0.0096 - val_mae: 0.0717\n",
      "Epoch 126/150\n",
      "577/577 [==============================] - 0s 24us/step - loss: 0.0118 - mse: 0.0118 - mae: 0.0805 - val_loss: 0.0099 - val_mse: 0.0099 - val_mae: 0.0742\n",
      "Epoch 127/150\n",
      "577/577 [==============================] - 0s 23us/step - loss: 0.0119 - mse: 0.0119 - mae: 0.0831 - val_loss: 0.0098 - val_mse: 0.0098 - val_mae: 0.0721\n",
      "Epoch 128/150\n",
      "577/577 [==============================] - 0s 23us/step - loss: 0.0118 - mse: 0.0118 - mae: 0.0811 - val_loss: 0.0096 - val_mse: 0.0096 - val_mae: 0.0721\n",
      "Epoch 129/150\n",
      "577/577 [==============================] - 0s 23us/step - loss: 0.0118 - mse: 0.0118 - mae: 0.0817 - val_loss: 0.0096 - val_mse: 0.0096 - val_mae: 0.0718\n",
      "Epoch 130/150\n",
      "577/577 [==============================] - 0s 23us/step - loss: 0.0118 - mse: 0.0118 - mae: 0.0809 - val_loss: 0.0097 - val_mse: 0.0097 - val_mae: 0.0722\n",
      "Epoch 131/150\n",
      "577/577 [==============================] - 0s 23us/step - loss: 0.0118 - mse: 0.0118 - mae: 0.0821 - val_loss: 0.0096 - val_mse: 0.0096 - val_mae: 0.0717\n",
      "Epoch 132/150\n",
      "577/577 [==============================] - 0s 23us/step - loss: 0.0121 - mse: 0.0121 - mae: 0.0814 - val_loss: 0.0098 - val_mse: 0.0098 - val_mae: 0.0740\n",
      "Epoch 133/150\n",
      "577/577 [==============================] - 0s 23us/step - loss: 0.0118 - mse: 0.0118 - mae: 0.0808 - val_loss: 0.0096 - val_mse: 0.0096 - val_mae: 0.0719\n",
      "Epoch 134/150\n",
      "577/577 [==============================] - 0s 23us/step - loss: 0.0119 - mse: 0.0119 - mae: 0.0830 - val_loss: 0.0096 - val_mse: 0.0096 - val_mae: 0.0717\n",
      "Epoch 135/150\n",
      "577/577 [==============================] - 0s 24us/step - loss: 0.0118 - mse: 0.0118 - mae: 0.0808 - val_loss: 0.0096 - val_mse: 0.0096 - val_mae: 0.0724\n",
      "Epoch 136/150\n",
      "577/577 [==============================] - 0s 23us/step - loss: 0.0117 - mse: 0.0117 - mae: 0.0812 - val_loss: 0.0095 - val_mse: 0.0095 - val_mae: 0.0720\n",
      "Epoch 137/150\n",
      "577/577 [==============================] - 0s 23us/step - loss: 0.0117 - mse: 0.0117 - mae: 0.0817 - val_loss: 0.0095 - val_mse: 0.0095 - val_mae: 0.0715\n",
      "Epoch 138/150\n",
      "577/577 [==============================] - 0s 23us/step - loss: 0.0119 - mse: 0.0119 - mae: 0.0804 - val_loss: 0.0097 - val_mse: 0.0097 - val_mae: 0.0737\n",
      "Epoch 139/150\n",
      "577/577 [==============================] - 0s 23us/step - loss: 0.0119 - mse: 0.0119 - mae: 0.0819 - val_loss: 0.0094 - val_mse: 0.0094 - val_mae: 0.0714\n",
      "Epoch 140/150\n",
      "577/577 [==============================] - 0s 23us/step - loss: 0.0118 - mse: 0.0118 - mae: 0.0814 - val_loss: 0.0096 - val_mse: 0.0096 - val_mae: 0.0722\n",
      "Epoch 141/150\n",
      "577/577 [==============================] - 0s 23us/step - loss: 0.0117 - mse: 0.0117 - mae: 0.0813 - val_loss: 0.0094 - val_mse: 0.0094 - val_mae: 0.0719\n",
      "Epoch 142/150\n",
      "577/577 [==============================] - 0s 24us/step - loss: 0.0116 - mse: 0.0116 - mae: 0.0810 - val_loss: 0.0094 - val_mse: 0.0094 - val_mae: 0.0716\n",
      "Epoch 143/150\n",
      "577/577 [==============================] - 0s 23us/step - loss: 0.0117 - mse: 0.0117 - mae: 0.0801 - val_loss: 0.0096 - val_mse: 0.0096 - val_mae: 0.0731\n",
      "Epoch 144/150\n",
      "577/577 [==============================] - 0s 22us/step - loss: 0.0117 - mse: 0.0117 - mae: 0.0812 - val_loss: 0.0094 - val_mse: 0.0094 - val_mae: 0.0716\n",
      "Epoch 145/150\n",
      "577/577 [==============================] - 0s 22us/step - loss: 0.0116 - mse: 0.0116 - mae: 0.0809 - val_loss: 0.0094 - val_mse: 0.0094 - val_mae: 0.0719\n"
     ]
    },
    {
     "name": "stdout",
     "output_type": "stream",
     "text": [
      "Epoch 146/150\n",
      "577/577 [==============================] - 0s 23us/step - loss: 0.0116 - mse: 0.0116 - mae: 0.0804 - val_loss: 0.0095 - val_mse: 0.0095 - val_mae: 0.0728\n",
      "Epoch 147/150\n",
      "577/577 [==============================] - 0s 23us/step - loss: 0.0118 - mse: 0.0118 - mae: 0.0814 - val_loss: 0.0095 - val_mse: 0.0095 - val_mae: 0.0721\n",
      "Epoch 148/150\n",
      "577/577 [==============================] - 0s 23us/step - loss: 0.0116 - mse: 0.0116 - mae: 0.0811 - val_loss: 0.0094 - val_mse: 0.0094 - val_mae: 0.0716\n",
      "Epoch 149/150\n",
      "577/577 [==============================] - 0s 23us/step - loss: 0.0117 - mse: 0.0117 - mae: 0.0809 - val_loss: 0.0095 - val_mse: 0.0095 - val_mae: 0.0727\n",
      "Epoch 150/150\n",
      "577/577 [==============================] - 0s 23us/step - loss: 0.0118 - mse: 0.0118 - mae: 0.0813 - val_loss: 0.0096 - val_mse: 0.0096 - val_mae: 0.0733\n"
     ]
    }
   ],
   "source": [
    "history = model.fit(\n",
    "    X_train, \n",
    "    y_train, \n",
    "    epochs=150, \n",
    "    batch_size=50,  \n",
    "    verbose=1, \n",
    "    validation_split=0.2\n",
    ")"
   ]
  },
  {
   "cell_type": "code",
   "execution_count": 41,
   "metadata": {},
   "outputs": [
    {
     "name": "stdout",
     "output_type": "stream",
     "text": [
      "dict_keys(['val_loss', 'val_mse', 'val_mae', 'loss', 'mse', 'mae'])\n"
     ]
    },
    {
     "data": {
      "image/png": "[encoded data removed]",
      "text/plain": [
       "<Figure size 432x288 with 1 Axes>"
      ]
     },
     "metadata": {
      "needs_background": "light"
     },
     "output_type": "display_data"
    }
   ],
   "source": [
    "print(history.history.keys())\n",
    "# \"Loss\"\n",
    "plt.plot(history.history['loss'])\n",
    "plt.plot(history.history['val_loss'])\n",
    "plt.title('model loss')\n",
    "plt.ylabel('loss')\n",
    "plt.xlabel('epoch')\n",
    "plt.legend(['train', 'validation'], loc='upper left')\n",
    "plt.show()"
   ]
  },
  {
   "cell_type": "markdown",
   "metadata": {},
   "source": [
    "# Make Predictions"
   ]
  },
  {
   "cell_type": "code",
   "execution_count": 43,
   "metadata": {},
   "outputs": [],
   "source": [
    "y_test_predictions = model.predict(X_test)"
   ]
  },
  {
   "cell_type": "code",
   "execution_count": 46,
   "metadata": {},
   "outputs": [
    {
     "data": {
      "text/plain": [
       "array([[27357.],\n",
       "       [ 1213.],\n",
       "       [11401.],\n",
       "       [13996.],\n",
       "       [ 5681.]])"
      ]
     },
     "execution_count": 46,
     "metadata": {},
     "output_type": "execute_result"
    }
   ],
   "source": [
    "scaler_y.inverse_transform(y_test[0:5])"
   ]
  },
  {
   "cell_type": "code",
   "execution_count": 47,
   "metadata": {},
   "outputs": [
    {
     "data": {
      "text/plain": [
       "array([[26304.22 ],\n",
       "       [ 4512.376],\n",
       "       [11836.422],\n",
       "       [10813.733],\n",
       "       [ 8193.1  ]], dtype=float32)"
      ]
     },
     "execution_count": 47,
     "metadata": {},
     "output_type": "execute_result"
    }
   ],
   "source": [
    "scaler_y.inverse_transform(y_test_predictions[0:5])"
   ]
  },
  {
   "cell_type": "markdown",
   "metadata": {},
   "source": [
    "# Try to maximize it"
   ]
  },
  {
   "cell_type": "code",
   "execution_count": 48,
   "metadata": {},
   "outputs": [],
   "source": [
    "Xnew = np.array([[40, 0, 26, 9000, 8000]])"
   ]
  },
  {
   "cell_type": "code",
   "execution_count": 117,
   "metadata": {},
   "outputs": [
    {
     "data": {
      "text/plain": [
       "<matplotlib.collections.PathCollection at 0x13d727f28>"
      ]
     },
     "execution_count": 117,
     "metadata": {},
     "output_type": "execute_result"
    },
    {
     "data": {
      "image/png": "[encoded data removed]",
      "text/plain": [
       "<Figure size 432x288 with 1 Axes>"
      ]
     },
     "metadata": {
      "needs_background": "light"
     },
     "output_type": "display_data"
    }
   ],
   "source": [
    "plt.scatter(\n",
    "    df.age.values,\n",
    "    df.sales.values\n",
    ")"
   ]
  },
  {
   "cell_type": "code",
   "execution_count": 118,
   "metadata": {},
   "outputs": [
    {
     "data": {
      "text/plain": [
       "<matplotlib.collections.PathCollection at 0x13d77d630>"
      ]
     },
     "execution_count": 118,
     "metadata": {},
     "output_type": "execute_result"
    },
    {
     "data": {
      "image/png": "[encoded data removed]",
      "text/plain": [
       "<Figure size 432x288 with 1 Axes>"
      ]
     },
     "metadata": {
      "needs_background": "light"
     },
     "output_type": "display_data"
    }
   ],
   "source": [
    "plt.scatter(\n",
    "    df.debt.values,\n",
    "    df.sales.values\n",
    ")"
   ]
  },
  {
   "cell_type": "code",
   "execution_count": 53,
   "metadata": {},
   "outputs": [
    {
     "data": {
      "text/plain": [
       "array([[1.51064702e+02, 3.89479743e+04],\n",
       "       [3.89479743e+04, 8.07643163e+07]])"
      ]
     },
     "execution_count": 53,
     "metadata": {},
     "output_type": "execute_result"
    }
   ],
   "source": [
    "np.cov(df.age.values, df.sales.values)"
   ]
  },
  {
   "cell_type": "code",
   "execution_count": 55,
   "metadata": {},
   "outputs": [
    {
     "data": {
      "text/html": [
       "<div>\n",
       "<style scoped>\n",
       "    .dataframe tbody tr th:only-of-type {\n",
       "        vertical-align: middle;\n",
       "    }\n",
       "\n",
       "    .dataframe tbody tr th {\n",
       "        vertical-align: top;\n",
       "    }\n",
       "\n",
       "    .dataframe thead th {\n",
       "        text-align: right;\n",
       "    }\n",
       "</style>\n",
       "<table border=\"1\" class=\"dataframe\">\n",
       "  <thead>\n",
       "    <tr style=\"text-align: right;\">\n",
       "      <th></th>\n",
       "      <th>age</th>\n",
       "      <th>gender</th>\n",
       "      <th>miles</th>\n",
       "      <th>debt</th>\n",
       "      <th>income</th>\n",
       "      <th>sales</th>\n",
       "    </tr>\n",
       "  </thead>\n",
       "  <tbody>\n",
       "    <tr>\n",
       "      <th>age</th>\n",
       "      <td>1.000000</td>\n",
       "      <td>-0.000702</td>\n",
       "      <td>0.232399</td>\n",
       "      <td>0.218896</td>\n",
       "      <td>0.239644</td>\n",
       "      <td>0.352609</td>\n",
       "    </tr>\n",
       "    <tr>\n",
       "      <th>gender</th>\n",
       "      <td>-0.000702</td>\n",
       "      <td>1.000000</td>\n",
       "      <td>-0.031355</td>\n",
       "      <td>-0.033181</td>\n",
       "      <td>-0.034317</td>\n",
       "      <td>-0.036350</td>\n",
       "    </tr>\n",
       "    <tr>\n",
       "      <th>miles</th>\n",
       "      <td>0.232399</td>\n",
       "      <td>-0.031355</td>\n",
       "      <td>1.000000</td>\n",
       "      <td>0.544791</td>\n",
       "      <td>0.422141</td>\n",
       "      <td>0.636676</td>\n",
       "    </tr>\n",
       "    <tr>\n",
       "      <th>debt</th>\n",
       "      <td>0.218896</td>\n",
       "      <td>-0.033181</td>\n",
       "      <td>0.544791</td>\n",
       "      <td>1.000000</td>\n",
       "      <td>0.491790</td>\n",
       "      <td>0.835541</td>\n",
       "    </tr>\n",
       "    <tr>\n",
       "      <th>income</th>\n",
       "      <td>0.239644</td>\n",
       "      <td>-0.034317</td>\n",
       "      <td>0.422141</td>\n",
       "      <td>0.491790</td>\n",
       "      <td>1.000000</td>\n",
       "      <td>0.674685</td>\n",
       "    </tr>\n",
       "    <tr>\n",
       "      <th>sales</th>\n",
       "      <td>0.352609</td>\n",
       "      <td>-0.036350</td>\n",
       "      <td>0.636676</td>\n",
       "      <td>0.835541</td>\n",
       "      <td>0.674685</td>\n",
       "      <td>1.000000</td>\n",
       "    </tr>\n",
       "  </tbody>\n",
       "</table>\n",
       "</div>"
      ],
      "text/plain": [
       "             age    gender     miles      debt    income     sales\n",
       "age     1.000000 -0.000702  0.232399  0.218896  0.239644  0.352609\n",
       "gender -0.000702  1.000000 -0.031355 -0.033181 -0.034317 -0.036350\n",
       "miles   0.232399 -0.031355  1.000000  0.544791  0.422141  0.636676\n",
       "debt    0.218896 -0.033181  0.544791  1.000000  0.491790  0.835541\n",
       "income  0.239644 -0.034317  0.422141  0.491790  1.000000  0.674685\n",
       "sales   0.352609 -0.036350  0.636676  0.835541  0.674685  1.000000"
      ]
     },
     "execution_count": 55,
     "metadata": {},
     "output_type": "execute_result"
    }
   ],
   "source": [
    "df.corr()"
   ]
  },
  {
   "cell_type": "code",
   "execution_count": 56,
   "metadata": {},
   "outputs": [],
   "source": [
    "import seaborn as sns"
   ]
  },
  {
   "cell_type": "code",
   "execution_count": 57,
   "metadata": {},
   "outputs": [
    {
     "data": {
      "text/plain": [
       "<matplotlib.axes._subplots.AxesSubplot at 0x13d402f60>"
      ]
     },
     "execution_count": 57,
     "metadata": {},
     "output_type": "execute_result"
    },
    {
     "data": {
      "image/png": "[encoded data removed]",
      "text/plain": [
       "<Figure size 432x288 with 2 Axes>"
      ]
     },
     "metadata": {
      "needs_background": "light"
     },
     "output_type": "display_data"
    }
   ],
   "source": [
    "sns.heatmap(\n",
    "    df.corr()\n",
    ")"
   ]
  },
  {
   "cell_type": "code",
   "execution_count": 58,
   "metadata": {},
   "outputs": [],
   "source": [
    "import tensorflow as tf\n",
    "a = [1, 10, 26.9, 2.8, 166.32, 62.3]\n",
    "b = tf.math.argmax(input = a)\n",
    "c = tf.keras.backend.eval(b)"
   ]
  },
  {
   "cell_type": "code",
   "execution_count": 63,
   "metadata": {},
   "outputs": [
    {
     "data": {
      "text/plain": [
       "19"
      ]
     },
     "execution_count": 63,
     "metadata": {},
     "output_type": "execute_result"
    }
   ],
   "source": [
    "df.age.min()"
   ]
  },
  {
   "cell_type": "code",
   "execution_count": 81,
   "metadata": {},
   "outputs": [],
   "source": [
    "step = 0.0001\n",
    "x_grid_scaled = np.array([\n",
    "    np.arange(0, 1, step),\n",
    "    np.arange(0, 1, step),\n",
    "    np.arange(0, 1, step),\n",
    "    np.arange(0, 1, step),\n",
    "    np.arange(0, 1, step),\n",
    "]).T\n",
    "\n"
   ]
  },
  {
   "cell_type": "code",
   "execution_count": 114,
   "metadata": {},
   "outputs": [],
   "source": [
    "y_test_predictions_grid = model.predict(x_grid_scaled)\n",
    "\n",
    "y_argmax = tf.math.argmax(input = y_test_predictions_grid)\n",
    "argmax_index = tf.keras.backend.eval(y_argmax)"
   ]
  },
  {
   "cell_type": "code",
   "execution_count": 116,
   "metadata": {},
   "outputs": [
    {
     "data": {
      "text/plain": [
       "array([[0.9999, 0.9999, 0.9999, 0.9999, 0.9999]])"
      ]
     },
     "execution_count": 116,
     "metadata": {},
     "output_type": "execute_result"
    }
   ],
   "source": [
    "x_grid_scaled[argmax_index]"
   ]
  },
  {
   "cell_type": "markdown",
   "metadata": {},
   "source": [
    "Above we have our argmax-not terribly surprising considering most of these relationships are likely linear. Even debt has as positive correlation to sale price. "
   ]
  },
  {
   "cell_type": "code",
   "execution_count": 89,
   "metadata": {},
   "outputs": [
    {
     "data": {
      "text/plain": [
       "34669.984"
      ]
     },
     "execution_count": 89,
     "metadata": {},
     "output_type": "execute_result"
    }
   ],
   "source": [
    "scaler_y.inverse_transform(y_test_predictions_grid).max()"
   ]
  },
  {
   "cell_type": "code",
   "execution_count": 111,
   "metadata": {},
   "outputs": [
    {
     "data": {
      "text/plain": [
       "array([[34669.984]], dtype=float32)"
      ]
     },
     "execution_count": 111,
     "metadata": {},
     "output_type": "execute_result"
    }
   ],
   "source": [
    "scaler_y.inverse_transform(model.predict(x_grid_scaled[9999].reshape(1, -1)))"
   ]
  },
  {
   "cell_type": "code",
   "execution_count": 113,
   "metadata": {},
   "outputs": [
    {
     "data": {
      "text/plain": [
       "array([[21489.26]], dtype=float32)"
      ]
     },
     "execution_count": 113,
     "metadata": {},
     "output_type": "execute_result"
    }
   ],
   "source": [
    "scaler_y.inverse_transform(model.predict(x_grid_scaled[5000].reshape(1, -1)))"
   ]
  },
  {
   "cell_type": "code",
   "execution_count": null,
   "metadata": {},
   "outputs": [],
   "source": []
  },
  {
   "cell_type": "code",
   "execution_count": null,
   "metadata": {},
   "outputs": [],
   "source": [
    "# Essentially can perform a generic grid search "
   ]
  },
  {
   "cell_type": "code",
   "execution_count": null,
   "metadata": {},
   "outputs": [],
   "source": []
  }
 ],
 "metadata": {
  "kernelspec": {
   "display_name": "Python 3",
   "language": "python",
   "name": "python3"
  },
  "language_info": {
   "codemirror_mode": {
    "name": "ipython",
    "version": 3
   },
   "file_extension": ".py",
   "mimetype": "text/x-python",
   "name": "python",
   "nbconvert_exporter": "python",
   "pygments_lexer": "ipython3",
   "version": "3.6.2"
  }
 },
 "nbformat": 4,
 "nbformat_minor": 2
}
