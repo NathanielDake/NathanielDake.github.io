{
 "cells": [
  {
   "cell_type": "markdown",
   "metadata": {},
   "source": [
    "# Lists vs. Arrays"
   ]
  },
  {
   "cell_type": "code",
   "execution_count": 2,
   "metadata": {},
   "outputs": [],
   "source": [
    "import numpy as np"
   ]
  },
  {
   "cell_type": "code",
   "execution_count": 3,
   "metadata": {},
   "outputs": [],
   "source": [
    "L = [1,2,3]                 # creating python list\n",
    "A = np.array([1,2,3])       # creating numpy array"
   ]
  },
  {
   "cell_type": "code",
   "execution_count": 4,
   "metadata": {},
   "outputs": [
    {
     "name": "stdout",
     "output_type": "stream",
     "text": [
      "1\n",
      "2\n",
      "3\n"
     ]
    }
   ],
   "source": [
    "for e in L:\n",
    "    print e"
   ]
  },
  {
   "cell_type": "code",
   "execution_count": 5,
   "metadata": {},
   "outputs": [
    {
     "name": "stdout",
     "output_type": "stream",
     "text": [
      "1\n",
      "2\n",
      "3\n"
     ]
    }
   ],
   "source": [
    "for e in A:\n",
    "    print e"
   ]
  },
  {
   "cell_type": "code",
   "execution_count": 6,
   "metadata": {},
   "outputs": [
    {
     "data": {
      "text/plain": [
       "[1, 2, 3, 4, 5]"
      ]
     },
     "execution_count": 6,
     "metadata": {},
     "output_type": "execute_result"
    }
   ],
   "source": [
    "L.append(4)        # adding element to list\n",
    "L = L + [5]        # another way to add element to list\n",
    "L"
   ]
  },
  {
   "cell_type": "code",
   "execution_count": 7,
   "metadata": {},
   "outputs": [
    {
     "data": {
      "text/plain": [
       "array([2, 4, 6])"
      ]
     },
     "execution_count": 7,
     "metadata": {},
     "output_type": "execute_result"
    }
   ],
   "source": [
    "A + A              # adding two arrays element wise addition in numpy (vector addition)"
   ]
  },
  {
   "cell_type": "code",
   "execution_count": 8,
   "metadata": {},
   "outputs": [
    {
     "data": {
      "text/plain": [
       "array([2, 4, 6])"
      ]
     },
     "execution_count": 8,
     "metadata": {},
     "output_type": "execute_result"
    }
   ],
   "source": [
    "A * 2              # multiplying vector times a scalar"
   ]
  },
  {
   "cell_type": "code",
   "execution_count": 9,
   "metadata": {},
   "outputs": [
    {
     "data": {
      "text/plain": [
       "array([1, 4, 9])"
      ]
     },
     "execution_count": 9,
     "metadata": {},
     "output_type": "execute_result"
    }
   ],
   "source": [
    "A**2               # squaring a vector"
   ]
  },
  {
   "cell_type": "markdown",
   "metadata": {},
   "source": [
    "Something to keep in mind about numpy is that most functions act element wise. This just means that the function is applied to each element of the vector or matrix."
   ]
  },
  {
   "cell_type": "code",
   "execution_count": 10,
   "metadata": {},
   "outputs": [
    {
     "data": {
      "text/plain": [
       "array([1.        , 1.41421356, 1.73205081])"
      ]
     },
     "execution_count": 10,
     "metadata": {},
     "output_type": "execute_result"
    }
   ],
   "source": [
    "np.sqrt(A)         # taking square root of all elements in vector "
   ]
  },
  {
   "cell_type": "code",
   "execution_count": 11,
   "metadata": {},
   "outputs": [
    {
     "data": {
      "text/plain": [
       "array([0.        , 0.69314718, 1.09861229])"
      ]
     },
     "execution_count": 11,
     "metadata": {},
     "output_type": "execute_result"
    }
   ],
   "source": [
    "np.log(A)          # element wise log"
   ]
  },
  {
   "cell_type": "code",
   "execution_count": 12,
   "metadata": {
    "scrolled": true
   },
   "outputs": [
    {
     "data": {
      "text/plain": [
       "array([ 2.71828183,  7.3890561 , 20.08553692])"
      ]
     },
     "execution_count": 12,
     "metadata": {},
     "output_type": "execute_result"
    }
   ],
   "source": [
    "np.exp(A)          # element wise exponential "
   ]
  },
  {
   "cell_type": "markdown",
   "metadata": {},
   "source": [
    "With numpy you can treat lists like a vector, a mathematical object. "
   ]
  },
  {
   "cell_type": "markdown",
   "metadata": {},
   "source": [
    "---\n",
    "<br></br>\n",
    "# Dot Products\n",
    "\n",
    "Recall that there are two definitions of the dot product, and they are each equivalent. \n",
    "\n",
    "1: The first is the summation of the element wise multiplication of the two vectors:\n",
    "\n",
    "$$a \\cdot b = a^Tb = \\sum_{d=1}^Da_db_d$$\n",
    "\n",
    "Here $d$ is being used to index each component. Notice that the convention $a^Tb$ implies that the vectors are column vectors, which means that the result is a (1 x 1), aka a scalar. \n",
    "\n",
    "2: The second is the magnitude of $a$, times the magnitude of $b$, times the cosine of the angle between $a$ and $b$:\n",
    "\n",
    "$$a \\cdot b = |a||b|cos\\theta_{ab}$$\n",
    "\n",
    "This method is not very convenient unless we know each of the things on the right hand side to begin with. It would generally be used to find the angle itself. \n",
    "\n",
    "### Definition 1\n",
    "Let's look at this in code."
   ]
  },
  {
   "cell_type": "code",
   "execution_count": 13,
   "metadata": {},
   "outputs": [
    {
     "data": {
      "text/plain": [
       "array([1, 2])"
      ]
     },
     "execution_count": 13,
     "metadata": {},
     "output_type": "execute_result"
    }
   ],
   "source": [
    "a = np.array([1,2])\n",
    "a"
   ]
  },
  {
   "cell_type": "code",
   "execution_count": 14,
   "metadata": {},
   "outputs": [
    {
     "data": {
      "text/plain": [
       "array([2, 1])"
      ]
     },
     "execution_count": 14,
     "metadata": {},
     "output_type": "execute_result"
    }
   ],
   "source": [
    "b = np.array([2,1])\n",
    "b"
   ]
  },
  {
   "cell_type": "markdown",
   "metadata": {},
   "source": [
    "If we wanted to use the direct definition of the dot product, we would want to loop through both arrays simultaneously, multiply each corresponding element together, and add it to the final sum. "
   ]
  },
  {
   "cell_type": "code",
   "execution_count": 15,
   "metadata": {},
   "outputs": [
    {
     "data": {
      "text/plain": [
       "4"
      ]
     },
     "execution_count": 15,
     "metadata": {},
     "output_type": "execute_result"
    }
   ],
   "source": [
    "dot = 0\n",
    "for e, f in zip(a,b):\n",
    "    dot += e*f\n",
    "dot                      # result is 4 as expected"
   ]
  },
  {
   "cell_type": "markdown",
   "metadata": {},
   "source": [
    "Another interesting operation that you can do with numpy arrays is multiply two arrays together. We have already seen how to multiply a vector by a scalar. "
   ]
  },
  {
   "cell_type": "code",
   "execution_count": 16,
   "metadata": {},
   "outputs": [
    {
     "data": {
      "text/plain": [
       "array([2, 2])"
      ]
     },
     "execution_count": 16,
     "metadata": {},
     "output_type": "execute_result"
    }
   ],
   "source": [
    "a * b             # element wise multiplication of a and b "
   ]
  },
  {
   "cell_type": "markdown",
   "metadata": {},
   "source": [
    "However, the above method could not be done with two arrays of different sizes. Now, if we summed the result of `a * b` we would end up with the dot product."
   ]
  },
  {
   "cell_type": "code",
   "execution_count": 17,
   "metadata": {},
   "outputs": [
    {
     "data": {
      "text/plain": [
       "4"
      ]
     },
     "execution_count": 17,
     "metadata": {},
     "output_type": "execute_result"
    }
   ],
   "source": [
    "np.sum(a * b)           # this is the element wise multiplication of a and b, summed"
   ]
  },
  {
   "cell_type": "markdown",
   "metadata": {},
   "source": [
    "An interesting thing about numpy is that the sum function is an instance method of the numpy array itself. So we could also write the above as:"
   ]
  },
  {
   "cell_type": "code",
   "execution_count": 18,
   "metadata": {},
   "outputs": [
    {
     "data": {
      "text/plain": [
       "4"
      ]
     },
     "execution_count": 18,
     "metadata": {},
     "output_type": "execute_result"
    }
   ],
   "source": [
    "(a * b).sum()"
   ]
  },
  {
   "cell_type": "markdown",
   "metadata": {},
   "source": [
    "Now, while both of the above methods yield the correct answer, there is a more convenient way to calculate the dot product. Numpy comes packaged with a dot product function."
   ]
  },
  {
   "cell_type": "code",
   "execution_count": 19,
   "metadata": {},
   "outputs": [
    {
     "data": {
      "text/plain": [
       "4"
      ]
     },
     "execution_count": 19,
     "metadata": {},
     "output_type": "execute_result"
    }
   ],
   "source": [
    "np.dot(a,b)"
   ]
  },
  {
   "cell_type": "markdown",
   "metadata": {},
   "source": [
    "Like the `sum` function, the `dot` function is also an instance method of the numpy array, so we can call it on the object itself. "
   ]
  },
  {
   "cell_type": "code",
   "execution_count": 20,
   "metadata": {},
   "outputs": [
    {
     "data": {
      "text/plain": [
       "4"
      ]
     },
     "execution_count": 20,
     "metadata": {},
     "output_type": "execute_result"
    }
   ],
   "source": [
    "a.dot(b)"
   ]
  },
  {
   "cell_type": "markdown",
   "metadata": {},
   "source": [
    "This is also equivalent to:"
   ]
  },
  {
   "cell_type": "code",
   "execution_count": 21,
   "metadata": {},
   "outputs": [
    {
     "data": {
      "text/plain": [
       "4"
      ]
     },
     "execution_count": 21,
     "metadata": {},
     "output_type": "execute_result"
    }
   ],
   "source": [
    "b.dot(a)"
   ]
  },
  {
   "cell_type": "markdown",
   "metadata": {},
   "source": [
    "### Definition 2\n",
    "Let's now look at the alternative definition of the dot product, to calculate the angle between $a$ and $b$. For this we need figure out how to calculate the length of a vector. We can do this by taking the square root of the sum of each element squared. In other words, use pythagorean theorem."
   ]
  },
  {
   "cell_type": "code",
   "execution_count": 22,
   "metadata": {},
   "outputs": [
    {
     "data": {
      "text/plain": [
       "2.23606797749979"
      ]
     },
     "execution_count": 22,
     "metadata": {},
     "output_type": "execute_result"
    }
   ],
   "source": [
    "amag = np.sqrt( (a * a).sum())\n",
    "amag"
   ]
  },
  {
   "cell_type": "markdown",
   "metadata": {},
   "source": [
    "Numpy actually has a function to do all of this work for us, since it is such a common operation. It is part of the linalg module in numpy, which also contains many other linear algebra functions. "
   ]
  },
  {
   "cell_type": "code",
   "execution_count": 23,
   "metadata": {},
   "outputs": [
    {
     "data": {
      "text/plain": [
       "2.23606797749979"
      ]
     },
     "execution_count": 23,
     "metadata": {},
     "output_type": "execute_result"
    }
   ],
   "source": [
    "amag = np.linalg.norm(a)\n",
    "amag"
   ]
  },
  {
   "cell_type": "markdown",
   "metadata": {},
   "source": [
    "Now with this in hand, we are ready to calculate the angle. For clarity, the angle is defined as:\n",
    "\n",
    "$$cos\\theta_{ab} = \\frac{a \\cdot b}{|a||b|}$$"
   ]
  },
  {
   "cell_type": "code",
   "execution_count": 24,
   "metadata": {},
   "outputs": [
    {
     "data": {
      "text/plain": [
       "0.7999999999999998"
      ]
     },
     "execution_count": 24,
     "metadata": {},
     "output_type": "execute_result"
    }
   ],
   "source": [
    "cosangle = a.dot(b) / (np.linalg.norm(a) * np.linalg.norm(b))\n",
    "cosangle"
   ]
  },
  {
   "cell_type": "markdown",
   "metadata": {},
   "source": [
    "So the cosine of the angle is 0.8, and the actual angle is the arc cosine of 0.8:"
   ]
  },
  {
   "cell_type": "code",
   "execution_count": 25,
   "metadata": {},
   "outputs": [
    {
     "data": {
      "text/plain": [
       "0.6435011087932847"
      ]
     },
     "execution_count": 25,
     "metadata": {},
     "output_type": "execute_result"
    }
   ],
   "source": [
    "angle = np.arccos(cosangle)\n",
    "angle"
   ]
  },
  {
   "cell_type": "markdown",
   "metadata": {},
   "source": [
    "By default this is in radians. "
   ]
  },
  {
   "cell_type": "markdown",
   "metadata": {},
   "source": [
    "---\n",
    "<br></br>\n",
    "# Vectors and Matrices\n",
    "A numpy array has already been shown to be like a vector: we can add them, multiply them by a scalar, and perform element wise operations like `log` or `sqrt`. So what is a matrix then? Think of it as a two dimensional array."
   ]
  },
  {
   "cell_type": "code",
   "execution_count": 26,
   "metadata": {},
   "outputs": [
    {
     "data": {
      "text/plain": [
       "array([[1, 2],\n",
       "       [3, 4]])"
      ]
     },
     "execution_count": 26,
     "metadata": {},
     "output_type": "execute_result"
    }
   ],
   "source": [
    "M = np.array([ [1,2], [3,4] ])        # creating a matrix. 1st index is row, 2nd index is col\n",
    "M"
   ]
  },
  {
   "cell_type": "code",
   "execution_count": 27,
   "metadata": {},
   "outputs": [
    {
     "data": {
      "text/plain": [
       "1"
      ]
     },
     "execution_count": 27,
     "metadata": {},
     "output_type": "execute_result"
    }
   ],
   "source": [
    "M[0][0]                      # one way of accessing values from matrix"
   ]
  },
  {
   "cell_type": "code",
   "execution_count": 28,
   "metadata": {},
   "outputs": [
    {
     "data": {
      "text/plain": [
       "1"
      ]
     },
     "execution_count": 28,
     "metadata": {},
     "output_type": "execute_result"
    }
   ],
   "source": [
    "M[0,0]                       # another shorthand way of accessing value in matrix"
   ]
  },
  {
   "cell_type": "markdown",
   "metadata": {},
   "source": [
    "There is an actual data type in numpy called matrix as well."
   ]
  },
  {
   "cell_type": "code",
   "execution_count": 29,
   "metadata": {},
   "outputs": [
    {
     "data": {
      "text/plain": [
       "matrix([[1, 2],\n",
       "        [3, 4]])"
      ]
     },
     "execution_count": 29,
     "metadata": {},
     "output_type": "execute_result"
    }
   ],
   "source": [
    "M2 = np.matrix([ [1,2], [3,4] ])\n",
    "M2"
   ]
  },
  {
   "cell_type": "markdown",
   "metadata": {},
   "source": [
    "This works somewhat similarly to a numpy array, but it is not exactly the same. Most of the time we just use numpy arrays, and in fact the official documentation actually recommends not using numpy matrix. If you see a matrix, it is a good idea to convert it into an array:"
   ]
  },
  {
   "cell_type": "code",
   "execution_count": 30,
   "metadata": {},
   "outputs": [
    {
     "data": {
      "text/plain": [
       "array([[1, 2],\n",
       "       [3, 4]])"
      ]
     },
     "execution_count": 30,
     "metadata": {},
     "output_type": "execute_result"
    }
   ],
   "source": [
    "M3 = np.array(M2)\n",
    "M3"
   ]
  },
  {
   "cell_type": "markdown",
   "metadata": {},
   "source": [
    "Note that even though this is now an array, we still have convenient matrix operations. For example if we wanted to find the transpose of M:"
   ]
  },
  {
   "cell_type": "code",
   "execution_count": 31,
   "metadata": {},
   "outputs": [
    {
     "data": {
      "text/plain": [
       "array([[1, 2],\n",
       "       [3, 4]])"
      ]
     },
     "execution_count": 31,
     "metadata": {},
     "output_type": "execute_result"
    }
   ],
   "source": [
    "M"
   ]
  },
  {
   "cell_type": "code",
   "execution_count": 32,
   "metadata": {},
   "outputs": [
    {
     "data": {
      "text/plain": [
       "array([[1, 3],\n",
       "       [2, 4]])"
      ]
     },
     "execution_count": 32,
     "metadata": {},
     "output_type": "execute_result"
    }
   ],
   "source": [
    "M.T"
   ]
  },
  {
   "cell_type": "markdown",
   "metadata": {},
   "source": [
    "To summarize, we have shown that a matrix is really just a 2-dimensional numpy array, and a vector is a 1-dimensional numpy array. So a matrix is really like a 2 dimensional vector. The more general way to think about this is that a matrix is a 2-dimensional mathematical object that contains numbers, and a vector is a 1-dimensional mathematical object that contains numbers. \n",
    "\n",
    "Sometimes you may see vectors represented as a 2-d object. For example, in a math textbook a column vector may be described as (3 x 1), and a row vector (1 x 3). Sometimes we may represent them like this in numpy. "
   ]
  },
  {
   "cell_type": "markdown",
   "metadata": {},
   "source": [
    "---\n",
    "<br></br>\n",
    "# Generating Matrices to Work With\n",
    "Sometimes we just need arrays to try stuff on, like in this course. One way to do this is to use `np.array` and pass in a list:"
   ]
  },
  {
   "cell_type": "code",
   "execution_count": 33,
   "metadata": {},
   "outputs": [
    {
     "data": {
      "text/plain": [
       "array([1, 2, 3])"
      ]
     },
     "execution_count": 33,
     "metadata": {},
     "output_type": "execute_result"
    }
   ],
   "source": [
    "np.array([1,2,3])"
   ]
  },
  {
   "cell_type": "markdown",
   "metadata": {},
   "source": [
    "However, this is inconvenient since each element needs to be typed in manually. What if we wanted arrays of different sizes?\n",
    "\n",
    "Lets start by creating a vector of zeros."
   ]
  },
  {
   "cell_type": "code",
   "execution_count": 34,
   "metadata": {},
   "outputs": [
    {
     "data": {
      "text/plain": [
       "array([0., 0., 0., 0., 0., 0., 0., 0., 0., 0.])"
      ]
     },
     "execution_count": 34,
     "metadata": {},
     "output_type": "execute_result"
    }
   ],
   "source": [
    "Z = np.zeros(10)\n",
    "Z"
   ]
  },
  {
   "cell_type": "markdown",
   "metadata": {},
   "source": [
    "We can also create a 10 x 10 matrix of all zeros."
   ]
  },
  {
   "cell_type": "code",
   "execution_count": 35,
   "metadata": {},
   "outputs": [
    {
     "data": {
      "text/plain": [
       "array([[0., 0., 0., 0., 0., 0., 0., 0., 0., 0.],\n",
       "       [0., 0., 0., 0., 0., 0., 0., 0., 0., 0.],\n",
       "       [0., 0., 0., 0., 0., 0., 0., 0., 0., 0.],\n",
       "       [0., 0., 0., 0., 0., 0., 0., 0., 0., 0.],\n",
       "       [0., 0., 0., 0., 0., 0., 0., 0., 0., 0.],\n",
       "       [0., 0., 0., 0., 0., 0., 0., 0., 0., 0.],\n",
       "       [0., 0., 0., 0., 0., 0., 0., 0., 0., 0.],\n",
       "       [0., 0., 0., 0., 0., 0., 0., 0., 0., 0.],\n",
       "       [0., 0., 0., 0., 0., 0., 0., 0., 0., 0.],\n",
       "       [0., 0., 0., 0., 0., 0., 0., 0., 0., 0.]])"
      ]
     },
     "execution_count": 35,
     "metadata": {},
     "output_type": "execute_result"
    }
   ],
   "source": [
    "Z = np.zeros((10, 10))\n",
    "Z"
   ]
  },
  {
   "cell_type": "markdown",
   "metadata": {},
   "source": [
    "Notice that the function still takes in 1 input, a tuple containing each dimension. \n",
    "\n",
    "There is an equivalent function that creates an array of all ones."
   ]
  },
  {
   "cell_type": "code",
   "execution_count": 36,
   "metadata": {},
   "outputs": [
    {
     "data": {
      "text/plain": [
       "array([[1., 1., 1., 1., 1., 1., 1., 1., 1., 1.],\n",
       "       [1., 1., 1., 1., 1., 1., 1., 1., 1., 1.],\n",
       "       [1., 1., 1., 1., 1., 1., 1., 1., 1., 1.],\n",
       "       [1., 1., 1., 1., 1., 1., 1., 1., 1., 1.],\n",
       "       [1., 1., 1., 1., 1., 1., 1., 1., 1., 1.],\n",
       "       [1., 1., 1., 1., 1., 1., 1., 1., 1., 1.],\n",
       "       [1., 1., 1., 1., 1., 1., 1., 1., 1., 1.],\n",
       "       [1., 1., 1., 1., 1., 1., 1., 1., 1., 1.],\n",
       "       [1., 1., 1., 1., 1., 1., 1., 1., 1., 1.],\n",
       "       [1., 1., 1., 1., 1., 1., 1., 1., 1., 1.]])"
      ]
     },
     "execution_count": 36,
     "metadata": {},
     "output_type": "execute_result"
    }
   ],
   "source": [
    "O = np.ones((10, 10))\n",
    "O"
   ]
  },
  {
   "cell_type": "markdown",
   "metadata": {},
   "source": [
    "What if we wanted random numbers? We could use `np.random.random`."
   ]
  },
  {
   "cell_type": "code",
   "execution_count": 37,
   "metadata": {},
   "outputs": [
    {
     "data": {
      "text/plain": [
       "array([[0.96343737, 0.99854925, 0.69084484, 0.91755684, 0.48291783,\n",
       "        0.02555759, 0.17516831, 0.3634088 , 0.90089222, 0.07023349],\n",
       "       [0.6799274 , 0.63480312, 0.73337487, 0.86592241, 0.20406414,\n",
       "        0.02725213, 0.77207388, 0.92917478, 0.62360092, 0.98288039],\n",
       "       [0.75986937, 0.34825806, 0.49157663, 0.60938734, 0.6726383 ,\n",
       "        0.61759291, 0.80473233, 0.83612947, 0.40102904, 0.35455528],\n",
       "       [0.57768437, 0.24486975, 0.68563089, 0.31976352, 0.39188633,\n",
       "        0.51674485, 0.02166198, 0.04836483, 0.82104172, 0.2798675 ],\n",
       "       [0.02509366, 0.49916432, 0.84900719, 0.35300002, 0.79603557,\n",
       "        0.98003246, 0.30070069, 0.31738701, 0.58189558, 0.41558848],\n",
       "       [0.90817507, 0.25390452, 0.5802353 , 0.33638681, 0.74581657,\n",
       "        0.74122223, 0.42611729, 0.70217425, 0.79854367, 0.64464519],\n",
       "       [0.60290679, 0.80074689, 0.77560713, 0.48259351, 0.99744191,\n",
       "        0.54100562, 0.61654673, 0.67541464, 0.6338071 , 0.93510352],\n",
       "       [0.36316745, 0.23639003, 0.62184757, 0.84628727, 0.11999682,\n",
       "        0.90604037, 0.60882872, 0.48959875, 0.82694161, 0.66643124],\n",
       "       [0.14989283, 0.61903475, 0.15399736, 0.82924047, 0.04388488,\n",
       "        0.90087639, 0.08031217, 0.30066888, 0.25822569, 0.95425883],\n",
       "       [0.58038129, 0.46513491, 0.52755653, 0.92235239, 0.47031565,\n",
       "        0.56890654, 0.56836303, 0.82334153, 0.73590583, 0.08230533]])"
      ]
     },
     "execution_count": 37,
     "metadata": {},
     "output_type": "execute_result"
    }
   ],
   "source": [
    "R = np.random.random((10,10))\n",
    "R"
   ]
  },
  {
   "cell_type": "markdown",
   "metadata": {},
   "source": [
    "One thing that we can quickly see is that all of these values are greater than 0 and less than 1. Whenever we talk about random numbers, you should be interested in the probability distribution that the random numbers came from. This particular random functions gives us uniformly distributed numbers between 0 and 1. What if we wanted gaussian distributed numbers? Numpy has a function for that as well."
   ]
  },
  {
   "cell_type": "code",
   "execution_count": 38,
   "metadata": {},
   "outputs": [
    {
     "data": {
      "text/plain": [
       "array([[-6.84528690e-01,  3.74425281e-01,  3.64887135e-01,\n",
       "         4.65387038e-01,  1.22091445e-01,  1.11746439e+00,\n",
       "        -1.28299114e+00,  3.56852937e-01, -1.01826519e-01,\n",
       "        -1.99356953e-01],\n",
       "       [ 5.96693450e-01,  4.52340082e-01,  9.24243609e-01,\n",
       "         9.05454642e-01,  8.99825701e-01, -1.40152801e+00,\n",
       "        -9.77843735e-01,  5.63217497e-01,  9.20192612e-01,\n",
       "        -1.39819350e+00],\n",
       "       [-5.27452306e-01,  1.34362200e+00, -2.58970516e+00,\n",
       "         2.32503800e+00, -3.13726319e-01, -2.00401280e+00,\n",
       "         2.22468552e+00,  4.84622765e-01, -5.37019815e-01,\n",
       "         8.16361677e-01],\n",
       "       [-1.11922312e+00, -6.17240801e-02, -1.18420771e+00,\n",
       "        -2.25725488e-02,  1.36392258e+00, -8.40137167e-01,\n",
       "         2.14541699e+00, -1.27132735e-01,  1.70068469e+00,\n",
       "        -1.24107222e-01],\n",
       "       [-1.27065763e+00,  1.04731278e+00, -1.12430009e+00,\n",
       "        -1.49047587e+00,  7.56935650e-01, -1.50156030e-01,\n",
       "         9.08003130e-01,  1.09982158e+00, -4.65886919e-01,\n",
       "         7.74678093e-01],\n",
       "       [ 8.99682790e-01, -1.14538613e-01, -1.49673048e-01,\n",
       "        -1.98355958e+00,  7.34928744e-01, -3.79912297e-01,\n",
       "         1.22055983e+00,  2.15407368e-01,  7.25384499e-01,\n",
       "        -2.20598040e+00],\n",
       "       [-5.25348586e-01, -2.02566573e-01, -9.65327449e-04,\n",
       "        -2.04913772e+00, -4.53917524e-01,  9.87058937e-01,\n",
       "         1.65031734e+00,  1.26381483e+00,  7.77933912e-01,\n",
       "         2.19449798e+00],\n",
       "       [-6.88452210e-01,  1.33670012e+00, -4.09847745e-01,\n",
       "         1.21048666e+00,  8.44941604e-01, -5.22183423e-01,\n",
       "        -8.37767390e-01, -9.77224769e-01,  2.50910437e-01,\n",
       "        -2.08438727e-01],\n",
       "       [ 6.21322188e-01, -2.06690002e+00,  1.20586944e+00,\n",
       "         1.11784942e+00, -1.52571025e-01,  1.15474526e+00,\n",
       "        -1.46783533e+00, -9.33080418e-01, -1.98711674e+00,\n",
       "        -4.91384227e-01],\n",
       "       [-1.71999703e+00,  1.71783694e+00, -6.79114573e-01,\n",
       "         6.25858955e-02,  6.26119668e-01,  2.43703894e-01,\n",
       "        -1.07497584e+00, -7.31891140e-01, -2.22146094e-01,\n",
       "         1.04184955e+00]])"
      ]
     },
     "execution_count": 38,
     "metadata": {},
     "output_type": "execute_result"
    }
   ],
   "source": [
    "# G = np.random.randn((10, 10))          this will not work, sine randn does not take tuple\n",
    "\n",
    "G = np.random.randn(10,10)\n",
    "G"
   ]
  },
  {
   "cell_type": "markdown",
   "metadata": {},
   "source": [
    "Numpy arrays also have convenient ways for us to calculate statistics of matrices."
   ]
  },
  {
   "cell_type": "code",
   "execution_count": 39,
   "metadata": {},
   "outputs": [
    {
     "data": {
      "text/plain": [
       "0.039233961362970755"
      ]
     },
     "execution_count": 39,
     "metadata": {},
     "output_type": "execute_result"
    }
   ],
   "source": [
    "G.mean()      # gives us the mean"
   ]
  },
  {
   "cell_type": "code",
   "execution_count": 40,
   "metadata": {},
   "outputs": [
    {
     "data": {
      "text/plain": [
       "1.1988098737697799"
      ]
     },
     "execution_count": 40,
     "metadata": {},
     "output_type": "execute_result"
    }
   ],
   "source": [
    "G.var()       # gives us the variance"
   ]
  },
  {
   "cell_type": "markdown",
   "metadata": {},
   "source": [
    "---\n",
    "<br></br>\n",
    "# Matrix Products\n",
    "When you learn about matrix products in linear algebra, you generally learn about matrix multiplication. Matrix multiplication has a special requirement, and that is that the inner dimensions of the matrices you are multiplying must match. \n",
    "\n",
    "For example say we have matrix `A` that is **(2, 3)** and a matrix `B` that is **(3, 3)**, we can multiply A * B, since the inner dimension is 3, however we cannot multiply B * A, since the inner dimensions are 3 and 2, hence they do not match. \n",
    "\n",
    "Why do we have this requirement when we multiply matrices? Well lets look at the definition of matrix multiplication:\n",
    "\n",
    "$$C(i,j) = \\sum_{k=1}^KA(i,k)B(k,j)$$\n",
    "\n",
    "So the (i,j)th entry of $C$ is the sum of the multiplication of all the corresponding elements of the ith row of A and the jth column of B. In other words, C(i,j) is the dot product of the ith row of A and the jth column of B. Because of this, we actually use the `dot` function in numpy! That does what we recognize as matrix multiplication! \n",
    "\n",
    "A very natural thing to want to do, both in math and in computing, is element by element multiplication! \n",
    "\n",
    "$$C(i,j) = A(i,j) * B(i,j)$$\n",
    "\n",
    "For vectors, we already saw that an asterisk `*` operation does this. As you may have guessed, for 2-d arrays, the asterisk also does element wise multiplication. That means that when you use the `*` on multidimensional arrays, both of them have to be the exact same size. This may seem odd, since in other languages, the asterisk does mean real matrix multiplication. So we just need to remember that in numpy, the asterisk `*` does mean element by element multiplication, and the `dot` means matrix multiplication. \n",
    "\n",
    "Another thing that is odd is that when we are writing down mathematical equations, there isn't even a well defined symbol for element wise multiplication. Sometimes researchers use a circle with a dot inside of it, sometimes they use a circle with an x inside of it. But there does not seem to be a standard way to do that in math. "
   ]
  },
  {
   "cell_type": "markdown",
   "metadata": {},
   "source": [
    "---\n",
    "<br></br>\n",
    "# More Matrix Operations\n",
    "\n",
    "The dot product is often referred to as the **inner product**. But we can also look at the **outer product**. An outer product is going to a be a **column vector** times a **row vector**. An inner product is going to a be a **row vector** times a **column vector**. For more information on this checkout my linear algebra walk through in the math appendix. "
   ]
  },
  {
   "cell_type": "code",
   "execution_count": 41,
   "metadata": {},
   "outputs": [
    {
     "data": {
      "text/plain": [
       "array([1, 2])"
      ]
     },
     "execution_count": 41,
     "metadata": {},
     "output_type": "execute_result"
    }
   ],
   "source": [
    "a = np.array([1,2])\n",
    "a"
   ]
  },
  {
   "cell_type": "code",
   "execution_count": 42,
   "metadata": {},
   "outputs": [
    {
     "data": {
      "text/plain": [
       "array([3, 4])"
      ]
     },
     "execution_count": 42,
     "metadata": {},
     "output_type": "execute_result"
    }
   ],
   "source": [
    "b = np.array([3,4])\n",
    "b"
   ]
  },
  {
   "cell_type": "markdown",
   "metadata": {},
   "source": [
    "Lets first look at the dot product:"
   ]
  },
  {
   "cell_type": "code",
   "execution_count": 43,
   "metadata": {},
   "outputs": [
    {
     "data": {
      "text/plain": [
       "11"
      ]
     },
     "execution_count": 43,
     "metadata": {},
     "output_type": "execute_result"
    }
   ],
   "source": [
    "np.dot(a,b)"
   ]
  },
  {
   "cell_type": "markdown",
   "metadata": {},
   "source": [
    "Now the inner product:"
   ]
  },
  {
   "cell_type": "code",
   "execution_count": 44,
   "metadata": {},
   "outputs": [
    {
     "data": {
      "text/plain": [
       "11"
      ]
     },
     "execution_count": 44,
     "metadata": {},
     "output_type": "execute_result"
    }
   ],
   "source": [
    "np.inner(a,b)"
   ]
  },
  {
   "cell_type": "markdown",
   "metadata": {},
   "source": [
    "We see that it is the same as the dot product. Now let's look at the outer product:"
   ]
  },
  {
   "cell_type": "code",
   "execution_count": 45,
   "metadata": {},
   "outputs": [
    {
     "data": {
      "text/plain": [
       "array([[3, 4],\n",
       "       [6, 8]])"
      ]
     },
     "execution_count": 45,
     "metadata": {},
     "output_type": "execute_result"
    }
   ],
   "source": [
    "np.outer(a,b)"
   ]
  },
  {
   "cell_type": "markdown",
   "metadata": {},
   "source": [
    "We can get the same result if we ensure that out `a` and `b` are proper matrices, and then use the dot product. Note, here we see the equivalence to the `inner` and `outer` methods above. "
   ]
  },
  {
   "cell_type": "code",
   "execution_count": 46,
   "metadata": {},
   "outputs": [
    {
     "data": {
      "text/plain": [
       "array([[1, 2]])"
      ]
     },
     "execution_count": 46,
     "metadata": {},
     "output_type": "execute_result"
    }
   ],
   "source": [
    "a = np.array([[1,2]])\n",
    "a"
   ]
  },
  {
   "cell_type": "code",
   "execution_count": 47,
   "metadata": {},
   "outputs": [
    {
     "data": {
      "text/plain": [
       "array([[3, 4]])"
      ]
     },
     "execution_count": 47,
     "metadata": {},
     "output_type": "execute_result"
    }
   ],
   "source": [
    "b = np.array([[3,4]])\n",
    "b"
   ]
  },
  {
   "cell_type": "code",
   "execution_count": 48,
   "metadata": {},
   "outputs": [
    {
     "data": {
      "text/plain": [
       "array([[3],\n",
       "       [4]])"
      ]
     },
     "execution_count": 48,
     "metadata": {},
     "output_type": "execute_result"
    }
   ],
   "source": [
    "b = b.T\n",
    "b"
   ]
  },
  {
   "cell_type": "code",
   "execution_count": 49,
   "metadata": {},
   "outputs": [
    {
     "data": {
      "text/plain": [
       "array([[11]])"
      ]
     },
     "execution_count": 49,
     "metadata": {},
     "output_type": "execute_result"
    }
   ],
   "source": [
    "np.dot(a,b)"
   ]
  },
  {
   "cell_type": "code",
   "execution_count": 50,
   "metadata": {},
   "outputs": [
    {
     "data": {
      "text/plain": [
       "array([[3, 6],\n",
       "       [4, 8]])"
      ]
     },
     "execution_count": 50,
     "metadata": {},
     "output_type": "execute_result"
    }
   ],
   "source": [
    "np.dot(b,a)"
   ]
  },
  {
   "cell_type": "markdown",
   "metadata": {},
   "source": [
    "# Sum along certain axis"
   ]
  },
  {
   "cell_type": "markdown",
   "metadata": {},
   "source": [
    "If we want to sum along all of the rows in a matrix we can use the following:"
   ]
  },
  {
   "cell_type": "code",
   "execution_count": 52,
   "metadata": {},
   "outputs": [
    {
     "data": {
      "text/plain": [
       "array([3, 6, 9])"
      ]
     },
     "execution_count": 52,
     "metadata": {},
     "output_type": "execute_result"
    }
   ],
   "source": [
    "A = np.array([[1,1,1], [2,2,2], [3,3,3]])       \n",
    "A.sum(axis=1)                                    # sum along each row, axis = 1 "
   ]
  },
  {
   "cell_type": "code",
   "execution_count": 53,
   "metadata": {},
   "outputs": [
    {
     "data": {
      "text/plain": [
       "array([6, 6, 6])"
      ]
     },
     "execution_count": 53,
     "metadata": {},
     "output_type": "execute_result"
    }
   ],
   "source": [
    "A.sum(axis=0)                                    # sum along each column, axis = 0"
   ]
  },
  {
   "cell_type": "code",
   "execution_count": null,
   "metadata": {},
   "outputs": [],
   "source": []
  }
 ],
 "metadata": {
  "kernelspec": {
   "display_name": "Python 3",
   "language": "python",
   "name": "python3"
  },
  "language_info": {
   "codemirror_mode": {
    "name": "ipython",
    "version": 2
   },
   "file_extension": ".py",
   "mimetype": "text/x-python",
   "name": "python",
   "nbconvert_exporter": "python",
   "pygments_lexer": "ipython2",
   "version": "2.7.13"
  }
 },
 "nbformat": 4,
 "nbformat_minor": 2
}
