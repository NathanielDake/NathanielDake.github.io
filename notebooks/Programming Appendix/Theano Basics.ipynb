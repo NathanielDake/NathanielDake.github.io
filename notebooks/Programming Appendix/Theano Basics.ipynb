{
 "cells": [
  {
   "cell_type": "markdown",
   "metadata": {},
   "source": [
    "# Theano Variables"
   ]
  },
  {
   "cell_type": "code",
   "execution_count": 36,
   "metadata": {
    "collapsed": true
   },
   "outputs": [],
   "source": [
    "# Theano Tensor \n",
    "import theano.tensor as T\n",
    "import pydot\n",
    "import graphviz\n",
    "import matplotlib.pyplot as plt"
   ]
  },
  {
   "cell_type": "code",
   "execution_count": null,
   "metadata": {
    "collapsed": true
   },
   "outputs": [],
   "source": []
  },
  {
   "cell_type": "markdown",
   "metadata": {},
   "source": [
    "We can create a scalar, vector, and matrix as follows:"
   ]
  },
  {
   "cell_type": "code",
   "execution_count": 3,
   "metadata": {
    "collapsed": true
   },
   "outputs": [],
   "source": [
    "c = T.scalar('c')\n",
    "v = T.vector('v')\n",
    "A = T.matrix('A')"
   ]
  },
  {
   "cell_type": "markdown",
   "metadata": {},
   "source": [
    "We also have Tensors, which work with dimensionality 3 and up. This is commonly used when dealing with images that have _not_ been flattened. For instance, if we had a 28x28 image, and we wanted to store the images as squares and we had $N$ images, we would have an $Nx28x28$ (3 dimensional) tensor.\n",
    "\n",
    "Notice that the variables we have created so far _do not have values_, they are just symbols. This means we can even do algebra on them:"
   ]
  },
  {
   "cell_type": "code",
   "execution_count": 4,
   "metadata": {
    "collapsed": true
   },
   "outputs": [],
   "source": [
    "# Dot production\n",
    "w = A.dot(v)"
   ]
  },
  {
   "cell_type": "markdown",
   "metadata": {},
   "source": [
    "How do we actually set values to these variables? This is where _theano functions_ come into play. "
   ]
  },
  {
   "cell_type": "code",
   "execution_count": 5,
   "metadata": {
    "collapsed": true
   },
   "outputs": [],
   "source": [
    "import theano"
   ]
  },
  {
   "cell_type": "code",
   "execution_count": 6,
   "metadata": {
    "collapsed": true
   },
   "outputs": [],
   "source": [
    "matrix_times_vector = theano.function(inputs=[A,v], outputs=w)"
   ]
  },
  {
   "cell_type": "markdown",
   "metadata": {},
   "source": [
    "Now we can import numpy so we can create real arrays and call the function:"
   ]
  },
  {
   "cell_type": "code",
   "execution_count": 7,
   "metadata": {
    "collapsed": true
   },
   "outputs": [],
   "source": [
    "import numpy as np"
   ]
  },
  {
   "cell_type": "code",
   "execution_count": 8,
   "metadata": {},
   "outputs": [
    {
     "data": {
      "text/plain": [
       "array([17., 39.])"
      ]
     },
     "execution_count": 8,
     "metadata": {},
     "output_type": "execute_result"
    }
   ],
   "source": [
    "A_val = np.array([[1,2], [3,4]])\n",
    "v_val = np.array([5,6])\n",
    "\n",
    "w_val = matrix_times_vector(A_val, v_val)\n",
    "w_val"
   ]
  },
  {
   "cell_type": "markdown",
   "metadata": {},
   "source": [
    "One of the greatest benefits of theano is that it links all of these variables up into a graph. We can use that structure to calculate gradients for you, using the chain rule! In theano, regular variables are _not_ updateable. In order for a variable to be updateable it must be a _shared_ variable. "
   ]
  },
  {
   "cell_type": "code",
   "execution_count": 135,
   "metadata": {
    "collapsed": true
   },
   "outputs": [],
   "source": [
    "x = theano.shared(20.0, 'x')"
   ]
  },
  {
   "cell_type": "code",
   "execution_count": 136,
   "metadata": {
    "collapsed": true
   },
   "outputs": [],
   "source": [
    "y = theano.shared(20.0)"
   ]
  },
  {
   "cell_type": "code",
   "execution_count": 137,
   "metadata": {},
   "outputs": [
    {
     "data": {
      "text/plain": [
       "<TensorType(float64, scalar)>"
      ]
     },
     "execution_count": 137,
     "metadata": {},
     "output_type": "execute_result"
    }
   ],
   "source": [
    "y"
   ]
  },
  {
   "cell_type": "markdown",
   "metadata": {},
   "source": [
    "We can now create a simple cost function that we can solve ourselves, and that we know has a global minimum. "
   ]
  },
  {
   "cell_type": "code",
   "execution_count": 138,
   "metadata": {
    "collapsed": true
   },
   "outputs": [],
   "source": [
    "cost = x*x + x + 1"
   ]
  },
  {
   "cell_type": "code",
   "execution_count": 139,
   "metadata": {},
   "outputs": [
    {
     "name": "stdout",
     "output_type": "stream",
     "text": [
      "The output file is available at /Users/Nate/.theano/compiledir_Darwin-16.7.0-x86_64-i386-64bit-i386-3.6.5-64/theano.pydotprint.cpu.png\n"
     ]
    }
   ],
   "source": [
    "theano.printing.pydotprint(cost, var_with_name_simple=True)  "
   ]
  },
  {
   "cell_type": "markdown",
   "metadata": {},
   "source": [
    "<img src=\"https://drive.google.com/uc?id=1g-p9MGa2TLbzVvXofLdY7vIMyZNe46Dm\">"
   ]
  },
  {
   "cell_type": "markdown",
   "metadata": {},
   "source": [
    "Now we can tell theano how to update $x$ by giving it an update expression:"
   ]
  },
  {
   "cell_type": "code",
   "execution_count": 140,
   "metadata": {
    "collapsed": true
   },
   "outputs": [],
   "source": [
    "x_update = x - 0.3*T.grad(cost, x)"
   ]
  },
  {
   "cell_type": "markdown",
   "metadata": {},
   "source": [
    "What is nice about theano is that it calculates gradients automatically. The `grad` function takes in two parameters. The first is the function you want to take the gradient of, and the second is the variable you want the gradient with respect to. \n",
    "\n",
    "We can now create a theano train function. It will be like the previous function we created, except we are going to add a new argument which is updates. The updates argument takes in a list of tuples, and each tuple has two things in it: \n",
    "1. The shared variable to update.\n",
    "2. The update expression to use. "
   ]
  },
  {
   "cell_type": "code",
   "execution_count": 141,
   "metadata": {
    "collapsed": true
   },
   "outputs": [],
   "source": [
    "train = theano.function(inputs=[], outputs=cost, updates=[(x, x_update)])"
   ]
  },
  {
   "cell_type": "markdown",
   "metadata": {},
   "source": [
    "We have created a function to train, but we haven't actually called it yet. Notice that $x$ is not an input, it is the thing that we update. In later examples the inputs will be the data and labels. So, the inputs param takes in data and labels, and the updates param takes in your model parameters with their updates.\n",
    "\n",
    "Now we can write a loop to call the training function. Each iteration of the training function is going to calculate the `outputs`, then perform the `updates`. In this case the `updates` is setting `x` to the value resulting in the evaluation of `x_update`. The value returned from the evaluation of `x_update` is the current `x` value minus the learning rate, `0.3`, times the gradient of the `cost` with respect to `x`. "
   ]
  },
  {
   "cell_type": "code",
   "execution_count": 142,
   "metadata": {},
   "outputs": [
    {
     "name": "stdout",
     "output_type": "stream",
     "text": [
      "Iteration:  0\n",
      "x value before calling train:  20.0\n",
      "cost:  421.0\n",
      "x value after calling train:  7.700000000000001\n",
      "-----------------\n",
      "Iteration:  1\n",
      "x value before calling train:  7.700000000000001\n",
      "cost:  67.99000000000001\n",
      "x value after calling train:  2.7800000000000002\n",
      "-----------------\n",
      "Iteration:  2\n",
      "x value before calling train:  2.7800000000000002\n",
      "cost:  11.508400000000002\n",
      "x value after calling train:  0.8120000000000003\n",
      "-----------------\n",
      "Iteration:  3\n",
      "x value before calling train:  0.8120000000000003\n",
      "cost:  2.4713440000000007\n",
      "x value after calling train:  0.024800000000000155\n",
      "-----------------\n",
      "Iteration:  4\n",
      "x value before calling train:  0.024800000000000155\n",
      "cost:  1.0254150400000002\n",
      "x value after calling train:  -0.29007999999999995\n",
      "-----------------\n",
      "Iteration:  5\n",
      "x value before calling train:  -0.29007999999999995\n",
      "cost:  0.7940664064\n",
      "x value after calling train:  -0.41603199999999996\n",
      "-----------------\n",
      "Iteration:  6\n",
      "x value before calling train:  -0.41603199999999996\n",
      "cost:  0.7570506250240001\n",
      "x value after calling train:  -0.46641279999999996\n",
      "-----------------\n",
      "Iteration:  7\n",
      "x value before calling train:  -0.46641279999999996\n",
      "cost:  0.75112810000384\n",
      "x value after calling train:  -0.48656511999999996\n",
      "-----------------\n",
      "Iteration:  8\n",
      "x value before calling train:  -0.48656511999999996\n",
      "cost:  0.7501804960006143\n",
      "x value after calling train:  -0.494626048\n",
      "-----------------\n",
      "Iteration:  9\n",
      "x value before calling train:  -0.494626048\n",
      "cost:  0.7500288793600982\n",
      "x value after calling train:  -0.4978504192\n",
      "-----------------\n"
     ]
    }
   ],
   "source": [
    "x_val_list = []\n",
    "for i in range(10):\n",
    "    print('Iteration: ', i)\n",
    "    print('x value before calling train: ', x.get_value())\n",
    "    x_val_list.append(x.get_value().tolist())\n",
    "    cost_val = train()\n",
    "    print('cost: ',cost_val)\n",
    "    print('x value after calling train: ', x.get_value())\n",
    "    print('-----------------')"
   ]
  },
  {
   "cell_type": "markdown",
   "metadata": {},
   "source": [
    "We converge very quickly to the expected cost. We can print the optimal value of $x$ using the `get_value` function:"
   ]
  },
  {
   "cell_type": "code",
   "execution_count": 125,
   "metadata": {},
   "outputs": [
    {
     "data": {
      "text/plain": [
       "array(-0.49785042)"
      ]
     },
     "execution_count": 125,
     "metadata": {},
     "output_type": "execute_result"
    }
   ],
   "source": [
    "x.get_value()"
   ]
  },
  {
   "cell_type": "code",
   "execution_count": 126,
   "metadata": {},
   "outputs": [
    {
     "data": {
      "text/plain": [
       "[<matplotlib.lines.Line2D at 0x114d1d7f0>]"
      ]
     },
     "execution_count": 126,
     "metadata": {},
     "output_type": "execute_result"
    },
    {
     "data": {
      "image/png": "[encoded data removed]",
      "text/plain": [
       "<matplotlib.figure.Figure at 0x114d1dc18>"
      ]
     },
     "metadata": {},
     "output_type": "display_data"
    }
   ],
   "source": [
    "x_axis = np.arange(-30,30,0.1)\n",
    "\n",
    "def cost_func(x):\n",
    "    return x*x + x +1 \n",
    "\n",
    "plt.figure(figsize=(8,6))\n",
    "\n",
    "for x_val in x_val_list:\n",
    "    d_tan_marker, = plt.plot(x_val, cost_func(x_val), 'or')\n",
    "plt.plot(x_axis, cost_function)"
   ]
  },
  {
   "cell_type": "code",
   "execution_count": null,
   "metadata": {
    "collapsed": true
   },
   "outputs": [],
   "source": []
  },
  {
   "cell_type": "code",
   "execution_count": null,
   "metadata": {
    "collapsed": true
   },
   "outputs": [],
   "source": []
  },
  {
   "cell_type": "code",
   "execution_count": null,
   "metadata": {},
   "outputs": [],
   "source": []
  },
  {
   "cell_type": "code",
   "execution_count": null,
   "metadata": {},
   "outputs": [],
   "source": []
  },
  {
   "cell_type": "code",
   "execution_count": null,
   "metadata": {
    "collapsed": true
   },
   "outputs": [],
   "source": []
  }
 ],
 "metadata": {
  "kernelspec": {
   "display_name": "Python 3",
   "language": "python3",
   "name": "python3"
  },
  "language_info": {
   "codemirror_mode": {
    "name": "ipython",
    "version": 3
   },
   "file_extension": ".py",
   "mimetype": "text/x-python",
   "name": "python",
   "nbconvert_exporter": "python",
   "pygments_lexer": "ipython3",
   "version": "3.6.5"
  }
 },
 "nbformat": 4,
 "nbformat_minor": 2
}
