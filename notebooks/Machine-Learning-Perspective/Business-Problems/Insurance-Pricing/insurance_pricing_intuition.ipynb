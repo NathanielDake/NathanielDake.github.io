{
 "cells": [
  {
   "cell_type": "code",
   "execution_count": 27,
   "id": "6433ed36-9513-4215-946f-3ba4b745d29e",
   "metadata": {},
   "outputs": [],
   "source": [
    "import os\n",
    "\n",
    "import numpy as np\n",
    "import pandas as pd\n",
    "\n",
    "import matplotlib.pyplot as plt"
   ]
  },
  {
   "cell_type": "code",
   "execution_count": 39,
   "id": "ae823916-39bc-4f97-87e2-e16d5a584877",
   "metadata": {},
   "outputs": [],
   "source": [
    "probability_of_returns = np.random.uniform(size=10_000)"
   ]
  },
  {
   "cell_type": "code",
   "execution_count": 40,
   "id": "f4c86c39-1c26-4237-97b9-ee73dd88b503",
   "metadata": {},
   "outputs": [],
   "source": [
    "cost_of_items = np.random.uniform(size=10_000) * 100"
   ]
  },
  {
   "cell_type": "code",
   "execution_count": 41,
   "id": "c15367cb-7264-4681-a4b2-676587d47b72",
   "metadata": {},
   "outputs": [
    {
     "data": {
      "text/plain": [
       "array([88.05173266, 40.55358696, 91.34461008, ..., 97.35257612,\n",
       "       19.36471561, 39.47862276])"
      ]
     },
     "execution_count": 41,
     "metadata": {},
     "output_type": "execute_result"
    }
   ],
   "source": [
    "cost_of_items"
   ]
  },
  {
   "cell_type": "code",
   "execution_count": 42,
   "id": "d933cfb7-dc07-4a2e-8918-efdaad834de9",
   "metadata": {},
   "outputs": [],
   "source": [
    "policy_costs = []\n",
    "losses = []\n",
    "\n",
    "\n",
    "for prob, cost in zip(probability_of_returns, cost_of_items):\n",
    "    \n",
    "    pc = (prob * cost) \n",
    "    policy_costs.append(pc)\n",
    "    \n",
    "    \n",
    "    if np.random.uniform() < prob:\n",
    "        losses.append(cost)"
   ]
  },
  {
   "cell_type": "code",
   "execution_count": 43,
   "id": "8872d591-6f8c-411f-88b7-ee8fb9d25f76",
   "metadata": {},
   "outputs": [
    {
     "data": {
      "text/plain": [
       "249319.84382851067"
      ]
     },
     "execution_count": 43,
     "metadata": {},
     "output_type": "execute_result"
    }
   ],
   "source": [
    "sum(policy_costs)"
   ]
  },
  {
   "cell_type": "code",
   "execution_count": 44,
   "id": "3f707552-0b9f-4836-abb5-df1d728df422",
   "metadata": {},
   "outputs": [
    {
     "data": {
      "text/plain": [
       "251444.3861978998"
      ]
     },
     "execution_count": 44,
     "metadata": {},
     "output_type": "execute_result"
    }
   ],
   "source": [
    "sum(losses)"
   ]
  },
  {
   "cell_type": "code",
   "execution_count": 47,
   "id": "9996427a-567f-4a5c-919e-e855ae440d33",
   "metadata": {},
   "outputs": [],
   "source": [
    "multipliers = [1.05, 1.1, 1.15, 1.2, 1.25, 1.5, 2]\n",
    "policy_costs_final = [sum(policy_costs) * eps for eps in multipliers]"
   ]
  },
  {
   "cell_type": "code",
   "execution_count": 52,
   "id": "bd78cfa1-3d87-4735-90ee-dc88050d35e2",
   "metadata": {},
   "outputs": [
    {
     "data": {
      "text/plain": [
       "[261785.83601993622,\n",
       " 274251.8282113618,\n",
       " 286717.82040278724,\n",
       " 299183.81259421277,\n",
       " 311649.80478563835,\n",
       " 373979.765742766,\n",
       " 498639.68765702134]"
      ]
     },
     "execution_count": 52,
     "metadata": {},
     "output_type": "execute_result"
    }
   ],
   "source": [
    "policy_costs_final"
   ]
  },
  {
   "cell_type": "code",
   "execution_count": 53,
   "id": "b7f95f14-75b2-427f-b663-312b87c22e45",
   "metadata": {},
   "outputs": [],
   "source": [
    "losses_final = [sum(losses) for _ in range(len(policy_costs_final))]"
   ]
  },
  {
   "cell_type": "code",
   "execution_count": 54,
   "id": "21323364-be65-4c75-9721-c230ed267872",
   "metadata": {},
   "outputs": [
    {
     "data": {
      "text/plain": [
       "[<matplotlib.lines.Line2D at 0x13511d9a0>]"
      ]
     },
     "execution_count": 54,
     "metadata": {},
     "output_type": "execute_result"
    },
    {
     "data": {
      "image/png": "[encoded data removed]",
      "text/plain": [
       "<Figure size 432x288 with 1 Axes>"
      ]
     },
     "metadata": {
      "needs_background": "light"
     },
     "output_type": "display_data"
    }
   ],
   "source": [
    "plt.plot(multipliers, policy_costs_final)\n",
    "plt.plot(multipliers, losses_final)"
   ]
  },
  {
   "cell_type": "code",
   "execution_count": null,
   "id": "76025f59-c202-4d1b-922b-0c8a789a7c2c",
   "metadata": {},
   "outputs": [],
   "source": []
  }
 ],
 "metadata": {
  "kernelspec": {
   "display_name": "Python 3",
   "language": "python",
   "name": "python3"
  },
  "language_info": {
   "codemirror_mode": {
    "name": "ipython",
    "version": 3
   },
   "file_extension": ".py",
   "mimetype": "text/x-python",
   "name": "python",
   "nbconvert_exporter": "python",
   "pygments_lexer": "ipython3",
   "version": "3.8.0"
  }
 },
 "nbformat": 4,
 "nbformat_minor": 5
}
