{
 "cells": [
  {
   "cell_type": "code",
   "execution_count": 17,
   "metadata": {},
   "outputs": [],
   "source": [
    "import pandas as pd\n",
    "import numpy as np\n",
    "\n",
    "from sklearn import metrics\n",
    "\n",
    "import tensorflow as tf\n",
    "import tensorflow_probability as tfp\n",
    "\n",
    "import matplotlib.pyplot as plt\n",
    "%config InlineBackend.figure_format='retina'\n"
   ]
  },
  {
   "cell_type": "code",
   "execution_count": 44,
   "metadata": {},
   "outputs": [],
   "source": [
    "classes = ['a', 'b', 'c', 'd']\n",
    "\n",
    "p = np.array([[0, 1, 0, 0]])\n",
    "q = np.array([[0.2, 0.5, 0.2, 0.1]])\n",
    "\n",
    "# p = np.array([\n",
    "#     [0, 1, 0, 0],\n",
    "#     [0, 0, 1, 0],\n",
    "#     [0, 0, 1, 0],\n",
    "#     [1, 0, 0, 0],\n",
    "#     [0, 0, 0, 1]\n",
    "# ])\n",
    "# q = np.array([\n",
    "#     [0.2, 0.5, 0.2, 0.1],\n",
    "#     [0.3, 0.1, 0.4, 0.2],\n",
    "#     [0.2, 0.1, 0.5, 0.2],\n",
    "#     [0.85, 0.05, 0.05, 0.05],\n",
    "#     [0.1, 0.1, 0.1, 0.7]\n",
    "# ])"
   ]
  },
  {
   "cell_type": "code",
   "execution_count": 45,
   "metadata": {},
   "outputs": [
    {
     "data": {
      "image/png": "[encoded data removed]",
      "text/plain": [
       "<Figure size 432x288 with 1 Axes>"
      ]
     },
     "metadata": {
      "image/png": {
       "height": 248,
       "width": 372
      },
      "needs_background": "light"
     },
     "output_type": "display_data"
    }
   ],
   "source": [
    "plt.bar(x=np.arange(0, p.shape[1]), height=p[0], alpha=0.5, label='p')\n",
    "plt.bar(x=np.arange(0, q.shape[1]), height=q[0], alpha=0.5, label='q')\n",
    "plt.legend();"
   ]
  },
  {
   "cell_type": "code",
   "execution_count": null,
   "metadata": {},
   "outputs": [],
   "source": [
    "def to_cdf(x):\n",
    "    return np.cumsum(x, axis=1)"
   ]
  },
  {
   "cell_type": "code",
   "execution_count": 46,
   "metadata": {},
   "outputs": [],
   "source": [
    "def brier_multi(targets, probs):\n",
    "    # https://stats.stackexchange.com/questions/403544/how-to-compute-the-brier-score-for-more-than-two-classes\n",
    "    return np.mean(np.sum((probs - targets)**2, axis=1))"
   ]
  },
  {
   "cell_type": "code",
   "execution_count": 50,
   "metadata": {},
   "outputs": [
    {
     "data": {
      "text/plain": [
       "0.3400000000000001"
      ]
     },
     "execution_count": 50,
     "metadata": {},
     "output_type": "execute_result"
    }
   ],
   "source": [
    "brier_multi(p, q)"
   ]
  },
  {
   "cell_type": "code",
   "execution_count": 55,
   "metadata": {},
   "outputs": [],
   "source": [
    "\n",
    "\n",
    "\n",
    "def rps(targets, probs):\n",
    "    targets = to_cdf(targets)\n",
    "    probs = to_cdf(probs)\n",
    "    \n",
    "\n",
    "    return np.sum((probs - targets)**2, axis=1)\n",
    "\n"
   ]
  },
  {
   "cell_type": "code",
   "execution_count": 56,
   "metadata": {},
   "outputs": [
    {
     "data": {
      "text/plain": [
       "array([0.14])"
      ]
     },
     "execution_count": 56,
     "metadata": {},
     "output_type": "execute_result"
    }
   ],
   "source": [
    "rps(p, q)"
   ]
  },
  {
   "cell_type": "code",
   "execution_count": 53,
   "metadata": {},
   "outputs": [],
   "source": [
    "def rps(predictions, observed):\n",
    "    \"\"\"Vectorized version of Ranked Probability Score.\n",
    "    A lower value is a better score.\n",
    "    From: Colin Catlin, https://syllepsis.live/2022/01/22/ranked-probability-score-in-python/\n",
    "\n",
    "    Args:\n",
    "        predictions (pd.DataFrame): each column is an outcome category\n",
    "            with values as the 0 to 1 probability of that category\n",
    "        observed (pd.DataFrame): each column is an outcome category\n",
    "            with values of 0 OR 1 with 1 being that category occurred\n",
    "    \"\"\"\n",
    "    assert (\n",
    "        predictions.shape == observed.shape\n",
    "    ), \"prediction and observed array shapes must match\"\n",
    "    ncat = predictions.shape[1] - 1\n",
    "    return (\n",
    "        np.sum(\n",
    "            (np.cumsum(predictions, axis=1) - np.cumsum(observed, axis=1)) ** 2, axis=1\n",
    "        ) / ncat\n",
    "    )\n"
   ]
  },
  {
   "cell_type": "code",
   "execution_count": 54,
   "metadata": {},
   "outputs": [
    {
     "data": {
      "text/plain": [
       "array([0.04666667])"
      ]
     },
     "execution_count": 54,
     "metadata": {},
     "output_type": "execute_result"
    }
   ],
   "source": [
    "rps(q, p)"
   ]
  },
  {
   "cell_type": "code",
   "execution_count": null,
   "metadata": {},
   "outputs": [],
   "source": [
    "# Why are they dividing by ncat"
   ]
  },
  {
   "cell_type": "code",
   "execution_count": 42,
   "metadata": {},
   "outputs": [
    {
     "data": {
      "text/plain": [
       "array([[0, 1, 0, 0],\n",
       "       [0, 0, 1, 0],\n",
       "       [0, 0, 1, 0],\n",
       "       [1, 0, 0, 0],\n",
       "       [0, 0, 0, 1]])"
      ]
     },
     "execution_count": 42,
     "metadata": {},
     "output_type": "execute_result"
    }
   ],
   "source": [
    "p"
   ]
  },
  {
   "cell_type": "code",
   "execution_count": 43,
   "metadata": {},
   "outputs": [
    {
     "data": {
      "text/plain": [
       "array([[0, 1, 1, 1],\n",
       "       [0, 0, 1, 1],\n",
       "       [0, 0, 1, 1],\n",
       "       [1, 1, 1, 1],\n",
       "       [0, 0, 0, 1]])"
      ]
     },
     "execution_count": 43,
     "metadata": {},
     "output_type": "execute_result"
    }
   ],
   "source": [
    "to_cdf(p)"
   ]
  },
  {
   "cell_type": "code",
   "execution_count": null,
   "metadata": {},
   "outputs": [],
   "source": []
  },
  {
   "cell_type": "code",
   "execution_count": 9,
   "metadata": {},
   "outputs": [],
   "source": [
    "p = np.array([\n",
    "    [0, 1, 0, 0],\n",
    "    [0, 0, 1, 0],\n",
    "    [0, 0, 1, 0],\n",
    "    [1, 0, 0, 0],\n",
    "    [0, 0, 0, 1]\n",
    "])\n",
    "q = np.array([\n",
    "    [0.2, 0.5, 0.2, 0.1],\n",
    "    [0.3, 0.1, 0.4, 0.2],\n",
    "    [0.2, 0.1, 0.5, 0.2],\n",
    "    [0.85, 0.05, 0.05, 0.05],\n",
    "    [0.1, 0.1, 0.1, 0.7]\n",
    "])"
   ]
  },
  {
   "cell_type": "code",
   "execution_count": 97,
   "metadata": {},
   "outputs": [
    {
     "data": {
      "text/plain": [
       "0.15500000000000003"
      ]
     },
     "execution_count": 97,
     "metadata": {},
     "output_type": "execute_result"
    }
   ],
   "source": [
    "def drps_1(p, q):\n",
    "    num_bins = q.shape[1]\n",
    "    N = q.shape[0]\n",
    "\n",
    "    p = to_cdf(p)\n",
    "    q = to_cdf(q)\n",
    "\n",
    "    total = 0\n",
    "    for i in range(0, N):\n",
    "        q_i = q[i, :]\n",
    "        p_i = p[i, :]\n",
    "\n",
    "        for bin_ in range(num_bins):\n",
    "            total += (q_i[bin_] - p_i[bin_]) ** 2\n",
    "\n",
    "    return total / N\n",
    "    \n",
    "\n",
    "drps_1(p, q)"
   ]
  },
  {
   "cell_type": "code",
   "execution_count": 98,
   "metadata": {},
   "outputs": [
    {
     "data": {
      "text/plain": [
       "0.15500000000000003"
      ]
     },
     "execution_count": 98,
     "metadata": {},
     "output_type": "execute_result"
    }
   ],
   "source": [
    "def brier_score(p, q):\n",
    "    return (sum(q) - sum(p)) ** 2\n",
    "\n",
    "\n",
    "def drps_2(p, q):\n",
    "    num_bins = q.shape[1]\n",
    "    N = q.shape[0]\n",
    "\n",
    "    total = 0\n",
    "    for i in range(0, N):\n",
    "        q_i = q[i, :]\n",
    "        p_i = p[i, :]\n",
    "        for bin_ in range(1, num_bins + 1):\n",
    "            total += brier_score(p_i[0:bin_], q_i[0:bin_])\n",
    "\n",
    "    return total / N\n",
    "\n",
    "\n",
    "drps_2(p, q)"
   ]
  },
  {
   "cell_type": "code",
   "execution_count": 99,
   "metadata": {},
   "outputs": [],
   "source": [
    "# Decomposition\n",
    "\n",
    "def reli(p, q):\n",
    "\n",
    "    N = q.shape[0]\n",
    "\n",
    "    total = 0\n",
    "    for i in range(0, N):\n",
    "        q_i = q[i, :]\n",
    "        p_i = p[i, :]\n",
    "        total += sum((p_i - q_i)**2) # Iter over bins occurs here\n",
    "\n",
    "    return total\n",
    "\n",
    "\n",
    "def resol(p, q):\n",
    "\n",
    "    num_bins = q.shape[1]\n",
    "    N = q.shape[0]\n",
    "\n",
    "    total = 0\n",
    "    for i in range(0, N):\n",
    "        q_i = q[i, :]\n",
    "        p_i = p[i, :]\n",
    "\n",
    "        observed = []\n",
    "        for bin_ in range(num_bins):\n",
    "            p[:, bin_].sum() / p.shape[0]\n",
    "    \n",
    "\n",
    "    return\n",
    "\n",
    "\n",
    "def u():\n",
    "\n",
    "\n",
    "    return\n",
    "\n",
    "\n",
    "def o(x):\n",
    "\n",
    "    N = x.shape[0]\n",
    "    for i in range(0, N):\n"
   ]
  },
  {
   "cell_type": "code",
   "execution_count": 100,
   "metadata": {},
   "outputs": [
    {
     "data": {
      "text/plain": [
       "1.3300000000000003"
      ]
     },
     "execution_count": 100,
     "metadata": {},
     "output_type": "execute_result"
    }
   ],
   "source": [
    "reli(p, q)"
   ]
  },
  {
   "cell_type": "code",
   "execution_count": null,
   "metadata": {},
   "outputs": [],
   "source": [
    "def brier_score(p, q):\n",
    "    return (sum(q) - sum(p)) ** 2\n",
    "\n",
    "\n",
    "def drps_2(p, q):\n",
    "    num_bins = q.shape[1]\n",
    "    N = q.shape[0]\n",
    "\n",
    "    total = 0\n",
    "    for i in range(0, N):\n",
    "        q_i = q[i, :]\n",
    "        p_i = p[i, :]\n",
    "        for bin_ in range(1, num_bins + 1):\n",
    "            total += brier_score(p_i[0:bin_], q_i[0:bin_])\n",
    "\n",
    "    return total / N\n",
    "\n",
    "\n",
    "drps_2(p, q)"
   ]
  },
  {
   "cell_type": "code",
   "execution_count": 102,
   "metadata": {},
   "outputs": [],
   "source": [
    "# !pip install tensorflow-probability"
   ]
  },
  {
   "cell_type": "code",
   "execution_count": 1,
   "metadata": {},
   "outputs": [],
   "source": []
  },
  {
   "cell_type": "code",
   "execution_count": 4,
   "metadata": {},
   "outputs": [],
   "source": []
  },
  {
   "cell_type": "code",
   "execution_count": 5,
   "metadata": {},
   "outputs": [
    {
     "ename": "InvalidArgumentError",
     "evalue": "{{function_node __wrapped__Pack_N_2_device_/job:localhost/replica:0/task:0/device:CPU:0}} Shapes of all inputs must match: values[0].shape = [1] != values[1].shape = [1,4] [Op:Pack] name: stack",
     "output_type": "error",
     "traceback": [
      "\u001b[0;31m---------------------------------------------------------------------------\u001b[0m",
      "\u001b[0;31mInvalidArgumentError\u001b[0m                      Traceback (most recent call last)",
      "\u001b[1;32m/Users/nathanieldake/development/intuitiveml/notebooks/Machine-Learning-Perspective/Loss-Functions/ranked_probability_score.ipynb Cell 16\u001b[0m in \u001b[0;36m<cell line: 1>\u001b[0;34m()\u001b[0m\n\u001b[0;32m----> <a href='vscode-notebook-cell:/Users/nathanieldake/development/intuitiveml/notebooks/Machine-Learning-Perspective/Loss-Functions/ranked_probability_score.ipynb#X20sZmlsZQ%3D%3D?line=0'>1</a>\u001b[0m tfp\u001b[39m.\u001b[39;49mstats\u001b[39m.\u001b[39;49mbrier_decomposition(\n\u001b[1;32m      <a href='vscode-notebook-cell:/Users/nathanieldake/development/intuitiveml/notebooks/Machine-Learning-Perspective/Loss-Functions/ranked_probability_score.ipynb#X20sZmlsZQ%3D%3D?line=1'>2</a>\u001b[0m     p_tens, q_tens\n\u001b[1;32m      <a href='vscode-notebook-cell:/Users/nathanieldake/development/intuitiveml/notebooks/Machine-Learning-Perspective/Loss-Functions/ranked_probability_score.ipynb#X20sZmlsZQ%3D%3D?line=2'>3</a>\u001b[0m )\n",
      "File \u001b[0;32m~/development/intuitiveml/venv/lib/python3.9/site-packages/tensorflow_probability/python/stats/calibration.py:116\u001b[0m, in \u001b[0;36mbrier_decomposition\u001b[0;34m(labels, logits, name)\u001b[0m\n\u001b[1;32m    114\u001b[0m   confusion_matrix \u001b[39m=\u001b[39m unflatten(confusion_matrix)\n\u001b[1;32m    115\u001b[0m \u001b[39melse\u001b[39;00m:\n\u001b[0;32m--> 116\u001b[0m   confusion_matrix \u001b[39m=\u001b[39m tf\u001b[39m.\u001b[39;49mmath\u001b[39m.\u001b[39;49mconfusion_matrix(pred_class, labels,\n\u001b[1;32m    117\u001b[0m                                               num_classes\u001b[39m=\u001b[39;49mnum_classes,\n\u001b[1;32m    118\u001b[0m                                               dtype\u001b[39m=\u001b[39;49mlogits\u001b[39m.\u001b[39;49mdtype)\n\u001b[1;32m    120\u001b[0m dist_weights \u001b[39m=\u001b[39m tf\u001b[39m.\u001b[39mreduce_sum(confusion_matrix, axis\u001b[39m=\u001b[39m\u001b[39m-\u001b[39m\u001b[39m1\u001b[39m)\n\u001b[1;32m    121\u001b[0m dist_weights \u001b[39m/\u001b[39m\u001b[39m=\u001b[39m tf\u001b[39m.\u001b[39mreduce_sum(dist_weights, axis\u001b[39m=\u001b[39m\u001b[39m-\u001b[39m\u001b[39m1\u001b[39m, keepdims\u001b[39m=\u001b[39m\u001b[39mTrue\u001b[39;00m)\n",
      "File \u001b[0;32m~/development/intuitiveml/venv/lib/python3.9/site-packages/tensorflow/python/util/traceback_utils.py:153\u001b[0m, in \u001b[0;36mfilter_traceback.<locals>.error_handler\u001b[0;34m(*args, **kwargs)\u001b[0m\n\u001b[1;32m    151\u001b[0m \u001b[39mexcept\u001b[39;00m \u001b[39mException\u001b[39;00m \u001b[39mas\u001b[39;00m e:\n\u001b[1;32m    152\u001b[0m   filtered_tb \u001b[39m=\u001b[39m _process_traceback_frames(e\u001b[39m.\u001b[39m__traceback__)\n\u001b[0;32m--> 153\u001b[0m   \u001b[39mraise\u001b[39;00m e\u001b[39m.\u001b[39mwith_traceback(filtered_tb) \u001b[39mfrom\u001b[39;00m \u001b[39mNone\u001b[39m\n\u001b[1;32m    154\u001b[0m \u001b[39mfinally\u001b[39;00m:\n\u001b[1;32m    155\u001b[0m   \u001b[39mdel\u001b[39;00m filtered_tb\n",
      "File \u001b[0;32m~/development/intuitiveml/venv/lib/python3.9/site-packages/tensorflow/python/framework/ops.py:7209\u001b[0m, in \u001b[0;36mraise_from_not_ok_status\u001b[0;34m(e, name)\u001b[0m\n\u001b[1;32m   7207\u001b[0m \u001b[39mdef\u001b[39;00m \u001b[39mraise_from_not_ok_status\u001b[39m(e, name):\n\u001b[1;32m   7208\u001b[0m   e\u001b[39m.\u001b[39mmessage \u001b[39m+\u001b[39m\u001b[39m=\u001b[39m (\u001b[39m\"\u001b[39m\u001b[39m name: \u001b[39m\u001b[39m\"\u001b[39m \u001b[39m+\u001b[39m name \u001b[39mif\u001b[39;00m name \u001b[39mis\u001b[39;00m \u001b[39mnot\u001b[39;00m \u001b[39mNone\u001b[39;00m \u001b[39melse\u001b[39;00m \u001b[39m\"\u001b[39m\u001b[39m\"\u001b[39m)\n\u001b[0;32m-> 7209\u001b[0m   \u001b[39mraise\u001b[39;00m core\u001b[39m.\u001b[39m_status_to_exception(e) \u001b[39mfrom\u001b[39;00m \u001b[39mNone\u001b[39m\n",
      "\u001b[0;31mInvalidArgumentError\u001b[0m: {{function_node __wrapped__Pack_N_2_device_/job:localhost/replica:0/task:0/device:CPU:0}} Shapes of all inputs must match: values[0].shape = [1] != values[1].shape = [1,4] [Op:Pack] name: stack"
     ]
    }
   ],
   "source": []
  },
  {
   "cell_type": "code",
   "execution_count": 6,
   "metadata": {},
   "outputs": [
    {
     "data": {
      "text/plain": [
       "TensorShape([1, 4])"
      ]
     },
     "execution_count": 6,
     "metadata": {},
     "output_type": "execute_result"
    }
   ],
   "source": [
    "p_tens.shape"
   ]
  },
  {
   "cell_type": "code",
   "execution_count": 7,
   "metadata": {},
   "outputs": [
    {
     "data": {
      "text/plain": [
       "TensorShape([1, 4])"
      ]
     },
     "execution_count": 7,
     "metadata": {},
     "output_type": "execute_result"
    }
   ],
   "source": [
    "q_tens.shape"
   ]
  },
  {
   "cell_type": "code",
   "execution_count": 16,
   "metadata": {},
   "outputs": [],
   "source": [
    "p_tens = tf.convert_to_tensor(np.where(p == 1)[1])\n",
    "q_tens = tf.convert_to_tensor(q)"
   ]
  },
  {
   "cell_type": "code",
   "execution_count": 18,
   "metadata": {},
   "outputs": [],
   "source": [
    "uncertainty, resolution, reliability = tfp.stats.brier_decomposition(\n",
    "    p_tens, q_tens\n",
    ")"
   ]
  },
  {
   "cell_type": "code",
   "execution_count": 22,
   "metadata": {},
   "outputs": [
    {
     "data": {
      "text/plain": [
       "-0.496996947512806"
      ]
     },
     "execution_count": 22,
     "metadata": {},
     "output_type": "execute_result"
    }
   ],
   "source": [
    "uncertainty.numpy() - resolution.numpy() + reliability.numpy()"
   ]
  },
  {
   "cell_type": "code",
   "execution_count": 26,
   "metadata": {},
   "outputs": [
    {
     "data": {
      "text/plain": [
       "<tf.Tensor: shape=(5,), dtype=int64, numpy=array([1, 2, 2, 0, 3])>"
      ]
     },
     "execution_count": 26,
     "metadata": {},
     "output_type": "execute_result"
    }
   ],
   "source": [
    "p_tens"
   ]
  },
  {
   "cell_type": "code",
   "execution_count": 28,
   "metadata": {},
   "outputs": [
    {
     "data": {
      "text/plain": [
       "array([1., 1., 1., 1., 1.])"
      ]
     },
     "execution_count": 28,
     "metadata": {},
     "output_type": "execute_result"
    }
   ],
   "source": [
    "q_tens"
   ]
  },
  {
   "cell_type": "code",
   "execution_count": 30,
   "metadata": {},
   "outputs": [],
   "source": [
    "res = tfp.stats.brier_score(\n",
    "    p_tens, q_tens\n",
    ")"
   ]
  },
  {
   "cell_type": "code",
   "execution_count": 31,
   "metadata": {},
   "outputs": [
    {
     "data": {
      "text/plain": [
       "<tf.Tensor: shape=(5,), dtype=float64, numpy=array([-0.37816056, -0.32418922, -0.37816056, -0.56054062, -0.48393378])>"
      ]
     },
     "execution_count": 31,
     "metadata": {},
     "output_type": "execute_result"
    }
   ],
   "source": []
  },
  {
   "cell_type": "code",
   "execution_count": 38,
   "metadata": {},
   "outputs": [],
   "source": [
    "labels = tf.convert_to_tensor(np.where(p == 1)[1])\n",
    "probabilities = tf.convert_to_tensor(q)\n",
    "# probabilities = tf.math.softmax(logits, axis=1)\n",
    "\n",
    "num_classes = probabilities.shape[-1]\n",
    "plabel = probabilities * tf.one_hot(labels, depth=num_classes,\n",
    "                                    dtype=probabilities.dtype)\n",
    "plabel = tf.reduce_sum(plabel, axis=-1)\n",
    "res = tf.reduce_sum(tf.square(probabilities), axis=-1) - 2. * plabel"
   ]
  },
  {
   "cell_type": "code",
   "execution_count": 39,
   "metadata": {},
   "outputs": [
    {
     "data": {
      "text/plain": [
       "<tf.Tensor: shape=(5,), dtype=float64, numpy=array([-0.66, -0.5 , -0.66, -0.97, -0.88])>"
      ]
     },
     "execution_count": 39,
     "metadata": {},
     "output_type": "execute_result"
    }
   ],
   "source": [
    "res"
   ]
  },
  {
   "cell_type": "code",
   "execution_count": 40,
   "metadata": {},
   "outputs": [],
   "source": [
    "import sklearn"
   ]
  },
  {
   "cell_type": "code",
   "execution_count": 45,
   "metadata": {},
   "outputs": [],
   "source": [
    "from sklearn.metrics import brier_score_loss"
   ]
  },
  {
   "cell_type": "code",
   "execution_count": 46,
   "metadata": {},
   "outputs": [
    {
     "ename": "ValueError",
     "evalue": "y should be a 1d array, got an array of shape (5, 4) instead.",
     "output_type": "error",
     "traceback": [
      "\u001b[0;31m---------------------------------------------------------------------------\u001b[0m",
      "\u001b[0;31mValueError\u001b[0m                                Traceback (most recent call last)",
      "\u001b[1;32m/Users/nathanieldake/development/intuitiveml/notebooks/Machine-Learning-Perspective/Loss-Functions/ranked_probability_score.ipynb Cell 30\u001b[0m in \u001b[0;36m<cell line: 1>\u001b[0;34m()\u001b[0m\n\u001b[0;32m----> <a href='vscode-notebook-cell:/Users/nathanieldake/development/intuitiveml/notebooks/Machine-Learning-Perspective/Loss-Functions/ranked_probability_score.ipynb#X41sZmlsZQ%3D%3D?line=0'>1</a>\u001b[0m brier_score_loss(p, q)\n",
      "File \u001b[0;32m~/development/intuitiveml/venv/lib/python3.9/site-packages/sklearn/metrics/_classification.py:2677\u001b[0m, in \u001b[0;36mbrier_score_loss\u001b[0;34m(y_true, y_prob, sample_weight, pos_label)\u001b[0m\n\u001b[1;32m   2607\u001b[0m \u001b[39mdef\u001b[39;00m \u001b[39mbrier_score_loss\u001b[39m(y_true, y_prob, \u001b[39m*\u001b[39m, sample_weight\u001b[39m=\u001b[39m\u001b[39mNone\u001b[39;00m, pos_label\u001b[39m=\u001b[39m\u001b[39mNone\u001b[39;00m):\n\u001b[1;32m   2608\u001b[0m     \u001b[39m\"\"\"Compute the Brier score loss.\u001b[39;00m\n\u001b[1;32m   2609\u001b[0m \n\u001b[1;32m   2610\u001b[0m \u001b[39m    The smaller the Brier score loss, the better, hence the naming with \"loss\".\u001b[39;00m\n\u001b[0;32m   (...)\u001b[0m\n\u001b[1;32m   2675\u001b[0m \u001b[39m            <https://en.wikipedia.org/wiki/Brier_score>`_.\u001b[39;00m\n\u001b[1;32m   2676\u001b[0m \u001b[39m    \"\"\"\u001b[39;00m\n\u001b[0;32m-> 2677\u001b[0m     y_true \u001b[39m=\u001b[39m column_or_1d(y_true)\n\u001b[1;32m   2678\u001b[0m     y_prob \u001b[39m=\u001b[39m column_or_1d(y_prob)\n\u001b[1;32m   2679\u001b[0m     assert_all_finite(y_true)\n",
      "File \u001b[0;32m~/development/intuitiveml/venv/lib/python3.9/site-packages/sklearn/utils/validation.py:1156\u001b[0m, in \u001b[0;36mcolumn_or_1d\u001b[0;34m(y, warn)\u001b[0m\n\u001b[1;32m   1147\u001b[0m         warnings\u001b[39m.\u001b[39mwarn(\n\u001b[1;32m   1148\u001b[0m             \u001b[39m\"\u001b[39m\u001b[39mA column-vector y was passed when a 1d array was\u001b[39m\u001b[39m\"\u001b[39m\n\u001b[1;32m   1149\u001b[0m             \u001b[39m\"\u001b[39m\u001b[39m expected. Please change the shape of y to \u001b[39m\u001b[39m\"\u001b[39m\n\u001b[0;32m   (...)\u001b[0m\n\u001b[1;32m   1152\u001b[0m             stacklevel\u001b[39m=\u001b[39m\u001b[39m2\u001b[39m,\n\u001b[1;32m   1153\u001b[0m         )\n\u001b[1;32m   1154\u001b[0m     \u001b[39mreturn\u001b[39;00m np\u001b[39m.\u001b[39mravel(y)\n\u001b[0;32m-> 1156\u001b[0m \u001b[39mraise\u001b[39;00m \u001b[39mValueError\u001b[39;00m(\n\u001b[1;32m   1157\u001b[0m     \u001b[39m\"\u001b[39m\u001b[39my should be a 1d array, got an array of shape \u001b[39m\u001b[39m{}\u001b[39;00m\u001b[39m instead.\u001b[39m\u001b[39m\"\u001b[39m\u001b[39m.\u001b[39mformat(shape)\n\u001b[1;32m   1158\u001b[0m )\n",
      "\u001b[0;31mValueError\u001b[0m: y should be a 1d array, got an array of shape (5, 4) instead."
     ]
    }
   ],
   "source": [
    "brier_score_loss(p, q)"
   ]
  },
  {
   "cell_type": "code",
   "execution_count": null,
   "metadata": {},
   "outputs": [],
   "source": []
  }
 ],
 "metadata": {
  "kernelspec": {
   "display_name": "Python 3.9.15 ('venv': venv)",
   "language": "python",
   "name": "python3"
  },
  "language_info": {
   "codemirror_mode": {
    "name": "ipython",
    "version": 3
   },
   "file_extension": ".py",
   "mimetype": "text/x-python",
   "name": "python",
   "nbconvert_exporter": "python",
   "pygments_lexer": "ipython3",
   "version": "3.9.15"
  },
  "orig_nbformat": 4,
  "vscode": {
   "interpreter": {
    "hash": "49c53874e9fa1298744221c223e71dba401254bf6080a7ded89e731b1d76ec31"
   }
  }
 },
 "nbformat": 4,
 "nbformat_minor": 2
}
