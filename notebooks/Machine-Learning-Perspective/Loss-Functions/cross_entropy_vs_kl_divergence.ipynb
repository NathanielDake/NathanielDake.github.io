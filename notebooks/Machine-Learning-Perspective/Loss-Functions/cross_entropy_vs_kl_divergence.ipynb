{
 "cells": [
  {
   "cell_type": "code",
   "execution_count": 35,
   "metadata": {},
   "outputs": [],
   "source": [
    "import numpy as np\n",
    "from scipy.special import rel_entr\n",
    "\n",
    "import matplotlib.pyplot as plt\n",
    "%config InlineBackend.figure_format='retina'\n"
   ]
  },
  {
   "cell_type": "code",
   "execution_count": 9,
   "metadata": {},
   "outputs": [],
   "source": [
    "classes = ['a', 'b', 'c', 'd']\n",
    "p = np.array([0, 1, 0, 0])\n",
    "q = np.array([0.2, 0.5, 0.2, 0.1])"
   ]
  },
  {
   "cell_type": "code",
   "execution_count": 10,
   "metadata": {},
   "outputs": [
    {
     "name": "stdout",
     "output_type": "stream",
     "text": [
      "[0.         0.69314718 0.         0.        ]\n"
     ]
    }
   ],
   "source": [
    "kl = rel_entr(p, q)  # KL divergence\n",
    "print(kl)"
   ]
  },
  {
   "cell_type": "code",
   "execution_count": 11,
   "metadata": {},
   "outputs": [
    {
     "name": "stdout",
     "output_type": "stream",
     "text": [
      "0.6931471805599453\n"
     ]
    }
   ],
   "source": [
    "print(np.sum(kl))"
   ]
  },
  {
   "cell_type": "code",
   "execution_count": 13,
   "metadata": {},
   "outputs": [
    {
     "name": "stdout",
     "output_type": "stream",
     "text": [
      "0.6931471805599453\n"
     ]
    },
    {
     "name": "stderr",
     "output_type": "stream",
     "text": [
      "/var/folders/bf/ytfysjqx15v252xy049gw1qm0000gn/T/ipykernel_38924/2349610778.py:2: RuntimeWarning: divide by zero encountered in log\n",
      "  return np.sum(np.where(p != 0, p * np.log(p / q), 0))\n",
      "/var/folders/bf/ytfysjqx15v252xy049gw1qm0000gn/T/ipykernel_38924/2349610778.py:2: RuntimeWarning: invalid value encountered in multiply\n",
      "  return np.sum(np.where(p != 0, p * np.log(p / q), 0))\n"
     ]
    }
   ],
   "source": [
    "def kl_div(p, q):\n",
    "    return np.sum(np.where(p != 0, p * np.log(p / q), 0))\n",
    "\n",
    "print(kl_div(p, q))"
   ]
  },
  {
   "cell_type": "code",
   "execution_count": 14,
   "metadata": {},
   "outputs": [
    {
     "name": "stdout",
     "output_type": "stream",
     "text": [
      "0.6931471805599453\n"
     ]
    }
   ],
   "source": [
    "def cross_entropy(p, q):\n",
    "    return -np.sum(p * np.log(q))\n",
    "\n",
    "print(cross_entropy(p, q))"
   ]
  },
  {
   "cell_type": "markdown",
   "metadata": {},
   "source": [
    "In the event that we have a distribution with all probability mass on a single element (as we do above - all mass is centered on the element `b`), the cross entropy and kl divergence between `p` and `q` will be equivalent. "
   ]
  },
  {
   "cell_type": "code",
   "execution_count": 48,
   "metadata": {},
   "outputs": [],
   "source": [
    "p = np.array([0, 1, 0, 0, 0, 0, 0, 0, 0, 0])\n",
    "q = np.array([0.1, 0.3, 0.05, 0.05, 0.05, 0.05, 0.1, 0.05, 0.2, 0.05])\n",
    "\n",
    "assert len(p) == len(q)\n",
    "assert np.sum(p) == 1\n",
    "assert np.sum(q) == 1"
   ]
  },
  {
   "cell_type": "code",
   "execution_count": 45,
   "metadata": {},
   "outputs": [
    {
     "data": {
      "image/png": "[encoded data removed]",
      "text/plain": [
       "<Figure size 432x288 with 1 Axes>"
      ]
     },
     "metadata": {
      "image/png": {
       "height": 248,
       "width": 372
      },
      "needs_background": "light"
     },
     "output_type": "display_data"
    }
   ],
   "source": [
    "plt.bar(x=np.arange(0, len(p)), height=p, alpha=0.5, label='p')\n",
    "plt.bar(x=np.arange(0, len(q)), height=q, alpha=0.5, label='q')\n",
    "plt.legend();"
   ]
  },
  {
   "cell_type": "code",
   "execution_count": 46,
   "metadata": {},
   "outputs": [
    {
     "name": "stdout",
     "output_type": "stream",
     "text": [
      "1.2039728043259361\n"
     ]
    }
   ],
   "source": [
    "# Cross entropy\n",
    "print(cross_entropy(p, q))"
   ]
  },
  {
   "cell_type": "code",
   "execution_count": 47,
   "metadata": {},
   "outputs": [
    {
     "name": "stdout",
     "output_type": "stream",
     "text": [
      "1.2039728043259361\n"
     ]
    },
    {
     "name": "stderr",
     "output_type": "stream",
     "text": [
      "/var/folders/bf/ytfysjqx15v252xy049gw1qm0000gn/T/ipykernel_38924/2349610778.py:2: RuntimeWarning: divide by zero encountered in log\n",
      "  return np.sum(np.where(p != 0, p * np.log(p / q), 0))\n",
      "/var/folders/bf/ytfysjqx15v252xy049gw1qm0000gn/T/ipykernel_38924/2349610778.py:2: RuntimeWarning: invalid value encountered in multiply\n",
      "  return np.sum(np.where(p != 0, p * np.log(p / q), 0))\n"
     ]
    }
   ],
   "source": [
    "# KL divergence\n",
    "print(kl_div(p, q))"
   ]
  },
  {
   "cell_type": "code",
   "execution_count": 58,
   "metadata": {},
   "outputs": [
    {
     "name": "stdout",
     "output_type": "stream",
     "text": [
      "[0 1 0 0 0 0 0 0 0 0]\n",
      "[0.1  0.3  0.05 0.05 0.05 0.05 0.1  0.05 0.2  0.05]\n"
     ]
    }
   ],
   "source": [
    "print(p)\n",
    "print(q)"
   ]
  },
  {
   "cell_type": "code",
   "execution_count": 70,
   "metadata": {},
   "outputs": [
    {
     "data": {
      "text/plain": [
       "{0, 2, 3, 4, 5, 6, 7, 8, 9}"
      ]
     },
     "execution_count": 70,
     "metadata": {},
     "output_type": "execute_result"
    }
   ],
   "source": [
    "non_i_idx = set(list(range(len(p)))) - {idx_of_i}\n",
    "non_i_idx"
   ]
  },
  {
   "cell_type": "code",
   "execution_count": 72,
   "metadata": {},
   "outputs": [
    {
     "data": {
      "text/plain": [
       "array([0.1 , 0.05, 0.05, 0.05, 0.05, 0.1 , 0.05, 0.2 , 0.05])"
      ]
     },
     "execution_count": 72,
     "metadata": {},
     "output_type": "execute_result"
    }
   ],
   "source": [
    "q[list(non_i_idx)]"
   ]
  },
  {
   "cell_type": "code",
   "execution_count": 76,
   "metadata": {},
   "outputs": [
    {
     "data": {
      "text/plain": [
       "1.2039728043259361"
      ]
     },
     "execution_count": 76,
     "metadata": {},
     "output_type": "execute_result"
    }
   ],
   "source": [
    "# New loss\n",
    "ce = cross_entropy(p, q)\n",
    "ce"
   ]
  },
  {
   "cell_type": "code",
   "execution_count": 81,
   "metadata": {},
   "outputs": [
    {
     "data": {
      "text/plain": [
       "0.22345487195923366"
      ]
     },
     "execution_count": 81,
     "metadata": {},
     "output_type": "execute_result"
    }
   ],
   "source": [
    "def binary_discrimination_constraint(p, q):\n",
    "    C = len(p)\n",
    "    \n",
    "    idx_of_y = np.where(p == 1)[0][0]\n",
    "    pi_y = q[idx_of_y]\n",
    "\n",
    "    non_y_idx = list(set(list(range(len(p)))) - {idx_of_y})\n",
    "    \n",
    "    summation = 0\n",
    "    for j in non_y_idx:\n",
    "        pi_j = q[j]\n",
    "        summation += np.log(1 / (1 + (pi_j / pi_y)))\n",
    "\n",
    "    constant = -(1 / (C - 1))\n",
    "    return constant * summation \n",
    "\n",
    "bdc = binary_discrimination_constraint(p, q)\n",
    "bdc"
   ]
  },
  {
   "cell_type": "code",
   "execution_count": 84,
   "metadata": {},
   "outputs": [
    {
     "data": {
      "text/plain": [
       "0.7532400293788323"
      ]
     },
     "execution_count": 84,
     "metadata": {},
     "output_type": "execute_result"
    }
   ],
   "source": [
    "def binary_exclusion_constraint(p, q):\n",
    "    C = len(p)\n",
    "\n",
    "    idx_of_y = np.where(p == 1)[0][0]\n",
    "    pi_y = q[idx_of_y]\n",
    "    non_y_idx = list(set(list(range(len(p)))) - {idx_of_y})\n",
    "\n",
    "    summation = 0\n",
    "    for i in non_y_idx:\n",
    "        for j in non_y_idx:\n",
    "            if i == j:\n",
    "                continue\n",
    "\n",
    "            pi_i = q[i]\n",
    "            pi_j = q[j]\n",
    "            l1 = np.log(1 / (1 + (pi_j / pi_i)))\n",
    "            l2 = np.log(1 / (1 + (pi_i / pi_j)))\n",
    "            summation += l1 + l2\n",
    "\n",
    "    constant = -1 / (2 * (C - 1) * (C - 2))\n",
    "\n",
    "    return constant * summation\n",
    "\n",
    "\n",
    "bec = binary_exclusion_constraint(p, q)\n",
    "bec"
   ]
  },
  {
   "cell_type": "code",
   "execution_count": 85,
   "metadata": {},
   "outputs": [],
   "source": [
    "def total_loss(p, q):\n",
    "    return cross_entropy(p, q) + binary_discrimination_constraint(p, q) + binary_exclusion_constraint(p, q)"
   ]
  },
  {
   "cell_type": "code",
   "execution_count": 86,
   "metadata": {},
   "outputs": [
    {
     "data": {
      "text/plain": [
       "2.180667705664002"
      ]
     },
     "execution_count": 86,
     "metadata": {},
     "output_type": "execute_result"
    }
   ],
   "source": [
    "total_loss(p, q)"
   ]
  },
  {
   "cell_type": "code",
   "execution_count": 89,
   "metadata": {},
   "outputs": [
    {
     "data": {
      "image/png": "[encoded data removed]",
      "text/plain": [
       "<Figure size 432x288 with 1 Axes>"
      ]
     },
     "metadata": {
      "image/png": {
       "height": 263,
       "width": 372
      },
      "needs_background": "light"
     },
     "output_type": "display_data"
    }
   ],
   "source": [
    "p = np.array([0, 1, 0, 0, 0, 0, 0, 0, 0, 0])\n",
    "q = np.array([0.1, 0.3, 0.05, 0.05, 0.05, 0.05, 0.1, 0.05, 0.2, 0.05])\n",
    "\n",
    "assert len(p) == len(q)\n",
    "assert np.sum(p) == 1\n",
    "assert np.sum(q) == 1\n",
    "\n",
    "tl = total_loss(p, q)\n",
    "\n",
    "plt.bar(x=np.arange(0, len(p)), height=p, alpha=0.5, label='p')\n",
    "plt.bar(x=np.arange(0, len(q)), height=q, alpha=0.5, label='q')\n",
    "plt.title(f'Total loss: {tl:.3f}')\n",
    "plt.legend();\n",
    "\n"
   ]
  },
  {
   "cell_type": "code",
   "execution_count": 92,
   "metadata": {},
   "outputs": [
    {
     "data": {
      "image/png": "[encoded data removed]",
      "text/plain": [
       "<Figure size 432x288 with 1 Axes>"
      ]
     },
     "metadata": {
      "image/png": {
       "height": 263,
       "width": 372
      },
      "needs_background": "light"
     },
     "output_type": "display_data"
    }
   ],
   "source": [
    "p = np.array([0, 1, 0, 0, 0, 0, 0, 0, 0, 0])\n",
    "q = np.array([0.01, 0.91, 0.01, 0.01, 0.01, 0.01, 0.01, 0.01, 0.01, 0.01])\n",
    "\n",
    "assert len(p) == len(q)\n",
    "assert np.sum(p) == 1\n",
    "assert np.sum(q) == 1\n",
    "\n",
    "tl = total_loss(p, q)\n",
    "\n",
    "plt.bar(x=np.arange(0, len(p)), height=p, alpha=0.5, label='p')\n",
    "plt.bar(x=np.arange(0, len(q)), height=q, alpha=0.5, label='q')\n",
    "plt.title(f'Total loss: {tl:.3f}')\n",
    "plt.legend();\n",
    "\n"
   ]
  },
  {
   "cell_type": "code",
   "execution_count": 96,
   "metadata": {},
   "outputs": [
    {
     "data": {
      "image/png": "[encoded data removed]",
      "text/plain": [
       "<Figure size 432x288 with 1 Axes>"
      ]
     },
     "metadata": {
      "image/png": {
       "height": 263,
       "width": 372
      },
      "needs_background": "light"
     },
     "output_type": "display_data"
    }
   ],
   "source": [
    "p = np.array([0, 1, 0, 0, 0, 0, 0, 0, 0, 0])\n",
    "q = np.array([0.01, 0.8, 0.12, 0.01, 0.01, 0.01, 0.01, 0.01, 0.01, 0.01])\n",
    "\n",
    "assert len(p) == len(q)\n",
    "assert np.sum(p) == 1\n",
    "assert np.sum(q) == 1\n",
    "\n",
    "tl = total_loss(p, q)\n",
    "\n",
    "plt.bar(x=np.arange(0, len(p)), height=p, alpha=0.5, label='p')\n",
    "plt.bar(x=np.arange(0, len(q)), height=q, alpha=0.5, label='q')\n",
    "plt.title(f'Total loss: {tl:.3f}')\n",
    "plt.legend();\n",
    "\n"
   ]
  },
  {
   "cell_type": "code",
   "execution_count": 118,
   "metadata": {},
   "outputs": [
    {
     "name": "stdout",
     "output_type": "stream",
     "text": [
      "1.0\n"
     ]
    },
    {
     "data": {
      "image/png": "[encoded data removed]",
      "text/plain": [
       "<Figure size 432x288 with 1 Axes>"
      ]
     },
     "metadata": {
      "image/png": {
       "height": 263,
       "width": 372
      },
      "needs_background": "light"
     },
     "output_type": "display_data"
    }
   ],
   "source": [
    "p = np.array([0, 1, 0, 0, 0, 0, 0, 0, 0, 0])\n",
    "q = np.array([0.02, 0.5, 0.025, 0.175, 0.175, 0.025, 0.02, 0.02, 0.02, 0.02])\n",
    "print(sum(q))\n",
    "assert len(p) == len(q)\n",
    "assert np.sum(p) == 1\n",
    "assert np.sum(q) == 1\n",
    "\n",
    "ce = cross_entropy(p, q)\n",
    "bdc = binary_discrimination_constraint(p, q)\n",
    "bec = binary_exclusion_constraint(p, q)\n",
    "tl = total_loss(p, q)\n",
    "\n",
    "plt.bar(x=np.arange(0, len(p)), height=p, alpha=0.5, label='p')\n",
    "plt.bar(x=np.arange(0, len(q)), height=q, alpha=0.5, label='q')\n",
    "plt.title(f'CE: {ce:.3f}, Total loss: {tl:.3f}')\n",
    "# plt.title(f'CE: {ce:.3f}, BDC: {bdc:.3f}, BEC: {bec:.3f}, Total loss: {tl:.3f}')\n",
    "plt.legend();\n",
    "\n"
   ]
  },
  {
   "cell_type": "code",
   "execution_count": 113,
   "metadata": {},
   "outputs": [
    {
     "data": {
      "image/png": "[encoded data removed]",
      "text/plain": [
       "<Figure size 432x288 with 1 Axes>"
      ]
     },
     "metadata": {
      "image/png": {
       "height": 263,
       "width": 372
      },
      "needs_background": "light"
     },
     "output_type": "display_data"
    }
   ],
   "source": [
    "p = np.array([0, 1, 0, 0, 0, 0, 0, 0, 0, 0])\n",
    "q = np.array([0.02, 0.5, 0.2, 0.05, 0.05, 0.1, 0.02, 0.02, 0.02, 0.02])\n",
    "\n",
    "assert len(p) == len(q)\n",
    "assert np.sum(p) == 1\n",
    "assert np.sum(q) == 1\n",
    "\n",
    "ce = cross_entropy(p, q)\n",
    "bdc = binary_discrimination_constraint(p, q)\n",
    "bec = binary_exclusion_constraint(p, q)\n",
    "tl = total_loss(p, q)\n",
    "\n",
    "\n",
    "plt.bar(x=np.arange(0, len(p)), height=p, alpha=0.5, label='p')\n",
    "plt.bar(x=np.arange(0, len(q)), height=q, alpha=0.5, label='q')\n",
    "plt.title(f'CE: {ce:.3f}, Total loss: {tl:.3f}')\n",
    "# plt.title(f'CE: {ce:.3f}, BDC: {bdc:.3f}, BEC: {bec:.3f}, Total loss: {tl:.3f}')\n",
    "plt.legend();\n",
    "\n"
   ]
  },
  {
   "cell_type": "code",
   "execution_count": 104,
   "metadata": {},
   "outputs": [
    {
     "data": {
      "text/plain": [
       "0.05555555555555555"
      ]
     },
     "execution_count": 104,
     "metadata": {},
     "output_type": "execute_result"
    }
   ],
   "source": []
  },
  {
   "cell_type": "code",
   "execution_count": 112,
   "metadata": {},
   "outputs": [
    {
     "data": {
      "image/png": "[encoded data removed]",
      "text/plain": [
       "<Figure size 432x288 with 1 Axes>"
      ]
     },
     "metadata": {
      "image/png": {
       "height": 263,
       "width": 372
      },
      "needs_background": "light"
     },
     "output_type": "display_data"
    }
   ],
   "source": [
    "p = np.array([0, 1, 0, 0, 0, 0, 0, 0, 0, 0])\n",
    "q = np.array([0.5 / 9, 0.5, 0.5 / 9, 0.5 / 9, 0.5 / 9, 0.5 / 9, 0.5 / 9, 0.5 / 9, 0.5 / 9, 0.5 / 9])\n",
    "\n",
    "assert len(p) == len(q)\n",
    "assert np.sum(p) == 1\n",
    "assert np.sum(q) == 1\n",
    "\n",
    "ce = cross_entropy(p, q)\n",
    "bdc = binary_discrimination_constraint(p, q)\n",
    "bec = binary_exclusion_constraint(p, q)\n",
    "tl = total_loss(p, q)\n",
    "\n",
    "\n",
    "plt.bar(x=np.arange(0, len(p)), height=p, alpha=0.5, label='p')\n",
    "plt.bar(x=np.arange(0, len(q)), height=q, alpha=0.5, label='q')\n",
    "plt.title(f'CE: {ce:.3f}, Total loss: {tl:.3f}')\n",
    "# plt.title(f'CE: {ce:.3f}, BDC: {bdc:.3f}, BEC: {bec:.3f}, Total loss: {tl:.3f}')\n",
    "plt.legend();\n",
    "\n"
   ]
  },
  {
   "cell_type": "code",
   "execution_count": 106,
   "metadata": {},
   "outputs": [
    {
     "data": {
      "text/plain": [
       "0.0125"
      ]
     },
     "execution_count": 106,
     "metadata": {},
     "output_type": "execute_result"
    }
   ],
   "source": [
    "0.1 / 8"
   ]
  },
  {
   "cell_type": "code",
   "execution_count": 107,
   "metadata": {},
   "outputs": [
    {
     "data": {
      "image/png": "[encoded data removed]",
      "text/plain": [
       "<Figure size 432x288 with 1 Axes>"
      ]
     },
     "metadata": {
      "image/png": {
       "height": 263,
       "width": 372
      },
      "needs_background": "light"
     },
     "output_type": "display_data"
    }
   ],
   "source": [
    "p = np.array([0, 1, 0, 0, 0, 0, 0, 0, 0, 0])\n",
    "q = np.array([0.4, 0.5, 0.0125, 0.0125, 0.0125, 0.0125, 0.0125, 0.0125, 0.0125, 0.0125])\n",
    "\n",
    "assert len(p) == len(q)\n",
    "assert np.sum(p) == 1\n",
    "assert np.sum(q) == 1\n",
    "\n",
    "ce = cross_entropy(p, q)\n",
    "bdc = binary_discrimination_constraint(p, q)\n",
    "bec = binary_exclusion_constraint(p, q)\n",
    "tl = total_loss(p, q)\n",
    "\n",
    "\n",
    "plt.bar(x=np.arange(0, len(p)), height=p, alpha=0.5, label='p')\n",
    "plt.bar(x=np.arange(0, len(q)), height=q, alpha=0.5, label='q')\n",
    "plt.title(f'CE: {ce:.3f}, BDC: {bdc:.3f}, BEC: {bec:.3f}, Total loss: {tl:.3f}')\n",
    "plt.legend();\n",
    "\n"
   ]
  },
  {
   "cell_type": "code",
   "execution_count": 109,
   "metadata": {},
   "outputs": [],
   "source": [
    "import numpy as np\n",
    "\n",
    "def cross_entropy(p, q):\n",
    "    return -np.sum(p * np.log(q))\n",
    "\n",
    "def kl_div(p, q):\n",
    "    return np.sum(np.where(p != 0, p * np.log(p / q), 0))\n",
    "\n",
    "\n",
    "true_distribution = np.array([0, 1, 0, 0]) # class was b\n",
    "estimated_distribution = np.array([0.2, 0.5, 0.2, 0.1]) "
   ]
  },
  {
   "cell_type": "code",
   "execution_count": 110,
   "metadata": {},
   "outputs": [
    {
     "data": {
      "text/plain": [
       "0.6931471805599453"
      ]
     },
     "execution_count": 110,
     "metadata": {},
     "output_type": "execute_result"
    }
   ],
   "source": [
    "cross_entropy(true_distribution, estimated_distribution)"
   ]
  },
  {
   "cell_type": "code",
   "execution_count": 111,
   "metadata": {},
   "outputs": [
    {
     "name": "stderr",
     "output_type": "stream",
     "text": [
      "/var/folders/bf/ytfysjqx15v252xy049gw1qm0000gn/T/ipykernel_38924/3962786322.py:7: RuntimeWarning: divide by zero encountered in log\n",
      "  return np.sum(np.where(p != 0, p * np.log(p / q), 0))\n",
      "/var/folders/bf/ytfysjqx15v252xy049gw1qm0000gn/T/ipykernel_38924/3962786322.py:7: RuntimeWarning: invalid value encountered in multiply\n",
      "  return np.sum(np.where(p != 0, p * np.log(p / q), 0))\n"
     ]
    },
    {
     "data": {
      "text/plain": [
       "0.6931471805599453"
      ]
     },
     "execution_count": 111,
     "metadata": {},
     "output_type": "execute_result"
    }
   ],
   "source": [
    "kl_div(true_distribution, estimated_distribution)"
   ]
  },
  {
   "cell_type": "code",
   "execution_count": null,
   "metadata": {},
   "outputs": [],
   "source": []
  }
 ],
 "metadata": {
  "kernelspec": {
   "display_name": "Python 3.9.15 ('venv': venv)",
   "language": "python",
   "name": "python3"
  },
  "language_info": {
   "codemirror_mode": {
    "name": "ipython",
    "version": 3
   },
   "file_extension": ".py",
   "mimetype": "text/x-python",
   "name": "python",
   "nbconvert_exporter": "python",
   "pygments_lexer": "ipython3",
   "version": "3.9.15 (main, Oct 11 2022, 21:39:54) \n[Clang 14.0.0 (clang-1400.0.29.102)]"
  },
  "orig_nbformat": 4,
  "vscode": {
   "interpreter": {
    "hash": "49c53874e9fa1298744221c223e71dba401254bf6080a7ded89e731b1d76ec31"
   }
  }
 },
 "nbformat": 4,
 "nbformat_minor": 2
}
