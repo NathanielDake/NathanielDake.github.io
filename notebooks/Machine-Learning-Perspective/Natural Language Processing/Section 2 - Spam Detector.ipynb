{
 "cells": [
  {
   "cell_type": "markdown",
   "metadata": {},
   "source": [
    "# Build your own spam detector\n",
    "* A lot of NLP is just pre-processing data, so we can use ML algorithms we already know\n",
    "    * how do we take a bunch of documents which are basically a bunch of text, and feed them into other machine learning algorithms where the input is usually a vector of numbers \n",
    "* You can choose ANY ML algorithm as long as you can make the data fit\n",
    "\n",
    "# Pre-processing\n",
    "* How was the data set that we are going to be using pre processed? \n",
    "* the data can be found here: https://archive.ics.uci.edu/ml/datasets/Spambase\n",
    "* Columns 1-48 are considered the input, and it is a **word frequency measure**\n",
    "    * number of times a word appears in a document, divided by the number of words in a document times 100\n",
    "* Last column is a label\n",
    "    * 1 = spam, 0 = not spam\n",
    "* this is one example of a **term document matrix** \n",
    "    * terms go along columns, documents (aka emails) go along rows"
   ]
  },
  {
   "cell_type": "markdown",
   "metadata": {},
   "source": [
    "# Spam Detector in Code\n",
    "* we are going to use Naive Bayes to complete this task"
   ]
  },
  {
   "cell_type": "code",
   "execution_count": 5,
   "metadata": {
    "collapsed": true
   },
   "outputs": [],
   "source": [
    "from sklearn.naive_bayes import MultinomialNB\n",
    "import pandas as pd\n",
    "import numpy as np"
   ]
  },
  {
   "cell_type": "code",
   "execution_count": 13,
   "metadata": {},
   "outputs": [
    {
     "name": "stdout",
     "output_type": "stream",
     "text": [
      "Classifcation Rate for NB:  0.9\n"
     ]
    }
   ],
   "source": [
    "data = pd.read_csv('data/spambase.data').as_matrix()\n",
    "np.random.shuffle(data)    # randomly split data into train and test sets\n",
    "\n",
    "X = data[:, :48]\n",
    "Y = data[:, -1]\n",
    "\n",
    "Xtrain = X[:-100,]\n",
    "Ytrain = Y[:-100,]\n",
    "Xtest = X[-100:,]\n",
    "Ytest = Y[-100:,]\n",
    "\n",
    "model = MultinomialNB()\n",
    "model.fit(Xtrain, Ytrain)\n",
    "print (\"Classifcation Rate for NB: \", model.score(Xtest, Ytest))"
   ]
  },
  {
   "cell_type": "code",
   "execution_count": 17,
   "metadata": {},
   "outputs": [
    {
     "name": "stdout",
     "output_type": "stream",
     "text": [
      "Classifcation Rate for Adaboost:  0.95\n"
     ]
    }
   ],
   "source": [
    "from sklearn.ensemble import AdaBoostClassifier\n",
    "\n",
    "model = AdaBoostClassifier()\n",
    "model.fit(Xtrain, Ytrain)\n",
    "print (\"Classifcation Rate for Adaboost: \", model.score(Xtest, Ytest))"
   ]
  },
  {
   "cell_type": "code",
   "execution_count": null,
   "metadata": {
    "collapsed": true
   },
   "outputs": [],
   "source": []
  }
 ],
 "metadata": {
  "kernelspec": {
   "display_name": "Python 3",
   "language": "python3",
   "name": "python3"
  },
  "language_info": {
   "codemirror_mode": {
    "name": "ipython",
    "version": 3
   },
   "file_extension": ".py",
   "mimetype": "text/x-python",
   "name": "python",
   "nbconvert_exporter": "python",
   "pygments_lexer": "ipython3",
   "version": "3.6.5"
  }
 },
 "nbformat": 4,
 "nbformat_minor": 2
}
