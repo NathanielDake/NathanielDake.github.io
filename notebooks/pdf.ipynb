{
 "cells": [
  {
   "cell_type": "code",
   "execution_count": 1,
   "metadata": {},
   "outputs": [
    {
     "name": "stdout",
     "output_type": "stream",
     "text": [
      "Collecting PyMuPDF\n",
      "  Downloading PyMuPDF-1.23.5-cp39-none-macosx_11_0_arm64.whl (3.7 MB)\n",
      "\u001b[2K     \u001b[38;2;114;156;31m━━━━━━━━━━━━━━━━━━━━━━━━━━━━━━━━━━━━━━━━\u001b[0m \u001b[32m3.7/3.7 MB\u001b[0m \u001b[31m16.6 MB/s\u001b[0m eta \u001b[36m0:00:00\u001b[0m31m12.7 MB/s\u001b[0m eta \u001b[36m0:00:01\u001b[0m\n",
      "\u001b[?25hCollecting PyMuPDFb==1.23.5\n",
      "  Downloading PyMuPDFb-1.23.5-py3-none-macosx_11_0_arm64.whl (29.3 MB)\n",
      "\u001b[2K     \u001b[38;2;114;156;31m━━━━━━━━━━━━━━━━━━━━━━━━━━━━━━━━━━━━━━━━\u001b[0m \u001b[32m29.3/29.3 MB\u001b[0m \u001b[31m45.3 MB/s\u001b[0m eta \u001b[36m0:00:00\u001b[0mm eta \u001b[36m0:00:01\u001b[0m[36m0:00:01\u001b[0m\n",
      "\u001b[?25hInstalling collected packages: PyMuPDFb, PyMuPDF\n",
      "Successfully installed PyMuPDF-1.23.5 PyMuPDFb-1.23.5\n",
      "\n",
      "\u001b[1m[\u001b[0m\u001b[34;49mnotice\u001b[0m\u001b[1;39;49m]\u001b[0m\u001b[39;49m A new release of pip available: \u001b[0m\u001b[31;49m22.2.2\u001b[0m\u001b[39;49m -> \u001b[0m\u001b[32;49m23.3.1\u001b[0m\n",
      "\u001b[1m[\u001b[0m\u001b[34;49mnotice\u001b[0m\u001b[1;39;49m]\u001b[0m\u001b[39;49m To update, run: \u001b[0m\u001b[32;49mpip install --upgrade pip\u001b[0m\n"
     ]
    }
   ],
   "source": [
    "!pip install PyMuPDF\n"
   ]
  },
  {
   "cell_type": "code",
   "execution_count": 2,
   "metadata": {},
   "outputs": [
    {
     "data": {
      "text/plain": [
       "'/Users/nathanieldake/development/intuitiveml/notebooks'"
      ]
     },
     "execution_count": 2,
     "metadata": {},
     "output_type": "execute_result"
    }
   ],
   "source": [
    "pwd"
   ]
  },
  {
   "cell_type": "code",
   "execution_count": 3,
   "metadata": {},
   "outputs": [],
   "source": [
    "import os"
   ]
  },
  {
   "cell_type": "code",
   "execution_count": 7,
   "metadata": {},
   "outputs": [],
   "source": [
    "path = '/Users/nathanieldake/downloads/1912.05671.pdf'"
   ]
  },
  {
   "cell_type": "code",
   "execution_count": 8,
   "metadata": {},
   "outputs": [],
   "source": [
    "import fitz"
   ]
  },
  {
   "cell_type": "code",
   "execution_count": 6,
   "metadata": {},
   "outputs": [
    {
     "data": {
      "text/plain": [
       "True"
      ]
     },
     "execution_count": 6,
     "metadata": {},
     "output_type": "execute_result"
    }
   ],
   "source": [
    "'1912.05671.pdf' in os.listdir('/Users/nathanieldake/downloads')"
   ]
  },
  {
   "cell_type": "code",
   "execution_count": 29,
   "metadata": {},
   "outputs": [],
   "source": [
    "def increase_margins(pdf_path, new_pdf_path, margin):\n",
    "    # Open the existing PDF\n",
    "    pdf = fitz.open(pdf_path)\n",
    "    new_pdf = fitz.open()  # Create a new PDF to contain the pages with increased margins\n",
    "\n",
    "    # Loop through each page in the PDF\n",
    "    for page_num in range(len(pdf)):\n",
    "        page = pdf[page_num]\n",
    "\n",
    "        # Create a new PDF page with increased margins\n",
    "        # The new page size is original size plus twice the margin\n",
    "        # new_rect = fitz.Rect(0, 0, page.rect.width + 2 * margin, page.rect.height + 2 * margin)\n",
    "\n",
    "        # Create a new rect with added margins, ensuring it's not too large\n",
    "        new_rect = fitz.Rect(-margin, -margin, page.rect.width + margin, page.rect.height + margin)\n",
    "\n",
    "\n",
    "        # new_page = new_pdf.new_page(width=new_rect.width, height=new_rect.height)\n",
    "\n",
    "\n",
    "        # Instead of creating a new page, you can simply update the existing page size\n",
    "        page.set_cropbox(new_rect)\n",
    "\n",
    "        # Position the old page content in the center of the new page\n",
    "        # new_page.show_pdf_page(new_rect, pdf, page_num, clip=page.rect)\n",
    "\n",
    "    # Save the new PDF to disk\n",
    "    new_pdf.save(new_pdf_path, garbage=4, deflate=True, clean=True)\n",
    "    new_pdf.close()\n",
    "    pdf.close()\n",
    "\n",
    "# Usage\n",
    "original_pdf_path = '/Users/nathanieldake/downloads/1912.05671.pdf' # Path to the original PDF\n",
    "new_pdf_path = '/Users/nathanieldake/downloads/NEW_1912.05671.pdf'   # Path for the new PDF with increased margins\n",
    "margin_size = 1000  # Margin size in points (1 point = 1/72 inch)"
   ]
  },
  {
   "cell_type": "code",
   "execution_count": 31,
   "metadata": {},
   "outputs": [],
   "source": [
    "# increase_margins(original_pdf_path, new_pdf_path, margin_size)"
   ]
  },
  {
   "cell_type": "code",
   "execution_count": 32,
   "metadata": {},
   "outputs": [
    {
     "ename": "ValueError",
     "evalue": "rect not in mediabox",
     "output_type": "error",
     "traceback": [
      "\u001b[0;31m---------------------------------------------------------------------------\u001b[0m",
      "\u001b[0;31mValueError\u001b[0m                                Traceback (most recent call last)",
      "\u001b[0;32m/var/folders/bf/ytfysjqx15v252xy049gw1qm0000gn/T/ipykernel_43996/2588062329.py\u001b[0m in \u001b[0;36m?\u001b[0;34m()\u001b[0m\n\u001b[0;32m---> 30\u001b[0;31m \u001b[0;32mdef\u001b[0m \u001b[0mincrease_margins\u001b[0m\u001b[0;34m(\u001b[0m\u001b[0mpdf_path\u001b[0m\u001b[0;34m,\u001b[0m \u001b[0mmargin\u001b[0m\u001b[0;34m)\u001b[0m\u001b[0;34m:\u001b[0m\u001b[0;34m\u001b[0m\u001b[0;34m\u001b[0m\u001b[0m\n\u001b[0m\u001b[1;32m     31\u001b[0m     \u001b[0;31m# Open the existing PDF\u001b[0m\u001b[0;34m\u001b[0m\u001b[0;34m\u001b[0m\u001b[0m\n\u001b[1;32m     32\u001b[0m     \u001b[0mpdf\u001b[0m \u001b[0;34m=\u001b[0m \u001b[0mfitz\u001b[0m\u001b[0;34m.\u001b[0m\u001b[0mopen\u001b[0m\u001b[0;34m(\u001b[0m\u001b[0mpdf_path\u001b[0m\u001b[0;34m)\u001b[0m\u001b[0;34m\u001b[0m\u001b[0;34m\u001b[0m\u001b[0m\n\u001b[1;32m     33\u001b[0m \u001b[0;34m\u001b[0m\u001b[0m\n",
      "\u001b[0;32m/var/folders/bf/ytfysjqx15v252xy049gw1qm0000gn/T/ipykernel_43996/2588062329.py\u001b[0m in \u001b[0;36m?\u001b[0;34m(pdf_path, margin)\u001b[0m\n\u001b[1;32m     13\u001b[0m         \u001b[0;31m# Negative values increase the rect in that direction\u001b[0m\u001b[0;34m\u001b[0m\u001b[0;34m\u001b[0m\u001b[0m\n\u001b[1;32m     14\u001b[0m         \u001b[0mnew_rect\u001b[0m \u001b[0;34m=\u001b[0m \u001b[0mfitz\u001b[0m\u001b[0;34m.\u001b[0m\u001b[0mRect\u001b[0m\u001b[0;34m(\u001b[0m\u001b[0mrect\u001b[0m\u001b[0;34m.\u001b[0m\u001b[0mx0\u001b[0m \u001b[0;34m-\u001b[0m \u001b[0mmargin\u001b[0m\u001b[0;34m,\u001b[0m \u001b[0mrect\u001b[0m\u001b[0;34m.\u001b[0m\u001b[0my0\u001b[0m \u001b[0;34m-\u001b[0m \u001b[0mmargin\u001b[0m\u001b[0;34m,\u001b[0m \u001b[0mrect\u001b[0m\u001b[0;34m.\u001b[0m\u001b[0mx1\u001b[0m \u001b[0;34m+\u001b[0m \u001b[0mmargin\u001b[0m\u001b[0;34m,\u001b[0m \u001b[0mrect\u001b[0m\u001b[0;34m.\u001b[0m\u001b[0my1\u001b[0m \u001b[0;34m+\u001b[0m \u001b[0mmargin\u001b[0m\u001b[0;34m)\u001b[0m\u001b[0;34m\u001b[0m\u001b[0;34m\u001b[0m\u001b[0m\n\u001b[1;32m     15\u001b[0m \u001b[0;34m\u001b[0m\u001b[0m\n\u001b[1;32m     16\u001b[0m         \u001b[0;31m# Update the page's crop box to increase the margins\u001b[0m\u001b[0;34m\u001b[0m\u001b[0;34m\u001b[0m\u001b[0m\n\u001b[0;32m---> 17\u001b[0;31m         \u001b[0mpage\u001b[0m\u001b[0;34m.\u001b[0m\u001b[0mset_cropbox\u001b[0m\u001b[0;34m(\u001b[0m\u001b[0mnew_rect\u001b[0m\u001b[0;34m)\u001b[0m\u001b[0;34m\u001b[0m\u001b[0;34m\u001b[0m\u001b[0m\n\u001b[0m\u001b[1;32m     18\u001b[0m \u001b[0;34m\u001b[0m\u001b[0m\n\u001b[1;32m     19\u001b[0m     \u001b[0;31m# Save the modified PDF with a new name indicating the change\u001b[0m\u001b[0;34m\u001b[0m\u001b[0;34m\u001b[0m\u001b[0m\n\u001b[1;32m     20\u001b[0m     \u001b[0mnew_pdf_path\u001b[0m \u001b[0;34m=\u001b[0m \u001b[0mpdf_path\u001b[0m\u001b[0;34m.\u001b[0m\u001b[0mreplace\u001b[0m\u001b[0;34m(\u001b[0m\u001b[0;34m'.pdf'\u001b[0m\u001b[0;34m,\u001b[0m \u001b[0;34m'_new_margins.pdf'\u001b[0m\u001b[0;34m)\u001b[0m\u001b[0;34m\u001b[0m\u001b[0;34m\u001b[0m\u001b[0m\n",
      "\u001b[0;32m~/development/intuitiveml/venv/lib/python3.9/site-packages/fitz/fitz.py\u001b[0m in \u001b[0;36m?\u001b[0;34m(self, rect)\u001b[0m\n\u001b[1;32m   6956\u001b[0m     \u001b[0;32mdef\u001b[0m \u001b[0mset_cropbox\u001b[0m\u001b[0;34m(\u001b[0m\u001b[0mself\u001b[0m\u001b[0;34m,\u001b[0m \u001b[0mrect\u001b[0m\u001b[0;34m)\u001b[0m\u001b[0;34m:\u001b[0m\u001b[0;34m\u001b[0m\u001b[0;34m\u001b[0m\u001b[0m\n\u001b[1;32m   6957\u001b[0m         \u001b[0;34m\"\"\"Set the CropBox. Will also change Page.rect.\"\"\"\u001b[0m\u001b[0;34m\u001b[0m\u001b[0;34m\u001b[0m\u001b[0m\n\u001b[0;32m-> 6958\u001b[0;31m         \u001b[0;32mreturn\u001b[0m \u001b[0mself\u001b[0m\u001b[0;34m.\u001b[0m\u001b[0m_set_pagebox\u001b[0m\u001b[0;34m(\u001b[0m\u001b[0;34m\"CropBox\"\u001b[0m\u001b[0;34m,\u001b[0m \u001b[0mrect\u001b[0m\u001b[0;34m)\u001b[0m\u001b[0;34m\u001b[0m\u001b[0;34m\u001b[0m\u001b[0m\n\u001b[0m",
      "\u001b[0;32m~/development/intuitiveml/venv/lib/python3.9/site-packages/fitz/fitz.py\u001b[0m in \u001b[0;36m?\u001b[0;34m(self, boxtype, rect)\u001b[0m\n\u001b[1;32m   6949\u001b[0m         \u001b[0mrect\u001b[0m \u001b[0;34m=\u001b[0m \u001b[0mRect\u001b[0m\u001b[0;34m(\u001b[0m\u001b[0mJM_TUPLE3\u001b[0m\u001b[0;34m(\u001b[0m\u001b[0mrect\u001b[0m\u001b[0;34m)\u001b[0m\u001b[0;34m)\u001b[0m\u001b[0;34m\u001b[0m\u001b[0;34m\u001b[0m\u001b[0m\n\u001b[1;32m   6950\u001b[0m         \u001b[0;32mif\u001b[0m \u001b[0mrect\u001b[0m\u001b[0;34m.\u001b[0m\u001b[0mis_infinite\u001b[0m \u001b[0;32mor\u001b[0m \u001b[0mrect\u001b[0m\u001b[0;34m.\u001b[0m\u001b[0mis_empty\u001b[0m\u001b[0;34m:\u001b[0m\u001b[0;34m\u001b[0m\u001b[0;34m\u001b[0m\u001b[0m\n\u001b[1;32m   6951\u001b[0m             \u001b[0;32mraise\u001b[0m \u001b[0mValueError\u001b[0m\u001b[0;34m(\u001b[0m\u001b[0;34m\"rect is infinite or empty\"\u001b[0m\u001b[0;34m)\u001b[0m\u001b[0;34m\u001b[0m\u001b[0;34m\u001b[0m\u001b[0m\n\u001b[1;32m   6952\u001b[0m         \u001b[0;32mif\u001b[0m \u001b[0mrect\u001b[0m \u001b[0;32mnot\u001b[0m \u001b[0;32min\u001b[0m \u001b[0mmb\u001b[0m\u001b[0;34m:\u001b[0m\u001b[0;34m\u001b[0m\u001b[0;34m\u001b[0m\u001b[0m\n\u001b[0;32m-> 6953\u001b[0;31m             \u001b[0;32mraise\u001b[0m \u001b[0mValueError\u001b[0m\u001b[0;34m(\u001b[0m\u001b[0;34m\"rect not in mediabox\"\u001b[0m\u001b[0;34m)\u001b[0m\u001b[0;34m\u001b[0m\u001b[0;34m\u001b[0m\u001b[0m\n\u001b[0m\u001b[1;32m   6954\u001b[0m         \u001b[0mdoc\u001b[0m\u001b[0;34m.\u001b[0m\u001b[0mxref_set_key\u001b[0m\u001b[0;34m(\u001b[0m\u001b[0mself\u001b[0m\u001b[0;34m.\u001b[0m\u001b[0mxref\u001b[0m\u001b[0;34m,\u001b[0m \u001b[0mboxtype\u001b[0m\u001b[0;34m,\u001b[0m \u001b[0;34m\"[%g %g %g %g]\"\u001b[0m \u001b[0;34m%\u001b[0m \u001b[0mtuple\u001b[0m\u001b[0;34m(\u001b[0m\u001b[0mrect\u001b[0m\u001b[0;34m)\u001b[0m\u001b[0;34m)\u001b[0m\u001b[0;34m\u001b[0m\u001b[0;34m\u001b[0m\u001b[0m\n",
      "\u001b[0;31mValueError\u001b[0m: rect not in mediabox"
     ]
    }
   ],
   "source": [
    "def increase_margins(pdf_path, margin):\n",
    "    # Open the existing PDF\n",
    "    pdf = fitz.open(pdf_path)\n",
    "\n",
    "    # Loop through each page in the PDF\n",
    "    for page_num in range(len(pdf)):\n",
    "        page = pdf[page_num]\n",
    "\n",
    "        # Get the current page's dimensions\n",
    "        rect = page.rect\n",
    "\n",
    "        # Create a new rect with added margins\n",
    "        # Negative values increase the rect in that direction\n",
    "        new_rect = fitz.Rect(rect.x0 - margin, rect.y0 - margin, rect.x1 + margin, rect.y1 + margin)\n",
    "\n",
    "        # Update the page's crop box to increase the margins\n",
    "        page.set_cropbox(new_rect)\n",
    "\n",
    "    # Save the modified PDF with a new name indicating the change\n",
    "    new_pdf_path = pdf_path.replace('.pdf', '_new_margins.pdf')\n",
    "    pdf.save(new_pdf_path)\n",
    "    pdf.close()\n",
    "\n",
    "    print(f\"Saved the PDF with increased margins as {new_pdf_path}\")\n",
    "\n",
    "# Usage\n",
    "original_pdf_path = '/Users/nathanieldake/downloads/1912.05671.pdf'   # Path to the original PDF\n",
    "margin_size = 50  # Margin size in points (1 point = 1/72 inch)\n",
    "\n",
    "increase_margins(original_pdf_path, margin_size)\n",
    "\n",
    "\n",
    "\n"
   ]
  },
  {
   "cell_type": "code",
   "execution_count": 33,
   "metadata": {},
   "outputs": [
    {
     "ename": "AttributeError",
     "evalue": "'Page' object has no attribute 'MediaBox'",
     "output_type": "error",
     "traceback": [
      "\u001b[0;31m---------------------------------------------------------------------------\u001b[0m",
      "\u001b[0;31mAttributeError\u001b[0m                            Traceback (most recent call last)",
      "\u001b[1;32m/Users/nathanieldake/development/intuitiveml/notebooks/pdf.ipynb Cell 10\u001b[0m line \u001b[0;36m3\n\u001b[1;32m     <a href='vscode-notebook-cell:/Users/nathanieldake/development/intuitiveml/notebooks/pdf.ipynb#X12sZmlsZQ%3D%3D?line=30'>31</a>\u001b[0m original_pdf_path \u001b[39m=\u001b[39m \u001b[39m'\u001b[39m\u001b[39m/Users/nathanieldake/downloads/1912.05671.pdf\u001b[39m\u001b[39m'\u001b[39m   \u001b[39m# Path to the original PDF\u001b[39;00m\n\u001b[1;32m     <a href='vscode-notebook-cell:/Users/nathanieldake/development/intuitiveml/notebooks/pdf.ipynb#X12sZmlsZQ%3D%3D?line=31'>32</a>\u001b[0m margin_size \u001b[39m=\u001b[39m \u001b[39m50\u001b[39m  \u001b[39m# Margin size in points (1 point = 1/72 inch)\u001b[39;00m\n\u001b[0;32m---> <a href='vscode-notebook-cell:/Users/nathanieldake/development/intuitiveml/notebooks/pdf.ipynb#X12sZmlsZQ%3D%3D?line=33'>34</a>\u001b[0m increase_margins(original_pdf_path, margin_size)\n",
      "\u001b[1;32m/Users/nathanieldake/development/intuitiveml/notebooks/pdf.ipynb Cell 10\u001b[0m line \u001b[0;36m1\n\u001b[1;32m      <a href='vscode-notebook-cell:/Users/nathanieldake/development/intuitiveml/notebooks/pdf.ipynb#X12sZmlsZQ%3D%3D?line=6'>7</a>\u001b[0m page \u001b[39m=\u001b[39m pdf[page_num]\n\u001b[1;32m      <a href='vscode-notebook-cell:/Users/nathanieldake/development/intuitiveml/notebooks/pdf.ipynb#X12sZmlsZQ%3D%3D?line=8'>9</a>\u001b[0m \u001b[39m# Increase the media box size to add margins\u001b[39;00m\n\u001b[1;32m     <a href='vscode-notebook-cell:/Users/nathanieldake/development/intuitiveml/notebooks/pdf.ipynb#X12sZmlsZQ%3D%3D?line=9'>10</a>\u001b[0m \u001b[39m# Get the current page's dimensions\u001b[39;00m\n\u001b[0;32m---> <a href='vscode-notebook-cell:/Users/nathanieldake/development/intuitiveml/notebooks/pdf.ipynb#X12sZmlsZQ%3D%3D?line=10'>11</a>\u001b[0m media_box \u001b[39m=\u001b[39m page\u001b[39m.\u001b[39;49mMediaBox\n\u001b[1;32m     <a href='vscode-notebook-cell:/Users/nathanieldake/development/intuitiveml/notebooks/pdf.ipynb#X12sZmlsZQ%3D%3D?line=12'>13</a>\u001b[0m \u001b[39m# Calculate the new media box size\u001b[39;00m\n\u001b[1;32m     <a href='vscode-notebook-cell:/Users/nathanieldake/development/intuitiveml/notebooks/pdf.ipynb#X12sZmlsZQ%3D%3D?line=13'>14</a>\u001b[0m new_media_box \u001b[39m=\u001b[39m fitz\u001b[39m.\u001b[39mRect(media_box[\u001b[39m0\u001b[39m] \u001b[39m-\u001b[39m margin, media_box[\u001b[39m1\u001b[39m] \u001b[39m-\u001b[39m margin, \n\u001b[1;32m     <a href='vscode-notebook-cell:/Users/nathanieldake/development/intuitiveml/notebooks/pdf.ipynb#X12sZmlsZQ%3D%3D?line=14'>15</a>\u001b[0m                           media_box[\u001b[39m2\u001b[39m] \u001b[39m+\u001b[39m margin, media_box[\u001b[39m3\u001b[39m] \u001b[39m+\u001b[39m margin)\n",
      "\u001b[0;31mAttributeError\u001b[0m: 'Page' object has no attribute 'MediaBox'"
     ]
    }
   ],
   "source": [
    "def increase_margins(pdf_path, margin):\n",
    "    # Open the existing PDF\n",
    "    pdf = fitz.open(pdf_path)\n",
    "\n",
    "    # Loop through each page in the PDF\n",
    "    for page_num in range(len(pdf)):\n",
    "        page = pdf[page_num]\n",
    "\n",
    "        # Increase the media box size to add margins\n",
    "        # Get the current page's dimensions\n",
    "        media_box = page.MediaBox\n",
    "\n",
    "        # Calculate the new media box size\n",
    "        new_media_box = fitz.Rect(media_box[0] - margin, media_box[1] - margin, \n",
    "                                  media_box[2] + margin, media_box[3] + margin)\n",
    "        \n",
    "        # Update the page's media box\n",
    "        page.set_mediabox(new_media_box)\n",
    "\n",
    "        # Optionally, you can also define a new crop box within this media box if needed\n",
    "        # page.set_cropbox(new_media_box)\n",
    "\n",
    "    # Save the modified PDF with a new name indicating the change\n",
    "    new_pdf_path = pdf_path.replace('.pdf', '_new_margins.pdf')\n",
    "    pdf.save(new_pdf_path)\n",
    "    pdf.close()\n",
    "\n",
    "    print(f\"Saved the PDF with increased margins as {new_pdf_path}\")\n",
    "\n",
    "# Usage\n",
    "original_pdf_path = '/Users/nathanieldake/downloads/1912.05671.pdf'   # Path to the original PDF\n",
    "margin_size = 50  # Margin size in points (1 point = 1/72 inch)\n",
    "\n",
    "increase_margins(original_pdf_path, margin_size)"
   ]
  },
  {
   "cell_type": "code",
   "execution_count": null,
   "metadata": {},
   "outputs": [],
   "source": []
  }
 ],
 "metadata": {
  "kernelspec": {
   "display_name": "venv",
   "language": "python",
   "name": "python3"
  },
  "language_info": {
   "codemirror_mode": {
    "name": "ipython",
    "version": 3
   },
   "file_extension": ".py",
   "mimetype": "text/x-python",
   "name": "python",
   "nbconvert_exporter": "python",
   "pygments_lexer": "ipython3",
   "version": "3.9.17"
  }
 },
 "nbformat": 4,
 "nbformat_minor": 2
}
