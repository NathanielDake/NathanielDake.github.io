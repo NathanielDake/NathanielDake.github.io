{
 "cells": [
  {
   "cell_type": "code",
   "execution_count": 1,
   "metadata": {},
   "outputs": [],
   "source": [
    "a = \"flying fish flew by the space station\"\n",
    "b = \"we will not allow you to bring your pet armadillo along\"\n",
    "c = \"he figured a few sticks of dynamite were easier than a fishing pole to catch fish\""
   ]
  },
  {
   "cell_type": "code",
   "execution_count": 3,
   "metadata": {},
   "outputs": [],
   "source": [
    "def shingle(text: str, k: int):\n",
    "    shingle_set = []\n",
    "    for i in range(len(text) - k + 1):\n",
    "        shingle_set.append(text[i: i+k]) \n",
    "    return set(shingle_set)"
   ]
  },
  {
   "cell_type": "code",
   "execution_count": 6,
   "metadata": {},
   "outputs": [],
   "source": [
    "k = 2\n",
    "a = shingle(a, k=k)\n",
    "b = shingle(b, k=k)\n",
    "c = shingle(c, k=k)"
   ]
  },
  {
   "cell_type": "code",
   "execution_count": 14,
   "metadata": {},
   "outputs": [
    {
     "name": "stdout",
     "output_type": "stream",
     "text": [
      "102\n"
     ]
    }
   ],
   "source": [
    "vocab = list(a.union(b).union(c))\n",
    "print(len(vocab))"
   ]
  },
  {
   "cell_type": "code",
   "execution_count": 12,
   "metadata": {},
   "outputs": [],
   "source": [
    "a_1hot = [1 if x in a else 0 for x in vocab]\n",
    "b_1hot = [1 if x in b else 0 for x in vocab]\n",
    "c_1hot = [1 if x in c else 0 for x in vocab]"
   ]
  },
  {
   "cell_type": "code",
   "execution_count": 15,
   "metadata": {},
   "outputs": [
    {
     "name": "stdout",
     "output_type": "stream",
     "text": [
      "[1, 2, 3, 4, 5, 6, 7, 8, 9, 10, 11, 12, 13, 14, 15, 16, 17, 18, 19, 20, 21, 22, 23, 24, 25, 26, 27, 28, 29, 30, 31, 32, 33, 34, 35, 36, 37, 38, 39, 40, 41, 42, 43, 44, 45, 46, 47, 48, 49, 50, 51, 52, 53, 54, 55, 56, 57, 58, 59, 60, 61, 62, 63, 64, 65, 66, 67, 68, 69, 70, 71, 72, 73, 74, 75, 76, 77, 78, 79, 80, 81, 82, 83, 84, 85, 86, 87, 88, 89, 90, 91, 92, 93, 94, 95, 96, 97, 98, 99, 100, 101, 102]\n"
     ]
    }
   ],
   "source": [
    "hash_ex = list(range(1, len(vocab) + 1))\n",
    "print(hash_ex)"
   ]
  },
  {
   "cell_type": "code",
   "execution_count": 16,
   "metadata": {},
   "outputs": [],
   "source": [
    "from random import shuffle"
   ]
  },
  {
   "cell_type": "code",
   "execution_count": 19,
   "metadata": {},
   "outputs": [
    {
     "name": "stdout",
     "output_type": "stream",
     "text": [
      "[16, 76, 54, 61, 1, 26, 34, 67, 72, 13, 19, 99, 44, 25, 101, 74, 28, 66, 14, 40, 43, 70, 88, 15, 65, 4, 60, 84, 35, 89, 32, 51, 69, 27, 85, 73, 39, 7, 58, 63, 38, 47, 64, 91, 10, 49, 94, 2, 96, 46, 62, 68, 56, 79, 24, 55, 53, 30, 80, 95, 20, 59, 9, 82, 18, 8, 71, 11, 50, 100, 97, 75, 90, 6, 87, 93, 86, 12, 57, 23, 29, 81, 37, 83, 41, 77, 42, 21, 5, 33, 3, 31, 52, 36, 92, 78, 98, 22, 48, 45, 102, 17]\n"
     ]
    }
   ],
   "source": [
    "shuffle(hash_ex)\n",
    "print(hash_ex)"
   ]
  },
  {
   "cell_type": "code",
   "execution_count": 20,
   "metadata": {},
   "outputs": [
    {
     "name": "stdout",
     "output_type": "stream",
     "text": [
      "1 -> 4\n",
      "2 -> 47\n",
      "3 -> 90\n",
      "4 -> 25\n",
      "5 -> 88\n",
      "6 -> 73\n",
      "7 -> 37\n",
      "8 -> 65\n",
      "9 -> 62\n"
     ]
    }
   ],
   "source": [
    "for i in range(1, 10): \n",
    "    print(f\"{i} -> {hash_ex.index(i)}\")"
   ]
  },
  {
   "cell_type": "code",
   "execution_count": 23,
   "metadata": {},
   "outputs": [
    {
     "name": "stdout",
     "output_type": "stream",
     "text": [
      "1 -> 4 -> 1\n",
      "match!\n"
     ]
    }
   ],
   "source": [
    "for i in range(1, 10): \n",
    "    idx = hash_ex.index(i)\n",
    "    signature_val = a_1hot[idx]\n",
    "    print(f\"{i} -> {idx} -> {signature_val}\")\n",
    "\n",
    "    if signature_val == 1:\n",
    "        print('match!')\n",
    "        break"
   ]
  },
  {
   "cell_type": "code",
   "execution_count": 22,
   "metadata": {},
   "outputs": [
    {
     "data": {
      "text/plain": [
       "[1,\n",
       " 1,\n",
       " 1,\n",
       " 0,\n",
       " 1,\n",
       " 1,\n",
       " 0,\n",
       " 0,\n",
       " 0,\n",
       " 0,\n",
       " 1,\n",
       " 0,\n",
       " 1,\n",
       " 0,\n",
       " 0,\n",
       " 0,\n",
       " 1,\n",
       " 0,\n",
       " 0,\n",
       " 0,\n",
       " 0,\n",
       " 1,\n",
       " 0,\n",
       " 0,\n",
       " 0,\n",
       " 1,\n",
       " 1,\n",
       " 0,\n",
       " 0,\n",
       " 0,\n",
       " 1,\n",
       " 1,\n",
       " 1,\n",
       " 1,\n",
       " 1,\n",
       " 0,\n",
       " 0,\n",
       " 0,\n",
       " 0,\n",
       " 0,\n",
       " 0,\n",
       " 0,\n",
       " 0,\n",
       " 1,\n",
       " 0,\n",
       " 0,\n",
       " 0,\n",
       " 0,\n",
       " 1,\n",
       " 0,\n",
       " 0,\n",
       " 0,\n",
       " 0,\n",
       " 1,\n",
       " 0,\n",
       " 0,\n",
       " 0,\n",
       " 1,\n",
       " 0,\n",
       " 0,\n",
       " 0,\n",
       " 1,\n",
       " 0,\n",
       " 0,\n",
       " 1,\n",
       " 0,\n",
       " 0,\n",
       " 0,\n",
       " 0,\n",
       " 1,\n",
       " 1,\n",
       " 0,\n",
       " 0,\n",
       " 0,\n",
       " 1,\n",
       " 0,\n",
       " 1,\n",
       " 1,\n",
       " 0,\n",
       " 1,\n",
       " 0,\n",
       " 0,\n",
       " 0,\n",
       " 0,\n",
       " 0,\n",
       " 1,\n",
       " 0,\n",
       " 1,\n",
       " 0,\n",
       " 0,\n",
       " 1,\n",
       " 0,\n",
       " 0,\n",
       " 0,\n",
       " 0,\n",
       " 0,\n",
       " 0,\n",
       " 0,\n",
       " 1,\n",
       " 0,\n",
       " 0,\n",
       " 0]"
      ]
     },
     "execution_count": 22,
     "metadata": {},
     "output_type": "execute_result"
    }
   ],
   "source": [
    "a_1hot"
   ]
  },
  {
   "cell_type": "code",
   "execution_count": null,
   "metadata": {},
   "outputs": [],
   "source": []
  }
 ],
 "metadata": {
  "kernelspec": {
   "display_name": "venv",
   "language": "python",
   "name": "python3"
  },
  "language_info": {
   "codemirror_mode": {
    "name": "ipython",
    "version": 3
   },
   "file_extension": ".py",
   "mimetype": "text/x-python",
   "name": "python",
   "nbconvert_exporter": "python",
   "pygments_lexer": "ipython3",
   "version": "3.9.15"
  },
  "orig_nbformat": 4,
  "vscode": {
   "interpreter": {
    "hash": "49c53874e9fa1298744221c223e71dba401254bf6080a7ded89e731b1d76ec31"
   }
  }
 },
 "nbformat": 4,
 "nbformat_minor": 2
}
