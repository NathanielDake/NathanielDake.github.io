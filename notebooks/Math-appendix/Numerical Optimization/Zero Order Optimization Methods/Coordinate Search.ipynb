{
 "cells": [
  {
   "cell_type": "markdown",
   "metadata": {},
   "source": [
    "# Coordinate Search\n",
    "The coordinate search and descent algorithms are additional zero order local methods that get around the inherent scaling issues of random local search by restricting the set of search directions to the coordinate axes of the input space. With coordinate wise algorithms we attempt to minimize such a function with respect to one coordinate or weight at a time - or more generally one subset of coordinates or weights at a time - keeping all others fixed."
   ]
  },
  {
   "cell_type": "code",
   "execution_count": 160,
   "metadata": {
    "collapsed": true
   },
   "outputs": [],
   "source": [
    "import numpy as np"
   ]
  },
  {
   "cell_type": "code",
   "execution_count": 161,
   "metadata": {
    "collapsed": true
   },
   "outputs": [],
   "source": [
    "def coordinate_search(g, alpha_choice, max_iter, w):\n",
    "  \"Coordinate Search function.\"\n",
    "  # Construct set of all coordinate directions\n",
    "  directions_positive = np.eye(np.size(w), np.size(w))\n",
    "  directions_negative = -np.eye(np.size(w), np.size(w))\n",
    "  directions = np.concatenate((directions_positive, directions_negative), axis=0)\n",
    "  \n",
    "  # Run coordinate search\n",
    "  weight_history = []\n",
    "  cost_history = []\n",
    "  alpha = 0\n",
    "  for k in range(1, max_iter + 1):\n",
    "    # check if diminishing steplength rule is used\n",
    "    alpha = 1 / float(k) if (alpha_choice == 'diminishing') else alpha_choice\n",
    "    \n",
    "    # Record weights and cost evaluation\n",
    "    weight_history.append(w)\n",
    "    cost_history.append(g(w))\n",
    "    \n",
    "    # --- Pick the best descent direction ---\n",
    "    # Compute all new candidate points\n",
    "    w_candidates = w + alpha * directions \n",
    "    \n",
    "    # Evalutate all new candidates \n",
    "    evals = np.array([g(w_val) for w_val in w_candidates])\n",
    "    \n",
    "    # If we find a real descent direction, take step in its direction\n",
    "    ind = np.argmin(evals)\n",
    "    if evals[ind] < g(w):\n",
    "      d = directions[ind, :] # Grab best descent direction \n",
    "      w = w + alpha * d      # Take step\n",
    "      \n",
    "  # Record weights and cost evaluation \n",
    "  weight_history.append(w)\n",
    "  cost_history.append(g(w))\n",
    "  return weight_history, cost_history                   "
   ]
  },
  {
   "cell_type": "markdown",
   "metadata": {},
   "source": [
    "## Run coordinate search"
   ]
  },
  {
   "cell_type": "code",
   "execution_count": 162,
   "metadata": {
    "collapsed": true
   },
   "outputs": [],
   "source": [
    "# Define function\n",
    "g = lambda w: np.dot(w.T,w) + 2\n",
    "\n",
    "# Run coordinate search algorithm \n",
    "alpha_choice = 1\n",
    "w = np.array([3,4])\n",
    "max_its = 7\n",
    "\n",
    "weight_history, cost_history = coordinate_search(g,alpha_choice,max_its,w)"
   ]
  },
  {
   "cell_type": "code",
   "execution_count": 163,
   "metadata": {
    "collapsed": true
   },
   "outputs": [],
   "source": [
    "import seaborn as sns\n",
    "import matplotlib.pyplot as plt\n",
    "%matplotlib inline\n",
    "\n",
    "# Seaborn Plot Styling\n",
    "sns.set(style=\"white\", palette=\"husl\")\n",
    "sns.set_context(\"poster\")\n",
    "sns.set_style(\"ticks\")"
   ]
  },
  {
   "cell_type": "code",
   "execution_count": 164,
   "metadata": {},
   "outputs": [],
   "source": [
    "w0 = list(map(lambda weights: weights[0], weight_history))\n",
    "w1 = list(map(lambda weights: weights[0], weight_history))"
   ]
  },
  {
   "cell_type": "code",
   "execution_count": 165,
   "metadata": {},
   "outputs": [
    {
     "data": {
      "text/plain": [
       "[<matplotlib.lines.Line2D at 0x116bb95f8>]"
      ]
     },
     "execution_count": 165,
     "metadata": {},
     "output_type": "execute_result"
    },
    {
     "data": {
      "image/png": "[encoded data removed]",
      "text/plain": [
       "<matplotlib.figure.Figure at 0x1169f48d0>"
      ]
     },
     "metadata": {},
     "output_type": "display_data"
    }
   ],
   "source": [
    "plt.plot(w0)"
   ]
  },
  {
   "cell_type": "code",
   "execution_count": 166,
   "metadata": {},
   "outputs": [
    {
     "data": {
      "text/plain": [
       "[<matplotlib.lines.Line2D at 0x116c9eb00>]"
      ]
     },
     "execution_count": 166,
     "metadata": {},
     "output_type": "execute_result"
    },
    {
     "data": {
      "image/png": "[encoded data removed]",
      "text/plain": [
       "<matplotlib.figure.Figure at 0x1169fb048>"
      ]
     },
     "metadata": {},
     "output_type": "display_data"
    }
   ],
   "source": [
    "plt.plot(w1)"
   ]
  },
  {
   "cell_type": "code",
   "execution_count": 167,
   "metadata": {},
   "outputs": [
    {
     "data": {
      "text/plain": [
       "[<matplotlib.lines.Line2D at 0x116d34470>]"
      ]
     },
     "execution_count": 167,
     "metadata": {},
     "output_type": "execute_result"
    },
    {
     "data": {
      "image/png": "[encoded data removed]",
      "text/plain": [
       "<matplotlib.figure.Figure at 0x116cba908>"
      ]
     },
     "metadata": {},
     "output_type": "display_data"
    }
   ],
   "source": [
    "plt.plot(cost_history)"
   ]
  },
  {
   "cell_type": "markdown",
   "metadata": {},
   "source": [
    "---\n",
    "\n",
    "# Zero Order Coordinate Descent\n",
    "A slight twist on the coordinate search produces a much more effective algorithm at precisely the same computational cost. Instead of collecting each coordinate direction (along with its negative), and then choosing a single best direction from this entire set, we can simply examine one coordinate direction (and its negative) at a time and step in this direction if it produces descent."
   ]
  },
  {
   "cell_type": "code",
   "execution_count": 192,
   "metadata": {
    "collapsed": true
   },
   "outputs": [],
   "source": [
    "def coordinate_descent_zero_order(g, alpha_choice, max_iter, w):\n",
    "  \"Zero order coordinate descent function\"\n",
    "  N = np.size(w)\n",
    "  weight_history = []\n",
    "  cost_history = []\n",
    "  alpha = 0\n",
    "  \n",
    "  for k in range(1, max_iter + 1):\n",
    "    # check if diminishing steplength rule is used\n",
    "    alpha = 1 / float(k) if (alpha_choice == 'diminishing') else alpha_choice\n",
    "    \n",
    "    # Random shuffle of coordinates\n",
    "    c = np.random.permutation(N)\n",
    "    \n",
    "    # Form the direction matrix out of the loop\n",
    "    cost = g(w)\n",
    "    \n",
    "    # Loop over each coordinate direction\n",
    "    for n in range(N):\n",
    "      direction = np.zeros((N, 1)).flatten()\n",
    "      direction[c[n]] = 1 \n",
    "      \n",
    "      # Record weights and cost evaluation \n",
    "      weight_history.append(w)\n",
    "      cost_history.append(cost)\n",
    "      \n",
    "      # Evaluate all candidates\n",
    "      evals = [g(w + alpha * direction)]\n",
    "      evals.append(g(w - alpha * direction))\n",
    "      evals = np.array(evals)\n",
    "\n",
    "      # If we find a real descent direction, take step in its direction\n",
    "      ind = np.argmin(evals)\n",
    "      if evals[ind] < cost_history[-1]:\n",
    "        # Take step\n",
    "        w = w + ((-1) ** (ind)) * alpha * direction \n",
    "        cost = evals[ind]\n",
    "        \n",
    "  # record weights and cost evaluation\n",
    "  weight_history.append(w)\n",
    "  cost_history.append(g(w))\n",
    "  return weight_history,cost_history"
   ]
  },
  {
   "cell_type": "code",
   "execution_count": 193,
   "metadata": {},
   "outputs": [],
   "source": [
    "# define function\n",
    "g = lambda w: 0.26*(w[0]**2 + w[1]**2) - 0.48*w[0]*w[1]\n",
    "\n",
    "# run coordinate descent algorithm\n",
    "alpha_choice = 'diminishing'\n",
    "w = np.array([3,4])\n",
    "max_its = 40\n",
    "\n",
    "weight_history, cost_history = coordinate_descent_zero_order(g,alpha_choice,max_its,w)"
   ]
  },
  {
   "cell_type": "code",
   "execution_count": 194,
   "metadata": {
    "collapsed": true
   },
   "outputs": [],
   "source": [
    "w0 = list(map(lambda weights: weights[0], weight_history))\n",
    "w1 = list(map(lambda weights: weights[0], weight_history))"
   ]
  },
  {
   "cell_type": "code",
   "execution_count": 195,
   "metadata": {},
   "outputs": [
    {
     "data": {
      "text/plain": [
       "[<matplotlib.lines.Line2D at 0x1174f1eb8>]"
      ]
     },
     "execution_count": 195,
     "metadata": {},
     "output_type": "execute_result"
    },
    {
     "data": {
      "image/png": "[encoded data removed]",
      "text/plain": [
       "<matplotlib.figure.Figure at 0x117319c88>"
      ]
     },
     "metadata": {},
     "output_type": "display_data"
    }
   ],
   "source": [
    "plt.plot(w0)"
   ]
  },
  {
   "cell_type": "code",
   "execution_count": 196,
   "metadata": {},
   "outputs": [
    {
     "data": {
      "text/plain": [
       "[<matplotlib.lines.Line2D at 0x1175e1048>]"
      ]
     },
     "execution_count": 196,
     "metadata": {},
     "output_type": "execute_result"
    },
    {
     "data": {
      "image/png": "[encoded data removed]",
      "text/plain": [
       "<matplotlib.figure.Figure at 0x117512d30>"
      ]
     },
     "metadata": {},
     "output_type": "display_data"
    }
   ],
   "source": [
    "plt.plot(w1)"
   ]
  },
  {
   "cell_type": "code",
   "execution_count": 197,
   "metadata": {},
   "outputs": [
    {
     "data": {
      "text/plain": [
       "[<matplotlib.lines.Line2D at 0x1176caeb8>]"
      ]
     },
     "execution_count": 197,
     "metadata": {},
     "output_type": "execute_result"
    },
    {
     "data": {
      "image/png": "[encoded data removed]",
      "text/plain": [
       "<matplotlib.figure.Figure at 0x1175e98d0>"
      ]
     },
     "metadata": {},
     "output_type": "display_data"
    }
   ],
   "source": [
    "plt.plot(cost_history)"
   ]
  },
  {
   "cell_type": "code",
   "execution_count": null,
   "metadata": {
    "collapsed": true
   },
   "outputs": [],
   "source": []
  }
 ],
 "metadata": {
  "kernelspec": {
   "display_name": "Python 3",
   "language": "python3",
   "name": "python3"
  },
  "language_info": {
   "codemirror_mode": {
    "name": "ipython",
    "version": 3
   },
   "file_extension": ".py",
   "mimetype": "text/x-python",
   "name": "python",
   "nbconvert_exporter": "python",
   "pygments_lexer": "ipython3",
   "version": "3.6.5"
  }
 },
 "nbformat": 4,
 "nbformat_minor": 2
}
