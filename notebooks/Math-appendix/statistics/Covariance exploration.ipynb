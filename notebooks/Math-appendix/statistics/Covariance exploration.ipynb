{
 "cells": [
  {
   "cell_type": "code",
   "execution_count": 4,
   "metadata": {},
   "outputs": [],
   "source": [
    "import numpy as np\n",
    "import scipy\n",
    "\n",
    "import matplotlib.pyplot as plt"
   ]
  },
  {
   "cell_type": "code",
   "execution_count": 45,
   "metadata": {},
   "outputs": [],
   "source": [
    "x = np.arange(0.1, 20, 0.1)"
   ]
  },
  {
   "cell_type": "code",
   "execution_count": 55,
   "metadata": {},
   "outputs": [],
   "source": [
    "noise = np.random.random(size=x.shape[0])*10\n",
    "y = x**2 + noise \n",
    "# y = np.log(x)\n",
    "# y = np.sin(x)"
   ]
  },
  {
   "cell_type": "code",
   "execution_count": 56,
   "metadata": {},
   "outputs": [
    {
     "data": {
      "text/plain": [
       "array([6.17038494, 5.94007369, 9.54050585, 8.16033384, 3.82519026,\n",
       "       8.71631817, 5.24125996, 1.91360477, 5.05896146, 1.82029496,\n",
       "       0.93367515, 2.47004813, 1.97947504, 5.15321364, 8.72394134,\n",
       "       2.33988938, 6.18803168, 3.47057492, 4.41565359, 2.97346268,\n",
       "       6.618684  , 3.41068809, 5.55559791, 9.10792629, 3.4592036 ,\n",
       "       6.70669019, 9.41863158, 7.45048577, 6.22415521, 8.54157045,\n",
       "       0.33245966, 7.40177047, 0.71206788, 9.27821889, 2.39419592,\n",
       "       8.00281892, 3.05923123, 0.56220889, 8.79491497, 4.09431577,\n",
       "       4.14899558, 3.72548332, 7.63376515, 7.4589512 , 3.6214062 ,\n",
       "       5.43709131, 9.41472506, 3.00743143, 7.55909434, 9.38708596,\n",
       "       6.44128501, 0.43032365, 6.03370019, 5.67345243, 3.26546218,\n",
       "       8.65461907, 2.59458559, 0.3407691 , 5.25821276, 7.94390514,\n",
       "       9.53787423, 7.8155929 , 7.11236714, 7.06051419, 5.37797407,\n",
       "       1.02900371, 7.29025792, 2.00292116, 8.19153064, 1.93620113,\n",
       "       8.01658105, 2.97131796, 7.86393696, 0.82472808, 8.87197151,\n",
       "       9.38615386, 5.21928258, 0.62363815, 0.65378629, 3.88129118,\n",
       "       1.80843287, 5.30566639, 3.0172409 , 6.20628899, 3.88425978,\n",
       "       5.52429286, 3.17651178, 3.59364447, 4.80754012, 4.82361706,\n",
       "       4.59373234, 8.80413647, 5.17544105, 3.16181139, 7.27689888,\n",
       "       6.437134  , 8.29496846, 8.80248331, 8.5810742 , 5.94277056,\n",
       "       5.10799728, 5.52980626, 2.86191455, 4.69159111, 6.34148462,\n",
       "       9.93565378, 1.45779242, 5.5698139 , 9.84419591, 3.9995881 ,\n",
       "       2.40734283, 1.5258754 , 3.34099732, 6.85198661, 7.6296448 ,\n",
       "       6.37065905, 7.78424231, 9.43469761, 2.42584938, 2.4160343 ,\n",
       "       8.49579406, 7.69261649, 5.65608678, 8.50451142, 7.83062982,\n",
       "       0.50740934, 4.66878033, 6.12619587, 7.70544475, 7.64831492,\n",
       "       3.05634993, 4.9771181 , 3.37897347, 0.06996846, 2.65122537,\n",
       "       0.25407958, 1.42210346, 2.49736737, 6.8827899 , 1.83443143,\n",
       "       0.97860222, 0.38096051, 4.78777615, 6.94037452, 7.93829602,\n",
       "       8.79794434, 6.04673683, 8.47950613, 3.25277022, 4.86843802,\n",
       "       6.52580422, 9.42993847, 2.4944331 , 2.26764417, 9.99900797,\n",
       "       1.60985062, 8.296929  , 2.87377842, 7.61074883, 2.02987967,\n",
       "       9.05608946, 2.23876916, 9.57462211, 4.11746656, 5.6853627 ,\n",
       "       9.97270609, 8.30365742, 8.03530655, 6.59524696, 8.09182569,\n",
       "       1.29544803, 8.43120881, 6.38272145, 8.1459788 , 6.16592682,\n",
       "       3.12752152, 7.46209789, 9.8219604 , 5.34301115, 3.63637018,\n",
       "       9.10087706, 0.65459049, 8.41838869, 9.65980351, 5.65341472,\n",
       "       7.3265268 , 4.20608952, 1.54790134, 4.40188798, 5.05802183,\n",
       "       0.96972862, 0.70205987, 9.39626108, 2.66200798, 6.36002845,\n",
       "       1.86344737, 7.48956513, 2.01516848, 0.8586605 ])"
      ]
     },
     "execution_count": 56,
     "metadata": {},
     "output_type": "execute_result"
    }
   ],
   "source": [
    "noise"
   ]
  },
  {
   "cell_type": "code",
   "execution_count": 57,
   "metadata": {},
   "outputs": [
    {
     "data": {
      "text/plain": [
       "<matplotlib.collections.PathCollection at 0x125f642b0>"
      ]
     },
     "execution_count": 57,
     "metadata": {},
     "output_type": "execute_result"
    },
    {
     "data": {
      "image/png": "[encoded data removed]",
      "text/plain": [
       "<Figure size 432x288 with 1 Axes>"
      ]
     },
     "metadata": {
      "needs_background": "light"
     },
     "output_type": "display_data"
    }
   ],
   "source": [
    "plt.scatter(x, y)"
   ]
  },
  {
   "cell_type": "code",
   "execution_count": 58,
   "metadata": {},
   "outputs": [
    {
     "data": {
      "text/plain": [
       "array([[1.        , 0.96840886],\n",
       "       [0.96840886, 1.        ]])"
      ]
     },
     "execution_count": 58,
     "metadata": {},
     "output_type": "execute_result"
    }
   ],
   "source": [
    "np.corrcoef(x,y)"
   ]
  },
  {
   "cell_type": "code",
   "execution_count": 85,
   "metadata": {},
   "outputs": [
    {
     "data": {
      "text/plain": [
       "array([[   33.16666667,   663.43553438],\n",
       "       [  663.43553438, 14150.70640706]])"
      ]
     },
     "execution_count": 85,
     "metadata": {},
     "output_type": "execute_result"
    }
   ],
   "source": [
    "cov = np.cov(x,y)\n",
    "cov"
   ]
  },
  {
   "cell_type": "code",
   "execution_count": 87,
   "metadata": {},
   "outputs": [
    {
     "data": {
      "text/plain": [
       "array([   33.16666667, 14150.70640706])"
      ]
     },
     "execution_count": 87,
     "metadata": {},
     "output_type": "execute_result"
    }
   ],
   "source": [
    "d = np.diag(cov)\n",
    "d"
   ]
  },
  {
   "cell_type": "code",
   "execution_count": 88,
   "metadata": {},
   "outputs": [
    {
     "data": {
      "text/plain": [
       "array([  5.75905085, 118.95674175])"
      ]
     },
     "execution_count": 88,
     "metadata": {},
     "output_type": "execute_result"
    }
   ],
   "source": [
    "d = np.sqrt(d)\n",
    "d"
   ]
  },
  {
   "cell_type": "code",
   "execution_count": 89,
   "metadata": {},
   "outputs": [
    {
     "name": "stdout",
     "output_type": "stream",
     "text": [
      "5.759050847723666 118.95674174698034\n"
     ]
    }
   ],
   "source": [
    "x_std = d[0]\n",
    "y_std = d[1]\n",
    "print(x_std, y_std)"
   ]
  },
  {
   "cell_type": "code",
   "execution_count": 90,
   "metadata": {},
   "outputs": [
    {
     "data": {
      "text/plain": [
       "array([[   33.16666667,   663.43553438],\n",
       "       [  663.43553438, 14150.70640706]])"
      ]
     },
     "execution_count": 90,
     "metadata": {},
     "output_type": "execute_result"
    }
   ],
   "source": [
    "cov"
   ]
  },
  {
   "cell_type": "code",
   "execution_count": 94,
   "metadata": {},
   "outputs": [
    {
     "data": {
      "text/plain": [
       "array([[ 0.04841298,  0.96840886],\n",
       "       [ 0.96840886, 20.65561581]])"
      ]
     },
     "execution_count": 94,
     "metadata": {},
     "output_type": "execute_result"
    }
   ],
   "source": [
    "c  = cov / (x_std * y_std)\n",
    "c"
   ]
  },
  {
   "cell_type": "code",
   "execution_count": 95,
   "metadata": {},
   "outputs": [
    {
     "data": {
      "text/plain": [
       "array([[0.04841298, 0.96840886],\n",
       "       [0.96840886, 1.        ]])"
      ]
     },
     "execution_count": 95,
     "metadata": {},
     "output_type": "execute_result"
    }
   ],
   "source": [
    "np.clip(c.real, -1, 1, out=c.real)"
   ]
  },
  {
   "cell_type": "code",
   "execution_count": 78,
   "metadata": {},
   "outputs": [
    {
     "data": {
      "text/plain": [
       "array([[ 0.04841298,  0.96840886],\n",
       "       [ 0.96840886, 20.65561581]])"
      ]
     },
     "execution_count": 78,
     "metadata": {},
     "output_type": "execute_result"
    }
   ],
   "source": [
    "np.cov(x,y) / (x_std * y_std)"
   ]
  },
  {
   "cell_type": "code",
   "execution_count": 96,
   "metadata": {},
   "outputs": [
    {
     "data": {
      "text/plain": [
       "33.16666666666667"
      ]
     },
     "execution_count": 96,
     "metadata": {},
     "output_type": "execute_result"
    }
   ],
   "source": [
    "x_var"
   ]
  },
  {
   "cell_type": "code",
   "execution_count": 101,
   "metadata": {},
   "outputs": [],
   "source": [
    "def my_corr(x, y):\n",
    "    c = np.cov(x, y)\n",
    "    try:\n",
    "        d = np.diag(c)\n",
    "    except ValueError:\n",
    "        # scalar covariance\n",
    "        # nan if incorrect value (nan, inf, 0), 1 otherwise\n",
    "        return c / c\n",
    "    stddev = np.sqrt(d.real)\n",
    "    c /= stddev[:, None]\n",
    "    c /= stddev[None, :]\n",
    "    import pdb; pdb.set_trace()\n",
    "\n",
    "    # Clip real and imaginary parts to [-1, 1].  This does not guarantee\n",
    "    # abs(a[i,j]) <= 1 for complex arrays, but is the best we can do without\n",
    "    # excessive work.\n",
    "    np.clip(c.real, -1, 1, out=c.real)\n",
    "    if np.iscomplexobj(c):\n",
    "        np.clip(c.imag, -1, 1, out=c.imag)"
   ]
  },
  {
   "cell_type": "code",
   "execution_count": null,
   "metadata": {},
   "outputs": [
    {
     "name": "stdout",
     "output_type": "stream",
     "text": [
      "> <ipython-input-101-e44e2ee90b69>(17)my_corr()\n",
      "-> np.clip(c.real, -1, 1, out=c.real)\n"
     ]
    }
   ],
   "source": [
    "my_corr(x, y)"
   ]
  },
  {
   "cell_type": "markdown",
   "metadata": {},
   "source": [
    "# Covariance Notes\n",
    "* When the covariance value is **positive** we classify the trend between $X$ and $Y$ as positive. \n",
    "* Remember, the covariance value itself is rather difficult to interpret and depends on the context (See video [here](https://youtu.be/qtaqvPAeEJY?t=710))\n",
    "* For example, the covariance value does not tell us if the slope of the line representing the relationship is steep. It just tells us that the slope is positive\n",
    "* It also does not tell us if the points are relatively close to the line of best fit, or relatively far. It just tells us that the slope of the relationship is positive. \n",
    "* The main thing that the covariance is used for is as a stepping stone in the computation of the correlation\n",
    "\n",
    "# Correlation Notes\n",
    "* When a straight line with a positive slope goes through our data points, correlation equals 1\n"
   ]
  },
  {
   "cell_type": "code",
   "execution_count": null,
   "metadata": {},
   "outputs": [],
   "source": []
  }
 ],
 "metadata": {
  "kernelspec": {
   "display_name": "Python 3",
   "language": "python",
   "name": "python3"
  },
  "language_info": {
   "codemirror_mode": {
    "name": "ipython",
    "version": 3
   },
   "file_extension": ".py",
   "mimetype": "text/x-python",
   "name": "python",
   "nbconvert_exporter": "python",
   "pygments_lexer": "ipython3",
   "version": "3.7.1"
  }
 },
 "nbformat": 4,
 "nbformat_minor": 2
}
