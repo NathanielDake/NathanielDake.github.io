{
 "cells": [
  {
   "cell_type": "code",
   "execution_count": null,
   "metadata": {},
   "outputs": [],
   "source": [
    "\n",
    "lower_bound = -2.5\n",
    "upper_bound = 2.5\n",
    "length = 2000\n",
    "\n",
    "means = [-2,-1,0,1,2]\n",
    "# means = np.linspace(lower_bound, upper_bound, length)\n",
    "sigma = 1\n",
    "expected_mean = 1\n",
    "num_observed_points = 50\n",
    "observed_data = np.random.normal(expected_mean, sigma, num_observed_points)\n",
    "\n",
    "for mu in means:\n",
    "    x_axis = np.arange(-5, 5, 0.001)\n",
    "    y = norm.pdf(x_axis, mu, sigma)\n",
    "    plt.plot(x_axis, y)\n",
    "    plt.fill_between(x_axis, y)\n",
    "    \n",
    "plt.scatter(observed_data, np.zeros(len(observed_data)), alpha=0.5)"
   ]
  }
 ],
 "metadata": {
  "kernelspec": {
   "display_name": "Python 3",
   "language": "python",
   "name": "python3"
  },
  "language_info": {
   "codemirror_mode": {
    "name": "ipython",
    "version": 3
   },
   "file_extension": ".py",
   "mimetype": "text/x-python",
   "name": "python",
   "nbconvert_exporter": "python",
   "pygments_lexer": "ipython3",
   "version": "3.6.2"
  }
 },
 "nbformat": 4,
 "nbformat_minor": 2
}
