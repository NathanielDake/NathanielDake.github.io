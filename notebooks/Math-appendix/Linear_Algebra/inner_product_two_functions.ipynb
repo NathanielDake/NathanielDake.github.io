{
 "cells": [
  {
   "cell_type": "code",
   "execution_count": 1,
   "id": "997b8182-f689-4a40-bf1b-0d2888dfc568",
   "metadata": {},
   "outputs": [],
   "source": [
    "import numpy as np"
   ]
  },
  {
   "cell_type": "code",
   "execution_count": 7,
   "id": "81d837c7-4429-44a4-9a48-572d34530114",
   "metadata": {},
   "outputs": [],
   "source": [
    "x = np.arange(-100, 101, 1)"
   ]
  },
  {
   "cell_type": "code",
   "execution_count": 10,
   "id": "63de1f28-05ab-4555-a28c-bd1d0007704a",
   "metadata": {},
   "outputs": [],
   "source": [
    "x2 = x**2\n",
    "x3 = x**3\n",
    "x4 = x**4"
   ]
  },
  {
   "cell_type": "code",
   "execution_count": 9,
   "id": "018db7ef-f70b-49d8-a2c9-73f77a547155",
   "metadata": {},
   "outputs": [
    {
     "data": {
      "text/plain": [
       "0"
      ]
     },
     "execution_count": 9,
     "metadata": {},
     "output_type": "execute_result"
    }
   ],
   "source": [
    "(x * x2).sum()"
   ]
  },
  {
   "cell_type": "code",
   "execution_count": 11,
   "id": "6a90a6bc-eea8-412d-8df2-f2aed978d803",
   "metadata": {},
   "outputs": [
    {
     "data": {
      "text/plain": [
       "4100666660"
      ]
     },
     "execution_count": 11,
     "metadata": {},
     "output_type": "execute_result"
    }
   ],
   "source": [
    "(x * x3).sum()"
   ]
  },
  {
   "cell_type": "code",
   "execution_count": 12,
   "id": "352b2d46-ec48-41a3-8931-999ee9660a66",
   "metadata": {},
   "outputs": [
    {
     "data": {
      "text/plain": [
       "0"
      ]
     },
     "execution_count": 12,
     "metadata": {},
     "output_type": "execute_result"
    }
   ],
   "source": [
    "(x * x4).sum()"
   ]
  },
  {
   "cell_type": "code",
   "execution_count": null,
   "id": "7e2096ba-421f-41c7-a41c-eca930b41ebb",
   "metadata": {},
   "outputs": [],
   "source": []
  }
 ],
 "metadata": {
  "kernelspec": {
   "display_name": "Python 3 (ipykernel)",
   "language": "python",
   "name": "python3"
  },
  "language_info": {
   "codemirror_mode": {
    "name": "ipython",
    "version": 3
   },
   "file_extension": ".py",
   "mimetype": "text/x-python",
   "name": "python",
   "nbconvert_exporter": "python",
   "pygments_lexer": "ipython3",
   "version": "3.9.10"
  }
 },
 "nbformat": 4,
 "nbformat_minor": 5
}
