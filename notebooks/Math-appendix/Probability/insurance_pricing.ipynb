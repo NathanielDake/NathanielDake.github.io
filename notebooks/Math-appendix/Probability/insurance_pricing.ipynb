{
 "cells": [
  {
   "cell_type": "code",
   "execution_count": 1,
   "id": "c801e58e-7906-4a97-b13d-50629742dc0d",
   "metadata": {},
   "outputs": [],
   "source": [
    "import numpy as np\n",
    "import pandas as pd"
   ]
  },
  {
   "cell_type": "code",
   "execution_count": 2,
   "id": "4f43b7e7-e6d6-4f16-9d48-7350550af308",
   "metadata": {},
   "outputs": [],
   "source": [
    "n = 10_000"
   ]
  },
  {
   "cell_type": "code",
   "execution_count": 25,
   "id": "8bc34566-09ab-4f11-9129-eeede02fc94d",
   "metadata": {},
   "outputs": [],
   "source": [
    "uncertainty = 0.01\n",
    "\n",
    "predicted_prob_return = np.random.uniform(size=n) / 2\n",
    "true_prob_return = np.random.normal(loc=predicted_prob_return, scale=uncertainty)\n",
    "true_prob_attach = true_prob_return"
   ]
  },
  {
   "cell_type": "code",
   "execution_count": 26,
   "id": "6100b3e0-0429-4889-ba50-471848c8dcb6",
   "metadata": {},
   "outputs": [],
   "source": [
    "def reward(p_return, p_return_hat, p_attach):\n",
    "    \n",
    "    r = 0\n",
    "    \n",
    "    pr = p_return_hat\n",
    "    \n",
    "    \n",
    "    if np.random.uniform() < p_attach:\n",
    "        # They attached\n",
    "        r += pr\n",
    "    \n",
    "        if np.random.uniform() < p_return:\n",
    "            r -= 1\n",
    "        \n",
    "    return r"
   ]
  },
  {
   "cell_type": "code",
   "execution_count": 27,
   "id": "cb786760-abe4-4e9c-a441-ebba43ac9030",
   "metadata": {},
   "outputs": [],
   "source": [
    "total_rewards = []\n",
    "\n",
    "for _ in range(0, 100):\n",
    "    rewards = []\n",
    "    for (p_return, p_return_hat, p_attach) in zip(true_prob_return, predicted_prob_return, true_prob_attach):\n",
    "        r = reward(p_return, p_return_hat, p_attach)\n",
    "\n",
    "        rewards.append(r)\n",
    "    total_rewards.append(np.array(rewards).sum())\n",
    "    \n",
    "total_rewards = pd.Series(total_rewards)"
   ]
  },
  {
   "cell_type": "code",
   "execution_count": 28,
   "id": "81a456ca-4572-41bc-be33-cacd1c9fbd73",
   "metadata": {},
   "outputs": [
    {
     "name": "stdout",
     "output_type": "stream",
     "text": [
      "0.01\n",
      "count    100.000000\n",
      "mean      -0.845496\n",
      "std       23.868661\n",
      "min      -49.859262\n",
      "25%      -16.208801\n",
      "50%       -0.327812\n",
      "75%       13.698599\n",
      "max       55.116883\n",
      "dtype: float64\n"
     ]
    },
    {
     "data": {
      "text/plain": [
       "<AxesSubplot:>"
      ]
     },
     "execution_count": 28,
     "metadata": {},
     "output_type": "execute_result"
    },
    {
     "data": {
      "image/png": "[encoded data removed]",
      "text/plain": [
       "<Figure size 432x288 with 1 Axes>"
      ]
     },
     "metadata": {
      "needs_background": "light"
     },
     "output_type": "display_data"
    }
   ],
   "source": [
    "print(uncertainty)\n",
    "print(total_rewards.describe())\n",
    "total_rewards.hist(bins=20)"
   ]
  },
  {
   "cell_type": "code",
   "execution_count": 24,
   "id": "61612b98-f32c-48f0-83cd-b13a4e22ae0f",
   "metadata": {},
   "outputs": [
    {
     "name": "stdout",
     "output_type": "stream",
     "text": [
      "0.05\n",
      "count    100.000000\n",
      "mean     -23.291190\n",
      "std       20.535052\n",
      "min      -80.885339\n",
      "25%      -37.957601\n",
      "50%      -25.092985\n",
      "75%      -10.662689\n",
      "max       34.035140\n",
      "dtype: float64\n"
     ]
    },
    {
     "data": {
      "text/plain": [
       "<AxesSubplot:>"
      ]
     },
     "execution_count": 24,
     "metadata": {},
     "output_type": "execute_result"
    },
    {
     "data": {
      "image/png": "[encoded data removed]",
      "text/plain": [
       "<Figure size 432x288 with 1 Axes>"
      ]
     },
     "metadata": {
      "needs_background": "light"
     },
     "output_type": "display_data"
    }
   ],
   "source": [
    "print(uncertainty)\n",
    "print(total_rewards.describe())\n",
    "total_rewards.hist(bins=20)"
   ]
  },
  {
   "cell_type": "code",
   "execution_count": 62,
   "id": "87d998cc-2eba-47c1-9aa8-64017c88d5de",
   "metadata": {},
   "outputs": [
    {
     "name": "stdout",
     "output_type": "stream",
     "text": [
      "0.1\n",
      "count    100.000000\n",
      "mean     -99.288056\n",
      "std       21.515987\n",
      "min     -152.621445\n",
      "25%     -112.912130\n",
      "50%     -103.598770\n",
      "75%      -84.247759\n",
      "max      -44.517138\n",
      "dtype: float64\n"
     ]
    },
    {
     "data": {
      "text/plain": [
       "<AxesSubplot:>"
      ]
     },
     "execution_count": 62,
     "metadata": {},
     "output_type": "execute_result"
    },
    {
     "data": {
      "image/png": "[encoded data removed]",
      "text/plain": [
       "<Figure size 432x288 with 1 Axes>"
      ]
     },
     "metadata": {
      "needs_background": "light"
     },
     "output_type": "display_data"
    }
   ],
   "source": [
    "print(uncertainty)\n",
    "print(total_rewards.describe())\n",
    "total_rewards.hist(bins=20)"
   ]
  },
  {
   "cell_type": "markdown",
   "id": "4c657eb6-ab6d-4bf2-9e6a-94f106f85353",
   "metadata": {},
   "source": [
    "## Add a correction factor (increase price rate to account for uncertainty)"
   ]
  },
  {
   "cell_type": "code",
   "execution_count": 47,
   "id": "02e0aa5b-4f84-4635-821d-ffab4f605f2b",
   "metadata": {},
   "outputs": [],
   "source": [
    "def attach(p_attach):\n",
    "    if np.random.uniform() < p_attach:\n",
    "        return True\n",
    "    return False\n",
    "\n",
    "\n",
    "\n",
    "def return_(p_return):\n",
    "    if np.random.uniform() < p_return:\n",
    "        return True\n",
    "    return False"
   ]
  },
  {
   "cell_type": "code",
   "execution_count": 58,
   "id": "11178b3d-3454-480e-a42d-094d53343472",
   "metadata": {},
   "outputs": [],
   "source": [
    "def reward(p_return, p_return_hat, p_attach, eps=None):\n",
    "    \n",
    "    r = 0\n",
    "    \n",
    "    pr = p_return_hat + eps\n",
    "    \n",
    "    if attach(p_attach + eps):\n",
    "        # They attached\n",
    "        r += pr\n",
    "    \n",
    "        if return_(p_return): \n",
    "            # Then they returned\n",
    "            # if they attach \n",
    "            r -= 1\n",
    "        \n",
    "    return r"
   ]
  },
  {
   "cell_type": "code",
   "execution_count": 49,
   "id": "1bd0c8d9-9f9a-47e3-b04f-4c8e5ba66fb2",
   "metadata": {},
   "outputs": [],
   "source": [
    "uncertainty = 0.01\n",
    "\n",
    "predicted_prob_return = np.random.uniform(size=n) / 2\n",
    "true_prob_return = np.random.normal(loc=predicted_prob_return, scale=uncertainty)\n",
    "true_prob_attach = true_prob_return"
   ]
  },
  {
   "cell_type": "code",
   "execution_count": 64,
   "id": "ac30359a-2604-4d87-a7b0-425a02a8ca92",
   "metadata": {},
   "outputs": [
    {
     "name": "stdout",
     "output_type": "stream",
     "text": [
      "0.11059892105527416\n",
      "0.13128782420523105\n",
      "0.11059892105527416\n"
     ]
    }
   ],
   "source": [
    "print(true_prob_return[0])\n",
    "print(predicted_prob_return[0])\n",
    "print(true_prob_attach[0])"
   ]
  },
  {
   "cell_type": "code",
   "execution_count": 70,
   "id": "a50ffc2c-c6a4-4023-8ab7-a07fbb6c9855",
   "metadata": {},
   "outputs": [
    {
     "name": "stdout",
     "output_type": "stream",
     "text": [
      "0.01\n",
      "0.324996397545251\n"
     ]
    },
    {
     "data": {
      "text/plain": [
       " 0.000000    434\n",
       " 0.141288     57\n",
       "-0.858712      9\n",
       "dtype: int64"
      ]
     },
     "execution_count": 70,
     "metadata": {},
     "output_type": "execute_result"
    }
   ],
   "source": [
    "rs = []\n",
    "for i in range(0, 500):\n",
    "    r = reward(true_prob_return[0], predicted_prob_return[0], true_prob_attach[0], eps=0.01)\n",
    "    rs.append(r)\n",
    "    \n",
    "rs = pd.Series(rs)\n",
    "print(uncertainty)\n",
    "print(rs.sum())\n",
    "rs.value_counts()"
   ]
  },
  {
   "cell_type": "code",
   "execution_count": null,
   "id": "dd0d3b19-e85d-4798-b002-6d919faa0408",
   "metadata": {},
   "outputs": [],
   "source": []
  },
  {
   "cell_type": "code",
   "execution_count": 59,
   "id": "2f02ddd9-6b73-4c89-a0e9-af60fb409544",
   "metadata": {},
   "outputs": [],
   "source": [
    "total_rewards = []\n",
    "\n",
    "for _ in range(0, 100):\n",
    "    rewards = []\n",
    "    for (p_return, p_return_hat, p_attach) in zip(true_prob_return, predicted_prob_return, true_prob_attach):\n",
    "        r = reward(p_return, p_return_hat, p_attach, eps=0.15)\n",
    "\n",
    "        rewards.append(r)\n",
    "    total_rewards.append(np.array(rewards).sum())\n",
    "    \n",
    "total_rewards = pd.Series(total_rewards)"
   ]
  },
  {
   "cell_type": "code",
   "execution_count": 51,
   "id": "21ecf483-4cc8-4bc6-ad85-3f26329423f4",
   "metadata": {},
   "outputs": [
    {
     "name": "stdout",
     "output_type": "stream",
     "text": [
      "0.01\n",
      "count    100.000000\n",
      "mean     594.860942\n",
      "std       28.418224\n",
      "min      518.176564\n",
      "25%      575.011266\n",
      "50%      597.764093\n",
      "75%      613.379276\n",
      "max      675.888743\n",
      "dtype: float64\n"
     ]
    },
    {
     "data": {
      "text/plain": [
       "<AxesSubplot:>"
      ]
     },
     "execution_count": 51,
     "metadata": {},
     "output_type": "execute_result"
    },
    {
     "data": {
      "image/png": "[encoded data removed]",
      "text/plain": [
       "<Figure size 432x288 with 1 Axes>"
      ]
     },
     "metadata": {
      "needs_background": "light"
     },
     "output_type": "display_data"
    }
   ],
   "source": [
    "print(uncertainty)\n",
    "print(total_rewards.describe())\n",
    "total_rewards.hist(bins=20)"
   ]
  },
  {
   "cell_type": "code",
   "execution_count": null,
   "id": "29024b79-0c31-42bd-b04d-315abe61b92b",
   "metadata": {},
   "outputs": [],
   "source": []
  }
 ],
 "metadata": {
  "kernelspec": {
   "display_name": "Python 3 (ipykernel)",
   "language": "python",
   "name": "python3"
  },
  "language_info": {
   "codemirror_mode": {
    "name": "ipython",
    "version": 3
   },
   "file_extension": ".py",
   "mimetype": "text/x-python",
   "name": "python",
   "nbconvert_exporter": "python",
   "pygments_lexer": "ipython3",
   "version": "3.9.10"
  }
 },
 "nbformat": 4,
 "nbformat_minor": 5
}
