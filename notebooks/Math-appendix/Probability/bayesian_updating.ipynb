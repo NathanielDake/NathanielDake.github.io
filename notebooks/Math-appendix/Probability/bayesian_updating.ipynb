{
 "cells": [
  {
   "cell_type": "code",
   "execution_count": 96,
   "id": "a388977e-6437-4bc2-bbf6-6decf4c23a5b",
   "metadata": {},
   "outputs": [],
   "source": [
    "import numpy as np\n",
    "import scipy\n",
    "from scipy import stats\n",
    "from scipy.special import beta\n",
    "\n",
    "import matplotlib.pyplot as plt\n",
    "import matplotlib.style as style"
   ]
  },
  {
   "cell_type": "code",
   "execution_count": 2,
   "id": "6cf6ab86-4af4-487c-9142-f9cc4d470dca",
   "metadata": {},
   "outputs": [],
   "source": [
    "style.use('fivethirtyeight')\n",
    "\n",
    "%config InlineBackend.figure_format='retina'"
   ]
  },
  {
   "cell_type": "code",
   "execution_count": 9,
   "id": "d9dfc126-604a-45b0-9056-ef7b9a0968bf",
   "metadata": {},
   "outputs": [
    {
     "data": {
      "text/plain": [
       "True"
      ]
     },
     "execution_count": 9,
     "metadata": {},
     "output_type": "execute_result"
    }
   ],
   "source": [
    "beta(2, 2) == 1 / 6"
   ]
  },
  {
   "cell_type": "code",
   "execution_count": null,
   "id": "f7f60ab6-8ef1-4282-ae00-fa9ccc0c42ac",
   "metadata": {},
   "outputs": [],
   "source": []
  },
  {
   "cell_type": "markdown",
   "id": "abda7348-69b3-4391-ac1c-4a7db530bfaa",
   "metadata": {},
   "source": [
    "# Prior Investigation"
   ]
  },
  {
   "cell_type": "code",
   "execution_count": 11,
   "id": "913bbda1-a0f0-4345-a0c0-cb93ffc10f0d",
   "metadata": {},
   "outputs": [],
   "source": [
    "# Prior parameter mean \n",
    "theta = 0.15\n",
    "\n",
    "a = 15 # Number of returns\n",
    "b = 85 # Number of no returns\n"
   ]
  },
  {
   "cell_type": "code",
   "execution_count": 33,
   "id": "82ce8e5b-cc85-4572-8209-a9ea6fdc1901",
   "metadata": {},
   "outputs": [],
   "source": [
    "beta_dist = stats.beta(a, b)"
   ]
  },
  {
   "cell_type": "code",
   "execution_count": 34,
   "id": "366279f0-f290-4c74-b5bb-13c7c15989cb",
   "metadata": {},
   "outputs": [],
   "source": [
    "x = np.arange(0, 1, 0.01)"
   ]
  },
  {
   "cell_type": "code",
   "execution_count": 35,
   "id": "676f52e6-a5a7-4e26-89c9-591cf4a014a2",
   "metadata": {},
   "outputs": [],
   "source": [
    "prior = beta_dist.pdf(x)"
   ]
  },
  {
   "cell_type": "code",
   "execution_count": 36,
   "id": "1ffe00a3-d3ba-43c2-9810-97219c7d69f6",
   "metadata": {},
   "outputs": [
    {
     "data": {
      "text/plain": [
       "[<matplotlib.lines.Line2D at 0x16c49abe0>]"
      ]
     },
     "execution_count": 36,
     "metadata": {},
     "output_type": "execute_result"
    },
    {
     "data": {
      "image/png": "[encoded data removed]",
      "text/plain": [
       "<Figure size 432x288 with 1 Axes>"
      ]
     },
     "metadata": {
      "image/png": {
       "height": 265,
       "width": 411
      }
     },
     "output_type": "display_data"
    }
   ],
   "source": [
    "plt.plot(x, prior)"
   ]
  },
  {
   "cell_type": "code",
   "execution_count": 29,
   "id": "96bda8da-38e2-49d8-841a-c9500754b18a",
   "metadata": {},
   "outputs": [
    {
     "data": {
      "text/plain": [
       "0.15"
      ]
     },
     "execution_count": 29,
     "metadata": {},
     "output_type": "execute_result"
    }
   ],
   "source": [
    "beta_dist.mean()"
   ]
  },
  {
   "cell_type": "code",
   "execution_count": 3,
   "id": "4cb6c187-bb29-45a7-9955-27211c674c6b",
   "metadata": {},
   "outputs": [],
   "source": [
    "def prior(a, b, theta):\n",
    "    beta_numerator = theta**(a - 1) * (1 - theta)**(b - 1)\n",
    "    beta_denominator = beta(a, b)\n",
    "    return beta_numerator / beta_denominator"
   ]
  },
  {
   "cell_type": "code",
   "execution_count": 68,
   "id": "89ebb36a-b8f0-4289-b75e-311e35aab98e",
   "metadata": {},
   "outputs": [
    {
     "data": {
      "text/plain": [
       "1.833171591796874e-05"
      ]
     },
     "execution_count": 68,
     "metadata": {},
     "output_type": "execute_result"
    }
   ],
   "source": [
    "prior(10, 3, 0.15)"
   ]
  },
  {
   "cell_type": "code",
   "execution_count": 69,
   "id": "bbd5c29a-dc60-4577-abe9-c32d25689582",
   "metadata": {},
   "outputs": [
    {
     "data": {
      "text/plain": [
       "1.833171591796877e-05"
      ]
     },
     "execution_count": 69,
     "metadata": {},
     "output_type": "execute_result"
    }
   ],
   "source": [
    "stats.beta(10, 3).pdf(0.15)"
   ]
  },
  {
   "cell_type": "markdown",
   "id": "eb1f1544-620a-4e38-8459-eb4ccddf5db9",
   "metadata": {},
   "source": [
    "## Likelihood"
   ]
  },
  {
   "cell_type": "code",
   "execution_count": null,
   "id": "60feacd2-2534-4762-b6eb-49eb32f1357c",
   "metadata": {},
   "outputs": [],
   "source": []
  },
  {
   "cell_type": "code",
   "execution_count": 4,
   "id": "f4c468ab-519c-41b3-9d20-fa5557dc5109",
   "metadata": {},
   "outputs": [],
   "source": [
    "def likelihood(a, b, theta): \n",
    "    return theta**a * (1 - theta)**b"
   ]
  },
  {
   "cell_type": "code",
   "execution_count": null,
   "id": "0c197d62-5aaf-4e20-80fa-d24526224869",
   "metadata": {},
   "outputs": [],
   "source": []
  },
  {
   "cell_type": "code",
   "execution_count": 112,
   "id": "0357ea90-6cff-4e78-b901-5398a4e7284b",
   "metadata": {},
   "outputs": [
    {
     "data": {
      "text/plain": [
       "4.385080511372136e-19"
      ]
     },
     "execution_count": 112,
     "metadata": {},
     "output_type": "execute_result"
    }
   ],
   "source": [
    "likelihood(15, 85, 0.15)"
   ]
  },
  {
   "cell_type": "code",
   "execution_count": null,
   "id": "dea9c9d9-777b-4358-bb0f-658580d1c964",
   "metadata": {},
   "outputs": [],
   "source": []
  },
  {
   "cell_type": "code",
   "execution_count": null,
   "id": "a5aea8ba-b598-4042-86b9-b45098a78588",
   "metadata": {},
   "outputs": [],
   "source": []
  },
  {
   "cell_type": "markdown",
   "id": "ad286782-c167-4ebd-a033-cf72979b1e40",
   "metadata": {},
   "source": [
    "## Data"
   ]
  },
  {
   "cell_type": "code",
   "execution_count": 12,
   "id": "dbedc11b-595f-4247-b1c5-0c130a1b78a5",
   "metadata": {},
   "outputs": [],
   "source": [
    "def p_data(a, b):\n",
    "    return beta(a + 1, b + 1)"
   ]
  },
  {
   "cell_type": "code",
   "execution_count": 11,
   "id": "ae10f703-c554-44eb-82f3-922d6ac24c33",
   "metadata": {},
   "outputs": [
    {
     "data": {
      "text/plain": [
       "3.0959124420019954e-19"
      ]
     },
     "execution_count": 11,
     "metadata": {},
     "output_type": "execute_result"
    }
   ],
   "source": [
    "beta(85,15)"
   ]
  },
  {
   "cell_type": "code",
   "execution_count": null,
   "id": "3b5f340c-3c37-4ed9-ab0f-dd082af2d5ff",
   "metadata": {},
   "outputs": [],
   "source": []
  },
  {
   "cell_type": "code",
   "execution_count": 73,
   "id": "d4939ee1-2a18-4563-96d2-2d3e05b25c07",
   "metadata": {},
   "outputs": [
    {
     "data": {
      "text/plain": [
       "1.2904904112695274e-21"
      ]
     },
     "execution_count": 73,
     "metadata": {},
     "output_type": "execute_result"
    }
   ],
   "source": [
    "beta(a_total, b_total)"
   ]
  },
  {
   "cell_type": "code",
   "execution_count": null,
   "id": "f7358761-1209-49c0-9431-e8e3242ef8e4",
   "metadata": {},
   "outputs": [],
   "source": [
    "1"
   ]
  },
  {
   "cell_type": "code",
   "execution_count": 83,
   "id": "8835675f-3ef7-4f24-bedd-da0355bb0e86",
   "metadata": {
    "tags": []
   },
   "outputs": [],
   "source": [
    "# Prior\n",
    "a_p = 15\n",
    "b_p = 85\n",
    "\n",
    "\n",
    "# Likelihood\n",
    "# a_l = 2\n",
    "# b_l = 8\n",
    "# a_l = 4\n",
    "# b_l = 16\n",
    "# a_l = 8\n",
    "# b_l = 32\n",
    "a_l = 40\n",
    "b_l = 160\n",
    "\n",
    "# Data\n",
    "a_total = a_p + a_l\n",
    "b_total = b_p + b_l\n",
    "\n"
   ]
  },
  {
   "cell_type": "code",
   "execution_count": 84,
   "id": "9d586053-07f5-4e37-b7cd-6f3be2817103",
   "metadata": {},
   "outputs": [
    {
     "data": {
      "text/plain": [
       "8.191155389821201"
      ]
     },
     "execution_count": 84,
     "metadata": {},
     "output_type": "execute_result"
    }
   ],
   "source": [
    "theta = 0.57\n",
    "\n",
    "top = ( theta**(59 - 1) * (1 - theta)**(45 - 1) )\n",
    "bottom = beta(59, 45)\n",
    "\n",
    "top / bottom"
   ]
  },
  {
   "cell_type": "code",
   "execution_count": 85,
   "id": "a91c1c7a-80b9-4752-bcf2-370862f8e6de",
   "metadata": {},
   "outputs": [
    {
     "data": {
      "text/plain": [
       "5.168370923101797e-31"
      ]
     },
     "execution_count": 85,
     "metadata": {},
     "output_type": "execute_result"
    }
   ],
   "source": [
    "top"
   ]
  },
  {
   "cell_type": "code",
   "execution_count": 86,
   "id": "4c5bb087-9dd6-4f00-a2bb-b3ee74723fce",
   "metadata": {},
   "outputs": [
    {
     "data": {
      "text/plain": [
       "6.30969707829534e-32"
      ]
     },
     "execution_count": 86,
     "metadata": {},
     "output_type": "execute_result"
    }
   ],
   "source": [
    "bottom"
   ]
  },
  {
   "cell_type": "code",
   "execution_count": 87,
   "id": "4f52019b-9d94-4e9e-8a5b-b1cf0f6fb345",
   "metadata": {},
   "outputs": [
    {
     "data": {
      "text/plain": [
       "6.30969707829534e-32"
      ]
     },
     "execution_count": 87,
     "metadata": {},
     "output_type": "execute_result"
    }
   ],
   "source": [
    "beta(59, 45)"
   ]
  },
  {
   "cell_type": "code",
   "execution_count": 88,
   "id": "64620cfa-a614-47e5-90c5-fedda7fcdd79",
   "metadata": {},
   "outputs": [],
   "source": [
    "def posterior(theta):\n",
    "    \n",
    "    likelihood_term = likelihood(a_l, b_l, theta)\n",
    "    \n",
    "    prior_term = prior(a_p, b_p, theta)\n",
    "    \n",
    "    data_term = p_data(a_total, b_total)\n",
    "    \n",
    "    post = (likelihood_term * prior_term) / data_term\n",
    "    \n",
    "    # print(likelihood_term * prior_term)\n",
    "    # # print(prior_term)\n",
    "    # print(data_term)\n",
    "    # print(post)\n",
    "    # print('\\n')\n",
    "    \n",
    "    return post\n",
    "    "
   ]
  },
  {
   "cell_type": "code",
   "execution_count": 89,
   "id": "da48fe9b-be9a-4502-98f2-7b3246d046f9",
   "metadata": {},
   "outputs": [],
   "source": [
    "thetas = np.arange(0, 1, 0.01)"
   ]
  },
  {
   "cell_type": "code",
   "execution_count": 90,
   "id": "4d279e68-ff22-4435-91f3-f064d6dc9e2c",
   "metadata": {},
   "outputs": [],
   "source": [
    "pdf = [posterior(theta) for theta in thetas]"
   ]
  },
  {
   "cell_type": "code",
   "execution_count": 91,
   "id": "6251aaa2-1da1-4297-80b3-7a4e67c6bec0",
   "metadata": {},
   "outputs": [
    {
     "data": {
      "text/plain": [
       "[<matplotlib.lines.Line2D at 0x1797fd730>]"
      ]
     },
     "execution_count": 91,
     "metadata": {},
     "output_type": "execute_result"
    },
    {
     "data": {
      "image/png": "[encoded data removed]",
      "text/plain": [
       "<Figure size 432x288 with 1 Axes>"
      ]
     },
     "metadata": {
      "image/png": {
       "height": 279,
       "width": 402
      }
     },
     "output_type": "display_data"
    }
   ],
   "source": [
    "plt.plot(thetas, pdf)"
   ]
  },
  {
   "cell_type": "code",
   "execution_count": 92,
   "id": "2d92bf80-ff5c-403d-baf6-f8bc8a9a1311",
   "metadata": {},
   "outputs": [],
   "source": [
    "# Not normalized...."
   ]
  },
  {
   "cell_type": "code",
   "execution_count": 93,
   "id": "7872196e-d555-45ad-b6c7-36f4881ee62c",
   "metadata": {},
   "outputs": [],
   "source": [
    "idx = np.array(pdf).argmax()"
   ]
  },
  {
   "cell_type": "code",
   "execution_count": 94,
   "id": "307ec6b9-bdb7-4129-9040-be1abf69352e",
   "metadata": {},
   "outputs": [
    {
     "data": {
      "text/plain": [
       "0.18"
      ]
     },
     "execution_count": 94,
     "metadata": {},
     "output_type": "execute_result"
    }
   ],
   "source": [
    "thetas[idx]"
   ]
  },
  {
   "cell_type": "markdown",
   "id": "5619c51d-d8a4-4e5c-a0e9-6225e1cb6541",
   "metadata": {},
   "source": [
    "## New attempt"
   ]
  },
  {
   "cell_type": "code",
   "execution_count": 123,
   "id": "5342bfed-f02b-4728-9578-022734f7820d",
   "metadata": {},
   "outputs": [],
   "source": [
    "def calc_likelihood(theta, n, k):\n",
    "    pK = scipy.stats.binom(n, theta).pmf(k)\n",
    "    #From scipy API, binom.pmf(k) = choose(n, k) * theta^k * (1-theta)^(n-k)\n",
    "    likelihood = n*pK\n",
    "    return likelihood\n",
    "\n",
    "\n",
    "def calc_prior(theta, a, b):\n",
    "    return scipy.stats.beta(a, b).pdf(theta)\n",
    "\n",
    "\n",
    "def calc_posterior(thetas, a_old, b_old, n, k):\n",
    "    a_new = a_old+k\n",
    "    b_new = b_old+n-k\n",
    "    posterior = scipy.stats.beta(a_new, b_new).pdf(thetas)\n",
    "    return posterior, a_new, b_new\n"
   ]
  },
  {
   "cell_type": "code",
   "execution_count": 121,
   "id": "00ebc482-141f-4bfc-b2f5-1f55510903f6",
   "metadata": {},
   "outputs": [],
   "source": [
    "# Prior\n",
    "a_p = 15\n",
    "b_p = 85\n",
    "\n",
    "\n",
    "# Likelihood\n",
    "a_l = 2\n",
    "b_l = 8\n",
    "# # a_l = 4\n",
    "# # b_l = 16\n",
    "# # a_l = 8\n",
    "# # b_l = 32\n",
    "# a_l = 40\n",
    "# b_l = 160\n",
    "\n",
    "# Data\n",
    "a_total = a_p + a_l\n",
    "b_total = b_p + b_l\n",
    "\n"
   ]
  },
  {
   "cell_type": "code",
   "execution_count": 122,
   "id": "2f720504-3e52-4bb9-9f4a-677d2327a8ed",
   "metadata": {},
   "outputs": [
    {
     "data": {
      "text/plain": [
       "3.0198988800000026"
      ]
     },
     "execution_count": 122,
     "metadata": {},
     "output_type": "execute_result"
    }
   ],
   "source": [
    "calc_likelihood(0.20, a_l + b_l, a_l)"
   ]
  },
  {
   "cell_type": "code",
   "execution_count": 124,
   "id": "02d2a069-1f7f-4bb1-a583-8f2008f1e360",
   "metadata": {},
   "outputs": [
    {
     "data": {
      "text/plain": [
       "3.8299241855282182"
      ]
     },
     "execution_count": 124,
     "metadata": {},
     "output_type": "execute_result"
    }
   ],
   "source": [
    "calc_prior(0.2, a_p, b_p)"
   ]
  },
  {
   "cell_type": "code",
   "execution_count": 128,
   "id": "83703a06-3500-4053-81e7-253ecb99c14d",
   "metadata": {},
   "outputs": [],
   "source": [
    "posterior_pdf = calc_posterior(thetas, a_p, b_p, a_l+b_l, a_l)"
   ]
  },
  {
   "cell_type": "code",
   "execution_count": 130,
   "id": "f682fb20-4b93-4f39-8676-93db27be27fb",
   "metadata": {},
   "outputs": [
    {
     "data": {
      "text/plain": [
       "(array([0.00000000e+000, 2.20078825e-012, 5.66786178e-008, 1.44903870e-005,\n",
       "        5.57254594e-004, 7.55495901e-003, 5.27621997e-002, 2.32348709e-001,\n",
       "        7.27880800e-001, 1.75318845e+000, 3.42334938e+000, 5.62735003e+000,\n",
       "        8.00656310e+000, 1.00694380e+001, 1.13774895e+001, 1.16988094e+001,\n",
       "        1.10599814e+001, 9.69410227e+000, 7.93185666e+000, 6.09283908e+000,\n",
       "        4.41467859e+000, 3.02929432e+000, 1.97518008e+000, 1.22724833e+000,\n",
       "        7.28401302e-001, 4.13825003e-001, 2.25440604e-001, 1.17940703e-001,\n",
       "        5.93278390e-002, 2.87260826e-002, 1.33998554e-002, 6.02620367e-003,\n",
       "        2.61432742e-003, 1.09457429e-003, 4.42430541e-004, 1.72686297e-004,\n",
       "        6.50935527e-005, 2.36972795e-005, 8.33131080e-006, 2.82825712e-006,\n",
       "        9.26862375e-007, 2.93134635e-007, 8.94343614e-008, 2.63100920e-008,\n",
       "        7.45901816e-009, 2.03661065e-009, 5.35169762e-010, 1.35234060e-010,\n",
       "        3.28327885e-011, 7.65127546e-012, 1.70962486e-012, 3.65849559e-013,\n",
       "        7.48837687e-014, 1.46405435e-014, 2.72998982e-015, 4.84724147e-016,\n",
       "        8.18078587e-017, 1.30989342e-017, 1.98574268e-018, 2.84372346e-019,\n",
       "        3.83777549e-020, 4.86812323e-021, 5.78759692e-022, 6.42906419e-023,\n",
       "        6.65043435e-024, 6.38284272e-025, 5.66113736e-026, 4.61976270e-027,\n",
       "        3.45208090e-028, 2.34964170e-029, 1.44831968e-030, 8.03322151e-032,\n",
       "        3.98106421e-033, 1.74892997e-034, 6.75143180e-036, 2.26778234e-037,\n",
       "        6.55529243e-039, 1.61047087e-040, 3.31543589e-042, 5.62793318e-044,\n",
       "        7.73285291e-046, 8.41844630e-048, 7.08324826e-050, 4.47394459e-052,\n",
       "        2.04949724e-054, 6.53490082e-057, 1.38005012e-059, 1.81650589e-062,\n",
       "        1.38209453e-065, 5.52722949e-069, 1.02806484e-072, 7.57030717e-077,\n",
       "        1.77428915e-081, 9.74736467e-087, 8.01864615e-093, 4.93126611e-100,\n",
       "        7.07944622e-109, 2.67697021e-120, 1.98846142e-136, 4.72393018e-164]),\n",
       " 17,\n",
       " 93)"
      ]
     },
     "execution_count": 130,
     "metadata": {},
     "output_type": "execute_result"
    }
   ],
   "source": [
    "posterior_pdf"
   ]
  },
  {
   "cell_type": "code",
   "execution_count": 132,
   "id": "5fbbf599-9860-4db5-877e-eeaa10cbfcb5",
   "metadata": {},
   "outputs": [
    {
     "data": {
      "text/plain": [
       "[<matplotlib.lines.Line2D at 0x17d6c73a0>]"
      ]
     },
     "execution_count": 132,
     "metadata": {},
     "output_type": "execute_result"
    },
    {
     "data": {
      "image/png": "[encoded data removed]",
      "text/plain": [
       "<Figure size 432x288 with 1 Axes>"
      ]
     },
     "metadata": {
      "image/png": {
       "height": 265,
       "width": 411
      }
     },
     "output_type": "display_data"
    }
   ],
   "source": [
    "plt.plot(thetas, posterior_pdf[0])"
   ]
  },
  {
   "cell_type": "code",
   "execution_count": null,
   "id": "9b6710fe-61ba-44da-8305-7d21b2f8a78b",
   "metadata": {},
   "outputs": [],
   "source": []
  }
 ],
 "metadata": {
  "kernelspec": {
   "display_name": "Python 3 (ipykernel)",
   "language": "python",
   "name": "python3"
  },
  "language_info": {
   "codemirror_mode": {
    "name": "ipython",
    "version": 3
   },
   "file_extension": ".py",
   "mimetype": "text/x-python",
   "name": "python",
   "nbconvert_exporter": "python",
   "pygments_lexer": "ipython3",
   "version": "3.9.10"
  }
 },
 "nbformat": 4,
 "nbformat_minor": 5
}
