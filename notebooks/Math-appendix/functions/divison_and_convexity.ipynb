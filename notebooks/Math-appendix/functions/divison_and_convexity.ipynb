{
 "cells": [
  {
   "cell_type": "markdown",
   "metadata": {},
   "source": [
    "# Overview\n",
    "Given 4 different items (say, shipments), there are two different ways to calculate the average density of the shipments.\n",
    "\n",
    "### Method 1\n",
    "$$\\text{Density} = \\frac{\\sum_{i=1}^4 weight_i}{\\sum_{i=1}^4 volume_i} = \\frac{weight_1 + weight_2 + weight_3 + weight_4}{volume_1 + volume_2 +  volume_3 + volume_4}$$\n",
    "\n",
    "### Method 2\n",
    "$$\\text{Average Density} = \\sum_{i=1}^4 density_i = density_1 + density_2 + density_3 + density_4 = \n",
    "\\frac{weight_1}{volume_1} + \\frac{weight_2}{volume_2} + \\frac{weight_3}{volume_3} + \\frac{weight_4}{volume_4}$$\n",
    "\n",
    "### Comparison\n",
    "So, we want to examine and understand the different between the following two metrics:\n",
    "\n",
    "$$\\frac{weight_1 + weight_2 + weight_3 + weight_4}{volume_1 + volume_2 +  volume_3 + volume_4} \\;\\;\\; \\text{vs} \\;\\;\\;\n",
    "\\frac{weight_1}{volume_1} + \\frac{weight_2}{volume_2} + \\frac{weight_3}{volume_3} + \\frac{weight_4}{volume_4}$$"
   ]
  }
 ],
 "metadata": {
  "kernelspec": {
   "display_name": "Python 3",
   "language": "python",
   "name": "python3"
  },
  "language_info": {
   "codemirror_mode": {
    "name": "ipython",
    "version": 3
   },
   "file_extension": ".py",
   "mimetype": "text/x-python",
   "name": "python",
   "nbconvert_exporter": "python",
   "pygments_lexer": "ipython3",
   "version": "3.7.1"
  }
 },
 "nbformat": 4,
 "nbformat_minor": 2
}
