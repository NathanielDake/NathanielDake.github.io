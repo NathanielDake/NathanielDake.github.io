{
 "cells": [
  {
   "cell_type": "code",
   "execution_count": 1,
   "id": "8493e9a0-e1b3-42a7-8d77-2505fa26593d",
   "metadata": {},
   "outputs": [],
   "source": [
    "import numpy as np\n",
    "import matplotlib.pyplot as plt"
   ]
  },
  {
   "cell_type": "code",
   "execution_count": 21,
   "id": "63f6152e-6294-47c3-ad31-5c0d22d03ff0",
   "metadata": {},
   "outputs": [],
   "source": [
    "def series(n):\n",
    "    total = 0\n",
    "    for i in range(1, n+1):\n",
    "        to_add = 1 / (i * (i + 1))\n",
    "        total += to_add\n",
    "    return total"
   ]
  },
  {
   "cell_type": "code",
   "execution_count": 22,
   "id": "3dcb23ba-220b-45bf-ac2b-dc9f5b29fe34",
   "metadata": {},
   "outputs": [
    {
     "name": "stdout",
     "output_type": "stream",
     "text": [
      "0.9900990099009898\n"
     ]
    }
   ],
   "source": [
    "res = series(100)\n",
    "print(res)"
   ]
  },
  {
   "cell_type": "code",
   "execution_count": 8,
   "id": "a7153c7f-852d-4116-b51e-142e65d34958",
   "metadata": {},
   "outputs": [
    {
     "name": "stdout",
     "output_type": "stream",
     "text": [
      "0.9990009990009997\n",
      "CPU times: user 271 µs, sys: 58 µs, total: 329 µs\n",
      "Wall time: 305 µs\n"
     ]
    }
   ],
   "source": [
    "%%time\n",
    "res = series(1000)\n",
    "print(res)"
   ]
  },
  {
   "cell_type": "code",
   "execution_count": 9,
   "id": "ab6e49a4-54bc-4931-a859-98ace63898d9",
   "metadata": {},
   "outputs": [
    {
     "name": "stdout",
     "output_type": "stream",
     "text": [
      "0.9999000099990007\n",
      "CPU times: user 1.78 ms, sys: 141 µs, total: 1.92 ms\n",
      "Wall time: 1.89 ms\n"
     ]
    }
   ],
   "source": [
    "%%time\n",
    "res = series(10000)\n",
    "print(res)"
   ]
  },
  {
   "cell_type": "code",
   "execution_count": 10,
   "id": "8e79ce1e-bb6a-488e-844f-b13571e4cf60",
   "metadata": {},
   "outputs": [
    {
     "name": "stdout",
     "output_type": "stream",
     "text": [
      "0.9999900001000122\n",
      "CPU times: user 14.1 ms, sys: 527 µs, total: 14.6 ms\n",
      "Wall time: 14.4 ms\n"
     ]
    }
   ],
   "source": [
    "%%time\n",
    "res = series(100000)\n",
    "print(res)"
   ]
  },
  {
   "cell_type": "code",
   "execution_count": 11,
   "id": "a5a0db73-6b70-418b-84aa-5eaf0fc19377",
   "metadata": {},
   "outputs": [
    {
     "name": "stdout",
     "output_type": "stream",
     "text": [
      "0.9999990000010476\n",
      "CPU times: user 134 ms, sys: 2.83 ms, total: 136 ms\n",
      "Wall time: 135 ms\n"
     ]
    }
   ],
   "source": [
    "%%time\n",
    "res = series(1000000)\n",
    "print(res)"
   ]
  },
  {
   "cell_type": "code",
   "execution_count": 23,
   "id": "dca21ec8-90d0-43e3-981f-dea2e6e2c2ec",
   "metadata": {},
   "outputs": [
    {
     "name": "stdout",
     "output_type": "stream",
     "text": [
      "0.9999998999998153\n",
      "CPU times: user 1.28 s, sys: 7.86 ms, total: 1.29 s\n",
      "Wall time: 1.3 s\n"
     ]
    }
   ],
   "source": [
    "%%time\n",
    "res = series(10000000)\n",
    "print(res)"
   ]
  },
  {
   "cell_type": "markdown",
   "id": "302cd31a-07d4-46c5-be7d-bf15e591b11a",
   "metadata": {},
   "source": [
    "### New series"
   ]
  },
  {
   "cell_type": "code",
   "execution_count": 24,
   "id": "5cb2a5a1-14d9-4ca0-a514-07b210b8a4eb",
   "metadata": {},
   "outputs": [],
   "source": [
    "def series2(n):\n",
    "    total = 0\n",
    "    for i in range(1, n+1):\n",
    "        to_add = 1 / i\n",
    "        total += to_add\n",
    "    return total"
   ]
  },
  {
   "cell_type": "code",
   "execution_count": 27,
   "id": "4032ee12-5b74-4373-8c2b-bb36406f33f1",
   "metadata": {},
   "outputs": [
    {
     "name": "stdout",
     "output_type": "stream",
     "text": [
      "18.997896413852555\n",
      "CPU times: user 6.21 s, sys: 11.4 ms, total: 6.22 s\n",
      "Wall time: 6.24 s\n"
     ]
    }
   ],
   "source": [
    "%%time\n",
    "res = series2(100000000)\n",
    "print(res)"
   ]
  },
  {
   "cell_type": "code",
   "execution_count": null,
   "id": "2fdf1db3-96da-4486-a286-eca8810cb5b3",
   "metadata": {},
   "outputs": [],
   "source": []
  },
  {
   "cell_type": "code",
   "execution_count": null,
   "id": "c36cfd6f-d732-44a4-a92d-89f4b339e9c3",
   "metadata": {},
   "outputs": [],
   "source": []
  }
 ],
 "metadata": {
  "kernelspec": {
   "display_name": "Python 3",
   "language": "python",
   "name": "python3"
  },
  "language_info": {
   "codemirror_mode": {
    "name": "ipython",
    "version": 3
   },
   "file_extension": ".py",
   "mimetype": "text/x-python",
   "name": "python",
   "nbconvert_exporter": "python",
   "pygments_lexer": "ipython3",
   "version": "3.8.0"
  }
 },
 "nbformat": 4,
 "nbformat_minor": 5
}
