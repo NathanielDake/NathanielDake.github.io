{
 "cells": [
  {
   "cell_type": "code",
   "execution_count": 258,
   "metadata": {},
   "outputs": [],
   "source": [
    "import numpy as np\n",
    "import pandas as pd\n",
    "import scipy\n",
    "\n",
    "import matplotlib.pyplot as plt"
   ]
  },
  {
   "cell_type": "markdown",
   "metadata": {},
   "source": [
    "Let `X` be a categorical variable, `size`, and `Y` be a continuous variable, `price`."
   ]
  },
  {
   "cell_type": "code",
   "execution_count": 259,
   "metadata": {},
   "outputs": [],
   "source": [
    "sample_size = 1000"
   ]
  },
  {
   "cell_type": "markdown",
   "metadata": {},
   "source": [
    "### Marginal $X \\longrightarrow p(X)$"
   ]
  },
  {
   "cell_type": "code",
   "execution_count": 260,
   "metadata": {},
   "outputs": [],
   "source": [
    "X = np.array([\n",
    "    ['XS'] * int(sample_size / 5),\n",
    "    ['S'] * int(sample_size / 5),\n",
    "    ['M'] * int(sample_size / 5),\n",
    "    ['L'] * int(sample_size / 5),\n",
    "    ['XL'] * int(sample_size / 5),\n",
    "]).flatten()"
   ]
  },
  {
   "cell_type": "code",
   "execution_count": 261,
   "metadata": {},
   "outputs": [
    {
     "data": {
      "text/plain": [
       "(array(['L', 'M', 'S', 'XL', 'XS'], dtype='<U2'),\n",
       " array([200, 200, 200, 200, 200]))"
      ]
     },
     "execution_count": 261,
     "metadata": {},
     "output_type": "execute_result"
    }
   ],
   "source": [
    "np.unique(X, return_counts=True)"
   ]
  },
  {
   "cell_type": "code",
   "execution_count": 262,
   "metadata": {},
   "outputs": [
    {
     "data": {
      "text/plain": [
       "(array(['L', 'M', 'S', 'XL', 'XS'], dtype='<U2'),\n",
       " array([200, 200, 200, 200, 200]))"
      ]
     },
     "execution_count": 262,
     "metadata": {},
     "output_type": "execute_result"
    }
   ],
   "source": [
    "np.unique(X, return_counts=True)"
   ]
  },
  {
   "cell_type": "code",
   "execution_count": 263,
   "metadata": {},
   "outputs": [],
   "source": [
    "def marginal_X(X, sample_size):\n",
    "    X_unique_counts = np.unique(X, return_counts=True)\n",
    "    p_X = {val: count / sample_size for val, count in zip(X_unique_counts[0], X_unique_counts[1])}\n",
    "    return p_X"
   ]
  },
  {
   "cell_type": "code",
   "execution_count": 264,
   "metadata": {},
   "outputs": [
    {
     "data": {
      "text/plain": [
       "{'L': 0.2, 'M': 0.2, 'S': 0.2, 'XL': 0.2, 'XS': 0.2}"
      ]
     },
     "execution_count": 264,
     "metadata": {},
     "output_type": "execute_result"
    }
   ],
   "source": [
    "p_X = marginal_X(X, sample_size)\n",
    "p_X"
   ]
  },
  {
   "cell_type": "markdown",
   "metadata": {},
   "source": [
    "### Marginal $Y \\longrightarrow p(Y)$"
   ]
  },
  {
   "cell_type": "code",
   "execution_count": 265,
   "metadata": {},
   "outputs": [],
   "source": [
    "Y = np.linspace(start=5, stop=35, num=sample_size) + np.random.random(sample_size)"
   ]
  },
  {
   "cell_type": "code",
   "execution_count": 266,
   "metadata": {},
   "outputs": [
    {
     "data": {
      "text/plain": [
       "[<matplotlib.lines.Line2D at 0x126ce2e48>]"
      ]
     },
     "execution_count": 266,
     "metadata": {},
     "output_type": "execute_result"
    },
    {
     "data": {
      "image/png": "[encoded data removed]",
      "text/plain": [
       "<Figure size 432x288 with 1 Axes>"
      ]
     },
     "metadata": {
      "needs_background": "light"
     },
     "output_type": "display_data"
    }
   ],
   "source": [
    "plt.plot(Y)"
   ]
  },
  {
   "cell_type": "code",
   "execution_count": 325,
   "metadata": {},
   "outputs": [],
   "source": [
    "def marginal_Y(Y, sample_size, num_bins=None):\n",
    "    if num_bins is None:\n",
    "        num_bins = int(np.sqrt(sample_size / 5))\n",
    "    Y_hist = np.histogram(Y, bins=num_bins, range=(Y.min(), Y.max()))\n",
    "    p_Y= {}\n",
    "    for idx, (count, edge) in enumerate(zip(Y_hist[0], Y_hist[1])):\n",
    "        p_Y[(Y_hist[1][idx], Y_hist[1][idx + 1])] = count / sample_size\n",
    "    return p_Y"
   ]
  },
  {
   "cell_type": "code",
   "execution_count": 390,
   "metadata": {},
   "outputs": [
    {
     "data": {
      "text/plain": [
       "{(5.148912859534579, 7.346953545759664): 0.061,\n",
       " (7.346953545759664, 9.544994231984749): 0.073,\n",
       " (9.544994231984749, 11.743034918209833): 0.076,\n",
       " (11.743034918209833, 13.941075604434918): 0.073,\n",
       " (13.941075604434918, 16.139116290660002): 0.072,\n",
       " (16.139116290660002, 18.33715697688509): 0.078,\n",
       " (18.33715697688509, 20.535197663110175): 0.07,\n",
       " (20.535197663110175, 22.73323834933526): 0.071,\n",
       " (22.73323834933526, 24.931279035560344): 0.072,\n",
       " (24.931279035560344, 27.12931972178543): 0.073,\n",
       " (27.12931972178543, 29.327360408010513): 0.078,\n",
       " (29.327360408010513, 31.5254010942356): 0.071,\n",
       " (31.5254010942356, 33.72344178046068): 0.077,\n",
       " (33.72344178046068, 35.92148246668577): 0.055}"
      ]
     },
     "execution_count": 390,
     "metadata": {},
     "output_type": "execute_result"
    }
   ],
   "source": [
    "p_Y = marginal_Y(Y, sample_size, num_bins=None)\n",
    "p_Y"
   ]
  },
  {
   "cell_type": "markdown",
   "metadata": {},
   "source": [
    "### Joint Distribution $\\longrightarrow p(X, Y)$"
   ]
  },
  {
   "cell_type": "code",
   "execution_count": 391,
   "metadata": {},
   "outputs": [],
   "source": [
    "def get_Y_bins(Y, p_Y):\n",
    "    Y_bins = []\n",
    "    for y in Y:\n",
    "        for key in list(p_Y.keys()):\n",
    "            if (y >= key[0]) and (y <= key[1]):\n",
    "                Y_bins.append(key)\n",
    "    return Y_bins\n",
    "\n",
    "\n",
    "def create_joint_observations(X, Y, p_X, p_Y):\n",
    "    Y_bins = get_Y_bins(Y, p_Y)\n",
    "    XYs = []\n",
    "    for x, y in zip(X, Y_bins):\n",
    "        XYs.append((x, y))\n",
    "    return pd.Series(XYs)\n",
    "\n",
    "\n",
    "def joint_X_Y(X, Y, p_X, p_Y, sample_size):\n",
    "    XYs = create_joint_observations(X, Y, p_X, p_Y)\n",
    "    p_X_Y = dict(pd.Series(XYs).value_counts() / sample_size)\n",
    "    return p_X_Y"
   ]
  },
  {
   "cell_type": "code",
   "execution_count": 392,
   "metadata": {},
   "outputs": [],
   "source": [
    "p_X_Y = joint_X_Y(X, Y, p_X, p_Y, sample_size)"
   ]
  },
  {
   "cell_type": "code",
   "execution_count": 393,
   "metadata": {},
   "outputs": [
    {
     "data": {
      "text/plain": [
       "{('XL', (31.5254010942356, 33.72344178046068)): 0.077,\n",
       " ('L', (27.12931972178543, 29.327360408010513)): 0.076,\n",
       " ('XS', (7.346953545759664, 9.544994231984749)): 0.073,\n",
       " ('L', (24.931279035560344, 27.12931972178543)): 0.073,\n",
       " ('S', (13.941075604434918, 16.139116290660002)): 0.072,\n",
       " ('S', (11.743034918209833, 13.941075604434918)): 0.072,\n",
       " ('M', (20.535197663110175, 22.73323834933526)): 0.071,\n",
       " ('M', (18.33715697688509, 20.535197663110175)): 0.07,\n",
       " ('XL', (29.327360408010513, 31.5254010942356)): 0.066,\n",
       " ('XS', (9.544994231984749, 11.743034918209833)): 0.065,\n",
       " ('XS', (5.148912859534579, 7.346953545759664)): 0.061,\n",
       " ('XL', (33.72344178046068, 35.92148246668577)): 0.055,\n",
       " ('L', (22.73323834933526, 24.931279035560344)): 0.046,\n",
       " ('S', (16.139116290660002, 18.33715697688509)): 0.045,\n",
       " ('M', (16.139116290660002, 18.33715697688509)): 0.033,\n",
       " ('M', (22.73323834933526, 24.931279035560344)): 0.026,\n",
       " ('S', (9.544994231984749, 11.743034918209833)): 0.011,\n",
       " ('L', (29.327360408010513, 31.5254010942356)): 0.005,\n",
       " ('XL', (27.12931972178543, 29.327360408010513)): 0.002,\n",
       " ('XS', (11.743034918209833, 13.941075604434918)): 0.001}"
      ]
     },
     "execution_count": 393,
     "metadata": {},
     "output_type": "execute_result"
    }
   ],
   "source": [
    "p_X_Y"
   ]
  },
  {
   "cell_type": "code",
   "execution_count": 394,
   "metadata": {},
   "outputs": [],
   "source": [
    "def create_base_joint_dist_of_zeros(p_X, p_Y):\n",
    "    indep_p_X_Y = {}\n",
    "    for x, p_x in p_X.items():\n",
    "        for y, p_y in p_Y.items():\n",
    "            indep_p_X_Y[(x, y)] = 0\n",
    "    return indep_p_X_Y"
   ]
  },
  {
   "cell_type": "code",
   "execution_count": null,
   "metadata": {},
   "outputs": [],
   "source": []
  },
  {
   "cell_type": "code",
   "execution_count": 395,
   "metadata": {},
   "outputs": [
    {
     "data": {
      "text/plain": [
       "{('L', (5.148912859534579, 7.346953545759664)): 0,\n",
       " ('L', (7.346953545759664, 9.544994231984749)): 0,\n",
       " ('L', (9.544994231984749, 11.743034918209833)): 0,\n",
       " ('L', (11.743034918209833, 13.941075604434918)): 0,\n",
       " ('L', (13.941075604434918, 16.139116290660002)): 0,\n",
       " ('L', (16.139116290660002, 18.33715697688509)): 0,\n",
       " ('L', (18.33715697688509, 20.535197663110175)): 0,\n",
       " ('L', (20.535197663110175, 22.73323834933526)): 0,\n",
       " ('L', (22.73323834933526, 24.931279035560344)): 0.046,\n",
       " ('L', (24.931279035560344, 27.12931972178543)): 0.073,\n",
       " ('L', (27.12931972178543, 29.327360408010513)): 0.076,\n",
       " ('L', (29.327360408010513, 31.5254010942356)): 0.005,\n",
       " ('L', (31.5254010942356, 33.72344178046068)): 0,\n",
       " ('L', (33.72344178046068, 35.92148246668577)): 0,\n",
       " ('M', (5.148912859534579, 7.346953545759664)): 0,\n",
       " ('M', (7.346953545759664, 9.544994231984749)): 0,\n",
       " ('M', (9.544994231984749, 11.743034918209833)): 0,\n",
       " ('M', (11.743034918209833, 13.941075604434918)): 0,\n",
       " ('M', (13.941075604434918, 16.139116290660002)): 0,\n",
       " ('M', (16.139116290660002, 18.33715697688509)): 0.033,\n",
       " ('M', (18.33715697688509, 20.535197663110175)): 0.07,\n",
       " ('M', (20.535197663110175, 22.73323834933526)): 0.071,\n",
       " ('M', (22.73323834933526, 24.931279035560344)): 0.026,\n",
       " ('M', (24.931279035560344, 27.12931972178543)): 0,\n",
       " ('M', (27.12931972178543, 29.327360408010513)): 0,\n",
       " ('M', (29.327360408010513, 31.5254010942356)): 0,\n",
       " ('M', (31.5254010942356, 33.72344178046068)): 0,\n",
       " ('M', (33.72344178046068, 35.92148246668577)): 0,\n",
       " ('S', (5.148912859534579, 7.346953545759664)): 0,\n",
       " ('S', (7.346953545759664, 9.544994231984749)): 0,\n",
       " ('S', (9.544994231984749, 11.743034918209833)): 0.011,\n",
       " ('S', (11.743034918209833, 13.941075604434918)): 0.072,\n",
       " ('S', (13.941075604434918, 16.139116290660002)): 0.072,\n",
       " ('S', (16.139116290660002, 18.33715697688509)): 0.045,\n",
       " ('S', (18.33715697688509, 20.535197663110175)): 0,\n",
       " ('S', (20.535197663110175, 22.73323834933526)): 0,\n",
       " ('S', (22.73323834933526, 24.931279035560344)): 0,\n",
       " ('S', (24.931279035560344, 27.12931972178543)): 0,\n",
       " ('S', (27.12931972178543, 29.327360408010513)): 0,\n",
       " ('S', (29.327360408010513, 31.5254010942356)): 0,\n",
       " ('S', (31.5254010942356, 33.72344178046068)): 0,\n",
       " ('S', (33.72344178046068, 35.92148246668577)): 0,\n",
       " ('XL', (5.148912859534579, 7.346953545759664)): 0,\n",
       " ('XL', (7.346953545759664, 9.544994231984749)): 0,\n",
       " ('XL', (9.544994231984749, 11.743034918209833)): 0,\n",
       " ('XL', (11.743034918209833, 13.941075604434918)): 0,\n",
       " ('XL', (13.941075604434918, 16.139116290660002)): 0,\n",
       " ('XL', (16.139116290660002, 18.33715697688509)): 0,\n",
       " ('XL', (18.33715697688509, 20.535197663110175)): 0,\n",
       " ('XL', (20.535197663110175, 22.73323834933526)): 0,\n",
       " ('XL', (22.73323834933526, 24.931279035560344)): 0,\n",
       " ('XL', (24.931279035560344, 27.12931972178543)): 0,\n",
       " ('XL', (27.12931972178543, 29.327360408010513)): 0.002,\n",
       " ('XL', (29.327360408010513, 31.5254010942356)): 0.066,\n",
       " ('XL', (31.5254010942356, 33.72344178046068)): 0.077,\n",
       " ('XL', (33.72344178046068, 35.92148246668577)): 0.055,\n",
       " ('XS', (5.148912859534579, 7.346953545759664)): 0.061,\n",
       " ('XS', (7.346953545759664, 9.544994231984749)): 0.073,\n",
       " ('XS', (9.544994231984749, 11.743034918209833)): 0.065,\n",
       " ('XS', (11.743034918209833, 13.941075604434918)): 0.001,\n",
       " ('XS', (13.941075604434918, 16.139116290660002)): 0,\n",
       " ('XS', (16.139116290660002, 18.33715697688509)): 0,\n",
       " ('XS', (18.33715697688509, 20.535197663110175)): 0,\n",
       " ('XS', (20.535197663110175, 22.73323834933526)): 0,\n",
       " ('XS', (22.73323834933526, 24.931279035560344)): 0,\n",
       " ('XS', (24.931279035560344, 27.12931972178543)): 0,\n",
       " ('XS', (27.12931972178543, 29.327360408010513)): 0,\n",
       " ('XS', (29.327360408010513, 31.5254010942356)): 0,\n",
       " ('XS', (31.5254010942356, 33.72344178046068)): 0,\n",
       " ('XS', (33.72344178046068, 35.92148246668577)): 0}"
      ]
     },
     "execution_count": 395,
     "metadata": {},
     "output_type": "execute_result"
    }
   ],
   "source": [
    "base_joint_dist_of_zeros = create_base_joint_dist_of_zeros(p_X, p_Y)\n",
    "base_joint_dist_of_zeros.update(p_X_Y)\n",
    "p_X_Y = base_joint_dist_of_zeros\n",
    "p_X_Y"
   ]
  },
  {
   "cell_type": "markdown",
   "metadata": {},
   "source": [
    "### Joint Distribution if independent (mutual information = 0) $\\longrightarrow p(X)p(Y)$\n",
    "Want to make sure that I am not making a mistake here!!!!"
   ]
  },
  {
   "cell_type": "code",
   "execution_count": 396,
   "metadata": {},
   "outputs": [],
   "source": [
    "def independent_joint_X_Y(p_X, p_Y):\n",
    "    indep_p_X_Y = {}\n",
    "    for x, p_x in p_X.items():\n",
    "        for y, p_y in p_Y.items():\n",
    "            indep_p_X_Y[(x, y)] = p_x * p_y\n",
    "    return indep_p_X_Y"
   ]
  },
  {
   "cell_type": "code",
   "execution_count": 397,
   "metadata": {},
   "outputs": [
    {
     "data": {
      "text/plain": [
       "{('L', (5.148912859534579, 7.346953545759664)): 0.0122,\n",
       " ('L', (7.346953545759664, 9.544994231984749)): 0.0146,\n",
       " ('L', (9.544994231984749, 11.743034918209833)): 0.0152,\n",
       " ('L', (11.743034918209833, 13.941075604434918)): 0.0146,\n",
       " ('L', (13.941075604434918, 16.139116290660002)): 0.0144,\n",
       " ('L', (16.139116290660002, 18.33715697688509)): 0.015600000000000001,\n",
       " ('L', (18.33715697688509, 20.535197663110175)): 0.014000000000000002,\n",
       " ('L', (20.535197663110175, 22.73323834933526)): 0.014199999999999999,\n",
       " ('L', (22.73323834933526, 24.931279035560344)): 0.0144,\n",
       " ('L', (24.931279035560344, 27.12931972178543)): 0.0146,\n",
       " ('L', (27.12931972178543, 29.327360408010513)): 0.015600000000000001,\n",
       " ('L', (29.327360408010513, 31.5254010942356)): 0.014199999999999999,\n",
       " ('L', (31.5254010942356, 33.72344178046068)): 0.0154,\n",
       " ('L', (33.72344178046068, 35.92148246668577)): 0.011000000000000001,\n",
       " ('M', (5.148912859534579, 7.346953545759664)): 0.0122,\n",
       " ('M', (7.346953545759664, 9.544994231984749)): 0.0146,\n",
       " ('M', (9.544994231984749, 11.743034918209833)): 0.0152,\n",
       " ('M', (11.743034918209833, 13.941075604434918)): 0.0146,\n",
       " ('M', (13.941075604434918, 16.139116290660002)): 0.0144,\n",
       " ('M', (16.139116290660002, 18.33715697688509)): 0.015600000000000001,\n",
       " ('M', (18.33715697688509, 20.535197663110175)): 0.014000000000000002,\n",
       " ('M', (20.535197663110175, 22.73323834933526)): 0.014199999999999999,\n",
       " ('M', (22.73323834933526, 24.931279035560344)): 0.0144,\n",
       " ('M', (24.931279035560344, 27.12931972178543)): 0.0146,\n",
       " ('M', (27.12931972178543, 29.327360408010513)): 0.015600000000000001,\n",
       " ('M', (29.327360408010513, 31.5254010942356)): 0.014199999999999999,\n",
       " ('M', (31.5254010942356, 33.72344178046068)): 0.0154,\n",
       " ('M', (33.72344178046068, 35.92148246668577)): 0.011000000000000001,\n",
       " ('S', (5.148912859534579, 7.346953545759664)): 0.0122,\n",
       " ('S', (7.346953545759664, 9.544994231984749)): 0.0146,\n",
       " ('S', (9.544994231984749, 11.743034918209833)): 0.0152,\n",
       " ('S', (11.743034918209833, 13.941075604434918)): 0.0146,\n",
       " ('S', (13.941075604434918, 16.139116290660002)): 0.0144,\n",
       " ('S', (16.139116290660002, 18.33715697688509)): 0.015600000000000001,\n",
       " ('S', (18.33715697688509, 20.535197663110175)): 0.014000000000000002,\n",
       " ('S', (20.535197663110175, 22.73323834933526)): 0.014199999999999999,\n",
       " ('S', (22.73323834933526, 24.931279035560344)): 0.0144,\n",
       " ('S', (24.931279035560344, 27.12931972178543)): 0.0146,\n",
       " ('S', (27.12931972178543, 29.327360408010513)): 0.015600000000000001,\n",
       " ('S', (29.327360408010513, 31.5254010942356)): 0.014199999999999999,\n",
       " ('S', (31.5254010942356, 33.72344178046068)): 0.0154,\n",
       " ('S', (33.72344178046068, 35.92148246668577)): 0.011000000000000001,\n",
       " ('XL', (5.148912859534579, 7.346953545759664)): 0.0122,\n",
       " ('XL', (7.346953545759664, 9.544994231984749)): 0.0146,\n",
       " ('XL', (9.544994231984749, 11.743034918209833)): 0.0152,\n",
       " ('XL', (11.743034918209833, 13.941075604434918)): 0.0146,\n",
       " ('XL', (13.941075604434918, 16.139116290660002)): 0.0144,\n",
       " ('XL', (16.139116290660002, 18.33715697688509)): 0.015600000000000001,\n",
       " ('XL', (18.33715697688509, 20.535197663110175)): 0.014000000000000002,\n",
       " ('XL', (20.535197663110175, 22.73323834933526)): 0.014199999999999999,\n",
       " ('XL', (22.73323834933526, 24.931279035560344)): 0.0144,\n",
       " ('XL', (24.931279035560344, 27.12931972178543)): 0.0146,\n",
       " ('XL', (27.12931972178543, 29.327360408010513)): 0.015600000000000001,\n",
       " ('XL', (29.327360408010513, 31.5254010942356)): 0.014199999999999999,\n",
       " ('XL', (31.5254010942356, 33.72344178046068)): 0.0154,\n",
       " ('XL', (33.72344178046068, 35.92148246668577)): 0.011000000000000001,\n",
       " ('XS', (5.148912859534579, 7.346953545759664)): 0.0122,\n",
       " ('XS', (7.346953545759664, 9.544994231984749)): 0.0146,\n",
       " ('XS', (9.544994231984749, 11.743034918209833)): 0.0152,\n",
       " ('XS', (11.743034918209833, 13.941075604434918)): 0.0146,\n",
       " ('XS', (13.941075604434918, 16.139116290660002)): 0.0144,\n",
       " ('XS', (16.139116290660002, 18.33715697688509)): 0.015600000000000001,\n",
       " ('XS', (18.33715697688509, 20.535197663110175)): 0.014000000000000002,\n",
       " ('XS', (20.535197663110175, 22.73323834933526)): 0.014199999999999999,\n",
       " ('XS', (22.73323834933526, 24.931279035560344)): 0.0144,\n",
       " ('XS', (24.931279035560344, 27.12931972178543)): 0.0146,\n",
       " ('XS', (27.12931972178543, 29.327360408010513)): 0.015600000000000001,\n",
       " ('XS', (29.327360408010513, 31.5254010942356)): 0.014199999999999999,\n",
       " ('XS', (31.5254010942356, 33.72344178046068)): 0.0154,\n",
       " ('XS', (33.72344178046068, 35.92148246668577)): 0.011000000000000001}"
      ]
     },
     "execution_count": 397,
     "metadata": {},
     "output_type": "execute_result"
    }
   ],
   "source": [
    "indep_p_X_Y = independent_joint_X_Y(p_X, p_Y)\n",
    "indep_p_X_Y"
   ]
  },
  {
   "cell_type": "code",
   "execution_count": 398,
   "metadata": {},
   "outputs": [],
   "source": [
    "def mutual_information(X, Y, p_X, p_Y, p_X_Y, indep_p_X_Y):\n",
    "    x_vals = np.unique(X)\n",
    "    y_vals = list(p_Y.keys())\n",
    "    \n",
    "    mutual_inf = 0\n",
    "    for x in x_vals:\n",
    "        for y in y_vals:\n",
    "#             print(np.log(p_X_Y[(x, y)] / indep_p_X_Y[(x, y)]))\n",
    "            if p_X_Y[(x, y)] != 0:\n",
    "                mutual_inf += p_X_Y[(x, y)] * np.log(p_X_Y[(x, y)] / indep_p_X_Y[(x, y)])\n",
    "    return mutual_inf"
   ]
  },
  {
   "cell_type": "code",
   "execution_count": 399,
   "metadata": {},
   "outputs": [
    {
     "data": {
      "text/plain": [
       "1.445112818232906"
      ]
     },
     "execution_count": 399,
     "metadata": {},
     "output_type": "execute_result"
    }
   ],
   "source": [
    "mutual_information(X, Y, p_X, p_Y, p_X_Y, indep_p_X_Y)"
   ]
  },
  {
   "cell_type": "code",
   "execution_count": 400,
   "metadata": {},
   "outputs": [],
   "source": [
    "def entropy(p_X):\n",
    "    entropy = 0\n",
    "    for p_x in p_X.values():\n",
    "        entropy += p_x * np.log(1 / p_x)  \n",
    "    return entropy"
   ]
  },
  {
   "cell_type": "code",
   "execution_count": 401,
   "metadata": {},
   "outputs": [
    {
     "data": {
      "text/plain": [
       "1.6094379124341005"
      ]
     },
     "execution_count": 401,
     "metadata": {},
     "output_type": "execute_result"
    }
   ],
   "source": [
    "entropy(p_X)"
   ]
  },
  {
   "cell_type": "code",
   "execution_count": 402,
   "metadata": {},
   "outputs": [
    {
     "data": {
      "text/plain": [
       "2.6351875715385766"
      ]
     },
     "execution_count": 402,
     "metadata": {},
     "output_type": "execute_result"
    }
   ],
   "source": [
    "entropy(p_Y)"
   ]
  },
  {
   "cell_type": "code",
   "execution_count": 403,
   "metadata": {},
   "outputs": [],
   "source": [
    "def normalized_information_distance(X, Y, p_X, p_Y, p_X_Y, indep_p_X_Y):\n",
    "    return 1 - (mutual_information(X, Y, p_X, p_Y, p_X_Y, indep_p_X_Y) / max(entropy(p_X), entropy(p_Y)))"
   ]
  },
  {
   "cell_type": "code",
   "execution_count": 376,
   "metadata": {},
   "outputs": [
    {
     "data": {
      "text/plain": [
       "0.45160912496670413"
      ]
     },
     "execution_count": 376,
     "metadata": {},
     "output_type": "execute_result"
    }
   ],
   "source": [
    "normalized_information_distance(X, Y, p_X, p_Y, p_X_Y, indep_p_X_Y)"
   ]
  },
  {
   "cell_type": "markdown",
   "metadata": {},
   "source": [
    "### Try `entropy_estimators` package"
   ]
  },
  {
   "cell_type": "code",
   "execution_count": 405,
   "metadata": {},
   "outputs": [],
   "source": [
    "import warnings\n",
    "\n",
    "import numpy as np\n",
    "import numpy.linalg as la\n",
    "from numpy import log\n",
    "from scipy.special import digamma\n",
    "from sklearn.neighbors import BallTree, KDTree\n",
    "\n",
    "# CONTINUOUS ESTIMATORS\n",
    "\n",
    "\n",
    "def entropy(x, k=3, base=2):\n",
    "    \"\"\" The classic K-L k-nearest neighbor continuous entropy estimator\n",
    "        x should be a list of vectors, e.g. x = [[1.3], [3.7], [5.1], [2.4]]\n",
    "        if x is a one-dimensional scalar and we have four samples\n",
    "    \"\"\"\n",
    "    assert k <= len(x) - 1, \"Set k smaller than num. samples - 1\"\n",
    "    x = np.asarray(x)\n",
    "    n_elements, n_features = x.shape\n",
    "    x = add_noise(x)\n",
    "    tree = build_tree(x)\n",
    "    nn = query_neighbors(tree, x, k)\n",
    "    const = digamma(n_elements) - digamma(k) + n_features * log(2)\n",
    "    return (const + n_features * np.log(nn).mean()) / log(base)\n",
    "\n",
    "\n",
    "def centropy(x, y, k=3, base=2):\n",
    "    \"\"\" The classic K-L k-nearest neighbor continuous entropy estimator for the\n",
    "        entropy of X conditioned on Y.\n",
    "    \"\"\"\n",
    "    xy = np.c_[x, y]\n",
    "    entropy_union_xy = entropy(xy, k=k, base=base)\n",
    "    entropy_y = entropy(y, k=k, base=base)\n",
    "    return entropy_union_xy - entropy_y\n",
    "\n",
    "\n",
    "def tc(xs, k=3, base=2):\n",
    "    xs_columns = np.expand_dims(xs, axis=0).T\n",
    "    entropy_features = [entropy(col, k=k, base=base) for col in xs_columns]\n",
    "    return np.sum(entropy_features) - entropy(xs, k, base)\n",
    "\n",
    "\n",
    "def ctc(xs, y, k=3, base=2):\n",
    "    xs_columns = np.expand_dims(xs, axis=0).T\n",
    "    centropy_features = [centropy(col, y, k=k, base=base)\n",
    "                         for col in xs_columns]\n",
    "    return np.sum(centropy_features) - centropy(xs, y, k, base)\n",
    "\n",
    "\n",
    "def corex(xs, ys, k=3, base=2):\n",
    "    xs_columns = np.expand_dims(xs, axis=0).T\n",
    "    cmi_features = [mi(col, ys, k=k, base=base) for col in xs_columns]\n",
    "    return np.sum(cmi_features) - mi(xs, ys, k=k, base=base)\n",
    "\n",
    "\n",
    "def mi(x, y, z=None, k=3, base=2, alpha=0):\n",
    "    \"\"\" Mutual information of x and y (conditioned on z if z is not None)\n",
    "        x, y should be a list of vectors, e.g. x = [[1.3], [3.7], [5.1], [2.4]]\n",
    "        if x is a one-dimensional scalar and we have four samples\n",
    "    \"\"\"\n",
    "    assert len(x) == len(y), \"Arrays should have same length\"\n",
    "    assert k <= len(x) - 1, \"Set k smaller than num. samples - 1\"\n",
    "    x, y = np.asarray(x), np.asarray(y)\n",
    "    x, y = x.reshape(x.shape[0], -1), y.reshape(y.shape[0], -1)\n",
    "    x = add_noise(x)\n",
    "    y = add_noise(y)\n",
    "    points = [x, y]\n",
    "    if z is not None:\n",
    "        z = np.asarray(z)\n",
    "        z = z.reshape(z.shape[0], -1)\n",
    "        points.append(z)\n",
    "    points = np.hstack(points)\n",
    "    # Find nearest neighbors in joint space, p=inf means max-norm\n",
    "    tree = build_tree(points)\n",
    "    dvec = query_neighbors(tree, points, k)\n",
    "    if z is None:\n",
    "        a, b, c, d = avgdigamma(x, dvec), avgdigamma(\n",
    "            y, dvec), digamma(k), digamma(len(x))\n",
    "        if alpha > 0:\n",
    "            d += lnc_correction(tree, points, k, alpha)\n",
    "    else:\n",
    "        xz = np.c_[x, z]\n",
    "        yz = np.c_[y, z]\n",
    "        a, b, c, d = avgdigamma(xz, dvec), avgdigamma(\n",
    "            yz, dvec), avgdigamma(z, dvec), digamma(k)\n",
    "    return (-a - b + c + d) / log(base)\n",
    "\n",
    "\n",
    "def cmi(x, y, z, k=3, base=2):\n",
    "    \"\"\" Mutual information of x and y, conditioned on z\n",
    "        Legacy function. Use mi(x, y, z) directly.\n",
    "    \"\"\"\n",
    "    return mi(x, y, z=z, k=k, base=base)\n",
    "\n",
    "\n",
    "def kldiv(x, xp, k=3, base=2):\n",
    "    \"\"\" KL Divergence between p and q for x~p(x), xp~q(x)\n",
    "        x, xp should be a list of vectors, e.g. x = [[1.3], [3.7], [5.1], [2.4]]\n",
    "        if x is a one-dimensional scalar and we have four samples\n",
    "    \"\"\"\n",
    "    assert k < min(len(x), len(xp)), \"Set k smaller than num. samples - 1\"\n",
    "    assert len(x[0]) == len(xp[0]), \"Two distributions must have same dim.\"\n",
    "    x, xp = np.asarray(x), np.asarray(xp)\n",
    "    x, xp = x.reshape(x.shape[0], -1), xp.reshape(xp.shape[0], -1)\n",
    "    d = len(x[0])\n",
    "    n = len(x)\n",
    "    m = len(xp)\n",
    "    const = log(m) - log(n - 1)\n",
    "    tree = build_tree(x)\n",
    "    treep = build_tree(xp)\n",
    "    nn = query_neighbors(tree, x, k)\n",
    "    nnp = query_neighbors(treep, x, k - 1)\n",
    "    return (const + d * (np.log(nnp).mean() - np.log(nn).mean())) / log(base)\n",
    "\n",
    "\n",
    "def lnc_correction(tree, points, k, alpha):\n",
    "    e = 0\n",
    "    n_sample = points.shape[0]\n",
    "    for point in points:\n",
    "        # Find k-nearest neighbors in joint space, p=inf means max norm\n",
    "        knn = tree.query(point[None, :], k=k+1, return_distance=False)[0]\n",
    "        knn_points = points[knn]\n",
    "        # Substract mean of k-nearest neighbor points\n",
    "        knn_points = knn_points - knn_points[0]\n",
    "        # Calculate covariance matrix of k-nearest neighbor points, obtain eigen vectors\n",
    "        covr = knn_points.T @ knn_points / k\n",
    "        _, v = la.eig(covr)\n",
    "        # Calculate PCA-bounding box using eigen vectors\n",
    "        V_rect = np.log(np.abs(knn_points @ v).max(axis=0)).sum()\n",
    "        # Calculate the volume of original box\n",
    "        log_knn_dist = np.log(np.abs(knn_points).max(axis=0)).sum()\n",
    "\n",
    "        # Perform local non-uniformity checking and update correction term\n",
    "        if V_rect < log_knn_dist + np.log(alpha):\n",
    "            e += (log_knn_dist - V_rect) / n_sample\n",
    "    return e\n",
    "\n",
    "\n",
    "# DISCRETE ESTIMATORS\n",
    "def entropyd(sx, base=2):\n",
    "    \"\"\" Discrete entropy estimator\n",
    "        sx is a list of samples\n",
    "    \"\"\"\n",
    "    unique, count = np.unique(sx, return_counts=True, axis=0)\n",
    "    # Convert to float as otherwise integer division results in all 0 for proba.\n",
    "    proba = count.astype(float) / len(sx)\n",
    "    # Avoid 0 division; remove probabilities == 0.0 (removing them does not change the entropy estimate as 0 * log(1/0) = 0.\n",
    "    proba = proba[proba > 0.0]\n",
    "    return np.sum(proba * np.log(1. / proba)) / log(base)\n",
    "\n",
    "\n",
    "def midd(x, y, base=2):\n",
    "    \"\"\" Discrete mutual information estimator\n",
    "        Given a list of samples which can be any hashable object\n",
    "    \"\"\"\n",
    "    assert len(x) == len(y), \"Arrays should have same length\"\n",
    "    return entropyd(x, base) - centropyd(x, y, base)\n",
    "\n",
    "\n",
    "def cmidd(x, y, z, base=2):\n",
    "    \"\"\" Discrete mutual information estimator\n",
    "        Given a list of samples which can be any hashable object\n",
    "    \"\"\"\n",
    "    assert len(x) == len(y) == len(z), \"Arrays should have same length\"\n",
    "    xz = np.c_[x, z]\n",
    "    yz = np.c_[y, z]\n",
    "    xyz = np.c_[x, y, z]\n",
    "    return entropyd(xz, base) + entropyd(yz, base) - entropyd(xyz, base) - entropyd(z, base)\n",
    "\n",
    "\n",
    "def centropyd(x, y, base=2):\n",
    "    \"\"\" The classic K-L k-nearest neighbor continuous entropy estimator for the\n",
    "        entropy of X conditioned on Y.\n",
    "    \"\"\"\n",
    "    xy = np.c_[x, y]\n",
    "    return entropyd(xy, base) - entropyd(y, base)\n",
    "\n",
    "\n",
    "def tcd(xs, base=2):\n",
    "    xs_columns = np.expand_dims(xs, axis=0).T\n",
    "    entropy_features = [entropyd(col, base=base) for col in xs_columns]\n",
    "    return np.sum(entropy_features) - entropyd(xs, base)\n",
    "\n",
    "\n",
    "def ctcd(xs, y, base=2):\n",
    "    xs_columns = np.expand_dims(xs, axis=0).T\n",
    "    centropy_features = [centropyd(col, y, base=base) for col in xs_columns]\n",
    "    return np.sum(centropy_features) - centropyd(xs, y, base)\n",
    "\n",
    "\n",
    "def corexd(xs, ys, base=2):\n",
    "    xs_columns = np.expand_dims(xs, axis=0).T\n",
    "    cmi_features = [midd(col, ys, base=base) for col in xs_columns]\n",
    "    return np.sum(cmi_features) - midd(xs, ys, base)\n",
    "\n",
    "\n",
    "# MIXED ESTIMATORS\n",
    "def micd(x, y, k=3, base=2, warning=True):\n",
    "    \"\"\" If x is continuous and y is discrete, compute mutual information\n",
    "    \"\"\"\n",
    "    assert len(x) == len(y), \"Arrays should have same length\"\n",
    "    entropy_x = entropy(x, k, base)\n",
    "\n",
    "    y_unique, y_count = np.unique(y, return_counts=True, axis=0)\n",
    "    y_proba = y_count / len(y)\n",
    "\n",
    "    entropy_x_given_y = 0.\n",
    "    for yval, py in zip(y_unique, y_proba):\n",
    "        x_given_y = x[(y == yval).all(axis=1)]\n",
    "        if k <= len(x_given_y) - 1:\n",
    "            entropy_x_given_y += py * entropy(x_given_y, k, base)\n",
    "        else:\n",
    "            if warning:\n",
    "                warnings.warn(\"Warning, after conditioning, on y={yval} insufficient data. \"\n",
    "                              \"Assuming maximal entropy in this case.\".format(yval=yval))\n",
    "            entropy_x_given_y += py * entropy_x\n",
    "    return abs(entropy_x - entropy_x_given_y)  # units already applied\n",
    "\n",
    "\n",
    "def midc(x, y, k=3, base=2, warning=True):\n",
    "    return micd(y, x, k, base, warning)\n",
    "\n",
    "\n",
    "def centropycd(x, y, k=3, base=2, warning=True):\n",
    "    return entropy(x, base) - micd(x, y, k, base, warning)\n",
    "\n",
    "\n",
    "def centropydc(x, y, k=3, base=2, warning=True):\n",
    "    return centropycd(y, x, k=k, base=base, warning=warning)\n",
    "\n",
    "\n",
    "def ctcdc(xs, y, k=3, base=2, warning=True):\n",
    "    xs_columns = np.expand_dims(xs, axis=0).T\n",
    "    centropy_features = [centropydc(\n",
    "        col, y, k=k, base=base, warning=warning) for col in xs_columns]\n",
    "    return np.sum(centropy_features) - centropydc(xs, y, k, base, warning)\n",
    "\n",
    "\n",
    "def ctccd(xs, y, k=3, base=2, warning=True):\n",
    "    return ctcdc(y, xs, k=k, base=base, warning=warning)\n",
    "\n",
    "\n",
    "def corexcd(xs, ys, k=3, base=2, warning=True):\n",
    "    return corexdc(ys, xs, k=k, base=base, warning=warning)\n",
    "\n",
    "\n",
    "def corexdc(xs, ys, k=3, base=2, warning=True):\n",
    "    return tcd(xs, base) - ctcdc(xs, ys, k, base, warning)\n",
    "\n",
    "\n",
    "# UTILITY FUNCTIONS\n",
    "\n",
    "def add_noise(x, intens=1e-10):\n",
    "    # small noise to break degeneracy, see doc.\n",
    "    return x + intens * np.random.random_sample(x.shape)\n",
    "\n",
    "\n",
    "def query_neighbors(tree, x, k):\n",
    "    return tree.query(x, k=k + 1)[0][:, k]\n",
    "\n",
    "\n",
    "def count_neighbors(tree, x, r):\n",
    "    return tree.query_radius(x, r, count_only=True)\n",
    "\n",
    "\n",
    "def avgdigamma(points, dvec):\n",
    "    # This part finds number of neighbors in some radius in the marginal space\n",
    "    # returns expectation value of <psi(nx)>\n",
    "    tree = build_tree(points)\n",
    "    dvec = dvec - 1e-15\n",
    "    num_points = count_neighbors(tree, points, dvec)\n",
    "    return np.mean(digamma(num_points))\n",
    "\n",
    "\n",
    "def build_tree(points):\n",
    "    if points.shape[1] >= 20:\n",
    "        return BallTree(points, metric='chebyshev')\n",
    "    return KDTree(points, metric='chebyshev')\n",
    "\n",
    "# TESTS\n",
    "\n",
    "\n",
    "def shuffle_test(measure, x, y, z=False, ns=200, ci=0.95, **kwargs):\n",
    "    \"\"\" Shuffle test\n",
    "        Repeatedly shuffle the x-values and then estimate measure(x, y, [z]).\n",
    "        Returns the mean and conf. interval ('ci=0.95' default) over 'ns' runs.\n",
    "        'measure' could me mi, cmi, e.g. Keyword arguments can be passed.\n",
    "        Mutual information and CMI should have a mean near zero.\n",
    "    \"\"\"\n",
    "    x_clone = np.copy(x)  # A copy that we can shuffle\n",
    "    outputs = []\n",
    "    for i in range(ns):\n",
    "        np.random.shuffle(x_clone)\n",
    "        if z:\n",
    "            outputs.append(measure(x_clone, y, z, **kwargs))\n",
    "        else:\n",
    "            outputs.append(measure(x_clone, y, **kwargs))\n",
    "    outputs.sort()\n",
    "    return np.mean(outputs), (outputs[int((1. - ci) / 2 * ns)], outputs[int((1. + ci) / 2 * ns)])"
   ]
  },
  {
   "cell_type": "code",
   "execution_count": 424,
   "metadata": {},
   "outputs": [
    {
     "data": {
      "text/plain": [
       "2.2152250811705496"
      ]
     },
     "execution_count": 424,
     "metadata": {},
     "output_type": "execute_result"
    }
   ],
   "source": [
    "micd(np.asmatrix(Y).T, np.asmatrix(X).T)"
   ]
  },
  {
   "cell_type": "markdown",
   "metadata": {},
   "source": [
    "## Implement many KS Tests on slices of data (sliced by categorical)"
   ]
  },
  {
   "cell_type": "code",
   "execution_count": 428,
   "metadata": {},
   "outputs": [],
   "source": [
    "from scipy.stats import ks_2samp"
   ]
  },
  {
   "cell_type": "code",
   "execution_count": 444,
   "metadata": {},
   "outputs": [],
   "source": [
    "def create_masks(X):\n",
    "    masks = {}\n",
    "    for x in np.unique(X):\n",
    "        masks[x] = X == x\n",
    "    return masks"
   ]
  },
  {
   "cell_type": "code",
   "execution_count": 445,
   "metadata": {},
   "outputs": [],
   "source": [
    "masks = create_masks(X)"
   ]
  },
  {
   "cell_type": "code",
   "execution_count": 446,
   "metadata": {},
   "outputs": [
    {
     "data": {
      "text/plain": [
       "5"
      ]
     },
     "execution_count": 446,
     "metadata": {},
     "output_type": "execute_result"
    }
   ],
   "source": [
    "len(masks)"
   ]
  },
  {
   "cell_type": "code",
   "execution_count": 449,
   "metadata": {},
   "outputs": [],
   "source": [
    "Y_subsets = {x: Y[mask] for x, mask in masks.items()}"
   ]
  },
  {
   "cell_type": "code",
   "execution_count": null,
   "metadata": {},
   "outputs": [],
   "source": []
  },
  {
   "cell_type": "code",
   "execution_count": 439,
   "metadata": {},
   "outputs": [],
   "source": []
  },
  {
   "cell_type": "code",
   "execution_count": 457,
   "metadata": {},
   "outputs": [],
   "source": [
    "ks_results = {}\n",
    "for x1, y1 in Y_subsets.items():\n",
    "    for x2, y2 in Y_subsets.items():\n",
    "        if x1 != x2:\n",
    "            ks_results[(x1, x2)] = ks_2samp(y1, y2).statistic\n",
    "    "
   ]
  },
  {
   "cell_type": "code",
   "execution_count": 461,
   "metadata": {},
   "outputs": [
    {
     "data": {
      "text/plain": [
       "0.9869999999999999"
      ]
     },
     "execution_count": 461,
     "metadata": {},
     "output_type": "execute_result"
    }
   ],
   "source": [
    "np.array(list(ks_results.values())).mean()"
   ]
  },
  {
   "cell_type": "markdown",
   "metadata": {},
   "source": [
    "## Nearest Neighbor Method\n",
    "See link [here](https://journals.plos.org/plosone/article/file?id=10.1371/journal.pone.0087357&type=printable)."
   ]
  },
  {
   "cell_type": "code",
   "execution_count": 473,
   "metadata": {},
   "outputs": [
    {
     "data": {
      "text/plain": [
       "26.873035594784582"
      ]
     },
     "execution_count": 473,
     "metadata": {},
     "output_type": "execute_result"
    }
   ],
   "source": [
    "i = 100\n",
    "k = 3\n",
    "Y_subsets['L'][i]"
   ]
  },
  {
   "cell_type": "code",
   "execution_count": 483,
   "metadata": {},
   "outputs": [],
   "source": [
    "def find_k_closest_neighbors(X, idx, k=3):\n",
    "    x = X[idx]\n",
    "    distances = np.abs(x - X)\n",
    "    distances_sorted = np.argsort(distances)\n",
    "    return distances_sorted[:k]"
   ]
  },
  {
   "cell_type": "code",
   "execution_count": 484,
   "metadata": {},
   "outputs": [
    {
     "data": {
      "text/plain": [
       "array([100, 126, 124])"
      ]
     },
     "execution_count": 484,
     "metadata": {},
     "output_type": "execute_result"
    }
   ],
   "source": [
    "find_k_closest_neighbors(Y_subsets['L'], 100)"
   ]
  },
  {
   "cell_type": "code",
   "execution_count": 488,
   "metadata": {},
   "outputs": [],
   "source": [
    "def find_d_to_k_closest_neighbor(X, idx, k=3):\n",
    "    k_closest_neighbors = find_k_closest_neighbors(X, idx, k=k)\n",
    "    kth_closest_neighbor = k_closest_neighbors[-1]\n",
    "    d = np.abs(X[idx] - X[kth_closest_neighbor])\n",
    "    return d"
   ]
  },
  {
   "cell_type": "code",
   "execution_count": 503,
   "metadata": {},
   "outputs": [
    {
     "data": {
      "text/plain": [
       "0.0399970753016774"
      ]
     },
     "execution_count": 503,
     "metadata": {},
     "output_type": "execute_result"
    }
   ],
   "source": [
    "d = find_d_to_k_closest_neighbor(Y_subsets['L'], 100)\n",
    "d"
   ]
  },
  {
   "cell_type": "code",
   "execution_count": 493,
   "metadata": {},
   "outputs": [
    {
     "data": {
      "text/plain": [
       "26.873035594784582"
      ]
     },
     "execution_count": 493,
     "metadata": {},
     "output_type": "execute_result"
    }
   ],
   "source": [
    "Y_subsets['L'][i]"
   ]
  },
  {
   "cell_type": "code",
   "execution_count": 500,
   "metadata": {},
   "outputs": [],
   "source": [
    "global_idx = np.where(Y == 26.873035594784582)[0][0]"
   ]
  },
  {
   "cell_type": "code",
   "execution_count": 510,
   "metadata": {},
   "outputs": [
    {
     "data": {
      "text/plain": [
       "26.833038519482905"
      ]
     },
     "execution_count": 510,
     "metadata": {},
     "output_type": "execute_result"
    }
   ],
   "source": [
    "Y[global_idx] - d"
   ]
  },
  {
   "cell_type": "code",
   "execution_count": 509,
   "metadata": {},
   "outputs": [
    {
     "data": {
      "text/plain": [
       "26.91303267008626"
      ]
     },
     "execution_count": 509,
     "metadata": {},
     "output_type": "execute_result"
    }
   ],
   "source": [
    "Y[global_idx] + d"
   ]
  },
  {
   "cell_type": "code",
   "execution_count": 537,
   "metadata": {},
   "outputs": [],
   "source": [
    "def number_of_neighbors_in_full_data_in_range_d(X, d, global_idx):\n",
    "    return np.where(\n",
    "        (X >= X[global_idx] - d) &\n",
    "        (X <= X[global_idx] + d)\n",
    "    )"
   ]
  },
  {
   "cell_type": "code",
   "execution_count": 538,
   "metadata": {},
   "outputs": [
    {
     "data": {
      "text/plain": [
       "3"
      ]
     },
     "execution_count": 538,
     "metadata": {},
     "output_type": "execute_result"
    }
   ],
   "source": [
    "mi = len(number_of_neighbors_in_full_data_in_range_d(Y, d, global_idx)[0])\n",
    "mi"
   ]
  },
  {
   "cell_type": "code",
   "execution_count": 520,
   "metadata": {},
   "outputs": [],
   "source": [
    "N_xi = len(Y_subsets['L'])"
   ]
  },
  {
   "cell_type": "code",
   "execution_count": 521,
   "metadata": {},
   "outputs": [
    {
     "data": {
      "text/plain": [
       "200"
      ]
     },
     "execution_count": 521,
     "metadata": {},
     "output_type": "execute_result"
    }
   ],
   "source": [
    "N_xi"
   ]
  },
  {
   "cell_type": "code",
   "execution_count": 522,
   "metadata": {},
   "outputs": [],
   "source": [
    "from scipy.special import digamma"
   ]
  },
  {
   "cell_type": "code",
   "execution_count": 525,
   "metadata": {},
   "outputs": [],
   "source": [
    "def single_mutual_information(N, N_xi, k, mi):\n",
    "    return (\n",
    "        digamma(N) - digamma(N_xi) + digamma(k) - digamma(mi)\n",
    "    )"
   ]
  },
  {
   "cell_type": "code",
   "execution_count": 526,
   "metadata": {},
   "outputs": [
    {
     "data": {
      "text/plain": [
       "1.6114399124289012"
      ]
     },
     "execution_count": 526,
     "metadata": {},
     "output_type": "execute_result"
    }
   ],
   "source": [
    "single_mutual_information(1000, N_xi, k, mi)"
   ]
  },
  {
   "cell_type": "code",
   "execution_count": 599,
   "metadata": {},
   "outputs": [],
   "source": [
    "def mutual_information_based_on_nearest_neighbors(X, Y, k=3):\n",
    "    X = pd.Series(X)\n",
    "    Y = pd.Series(Y)\n",
    "    \n",
    "    N = X.shape[0]\n",
    "    mutual_infs = 0\n",
    "    \n",
    "    # Iterate over all data points\n",
    "    for data_point_idx in range(0, X.shape[0]):\n",
    "        \n",
    "        # Find kth closest neighbor to i among data points with same discrete value as data point i\n",
    "        # Find distance to kth closest neighbor\n",
    "        discrete_type = X[data_point_idx]\n",
    "        indices_of_discrete_type = X[X == discrete_type].index\n",
    "        N_xi = len(indices_of_discrete_type)\n",
    "        Y_values_where_x_is_discrete_type = Y[indices_of_discrete_type]\n",
    "        \n",
    "        y = Y[data_point_idx]\n",
    "        distances = np.abs(y - Y_values_where_x_is_discrete_type)\n",
    "        distances_sorted = distances.sort_values()\n",
    "        k_closest_neighbors = distances_sorted[1:k+1]\n",
    "\n",
    "        kth_closest_neighbor = k_closest_neighbors.tail(1)\n",
    "        \n",
    "        dist = np.abs(Y[data_point_idx] - Y[kth_closest_neighbor.index]).values[0]\n",
    "\n",
    "        # Count num neighbors in full data set lying with in distance d to point i\n",
    "        mi = ((Y >= Y[data_point_idx] - dist) & (Y <= Y[data_point_idx] + dist)).sum()\n",
    "        \n",
    "    \n",
    "        I_i = single_mutual_information(N, N_xi, k, mi)\n",
    "        mutual_infs += I_i\n",
    "        \n",
    "        if data_point_idx == 100:\n",
    "            print(I_i)\n",
    "        \n",
    "    average_mutual_information = mutual_infs / N\n",
    "        \n",
    "    \n",
    "    return average_mutual_information"
   ]
  },
  {
   "cell_type": "code",
   "execution_count": 600,
   "metadata": {},
   "outputs": [
    {
     "name": "stdout",
     "output_type": "stream",
     "text": [
      "1.2781065790955681\n",
      "CPU times: user 3.96 s, sys: 14.4 ms, total: 3.98 s\n",
      "Wall time: 3.98 s\n"
     ]
    }
   ],
   "source": [
    "%%time\n",
    "average_mutual_information = mutual_information_based_on_nearest_neighbors(X, Y)"
   ]
  },
  {
   "cell_type": "code",
   "execution_count": 598,
   "metadata": {},
   "outputs": [
    {
     "data": {
      "text/plain": [
       "1.216457007784938"
      ]
     },
     "execution_count": 598,
     "metadata": {},
     "output_type": "execute_result"
    }
   ],
   "source": [
    "average_mutual_information"
   ]
  },
  {
   "cell_type": "code",
   "execution_count": null,
   "metadata": {},
   "outputs": [],
   "source": []
  }
 ],
 "metadata": {
  "kernelspec": {
   "display_name": "Python 3",
   "language": "python",
   "name": "python3"
  },
  "language_info": {
   "codemirror_mode": {
    "name": "ipython",
    "version": 3
   },
   "file_extension": ".py",
   "mimetype": "text/x-python",
   "name": "python",
   "nbconvert_exporter": "python",
   "pygments_lexer": "ipython3",
   "version": "3.7.1"
  }
 },
 "nbformat": 4,
 "nbformat_minor": 2
}
