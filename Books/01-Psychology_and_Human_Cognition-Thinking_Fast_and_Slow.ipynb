{
 "cells": [
  {
   "cell_type": "markdown",
   "metadata": {},
   "source": [
    "# Thinking, Fast and Slow: Daniel Kahneman\n",
    "This will contain the book review for thinking fast and slow."
   ]
  },
  {
   "cell_type": "markdown",
   "metadata": {},
   "source": [
    "## Excerpts and thoughts\n",
    "\n",
    "#### Introduction\n",
    "> However, we found that participants in our experiments _ignored the relevant statistical facts_ and relied exclusively on resemblance. We proposed that they used resemblance as a simplifying heuristic (roughly, a rule of thumb) to make a difficult judgment. The reliance on the heuristic caused **predictable biases** (systematic errors) in their predictions (pg 7). \n",
    "\n",
    "This is a theme that comes up again and again throughout the book; human cognition is prone to systematic errors in particular situations. The way to combat that, which Kahneman discuss at length, is to slow down and try to recognize the situation you are in, and what biases you may be succumbing to. \n",
    "\n",
    "> This is often the essence of intuitive heuristics, when faced with a difficult question, we often answer an easier one instead, usually without noticing the substitution (pg 12).\n",
    "\n",
    "> Fast thinking includes both variants of intuitive thought-the expert and the heuristic-as well as the entirely automatic mental activities of perception and memory, the operations that enable you to know there is a lamp on your desk or retrieve the name of the capital of Russia (pg 13).\n",
    "\n",
    "#### Chapter 1: The Characters of the Story\n",
    "> The gorilla study illustrates two important facts about our minds: we can be blind to the obvious, and we are also blind to our blindness (pg 24).\n",
    "\n",
    "> When system 1 runs into difficulty, it calls on system 2 to support more detailed and specific processing that may solve the problem of the moment (pg 24).\n",
    "\n",
    "> In summary, most of what you (your system 2) think and do originates in your system 1, but system 2 takes over when things get difficult, and it normally has the last word (pg 25).\n",
    "\n",
    "> System 1 has biases, however, systematic errors that it is prone to make in specified circumstances (pg 25).\n",
    "\n",
    "> In other words, system 2 is in charge of self control (pg 26).\n",
    "\n",
    "#### Chapter 3: The Lazy Controller\n",
    "> Too much concern about how well one is doing in a task sometimes disrupts performance by loading short-term memory with pointless anxious thoughts. The conclusion is straightforward: self-control requires attention and effort. Another way of saying this is that controlling thoughts and behaviors is one of the tasks that system 2 performs (pg 41).\n",
    "\n",
    "> The core of his argument is that _rationality_ should be distinguished from _intelligence_ (pg 49).\n",
    "\n",
    "#### Chapter 4: Priming\n",
    "LEAVING OFF"
   ]
  },
  {
   "cell_type": "code",
   "execution_count": null,
   "metadata": {},
   "outputs": [],
   "source": []
  }
 ],
 "metadata": {
  "kernelspec": {
   "display_name": "Python 3",
   "language": "python",
   "name": "python3"
  },
  "language_info": {
   "codemirror_mode": {
    "name": "ipython",
    "version": 3
   },
   "file_extension": ".py",
   "mimetype": "text/x-python",
   "name": "python",
   "nbconvert_exporter": "python",
   "pygments_lexer": "ipython3",
   "version": "3.6.2"
  }
 },
 "nbformat": 4,
 "nbformat_minor": 2
}
