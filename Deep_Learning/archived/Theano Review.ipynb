{
 "cells": [
  {
   "cell_type": "code",
   "execution_count": 71,
   "metadata": {
    "collapsed": true
   },
   "outputs": [],
   "source": [
    "import theano.tensor as T"
   ]
  },
  {
   "cell_type": "code",
   "execution_count": 72,
   "metadata": {
    "collapsed": true
   },
   "outputs": [],
   "source": [
    "c = T.scalar('c')\n",
    "v = T.vector('v')\n",
    "A = T.matrix('A')"
   ]
  },
  {
   "cell_type": "code",
   "execution_count": 73,
   "metadata": {
    "collapsed": true
   },
   "outputs": [],
   "source": [
    "w = A.dot(v)"
   ]
  },
  {
   "cell_type": "code",
   "execution_count": 74,
   "metadata": {},
   "outputs": [],
   "source": [
    "import theano"
   ]
  },
  {
   "cell_type": "code",
   "execution_count": 75,
   "metadata": {
    "collapsed": true
   },
   "outputs": [],
   "source": [
    "matrix_times_vector = theano.function(inputs=[A,v], outputs=w)"
   ]
  },
  {
   "cell_type": "code",
   "execution_count": 76,
   "metadata": {},
   "outputs": [
    {
     "data": {
      "text/plain": [
       "array([17., 39.])"
      ]
     },
     "execution_count": 76,
     "metadata": {},
     "output_type": "execute_result"
    }
   ],
   "source": [
    "import numpy as np\n",
    "A_val = np.array([[1,2], [3,4]])\n",
    "v_val = np.array([5,6])\n",
    "\n",
    "w_val = matrix_times_vector(A_val, v_val)\n",
    "w_val"
   ]
  },
  {
   "cell_type": "code",
   "execution_count": 77,
   "metadata": {},
   "outputs": [],
   "source": [
    "x = theano.shared(20.0, 'x')"
   ]
  },
  {
   "cell_type": "code",
   "execution_count": 78,
   "metadata": {},
   "outputs": [],
   "source": [
    "cost = x*x + x + 1 "
   ]
  },
  {
   "cell_type": "code",
   "execution_count": 79,
   "metadata": {},
   "outputs": [],
   "source": [
    "x_update = x - 0.3 * T.grad(cost, x)"
   ]
  },
  {
   "cell_type": "code",
   "execution_count": 80,
   "metadata": {},
   "outputs": [],
   "source": [
    "train = theano.function(inputs=[], outputs=cost, updates=[(x, x_update)])"
   ]
  },
  {
   "cell_type": "code",
   "execution_count": 81,
   "metadata": {},
   "outputs": [
    {
     "name": "stdout",
     "output_type": "stream",
     "text": [
      "421.0\n",
      "67.99000000000001\n",
      "11.508400000000002\n",
      "2.4713440000000007\n",
      "1.0254150400000002\n",
      "0.7940664064\n",
      "0.7570506250240001\n",
      "0.75112810000384\n",
      "0.7501804960006143\n",
      "0.7500288793600982\n",
      "0.7500046206976159\n",
      "0.7500007393116186\n",
      "0.750000118289859\n",
      "0.7500000189263775\n",
      "0.7500000030282203\n",
      "0.7500000004845152\n",
      "0.7500000000775223\n",
      "0.7500000000124035\n",
      "0.7500000000019845\n",
      "0.7500000000003176\n",
      "0.7500000000000506\n",
      "0.7500000000000082\n",
      "0.7500000000000013\n",
      "0.7500000000000001\n",
      "0.7500000000000001\n",
      "-0.4999999976919052\n"
     ]
    }
   ],
   "source": [
    "for i in range(25):\n",
    "  cost_val = train()\n",
    "  print(cost_val)\n",
    "  \n",
    "print(x.get_value())"
   ]
  },
  {
   "cell_type": "code",
   "execution_count": 91,
   "metadata": {},
   "outputs": [],
   "source": [
    "import matplotlib.pyplot as plt\n",
    "\n",
    "x_axis = np.arange(-25, 25, 0.1)\n",
    "\n",
    "def cost(x):\n",
    "  return x*x + x +1 \n",
    "\n",
    "def derivative_cost(x):\n",
    "  return 2*x + 1"
   ]
  },
  {
   "cell_type": "code",
   "execution_count": 92,
   "metadata": {},
   "outputs": [
    {
     "data": {
      "text/plain": [
       "[<matplotlib.lines.Line2D at 0x1160cca90>]"
      ]
     },
     "execution_count": 92,
     "metadata": {},
     "output_type": "execute_result"
    },
    {
     "data": {
      "image/png": "[encoded data removed]",
      "text/plain": [
       "<matplotlib.figure.Figure at 0x115f298d0>"
      ]
     },
     "metadata": {},
     "output_type": "display_data"
    }
   ],
   "source": [
    "plt.plot(x_axis, cost(x_axis))"
   ]
  },
  {
   "cell_type": "code",
   "execution_count": 95,
   "metadata": {},
   "outputs": [
    {
     "data": {
      "text/plain": [
       "421"
      ]
     },
     "execution_count": 95,
     "metadata": {},
     "output_type": "execute_result"
    }
   ],
   "source": [
    "x = 20\n",
    "cost(20)"
   ]
  },
  {
   "cell_type": "code",
   "execution_count": 102,
   "metadata": {},
   "outputs": [
    {
     "data": {
      "text/plain": [
       "7.700000000000001"
      ]
     },
     "execution_count": 102,
     "metadata": {},
     "output_type": "execute_result"
    }
   ],
   "source": [
    "derivative_of_cost_wrt_x = derivative_cost(x)\n",
    "learning_rate = 0.3\n",
    "x_update = x - learning_rate * derivative_of_cost_wrt_x\n",
    "x_update"
   ]
  },
  {
   "cell_type": "code",
   "execution_count": 103,
   "metadata": {},
   "outputs": [
    {
     "data": {
      "text/plain": [
       "67.99000000000001"
      ]
     },
     "execution_count": 103,
     "metadata": {},
     "output_type": "execute_result"
    }
   ],
   "source": [
    "cost(x_update)"
   ]
  },
  {
   "cell_type": "markdown",
   "metadata": {},
   "source": [
    "## Neural Network"
   ]
  },
  {
   "cell_type": "code",
   "execution_count": 111,
   "metadata": {},
   "outputs": [],
   "source": [
    "import numpy as np\n",
    "import theano\n",
    "import theano.tensor as T\n",
    "import pandas as pd"
   ]
  },
  {
   "cell_type": "code",
   "execution_count": 112,
   "metadata": {
    "collapsed": true
   },
   "outputs": [],
   "source": [
    "\"\"\"Takes in raw X, subtracts mean, and divides by standard deviation\"\"\"\n",
    "def get_normalized_data():\n",
    "    print(\"Reading in and transforming data...\")\n",
    "    df = pd.read_csv('../../../data/MNIST/train.csv')\n",
    "    data = df.as_matrix().astype(np.float32)\n",
    "    np.random.shuffle(data)\n",
    "    X = data[:, 1:]\n",
    "    mu = X.mean(axis=0)\n",
    "    std = X.std(axis=0)\n",
    "    np.place(std, std == 0, 1)\n",
    "    X = (X - mu) / std # normalize the data\n",
    "    Y = data[:, 0]\n",
    "    return X, Y\n",
    "  \n",
    "\"\"\"Function that creates an indicator matrix from y (one hot encoding)\"\"\"\n",
    "def y2indicator(y):\n",
    "    N = len(y)\n",
    "    y = y.astype(np.int32)\n",
    "    ind = np.zeros((N, 10))\n",
    "    for i in range(N):\n",
    "        ind[i, y[i]] = 1\n",
    "    return ind\n",
    "  \n",
    "def error_rate(p, t):\n",
    "  return np.mean(p != t)\n",
    "\n",
    "def relu(a):\n",
    "  return a * (a > 0)"
   ]
  },
  {
   "cell_type": "code",
   "execution_count": 160,
   "metadata": {},
   "outputs": [
    {
     "name": "stdout",
     "output_type": "stream",
     "text": [
      "Reading in and transforming data...\n"
     ]
    }
   ],
   "source": [
    "def main():\n",
    "  X, Y = get_normalized_data()\n",
    "  \n",
    "  max_iter = 20\n",
    "  print_period = 10\n",
    "  \n",
    "  lr = 0.00004\n",
    "  reg = 0.01\n",
    "  \n",
    "  Xtrain = X[:-1000,]\n",
    "  Ytrain = Y[:-1000]\n",
    "  Xtest  = X[-1000:,]\n",
    "  Ytest  = Y[-1000:]\n",
    "  Ytrain_ind = y2indicator(Ytrain)\n",
    "  Ytest_ind = y2indicator(Ytest)\n",
    "  \n",
    "  N, D = Xtrain.shape\n",
    "  batch_sz = 500\n",
    "  n_batches = N // batch_sz\n",
    "  \n",
    "  M = 300   # 300 hidden units\n",
    "  K = 10    # 10 classes \n",
    "  W1_init = np.random.randn(D, M) / np.sqrt(D)\n",
    "  b1_init = np.zeros(M)\n",
    "  W2_init = np.random.randn(M, K) / np.sqrt(M)\n",
    "  b2_init = np.zeros(K)\n",
    "  \n",
    "  \"\"\"------------- Step 2: Define theano variables and expressions ---------------\"\"\"\n",
    "  thX = T.matrix('X')                  # Placeholder for X input matrix\n",
    "  thT = T.matrix('T')                  # Placeholder for the targets\n",
    "  W1 = theano.shared(W1_init, 'W1')    # All parameters will be shared variables\n",
    "  b1 = theano.shared(b1_init, 'b1')    # Shared variable: first arg is initial value\n",
    "  W2 = theano.shared(W2_init, 'W2')    # second arg is name\n",
    "  b2 = theano.shared(b2_init, 'b2')\n",
    "  \n",
    "  thZ = relu( thX.dot(W1) + b1)                # Create function to solve for Z using relu\n",
    "  thY = T.nnet.softmax( thZ.dot(W2) + b2)      # Create function to solve for Y using softmax\n",
    "  "
   ]
  },
  {
   "cell_type": "code",
   "execution_count": null,
   "metadata": {},
   "outputs": [],
   "source": []
  },
  {
   "cell_type": "code",
   "execution_count": null,
   "metadata": {
    "collapsed": true
   },
   "outputs": [],
   "source": []
  }
 ],
 "metadata": {
  "kernelspec": {
   "display_name": "Python 3",
   "language": "python3",
   "name": "python3"
  },
  "language_info": {
   "codemirror_mode": {
    "name": "ipython",
    "version": 3
   },
   "file_extension": ".py",
   "mimetype": "text/x-python",
   "name": "python",
   "nbconvert_exporter": "python",
   "pygments_lexer": "ipython3",
   "version": "3.6.5"
  }
 },
 "nbformat": 4,
 "nbformat_minor": 2
}
