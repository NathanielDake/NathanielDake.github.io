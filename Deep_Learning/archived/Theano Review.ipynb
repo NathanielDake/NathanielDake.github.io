{
 "cells": [
  {
   "cell_type": "code",
   "execution_count": 2,
   "metadata": {
    "collapsed": true
   },
   "outputs": [],
   "source": [
    "import theano.tensor as T"
   ]
  },
  {
   "cell_type": "code",
   "execution_count": 3,
   "metadata": {
    "collapsed": true
   },
   "outputs": [],
   "source": [
    "c = T.scalar('c')\n",
    "v = T.vector('v')\n",
    "A = T.matrix('A')"
   ]
  },
  {
   "cell_type": "code",
   "execution_count": 4,
   "metadata": {
    "collapsed": true
   },
   "outputs": [],
   "source": [
    "w = A.dot(v)"
   ]
  },
  {
   "cell_type": "code",
   "execution_count": 5,
   "metadata": {
    "collapsed": true
   },
   "outputs": [],
   "source": [
    "import theano"
   ]
  },
  {
   "cell_type": "code",
   "execution_count": 6,
   "metadata": {
    "collapsed": true
   },
   "outputs": [],
   "source": [
    "matrix_times_vector = theano.function(inputs=[A,v], outputs=w)"
   ]
  },
  {
   "cell_type": "code",
   "execution_count": 7,
   "metadata": {},
   "outputs": [
    {
     "data": {
      "text/plain": [
       "array([17., 39.])"
      ]
     },
     "execution_count": 7,
     "metadata": {},
     "output_type": "execute_result"
    }
   ],
   "source": [
    "import numpy as np\n",
    "A_val = np.array([[1,2], [3,4]])\n",
    "v_val = np.array([5,6])\n",
    "\n",
    "w_val = matrix_times_vector(A_val, v_val)\n",
    "w_val"
   ]
  },
  {
   "cell_type": "code",
   "execution_count": 8,
   "metadata": {
    "collapsed": true
   },
   "outputs": [],
   "source": [
    "x = theano.shared(20.0, 'x')"
   ]
  },
  {
   "cell_type": "code",
   "execution_count": 9,
   "metadata": {
    "collapsed": true
   },
   "outputs": [],
   "source": [
    "cost = x*x + x + 1 "
   ]
  },
  {
   "cell_type": "code",
   "execution_count": 10,
   "metadata": {
    "collapsed": true
   },
   "outputs": [],
   "source": [
    "x_update = x - 0.3 * T.grad(cost, x)"
   ]
  },
  {
   "cell_type": "code",
   "execution_count": 11,
   "metadata": {
    "collapsed": true
   },
   "outputs": [],
   "source": [
    "train = theano.function(inputs=[], outputs=cost, updates=[(x, x_update)])"
   ]
  },
  {
   "cell_type": "code",
   "execution_count": 12,
   "metadata": {},
   "outputs": [
    {
     "name": "stdout",
     "output_type": "stream",
     "text": [
      "421.0\n",
      "67.99000000000001\n",
      "11.508400000000002\n",
      "2.4713440000000007\n",
      "1.0254150400000002\n",
      "0.7940664064\n",
      "0.7570506250240001\n",
      "0.75112810000384\n",
      "0.7501804960006143\n",
      "0.7500288793600982\n",
      "0.7500046206976159\n",
      "0.7500007393116186\n",
      "0.750000118289859\n",
      "0.7500000189263775\n",
      "0.7500000030282203\n",
      "0.7500000004845152\n",
      "0.7500000000775223\n",
      "0.7500000000124035\n",
      "0.7500000000019845\n",
      "0.7500000000003176\n",
      "0.7500000000000506\n",
      "0.7500000000000082\n",
      "0.7500000000000013\n",
      "0.7500000000000001\n",
      "0.7500000000000001\n",
      "-0.4999999976919052\n"
     ]
    }
   ],
   "source": [
    "for i in range(25):\n",
    "  cost_val = train()\n",
    "  print(cost_val)\n",
    "  \n",
    "print(x.get_value())"
   ]
  },
  {
   "cell_type": "code",
   "execution_count": 13,
   "metadata": {
    "collapsed": true
   },
   "outputs": [],
   "source": [
    "import matplotlib.pyplot as plt\n",
    "\n",
    "x_axis = np.arange(-25, 25, 0.1)\n",
    "\n",
    "def cost(x):\n",
    "  return x*x + x +1 \n",
    "\n",
    "def derivative_cost(x):\n",
    "  return 2*x + 1"
   ]
  },
  {
   "cell_type": "code",
   "execution_count": 14,
   "metadata": {},
   "outputs": [
    {
     "data": {
      "text/plain": [
       "[<matplotlib.lines.Line2D at 0x114045278>]"
      ]
     },
     "execution_count": 14,
     "metadata": {},
     "output_type": "execute_result"
    },
    {
     "data": {
      "image/png": "[encoded data removed]",
      "text/plain": [
       "<matplotlib.figure.Figure at 0x113532668>"
      ]
     },
     "metadata": {},
     "output_type": "display_data"
    }
   ],
   "source": [
    "plt.plot(x_axis, cost(x_axis))"
   ]
  },
  {
   "cell_type": "code",
   "execution_count": 15,
   "metadata": {},
   "outputs": [
    {
     "data": {
      "text/plain": [
       "421"
      ]
     },
     "execution_count": 15,
     "metadata": {},
     "output_type": "execute_result"
    }
   ],
   "source": [
    "x = 20\n",
    "cost(20)"
   ]
  },
  {
   "cell_type": "code",
   "execution_count": 16,
   "metadata": {},
   "outputs": [
    {
     "data": {
      "text/plain": [
       "7.700000000000001"
      ]
     },
     "execution_count": 16,
     "metadata": {},
     "output_type": "execute_result"
    }
   ],
   "source": [
    "derivative_of_cost_wrt_x = derivative_cost(x)\n",
    "learning_rate = 0.3\n",
    "x_update = x - learning_rate * derivative_of_cost_wrt_x\n",
    "x_update"
   ]
  },
  {
   "cell_type": "code",
   "execution_count": 17,
   "metadata": {},
   "outputs": [
    {
     "data": {
      "text/plain": [
       "67.99000000000001"
      ]
     },
     "execution_count": 17,
     "metadata": {},
     "output_type": "execute_result"
    }
   ],
   "source": [
    "cost(x_update)"
   ]
  },
  {
   "cell_type": "markdown",
   "metadata": {},
   "source": [
    "## Neural Network"
   ]
  },
  {
   "cell_type": "code",
   "execution_count": 18,
   "metadata": {
    "collapsed": true
   },
   "outputs": [],
   "source": [
    "import numpy as np\n",
    "import theano\n",
    "import theano.tensor as T\n",
    "import pandas as pd"
   ]
  },
  {
   "cell_type": "code",
   "execution_count": 19,
   "metadata": {
    "collapsed": true
   },
   "outputs": [],
   "source": [
    "\"\"\"Takes in raw X, subtracts mean, and divides by standard deviation\"\"\"\n",
    "def get_normalized_data():\n",
    "    print(\"Reading in and transforming data...\")\n",
    "    df = pd.read_csv('../../../data/MNIST/train.csv')\n",
    "    data = df.as_matrix().astype(np.float32)\n",
    "    np.random.shuffle(data)\n",
    "    X = data[:, 1:]\n",
    "    mu = X.mean(axis=0)\n",
    "    std = X.std(axis=0)\n",
    "    np.place(std, std == 0, 1)\n",
    "    X = (X - mu) / std # normalize the data\n",
    "    Y = data[:, 0]\n",
    "    return X, Y\n",
    "  \n",
    "\"\"\"Function that creates an indicator matrix from y (one hot encoding)\"\"\"\n",
    "def y2indicator(y):\n",
    "    N = len(y)\n",
    "    y = y.astype(np.int32)\n",
    "    ind = np.zeros((N, 10))\n",
    "    for i in range(N):\n",
    "        ind[i, y[i]] = 1\n",
    "    return ind\n",
    "  \n",
    "def error_rate(p, t):\n",
    "  return np.mean(p != t)\n",
    "\n",
    "def relu(a):\n",
    "  return a * (a > 0)"
   ]
  },
  {
   "cell_type": "code",
   "execution_count": 21,
   "metadata": {},
   "outputs": [
    {
     "name": "stdout",
     "output_type": "stream",
     "text": [
      "Reading in and transforming data...\n",
      "Cost / err at iteration i=0, j=0: 2348.601 / 0.834\n",
      "Cost / err at iteration i=0, j=10: 1760.432 / 0.513\n",
      "Cost / err at iteration i=0, j=20: 1430.914 / 0.371\n",
      "Cost / err at iteration i=0, j=30: 1214.083 / 0.299\n",
      "Cost / err at iteration i=0, j=40: 1065.107 / 0.264\n",
      "Cost / err at iteration i=0, j=50: 952.073 / 0.234\n",
      "Cost / err at iteration i=0, j=60: 864.573 / 0.212\n",
      "Cost / err at iteration i=0, j=70: 796.329 / 0.199\n",
      "Cost / err at iteration i=0, j=80: 739.204 / 0.183\n",
      "Cost / err at iteration i=1, j=0: 728.796 / 0.181\n",
      "Cost / err at iteration i=1, j=10: 684.577 / 0.171\n",
      "Cost / err at iteration i=1, j=20: 646.641 / 0.161\n",
      "Cost / err at iteration i=1, j=30: 612.215 / 0.153\n",
      "Cost / err at iteration i=1, j=40: 585.471 / 0.153\n",
      "Cost / err at iteration i=1, j=50: 561.079 / 0.144\n",
      "Cost / err at iteration i=1, j=60: 539.854 / 0.136\n",
      "Cost / err at iteration i=1, j=70: 521.336 / 0.134\n",
      "Cost / err at iteration i=1, j=80: 503.479 / 0.130\n",
      "Cost / err at iteration i=2, j=0: 500.442 / 0.131\n",
      "Cost / err at iteration i=2, j=10: 485.640 / 0.129\n",
      "Cost / err at iteration i=2, j=20: 471.931 / 0.128\n",
      "Cost / err at iteration i=2, j=30: 458.175 / 0.120\n",
      "Cost / err at iteration i=2, j=40: 447.758 / 0.118\n",
      "Cost / err at iteration i=2, j=50: 437.500 / 0.116\n",
      "Cost / err at iteration i=2, j=60: 428.416 / 0.111\n",
      "Cost / err at iteration i=2, j=70: 420.244 / 0.107\n",
      "Cost / err at iteration i=2, j=80: 411.582 / 0.103\n",
      "Cost / err at iteration i=3, j=0: 410.212 / 0.103\n",
      "Cost / err at iteration i=3, j=10: 402.500 / 0.101\n",
      "Cost / err at iteration i=3, j=20: 395.511 / 0.098\n",
      "Cost / err at iteration i=3, j=30: 387.809 / 0.099\n",
      "Cost / err at iteration i=3, j=40: 382.228 / 0.096\n",
      "Cost / err at iteration i=3, j=50: 376.452 / 0.096\n",
      "Cost / err at iteration i=3, j=60: 371.509 / 0.096\n",
      "Cost / err at iteration i=3, j=70: 367.065 / 0.095\n",
      "Cost / err at iteration i=3, j=80: 361.816 / 0.094\n",
      "Cost / err at iteration i=4, j=0: 361.093 / 0.095\n",
      "Cost / err at iteration i=4, j=10: 356.035 / 0.095\n",
      "Cost / err at iteration i=4, j=20: 351.815 / 0.092\n",
      "Cost / err at iteration i=4, j=30: 346.645 / 0.090\n",
      "Cost / err at iteration i=4, j=40: 342.904 / 0.088\n",
      "Cost / err at iteration i=4, j=50: 339.202 / 0.092\n",
      "Cost / err at iteration i=4, j=60: 336.212 / 0.089\n",
      "Cost / err at iteration i=4, j=70: 333.584 / 0.090\n",
      "Cost / err at iteration i=4, j=80: 329.925 / 0.089\n",
      "Cost / err at iteration i=5, j=0: 329.513 / 0.089\n",
      "Cost / err at iteration i=5, j=10: 325.864 / 0.087\n",
      "Cost / err at iteration i=5, j=20: 323.001 / 0.086\n",
      "Cost / err at iteration i=5, j=30: 319.133 / 0.084\n",
      "Cost / err at iteration i=5, j=40: 316.277 / 0.083\n",
      "Cost / err at iteration i=5, j=50: 313.607 / 0.083\n",
      "Cost / err at iteration i=5, j=60: 311.663 / 0.081\n",
      "Cost / err at iteration i=5, j=70: 309.927 / 0.081\n",
      "Cost / err at iteration i=5, j=80: 307.166 / 0.081\n",
      "Cost / err at iteration i=6, j=0: 306.956 / 0.083\n",
      "Cost / err at iteration i=6, j=10: 304.109 / 0.081\n",
      "Cost / err at iteration i=6, j=20: 302.048 / 0.081\n",
      "Cost / err at iteration i=6, j=30: 298.955 / 0.082\n",
      "Cost / err at iteration i=6, j=40: 296.707 / 0.082\n",
      "Cost / err at iteration i=6, j=50: 294.634 / 0.081\n",
      "Cost / err at iteration i=6, j=60: 293.295 / 0.079\n",
      "Cost / err at iteration i=6, j=70: 292.075 / 0.079\n",
      "Cost / err at iteration i=6, j=80: 289.873 / 0.079\n",
      "Cost / err at iteration i=7, j=0: 289.786 / 0.082\n",
      "Cost / err at iteration i=7, j=10: 287.452 / 0.080\n",
      "Cost / err at iteration i=7, j=20: 285.915 / 0.079\n",
      "Cost / err at iteration i=7, j=30: 283.329 / 0.080\n",
      "Cost / err at iteration i=7, j=40: 281.472 / 0.078\n",
      "Cost / err at iteration i=7, j=50: 279.749 / 0.076\n",
      "Cost / err at iteration i=7, j=60: 278.799 / 0.076\n",
      "Cost / err at iteration i=7, j=70: 277.891 / 0.076\n",
      "Cost / err at iteration i=7, j=80: 276.087 / 0.076\n",
      "Cost / err at iteration i=8, j=0: 276.080 / 0.076\n",
      "Cost / err at iteration i=8, j=10: 274.072 / 0.076\n",
      "Cost / err at iteration i=8, j=20: 272.880 / 0.077\n",
      "Cost / err at iteration i=8, j=30: 270.667 / 0.079\n",
      "Cost / err at iteration i=8, j=40: 269.065 / 0.074\n",
      "Cost / err at iteration i=8, j=50: 267.575 / 0.074\n",
      "Cost / err at iteration i=8, j=60: 266.906 / 0.074\n",
      "Cost / err at iteration i=8, j=70: 266.202 / 0.073\n",
      "Cost / err at iteration i=8, j=80: 264.686 / 0.072\n",
      "Cost / err at iteration i=9, j=0: 264.735 / 0.073\n",
      "Cost / err at iteration i=9, j=10: 262.965 / 0.074\n",
      "Cost / err at iteration i=9, j=20: 262.049 / 0.073\n",
      "Cost / err at iteration i=9, j=30: 260.124 / 0.073\n",
      "Cost / err at iteration i=9, j=40: 258.724 / 0.071\n",
      "Cost / err at iteration i=9, j=50: 257.413 / 0.070\n",
      "Cost / err at iteration i=9, j=60: 256.932 / 0.072\n",
      "Cost / err at iteration i=9, j=70: 256.356 / 0.071\n",
      "Cost / err at iteration i=9, j=80: 255.075 / 0.071\n",
      "Cost / err at iteration i=10, j=0: 255.164 / 0.071\n",
      "Cost / err at iteration i=10, j=10: 253.580 / 0.073\n",
      "Cost / err at iteration i=10, j=20: 252.863 / 0.073\n",
      "Cost / err at iteration i=10, j=30: 251.178 / 0.071\n",
      "Cost / err at iteration i=10, j=40: 249.939 / 0.070\n",
      "Cost / err at iteration i=10, j=50: 248.756 / 0.072\n",
      "Cost / err at iteration i=10, j=60: 248.412 / 0.072\n",
      "Cost / err at iteration i=10, j=70: 247.908 / 0.072\n",
      "Cost / err at iteration i=10, j=80: 246.814 / 0.072\n",
      "Cost / err at iteration i=11, j=0: 246.939 / 0.072\n",
      "Cost / err at iteration i=11, j=10: 245.488 / 0.072\n",
      "Cost / err at iteration i=11, j=20: 244.917 / 0.072\n",
      "Cost / err at iteration i=11, j=30: 243.409 / 0.070\n",
      "Cost / err at iteration i=11, j=40: 242.281 / 0.071\n",
      "Cost / err at iteration i=11, j=50: 241.164 / 0.070\n",
      "Cost / err at iteration i=11, j=60: 240.925 / 0.070\n",
      "Cost / err at iteration i=11, j=70: 240.472 / 0.071\n",
      "Cost / err at iteration i=11, j=80: 239.542 / 0.070\n",
      "Cost / err at iteration i=12, j=0: 239.694 / 0.070\n",
      "Cost / err at iteration i=12, j=10: 238.361 / 0.070\n",
      "Cost / err at iteration i=12, j=20: 237.924 / 0.070\n",
      "Cost / err at iteration i=12, j=30: 236.562 / 0.071\n",
      "Cost / err at iteration i=12, j=40: 235.534 / 0.070\n",
      "Cost / err at iteration i=12, j=50: 234.477 / 0.070\n",
      "Cost / err at iteration i=12, j=60: 234.323 / 0.070\n",
      "Cost / err at iteration i=12, j=70: 233.918 / 0.068\n",
      "Cost / err at iteration i=12, j=80: 233.122 / 0.070\n",
      "Cost / err at iteration i=13, j=0: 233.296 / 0.070\n",
      "Cost / err at iteration i=13, j=10: 232.061 / 0.069\n",
      "Cost / err at iteration i=13, j=20: 231.720 / 0.069\n",
      "Cost / err at iteration i=13, j=30: 230.470 / 0.070\n",
      "Cost / err at iteration i=13, j=40: 229.522 / 0.069\n",
      "Cost / err at iteration i=13, j=50: 228.518 / 0.068\n",
      "Cost / err at iteration i=13, j=60: 228.415 / 0.068\n",
      "Cost / err at iteration i=13, j=70: 228.044 / 0.068\n",
      "Cost / err at iteration i=13, j=80: 227.365 / 0.068\n",
      "Cost / err at iteration i=14, j=0: 227.557 / 0.068\n",
      "Cost / err at iteration i=14, j=10: 226.393 / 0.068\n",
      "Cost / err at iteration i=14, j=20: 226.135 / 0.068\n",
      "Cost / err at iteration i=14, j=30: 224.990 / 0.068\n",
      "Cost / err at iteration i=14, j=40: 224.108 / 0.068\n",
      "Cost / err at iteration i=14, j=50: 223.139 / 0.067\n",
      "Cost / err at iteration i=14, j=60: 223.076 / 0.067\n",
      "Cost / err at iteration i=14, j=70: 222.727 / 0.065\n",
      "Cost / err at iteration i=14, j=80: 222.144 / 0.065\n",
      "Cost / err at iteration i=15, j=0: 222.352 / 0.065\n",
      "Cost / err at iteration i=15, j=10: 221.253 / 0.064\n",
      "Cost / err at iteration i=15, j=20: 221.057 / 0.063\n",
      "Cost / err at iteration i=15, j=30: 220.011 / 0.067\n",
      "Cost / err at iteration i=15, j=40: 219.198 / 0.065\n",
      "Cost / err at iteration i=15, j=50: 218.266 / 0.063\n",
      "Cost / err at iteration i=15, j=60: 218.233 / 0.063\n",
      "Cost / err at iteration i=15, j=70: 217.886 / 0.063\n",
      "Cost / err at iteration i=15, j=80: 217.385 / 0.062\n",
      "Cost / err at iteration i=16, j=0: 217.606 / 0.062\n",
      "Cost / err at iteration i=16, j=10: 216.546 / 0.063\n",
      "Cost / err at iteration i=16, j=20: 216.419 / 0.063\n",
      "Cost / err at iteration i=16, j=30: 215.457 / 0.063\n",
      "Cost / err at iteration i=16, j=40: 214.703 / 0.063\n",
      "Cost / err at iteration i=16, j=50: 213.795 / 0.062\n",
      "Cost / err at iteration i=16, j=60: 213.787 / 0.063\n",
      "Cost / err at iteration i=16, j=70: 213.462 / 0.062\n",
      "Cost / err at iteration i=16, j=80: 213.034 / 0.062\n",
      "Cost / err at iteration i=17, j=0: 213.267 / 0.061\n",
      "Cost / err at iteration i=17, j=10: 212.264 / 0.062\n",
      "Cost / err at iteration i=17, j=20: 212.188 / 0.063\n",
      "Cost / err at iteration i=17, j=30: 211.305 / 0.061\n",
      "Cost / err at iteration i=17, j=40: 210.598 / 0.063\n",
      "Cost / err at iteration i=17, j=50: 209.717 / 0.062\n"
     ]
    },
    {
     "name": "stdout",
     "output_type": "stream",
     "text": [
      "Cost / err at iteration i=17, j=60: 209.732 / 0.063\n",
      "Cost / err at iteration i=17, j=70: 209.422 / 0.061\n",
      "Cost / err at iteration i=17, j=80: 209.056 / 0.061\n",
      "Cost / err at iteration i=18, j=0: 209.299 / 0.060\n",
      "Cost / err at iteration i=18, j=10: 208.346 / 0.062\n",
      "Cost / err at iteration i=18, j=20: 208.313 / 0.060\n",
      "Cost / err at iteration i=18, j=30: 207.494 / 0.061\n",
      "Cost / err at iteration i=18, j=40: 206.834 / 0.061\n",
      "Cost / err at iteration i=18, j=50: 205.965 / 0.060\n",
      "Cost / err at iteration i=18, j=60: 205.999 / 0.061\n",
      "Cost / err at iteration i=18, j=70: 205.697 / 0.059\n",
      "Cost / err at iteration i=18, j=80: 205.378 / 0.060\n",
      "Cost / err at iteration i=19, j=0: 205.627 / 0.060\n",
      "Cost / err at iteration i=19, j=10: 204.720 / 0.060\n",
      "Cost / err at iteration i=19, j=20: 204.725 / 0.059\n",
      "Cost / err at iteration i=19, j=30: 203.960 / 0.061\n",
      "Cost / err at iteration i=19, j=40: 203.330 / 0.060\n",
      "Cost / err at iteration i=19, j=50: 202.467 / 0.060\n",
      "Cost / err at iteration i=19, j=60: 202.517 / 0.060\n",
      "Cost / err at iteration i=19, j=70: 202.230 / 0.059\n",
      "Cost / err at iteration i=19, j=80: 201.951 / 0.060\n"
     ]
    },
    {
     "data": {
      "image/png": "[encoded data removed]",
      "text/plain": [
       "<matplotlib.figure.Figure at 0x1156a0470>"
      ]
     },
     "metadata": {},
     "output_type": "display_data"
    }
   ],
   "source": [
    "def main():\n",
    "  X, Y = get_normalized_data()\n",
    "  \n",
    "  max_iter = 20\n",
    "  print_period = 10\n",
    "  \n",
    "  lr = 0.00004\n",
    "  reg = 0.01\n",
    "  \n",
    "  Xtrain = X[:-1000,]\n",
    "  Ytrain = Y[:-1000]\n",
    "  Xtest  = X[-1000:,]\n",
    "  Ytest  = Y[-1000:]\n",
    "  Ytrain_ind = y2indicator(Ytrain)\n",
    "  Ytest_ind = y2indicator(Ytest)\n",
    "  \n",
    "  N, D = Xtrain.shape\n",
    "  batch_sz = 500\n",
    "  n_batches = N // batch_sz\n",
    "  \n",
    "  M = 300   # 300 hidden units\n",
    "  K = 10    # 10 classes \n",
    "  W1_init = np.random.randn(D, M) / np.sqrt(D)\n",
    "  b1_init = np.zeros(M)\n",
    "  W2_init = np.random.randn(M, K) / np.sqrt(M)\n",
    "  b2_init = np.zeros(K)\n",
    "  \n",
    "  \"\"\"------------- Step 2: Define theano variables and expressions ---------------\"\"\"\n",
    "  thX = T.matrix('X')                  # Placeholder for X input matrix\n",
    "  thT = T.matrix('T')                  # Placeholder for the targets\n",
    "  W1 = theano.shared(W1_init, 'W1')    # All parameters will be shared variables\n",
    "  b1 = theano.shared(b1_init, 'b1')    # Shared variable: first arg is initial value\n",
    "  W2 = theano.shared(W2_init, 'W2')    # second arg is name\n",
    "  b2 = theano.shared(b2_init, 'b2')\n",
    "  \n",
    "  thZ = relu( thX.dot(W1) + b1)                # Create function to solve for Z using relu\n",
    "  thY = T.nnet.softmax( thZ.dot(W2) + b2)      # Create function to solve for Y using softmax\n",
    "  \n",
    "  cost = ( -(thT * T.log(thY)).sum() + reg*((W1*W1).sum() + \n",
    "                                            (b1*b1).sum() + (W2*W2).sum() + (b2*b2).sum()))\n",
    "  prediction = T.argmax(thY, axis=1)\n",
    "  \n",
    "  \"\"\"------------- Step 3: Create training/update expressions ---------------\"\"\"\n",
    "  update_W1 = W1 - lr*T.grad(cost, W1)\n",
    "  update_b1 = b1 - lr*T.grad(cost, b1)\n",
    "  update_W2 = W2 - lr*T.grad(cost, W2)\n",
    "  update_b2 = b2 - lr*T.grad(cost, b2)\n",
    "  \n",
    "  # Now we create our train function. Takes in placeholder for X input matrix and \n",
    "  # placeholder for targets matrix \n",
    "  train = theano.function(\n",
    "    inputs=[thX, thT],\n",
    "    updates=[(W1, update_W1), (b1, update_b1), (W2, update_W2), (b2, update_b2)]\n",
    "  )\n",
    "  \n",
    "  # Create a function to get prediction because we want to do it over the whole dataset\n",
    "  get_prediction = theano.function(\n",
    "    inputs = [thX, thT],\n",
    "    outputs = [cost, prediction],\n",
    "  )\n",
    "  \n",
    "  # Training Loop\n",
    "  costs = []\n",
    "  for i in range(max_iter):\n",
    "      for j in range(n_batches):\n",
    "          Xbatch = Xtrain[j*batch_sz:(j*batch_sz + batch_sz),]\n",
    "          Ybatch = Ytrain_ind[j*batch_sz:(j*batch_sz + batch_sz),]\n",
    "  \n",
    "          train(Xbatch, Ybatch)     # Calling the train function we created\n",
    "          if j % print_period == 0:\n",
    "            # calling in prediction function we created to get cost and prediction\n",
    "            cost_val, prediction_val = get_prediction(Xtest, Ytest_ind)\n",
    "            err = error_rate(prediction_val, Ytest)\n",
    "            print(\"Cost / err at iteration i=%d, j=%d: %.3f / %.3f\" % (i, j, cost_val, err))\n",
    "            costs.append(cost_val)\n",
    "            \n",
    "  fig, ax = plt.subplots(figsize=(12,8))\n",
    "  plt.plot(costs)\n",
    "  plt.show()\n",
    "if __name__ == '__main__':\n",
    "  main()"
   ]
  },
  {
   "cell_type": "code",
   "execution_count": null,
   "metadata": {
    "collapsed": true
   },
   "outputs": [],
   "source": []
  },
  {
   "cell_type": "code",
   "execution_count": null,
   "metadata": {
    "collapsed": true
   },
   "outputs": [],
   "source": []
  }
 ],
 "metadata": {
  "kernelspec": {
   "display_name": "Python 3",
   "language": "python3",
   "name": "python3"
  },
  "language_info": {
   "codemirror_mode": {
    "name": "ipython",
    "version": 3
   },
   "file_extension": ".py",
   "mimetype": "text/x-python",
   "name": "python",
   "nbconvert_exporter": "python",
   "pygments_lexer": "ipython3",
   "version": "3.6.5"
  }
 },
 "nbformat": 4,
 "nbformat_minor": 2
}
