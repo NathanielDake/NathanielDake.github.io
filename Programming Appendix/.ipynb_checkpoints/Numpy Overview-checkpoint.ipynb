{
 "cells": [
  {
   "cell_type": "markdown",
   "metadata": {},
   "source": [
    "# Lists vs. Arrays"
   ]
  },
  {
   "cell_type": "code",
   "execution_count": 10,
   "metadata": {},
   "outputs": [],
   "source": [
    "import numpy as np"
   ]
  },
  {
   "cell_type": "code",
   "execution_count": 11,
   "metadata": {},
   "outputs": [],
   "source": [
    "L = [1,2,3]                 # creating python list\n",
    "A = np.array([1,2,3])       # creating numpy array"
   ]
  },
  {
   "cell_type": "code",
   "execution_count": 12,
   "metadata": {},
   "outputs": [
    {
     "name": "stdout",
     "output_type": "stream",
     "text": [
      "1\n",
      "2\n",
      "3\n"
     ]
    }
   ],
   "source": [
    "for e in L:\n",
    "    print e"
   ]
  },
  {
   "cell_type": "code",
   "execution_count": 13,
   "metadata": {},
   "outputs": [
    {
     "name": "stdout",
     "output_type": "stream",
     "text": [
      "1\n",
      "2\n",
      "3\n"
     ]
    }
   ],
   "source": [
    "for e in A:\n",
    "    print e"
   ]
  },
  {
   "cell_type": "code",
   "execution_count": 14,
   "metadata": {},
   "outputs": [
    {
     "data": {
      "text/plain": [
       "[1, 2, 3, 4, 5]"
      ]
     },
     "execution_count": 14,
     "metadata": {},
     "output_type": "execute_result"
    }
   ],
   "source": [
    "L.append(4)        # adding element to list\n",
    "L = L + [5]        # another way to add element to list\n",
    "L"
   ]
  },
  {
   "cell_type": "code",
   "execution_count": 16,
   "metadata": {},
   "outputs": [
    {
     "data": {
      "text/plain": [
       "array([2, 4, 6])"
      ]
     },
     "execution_count": 16,
     "metadata": {},
     "output_type": "execute_result"
    }
   ],
   "source": [
    "A + A              # adding two arrays element wise addition in numpy (vector addition)"
   ]
  },
  {
   "cell_type": "code",
   "execution_count": 17,
   "metadata": {},
   "outputs": [
    {
     "data": {
      "text/plain": [
       "array([2, 4, 6])"
      ]
     },
     "execution_count": 17,
     "metadata": {},
     "output_type": "execute_result"
    }
   ],
   "source": [
    "A * 2              # multiplying vector times a scalar"
   ]
  },
  {
   "cell_type": "code",
   "execution_count": 20,
   "metadata": {},
   "outputs": [
    {
     "data": {
      "text/plain": [
       "array([1, 4, 9])"
      ]
     },
     "execution_count": 20,
     "metadata": {},
     "output_type": "execute_result"
    }
   ],
   "source": [
    "A**2               # squaring a vector"
   ]
  },
  {
   "cell_type": "markdown",
   "metadata": {},
   "source": [
    "Something to keep in mind about numpy is that most functions act element wise. This just means that the function is applied to each element of the vector or matrix."
   ]
  },
  {
   "cell_type": "code",
   "execution_count": 21,
   "metadata": {},
   "outputs": [
    {
     "data": {
      "text/plain": [
       "array([1.        , 1.41421356, 1.73205081])"
      ]
     },
     "execution_count": 21,
     "metadata": {},
     "output_type": "execute_result"
    }
   ],
   "source": [
    "np.sqrt(A)         # taking square root of all elements in vector "
   ]
  },
  {
   "cell_type": "code",
   "execution_count": 22,
   "metadata": {},
   "outputs": [
    {
     "data": {
      "text/plain": [
       "array([0.        , 0.69314718, 1.09861229])"
      ]
     },
     "execution_count": 22,
     "metadata": {},
     "output_type": "execute_result"
    }
   ],
   "source": [
    "np.log(A)          # element wise log"
   ]
  },
  {
   "cell_type": "code",
   "execution_count": 23,
   "metadata": {
    "scrolled": true
   },
   "outputs": [
    {
     "data": {
      "text/plain": [
       "array([ 2.71828183,  7.3890561 , 20.08553692])"
      ]
     },
     "execution_count": 23,
     "metadata": {},
     "output_type": "execute_result"
    }
   ],
   "source": [
    "np.exp(A)          # element wise exponential "
   ]
  },
  {
   "cell_type": "markdown",
   "metadata": {},
   "source": [
    "With numpy you can treat lists like a vector, a mathematical object. "
   ]
  },
  {
   "cell_type": "markdown",
   "metadata": {},
   "source": [
    "---\n",
    "<br></br>\n",
    "# Dot Products\n",
    "\n",
    "Recall that there are two definitions of the dot product, and they are each equivalent. \n",
    "\n",
    "1: The first is the summation of the element wise multiplication of the two vectors:\n",
    "\n",
    "#### $$a \\cdot b = a^Tb = \\sum_{d=1}^Da_db_d$$\n",
    "\n",
    "Here $d$ is being used to index each component. Notice that the convention $a^Tb$ implies that the vectors are column vectors, which means that the result is a (1 x 1), aka a scalar. \n",
    "\n",
    "2: The second is the magnitude of $a$, times the magnitude of $b$, times the cosine of the angle between $a$ and $b$:\n",
    "\n",
    "#### $$a \\cdot b = |a||b|cos\\theta_{ab}$$\n",
    "\n",
    "This method is not very convenient unless we know each of the things on the right hand side to begin with. It would generally be used to find the angle itself. \n",
    "\n",
    "### Definition 1\n",
    "Let's look at this in code."
   ]
  },
  {
   "cell_type": "code",
   "execution_count": 26,
   "metadata": {},
   "outputs": [
    {
     "data": {
      "text/plain": [
       "array([1, 2])"
      ]
     },
     "execution_count": 26,
     "metadata": {},
     "output_type": "execute_result"
    }
   ],
   "source": [
    "a = np.array([1,2])\n",
    "a"
   ]
  },
  {
   "cell_type": "code",
   "execution_count": 27,
   "metadata": {},
   "outputs": [
    {
     "data": {
      "text/plain": [
       "array([2, 1])"
      ]
     },
     "execution_count": 27,
     "metadata": {},
     "output_type": "execute_result"
    }
   ],
   "source": [
    "b = np.array([2,1])\n",
    "b"
   ]
  },
  {
   "cell_type": "markdown",
   "metadata": {},
   "source": [
    "If we wanted to use the direct definition of the dot product, we would want to loop through both arrays simultaneously, multiply each corresponding element together, and add it to the final sum. "
   ]
  },
  {
   "cell_type": "code",
   "execution_count": 28,
   "metadata": {},
   "outputs": [
    {
     "data": {
      "text/plain": [
       "4"
      ]
     },
     "execution_count": 28,
     "metadata": {},
     "output_type": "execute_result"
    }
   ],
   "source": [
    "dot = 0\n",
    "for e, f in zip(a,b):\n",
    "    dot += e*f\n",
    "dot                      # result is 4 as expected"
   ]
  },
  {
   "cell_type": "markdown",
   "metadata": {},
   "source": [
    "Another interesting operation that you can do with numpy arrays is multiply two arrays together. We have already seen how to multiply a vector by a scalar. "
   ]
  },
  {
   "cell_type": "code",
   "execution_count": 30,
   "metadata": {},
   "outputs": [
    {
     "data": {
      "text/plain": [
       "array([2, 2])"
      ]
     },
     "execution_count": 30,
     "metadata": {},
     "output_type": "execute_result"
    }
   ],
   "source": [
    "a * b             # element wise multiplication of a and b "
   ]
  },
  {
   "cell_type": "markdown",
   "metadata": {},
   "source": [
    "However, the above method could not be done with two arrays of different sizes. Now, if we summed the result of `a * b` we would end up with the dot product."
   ]
  },
  {
   "cell_type": "code",
   "execution_count": 31,
   "metadata": {},
   "outputs": [
    {
     "data": {
      "text/plain": [
       "4"
      ]
     },
     "execution_count": 31,
     "metadata": {},
     "output_type": "execute_result"
    }
   ],
   "source": [
    "np.sum(a * b)           # this is the element wise multiplication of a and b, summed"
   ]
  },
  {
   "cell_type": "markdown",
   "metadata": {},
   "source": [
    "An interesting thing about numpy is that the sum function is an instance method of the numpy array itself. So we could also write the above as:"
   ]
  },
  {
   "cell_type": "code",
   "execution_count": 32,
   "metadata": {},
   "outputs": [
    {
     "data": {
      "text/plain": [
       "4"
      ]
     },
     "execution_count": 32,
     "metadata": {},
     "output_type": "execute_result"
    }
   ],
   "source": [
    "(a * b).sum()"
   ]
  },
  {
   "cell_type": "markdown",
   "metadata": {},
   "source": [
    "Now, while both of the above methods yield the correct answer, there is a more convenient way to calculate the dot product. Numpy comes packaged with a dot product function."
   ]
  },
  {
   "cell_type": "code",
   "execution_count": 33,
   "metadata": {},
   "outputs": [
    {
     "data": {
      "text/plain": [
       "4"
      ]
     },
     "execution_count": 33,
     "metadata": {},
     "output_type": "execute_result"
    }
   ],
   "source": [
    "np.dot(a,b)"
   ]
  },
  {
   "cell_type": "markdown",
   "metadata": {},
   "source": [
    "Like the `sum` function, the `dot` function is also an instance method of the numpy array, so we can call it on the object itself. "
   ]
  },
  {
   "cell_type": "code",
   "execution_count": 34,
   "metadata": {},
   "outputs": [
    {
     "data": {
      "text/plain": [
       "4"
      ]
     },
     "execution_count": 34,
     "metadata": {},
     "output_type": "execute_result"
    }
   ],
   "source": [
    "a.dot(b)"
   ]
  },
  {
   "cell_type": "markdown",
   "metadata": {},
   "source": [
    "This is also equivalent to:"
   ]
  },
  {
   "cell_type": "code",
   "execution_count": 35,
   "metadata": {},
   "outputs": [
    {
     "data": {
      "text/plain": [
       "4"
      ]
     },
     "execution_count": 35,
     "metadata": {},
     "output_type": "execute_result"
    }
   ],
   "source": [
    "b.dot(a)"
   ]
  },
  {
   "cell_type": "markdown",
   "metadata": {},
   "source": [
    "### Definition 2\n",
    "Let's now look at the alternative definition of the dot product, to calculate the angle between $a$ and $b$. For this we need figure out how to calculate the length of a vector. We can do this by taking the square root of the sum of each element squared. In other words, use pythagorean theorem."
   ]
  },
  {
   "cell_type": "code",
   "execution_count": 37,
   "metadata": {},
   "outputs": [
    {
     "data": {
      "text/plain": [
       "2.23606797749979"
      ]
     },
     "execution_count": 37,
     "metadata": {},
     "output_type": "execute_result"
    }
   ],
   "source": [
    "amag = np.sqrt( (a * a).sum())\n",
    "amag"
   ]
  },
  {
   "cell_type": "markdown",
   "metadata": {},
   "source": [
    "Numpy actually has a function to do all of this work for us, since it is such a common operation. It is part of the linalg module in numpy, which also contains many other linear algebra functions. "
   ]
  },
  {
   "cell_type": "code",
   "execution_count": 41,
   "metadata": {},
   "outputs": [
    {
     "data": {
      "text/plain": [
       "2.23606797749979"
      ]
     },
     "execution_count": 41,
     "metadata": {},
     "output_type": "execute_result"
    }
   ],
   "source": [
    "amag = np.linalg.norm(a)\n",
    "amag"
   ]
  },
  {
   "cell_type": "markdown",
   "metadata": {},
   "source": [
    "Now with this in hand, we are ready to calculate the angle. For clarity, the angle is defined as:\n",
    "\n",
    "#### $$cos\\theta_{ab} = \\frac{a \\cdot b}{|a||b|}$$"
   ]
  },
  {
   "cell_type": "code",
   "execution_count": 43,
   "metadata": {},
   "outputs": [
    {
     "data": {
      "text/plain": [
       "0.7999999999999998"
      ]
     },
     "execution_count": 43,
     "metadata": {},
     "output_type": "execute_result"
    }
   ],
   "source": [
    "cosangle = a.dot(b) / (np.linalg.norm(a) * np.linalg.norm(b))\n",
    "cosangle"
   ]
  },
  {
   "cell_type": "markdown",
   "metadata": {},
   "source": [
    "So the cosine of the angle is 0.8, and the actual angle is the arc cosine of 0.8:"
   ]
  },
  {
   "cell_type": "code",
   "execution_count": 45,
   "metadata": {},
   "outputs": [
    {
     "data": {
      "text/plain": [
       "0.6435011087932847"
      ]
     },
     "execution_count": 45,
     "metadata": {},
     "output_type": "execute_result"
    }
   ],
   "source": [
    "angle = np.arccos(cosangle)\n",
    "angle"
   ]
  },
  {
   "cell_type": "markdown",
   "metadata": {},
   "source": [
    "By default this is in radians. "
   ]
  },
  {
   "cell_type": "markdown",
   "metadata": {},
   "source": [
    "---\n",
    "<br></br>\n",
    "# Vectors and Matrices\n",
    "A numpy array has already been shown to be like a vector: we can add them, multiply them by a scalar, and perform element wise operations like `log` or `sqrt`. So what is a matrix then? Think of it as a two dimensional array."
   ]
  },
  {
   "cell_type": "code",
   "execution_count": 51,
   "metadata": {},
   "outputs": [
    {
     "data": {
      "text/plain": [
       "array([[1, 2],\n",
       "       [3, 4]])"
      ]
     },
     "execution_count": 51,
     "metadata": {},
     "output_type": "execute_result"
    }
   ],
   "source": [
    "M = np.array([ [1,2], [3,4] ])        # creating a matrix. 1st index is row, 2nd index is col\n",
    "M"
   ]
  },
  {
   "cell_type": "code",
   "execution_count": 48,
   "metadata": {},
   "outputs": [
    {
     "data": {
      "text/plain": [
       "1"
      ]
     },
     "execution_count": 48,
     "metadata": {},
     "output_type": "execute_result"
    }
   ],
   "source": [
    "M[0][0]                      # one way of accessing values from matrix"
   ]
  },
  {
   "cell_type": "code",
   "execution_count": 49,
   "metadata": {},
   "outputs": [
    {
     "data": {
      "text/plain": [
       "1"
      ]
     },
     "execution_count": 49,
     "metadata": {},
     "output_type": "execute_result"
    }
   ],
   "source": [
    "M[0,0]                       # another shorthand way of accessing value in matrix"
   ]
  },
  {
   "cell_type": "markdown",
   "metadata": {},
   "source": [
    "There is an actual data type in numpy called matrix as well."
   ]
  },
  {
   "cell_type": "code",
   "execution_count": 53,
   "metadata": {},
   "outputs": [
    {
     "data": {
      "text/plain": [
       "matrix([[1, 2],\n",
       "        [3, 4]])"
      ]
     },
     "execution_count": 53,
     "metadata": {},
     "output_type": "execute_result"
    }
   ],
   "source": [
    "M2 = np.matrix([ [1,2], [3,4] ])\n",
    "M2"
   ]
  },
  {
   "cell_type": "markdown",
   "metadata": {},
   "source": [
    "This works somewhat similarly to a numpy array, but it is not exactly the same. Most of the time we just use numpy arrays, and in fact the official documentation actually recommends not using numpy matrix. If you see a matrix, it is a good idea to convert it into an array:"
   ]
  },
  {
   "cell_type": "code",
   "execution_count": 55,
   "metadata": {},
   "outputs": [
    {
     "data": {
      "text/plain": [
       "array([[1, 2],\n",
       "       [3, 4]])"
      ]
     },
     "execution_count": 55,
     "metadata": {},
     "output_type": "execute_result"
    }
   ],
   "source": [
    "M3 = np.array(M2)\n",
    "M3"
   ]
  },
  {
   "cell_type": "markdown",
   "metadata": {},
   "source": [
    "Note that even though this is now an array, we still have convenient matrix operations. For example if we wanted to find the transpose of M:"
   ]
  },
  {
   "cell_type": "code",
   "execution_count": 56,
   "metadata": {},
   "outputs": [
    {
     "data": {
      "text/plain": [
       "array([[1, 2],\n",
       "       [3, 4]])"
      ]
     },
     "execution_count": 56,
     "metadata": {},
     "output_type": "execute_result"
    }
   ],
   "source": [
    "M"
   ]
  },
  {
   "cell_type": "code",
   "execution_count": 57,
   "metadata": {},
   "outputs": [
    {
     "data": {
      "text/plain": [
       "array([[1, 3],\n",
       "       [2, 4]])"
      ]
     },
     "execution_count": 57,
     "metadata": {},
     "output_type": "execute_result"
    }
   ],
   "source": [
    "M.T"
   ]
  },
  {
   "cell_type": "markdown",
   "metadata": {},
   "source": [
    "To summarize, we have shown that a matrix is really just a 2-dimensional numpy array, and a vector is a 1-dimensional numpy array. So a matrix is really like a 2 dimensional vector. The more general way to think about this is that a matrix is a 2-dimensional mathematical object that contains numbers, and a vector is a 1-dimensional mathematical object that contains numbers. \n",
    "\n",
    "Sometimes you may see vectors represented as a 2-d object. For example, in a math textbook a column vector may be described as (3 x 1), and a row vector (1 x 3). Sometimes we may represent them like this in numpy. "
   ]
  },
  {
   "cell_type": "markdown",
   "metadata": {},
   "source": [
    "---\n",
    "<br></br>\n",
    "# Generating Matrices to Work With\n",
    "Sometimes we just need arrays to try stuff on, like in this course. One way to do this is to use `np.array` and pass in a list:"
   ]
  },
  {
   "cell_type": "code",
   "execution_count": 58,
   "metadata": {},
   "outputs": [
    {
     "data": {
      "text/plain": [
       "array([1, 2, 3])"
      ]
     },
     "execution_count": 58,
     "metadata": {},
     "output_type": "execute_result"
    }
   ],
   "source": [
    "np.array([1,2,3])"
   ]
  },
  {
   "cell_type": "markdown",
   "metadata": {},
   "source": [
    "However, this is inconvenient since each element needs to be typed in manually. What if we wanted arrays of different sizes?\n",
    "\n",
    "Lets start by creating a vector of zeros."
   ]
  },
  {
   "cell_type": "code",
   "execution_count": 60,
   "metadata": {},
   "outputs": [
    {
     "data": {
      "text/plain": [
       "array([0., 0., 0., 0., 0., 0., 0., 0., 0., 0.])"
      ]
     },
     "execution_count": 60,
     "metadata": {},
     "output_type": "execute_result"
    }
   ],
   "source": [
    "Z = np.zeros(10)\n",
    "Z"
   ]
  },
  {
   "cell_type": "markdown",
   "metadata": {},
   "source": [
    "We can also create a 10 x 10 matrix of all zeros."
   ]
  },
  {
   "cell_type": "code",
   "execution_count": 62,
   "metadata": {},
   "outputs": [
    {
     "data": {
      "text/plain": [
       "array([[0., 0., 0., 0., 0., 0., 0., 0., 0., 0.],\n",
       "       [0., 0., 0., 0., 0., 0., 0., 0., 0., 0.],\n",
       "       [0., 0., 0., 0., 0., 0., 0., 0., 0., 0.],\n",
       "       [0., 0., 0., 0., 0., 0., 0., 0., 0., 0.],\n",
       "       [0., 0., 0., 0., 0., 0., 0., 0., 0., 0.],\n",
       "       [0., 0., 0., 0., 0., 0., 0., 0., 0., 0.],\n",
       "       [0., 0., 0., 0., 0., 0., 0., 0., 0., 0.],\n",
       "       [0., 0., 0., 0., 0., 0., 0., 0., 0., 0.],\n",
       "       [0., 0., 0., 0., 0., 0., 0., 0., 0., 0.],\n",
       "       [0., 0., 0., 0., 0., 0., 0., 0., 0., 0.]])"
      ]
     },
     "execution_count": 62,
     "metadata": {},
     "output_type": "execute_result"
    }
   ],
   "source": [
    "Z = np.zeros((10, 10))\n",
    "Z"
   ]
  },
  {
   "cell_type": "markdown",
   "metadata": {},
   "source": [
    "Notice that the function still takes in 1 input, a tuple containing each dimension. \n",
    "\n",
    "There is an equivalent function that creates an array of all ones."
   ]
  },
  {
   "cell_type": "code",
   "execution_count": 64,
   "metadata": {},
   "outputs": [
    {
     "data": {
      "text/plain": [
       "array([[1., 1., 1., 1., 1., 1., 1., 1., 1., 1.],\n",
       "       [1., 1., 1., 1., 1., 1., 1., 1., 1., 1.],\n",
       "       [1., 1., 1., 1., 1., 1., 1., 1., 1., 1.],\n",
       "       [1., 1., 1., 1., 1., 1., 1., 1., 1., 1.],\n",
       "       [1., 1., 1., 1., 1., 1., 1., 1., 1., 1.],\n",
       "       [1., 1., 1., 1., 1., 1., 1., 1., 1., 1.],\n",
       "       [1., 1., 1., 1., 1., 1., 1., 1., 1., 1.],\n",
       "       [1., 1., 1., 1., 1., 1., 1., 1., 1., 1.],\n",
       "       [1., 1., 1., 1., 1., 1., 1., 1., 1., 1.],\n",
       "       [1., 1., 1., 1., 1., 1., 1., 1., 1., 1.]])"
      ]
     },
     "execution_count": 64,
     "metadata": {},
     "output_type": "execute_result"
    }
   ],
   "source": [
    "O = np.ones((10, 10))\n",
    "O"
   ]
  },
  {
   "cell_type": "markdown",
   "metadata": {},
   "source": [
    "What if we wanted random numbers? We could use `np.random.random`."
   ]
  },
  {
   "cell_type": "code",
   "execution_count": 66,
   "metadata": {},
   "outputs": [
    {
     "data": {
      "text/plain": [
       "array([[0.85605432, 0.95303017, 0.35835843, 0.05553049, 0.50352372,\n",
       "        0.79284477, 0.17307957, 0.15495916, 0.80349829, 0.52970348],\n",
       "       [0.10638164, 0.18284097, 0.30309349, 0.1788535 , 0.24742533,\n",
       "        0.272136  , 0.65365846, 0.99016874, 0.03743142, 0.70867619],\n",
       "       [0.5760099 , 0.02431515, 0.47861786, 0.97440706, 0.19212456,\n",
       "        0.28327061, 0.60635581, 0.32893627, 0.55290507, 0.48778588],\n",
       "       [0.36827245, 0.68208707, 0.45807578, 0.33885551, 0.45055826,\n",
       "        0.29218447, 0.78292424, 0.94594624, 0.51451056, 0.83172184],\n",
       "       [0.49707746, 0.01605323, 0.98155602, 0.3577372 , 0.73105092,\n",
       "        0.78708516, 0.1460198 , 0.95848855, 0.04000149, 0.23600369],\n",
       "       [0.66138109, 0.464723  , 0.98781249, 0.68856559, 0.97075006,\n",
       "        0.72307998, 0.69533545, 0.26475817, 0.75858351, 0.78308352],\n",
       "       [0.12741335, 0.30064585, 0.37611466, 0.33238342, 0.73223474,\n",
       "        0.27299646, 0.94094281, 0.57671565, 0.21255952, 0.41373889],\n",
       "       [0.4744563 , 0.32919102, 0.01529366, 0.35699435, 0.06238175,\n",
       "        0.76200769, 0.81968437, 0.66698223, 0.28465717, 0.01804295],\n",
       "       [0.42701483, 0.41857479, 0.71514719, 0.22936354, 0.82860293,\n",
       "        0.54210389, 0.9520004 , 0.16808967, 0.06155765, 0.37097013],\n",
       "       [0.68190639, 0.3475546 , 0.84759494, 0.82010446, 0.51895408,\n",
       "        0.28976293, 0.46220816, 0.57127634, 0.85143686, 0.94214992]])"
      ]
     },
     "execution_count": 66,
     "metadata": {},
     "output_type": "execute_result"
    }
   ],
   "source": [
    "R = np.random.random((10,10))\n",
    "R"
   ]
  },
  {
   "cell_type": "markdown",
   "metadata": {},
   "source": [
    "One thing that we can quickly see is that all of these values are greater than 0 and less than 1. Whenever we talk about random numbers, you should be interested in the probability distribution that the random numbers came from. This particular random functions gives us uniformly distributed numbers between 0 and 1. What if we wanted gaussian distributed numbers? Numpy has a function for that as well."
   ]
  },
  {
   "cell_type": "code",
   "execution_count": 68,
   "metadata": {},
   "outputs": [
    {
     "data": {
      "text/plain": [
       "array([[-0.82949821, -0.14928398, -1.82475751,  0.09717052,  1.44440614,\n",
       "        -1.73805378, -0.17509296,  0.11671398,  0.76734382,  0.96697768],\n",
       "       [ 1.85574181,  0.08034421,  0.00283216,  0.71701093, -1.64681207,\n",
       "        -0.88526668,  1.31858469,  1.92013903,  0.18036797, -0.84131642],\n",
       "       [ 0.13316877, -0.28176862, -0.47106288, -0.22776688,  1.01159741,\n",
       "         0.11139526,  0.80577488,  0.49506451, -0.12006958, -0.91874854],\n",
       "       [-0.59997636, -0.51426609, -0.92842242, -1.20682307, -1.38945692,\n",
       "         2.06782454,  1.31045835, -0.59523498, -0.10747227,  0.50128959],\n",
       "       [ 0.37753132, -0.12478803, -0.53258967, -0.26331331,  1.12904435,\n",
       "        -0.89388794, -0.14424929, -1.42217404,  1.63479007, -1.53093132],\n",
       "       [ 0.97070732, -0.41805953,  0.08082798,  0.4009525 ,  1.09761373,\n",
       "        -0.41273791, -0.06510427, -0.25898831,  2.15479612, -0.30839871],\n",
       "       [-0.73848221,  0.15326129, -1.21248259,  0.00928649,  0.10775682,\n",
       "         1.18709075,  0.16362849,  1.85804224,  0.37883227, -0.03551837],\n",
       "       [-0.92336051,  1.47647904,  0.89279041,  0.22003272,  0.0072887 ,\n",
       "        -0.3796038 , -0.22790809, -0.62753408,  0.81172245, -0.68980228],\n",
       "       [-0.36662118, -1.93792228,  0.97687232, -0.39023007, -0.06529653,\n",
       "         0.77330321,  1.49061101,  0.03334014, -0.08377446, -1.71334434],\n",
       "       [ 1.64782108, -0.92619812,  0.71176693, -2.42213316, -0.21366342,\n",
       "         0.7796993 ,  0.48083936,  0.75232799,  0.04310065, -0.38328218]])"
      ]
     },
     "execution_count": 68,
     "metadata": {},
     "output_type": "execute_result"
    }
   ],
   "source": [
    "# G = np.random.randn((10, 10))          this will not work, sine randn does not take tuple\n",
    "\n",
    "G = np.random.randn(10,10)\n",
    "G"
   ]
  },
  {
   "cell_type": "markdown",
   "metadata": {},
   "source": [
    "Numpy arrays also have convenient ways for us to calculate statistics of matrices."
   ]
  },
  {
   "cell_type": "code",
   "execution_count": 69,
   "metadata": {},
   "outputs": [
    {
     "data": {
      "text/plain": [
       "0.035428330826396855"
      ]
     },
     "execution_count": 69,
     "metadata": {},
     "output_type": "execute_result"
    }
   ],
   "source": [
    "G.mean()      # gives us the mean"
   ]
  },
  {
   "cell_type": "code",
   "execution_count": 70,
   "metadata": {},
   "outputs": [
    {
     "data": {
      "text/plain": [
       "0.9097895080436358"
      ]
     },
     "execution_count": 70,
     "metadata": {},
     "output_type": "execute_result"
    }
   ],
   "source": [
    "G.var()       # gives us the variance"
   ]
  },
  {
   "cell_type": "markdown",
   "metadata": {},
   "source": [
    "---\n",
    "<br></br>\n",
    "# Matrix Products\n",
    "When you learn about matrix products in linear algebra, you generally learn about matrix multiplication. Matrix multiplication has a special requirement, and that is that the inner dimensions of the matrices you are multiplying must match. \n",
    "\n",
    "For example say we have matrix `A` that is **(2, 3)** and a matrix `B` that is **(3, 3)**, we can multiply A * B, since the inner dimension is 3, however we cannot multiply B * A, since the inner dimensions are 3 and 2, hence they do not match. \n",
    "\n",
    "Why do we have this requirement when we multiply matrices? Well lets look at the definition of matrix multiplication:\n",
    "\n",
    "#### $$C(i,j) = \\sum_{k=1}^KA(i,k)B(k,j)$$\n",
    "\n",
    "So the (i,j)th entry of $C$ is the sum of the multiplication of all the corresponding elements of the ith row of A and the jth column of B. In other words, C(i,j) is the dot product of the ith row of A and the jth column of B. Because of this, we actually use the `dot` function in numpy! That does what we recognize as matrix multiplication! \n",
    "\n",
    "A very natural thing to want to do, both in math and in computing, is element by element multiplication! \n",
    "\n",
    "#### $$C(i,j) = A(i,j) * B(i,j)$$\n",
    "\n",
    "For vectors, we already saw that an asterisk `*` operation does this. As you may have guessed, for 2-d arrays, the asterisk also does element wise multiplication. That means that when you use the `*` on multidimensional arrays, both of them have to be the exact same size. This may seem odd, since in other languages, the asterisk does mean real matrix multiplication. So we just need to remember that in numpy, the asterisk `*` does mean element by element multiplication, and the `dot` means matrix multiplication. \n",
    "\n",
    "Another thing that is odd is that when we are writing down mathematical equations, there isn't even a well defined symbol for element wise multiplication. Sometimes researchers use a circle with a dot inside of it, sometimes they use a circle with an x inside of it. But there does not seem to be a standard way to do that in math. "
   ]
  },
  {
   "cell_type": "markdown",
   "metadata": {},
   "source": [
    "---\n",
    "<br></br>\n",
    "# More Matrix Operations\n",
    "\n",
    "The dot product is often referred to as the **inner product**. But we can also look at the **outer product**. An outer product is going to a be a **column vector** times a **row vector**. An inner product is going to a be a **row vector** times a **column vector**. For more information on this checkout my linear algebra walk through in the math appendix. "
   ]
  },
  {
   "cell_type": "code",
   "execution_count": 71,
   "metadata": {},
   "outputs": [
    {
     "data": {
      "text/plain": [
       "array([1, 2])"
      ]
     },
     "execution_count": 71,
     "metadata": {},
     "output_type": "execute_result"
    }
   ],
   "source": [
    "a = np.array([1,2])\n",
    "a"
   ]
  },
  {
   "cell_type": "code",
   "execution_count": 73,
   "metadata": {},
   "outputs": [
    {
     "data": {
      "text/plain": [
       "array([3, 4])"
      ]
     },
     "execution_count": 73,
     "metadata": {},
     "output_type": "execute_result"
    }
   ],
   "source": [
    "b = np.array([3,4])\n",
    "b"
   ]
  },
  {
   "cell_type": "markdown",
   "metadata": {},
   "source": [
    "Lets first look at the dot product:"
   ]
  },
  {
   "cell_type": "code",
   "execution_count": 76,
   "metadata": {},
   "outputs": [
    {
     "data": {
      "text/plain": [
       "11"
      ]
     },
     "execution_count": 76,
     "metadata": {},
     "output_type": "execute_result"
    }
   ],
   "source": [
    "np.dot(a,b)"
   ]
  },
  {
   "cell_type": "markdown",
   "metadata": {},
   "source": [
    "Now the inner product:"
   ]
  },
  {
   "cell_type": "code",
   "execution_count": 77,
   "metadata": {},
   "outputs": [
    {
     "data": {
      "text/plain": [
       "11"
      ]
     },
     "execution_count": 77,
     "metadata": {},
     "output_type": "execute_result"
    }
   ],
   "source": [
    "np.inner(a,b)"
   ]
  },
  {
   "cell_type": "markdown",
   "metadata": {},
   "source": [
    "We see that it is the same as the dot product. Now let's look at the outer product:"
   ]
  },
  {
   "cell_type": "code",
   "execution_count": 78,
   "metadata": {},
   "outputs": [
    {
     "data": {
      "text/plain": [
       "array([[3, 4],\n",
       "       [6, 8]])"
      ]
     },
     "execution_count": 78,
     "metadata": {},
     "output_type": "execute_result"
    }
   ],
   "source": [
    "np.outer(a,b)"
   ]
  },
  {
   "cell_type": "markdown",
   "metadata": {},
   "source": [
    "We can get the same result if we ensure that out `a` and `b` are proper matrices, and then use the dot product. Note, here we see the equivalence to the `inner` and `outer` methods above. "
   ]
  },
  {
   "cell_type": "code",
   "execution_count": 105,
   "metadata": {},
   "outputs": [
    {
     "data": {
      "text/plain": [
       "array([[1, 2]])"
      ]
     },
     "execution_count": 105,
     "metadata": {},
     "output_type": "execute_result"
    }
   ],
   "source": [
    "a = np.array([[1,2]])\n",
    "a"
   ]
  },
  {
   "cell_type": "code",
   "execution_count": 106,
   "metadata": {},
   "outputs": [
    {
     "data": {
      "text/plain": [
       "array([[3, 4]])"
      ]
     },
     "execution_count": 106,
     "metadata": {},
     "output_type": "execute_result"
    }
   ],
   "source": [
    "b = np.array([[3,4]])\n",
    "b"
   ]
  },
  {
   "cell_type": "code",
   "execution_count": 107,
   "metadata": {},
   "outputs": [
    {
     "data": {
      "text/plain": [
       "array([[3],\n",
       "       [4]])"
      ]
     },
     "execution_count": 107,
     "metadata": {},
     "output_type": "execute_result"
    }
   ],
   "source": [
    "b = b.T\n",
    "b"
   ]
  },
  {
   "cell_type": "code",
   "execution_count": 109,
   "metadata": {},
   "outputs": [
    {
     "data": {
      "text/plain": [
       "array([[11]])"
      ]
     },
     "execution_count": 109,
     "metadata": {},
     "output_type": "execute_result"
    }
   ],
   "source": [
    "np.dot(a,b)"
   ]
  },
  {
   "cell_type": "code",
   "execution_count": 110,
   "metadata": {},
   "outputs": [
    {
     "data": {
      "text/plain": [
       "array([[3, 6],\n",
       "       [4, 8]])"
      ]
     },
     "execution_count": 110,
     "metadata": {},
     "output_type": "execute_result"
    }
   ],
   "source": [
    "np.dot(b,a)"
   ]
  }
 ],
 "metadata": {
  "kernelspec": {
   "display_name": "Python 3",
   "language": "python",
   "name": "python3"
  },
  "language_info": {
   "codemirror_mode": {
    "name": "ipython",
    "version": 2
   },
   "file_extension": ".py",
   "mimetype": "text/x-python",
   "name": "python",
   "nbconvert_exporter": "python",
   "pygments_lexer": "ipython2",
   "version": "2.7.13"
  }
 },
 "nbformat": 4,
 "nbformat_minor": 2
}
