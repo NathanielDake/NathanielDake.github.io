{
 "cells": [
  {
   "cell_type": "code",
   "execution_count": 11,
   "metadata": {
    "collapsed": true
   },
   "outputs": [],
   "source": [
    "import numpy as np\n",
    "import copy"
   ]
  },
  {
   "cell_type": "code",
   "execution_count": 27,
   "metadata": {},
   "outputs": [],
   "source": [
    "def coordinate_descent_for_quadratic(g,w,max_its,a,b,C):\n",
    "  '''\n",
    "  Coordinate descent wrapper for general quadratic function. Here\n",
    "\n",
    "  a - a constant\n",
    "  b - an Nx1 vector\n",
    "  C - an NxN matrix (symmetric and all nonnegative eigenvalues)\n",
    "  '''\n",
    "\n",
    "  # record weights and cost history \n",
    "  weight_history = [copy.deepcopy(w)]     \n",
    "  cost_history = [g(w)]\n",
    "  N = np.size(w)\n",
    "\n",
    "  # outer loop - each is a sweep through every variable once\n",
    "  for k in range(max_its):\n",
    "    # inner loop - each is a single variable update\n",
    "    for n in range(N):\n",
    "      w[n] = -(np.dot(C[n,:],w) - C[n,n]*w[n] + 0.5*b[n])/float(C[n,n])\n",
    "      print(w[n])\n",
    "      # record weights and cost value at each step\n",
    "      weight_history.append(copy.deepcopy(w))\n",
    "      cost_history.append(g(w))\n",
    "\n",
    "  return weight_history,cost_history"
   ]
  },
  {
   "cell_type": "code",
   "execution_count": 28,
   "metadata": {},
   "outputs": [
    {
     "name": "stdout",
     "output_type": "stream",
     "text": [
      "0\n",
      "0\n",
      "0\n",
      "0\n"
     ]
    }
   ],
   "source": [
    "a = 2 \n",
    "b = np.zeros((2,1)) \n",
    "C = np.eye(2) \n",
    "g = lambda w: (a + np.dot(b.T,w) + np.dot(np.dot(w.T,C),w))[0]\n",
    "w = np.array([3,4])\n",
    "max_its = 2\n",
    "\n",
    "weight_history, cost_history = coordinate_descent_for_quadratic(g,w,max_its,a,b,C)"
   ]
  },
  {
   "cell_type": "code",
   "execution_count": 29,
   "metadata": {},
   "outputs": [
    {
     "data": {
      "text/plain": [
       "[array([3, 4]), array([0, 4]), array([0, 0]), array([0, 0]), array([0, 0])]"
      ]
     },
     "execution_count": 29,
     "metadata": {},
     "output_type": "execute_result"
    }
   ],
   "source": [
    "weight_history"
   ]
  },
  {
   "cell_type": "code",
   "execution_count": 23,
   "metadata": {},
   "outputs": [
    {
     "data": {
      "text/plain": [
       "[27.0, 18.0, 2.0, 2.0, 2.0]"
      ]
     },
     "execution_count": 23,
     "metadata": {},
     "output_type": "execute_result"
    }
   ],
   "source": [
    "cost_history"
   ]
  },
  {
   "cell_type": "code",
   "execution_count": null,
   "metadata": {},
   "outputs": [],
   "source": []
  },
  {
   "cell_type": "code",
   "execution_count": null,
   "metadata": {
    "collapsed": true
   },
   "outputs": [],
   "source": []
  }
 ],
 "metadata": {
  "kernelspec": {
   "display_name": "Python 3",
   "language": "python3",
   "name": "python3"
  },
  "language_info": {
   "codemirror_mode": {
    "name": "ipython",
    "version": 3
   },
   "file_extension": ".py",
   "mimetype": "text/x-python",
   "name": "python",
   "nbconvert_exporter": "python",
   "pygments_lexer": "ipython3",
   "version": "3.6.5"
  }
 },
 "nbformat": 4,
 "nbformat_minor": 2
}
