{
 "cells": [
  {
   "cell_type": "markdown",
   "metadata": {},
   "source": [
    "# 1. Mean and Variance of product of two Independent random variables\n",
    "Let's look at the situation where we have a random variable $X$ with a mean $\\mu_x$ and a standard deviation $\\sigma_x$. The random variable $Y$ has mean $\\mu_y$ and standard deviation $\\sigma_y$. Also, assume that  $X$ and $Y$ are independent.\n",
    "\n",
    "**Expected value of $X*Y$, aka E[XY]:**\n",
    "Because they are independent:\n",
    "#### $$E[XY] = E[X]E[Y] = \\mu_x \\mu_y$$\n",
    "\n",
    "**Variance of $X*Y$, aka Var[XY]:**\n",
    "Well, remember that the variance of a random variable $X$ is:\n",
    "\n",
    "#### $$Var(X) = E\\Big[(X -\\mu)^2\\Big]$$\n",
    "\n",
    "Now, this can also be rewritten using the definition of $\\mu$, which is $E[X]$:\n",
    "\n",
    "#### $$Var(X) = E\\Big[(X -E[X])^2\\Big]$$\n",
    "\n",
    "Which we can mathematically derive to be:\n",
    "\n",
    "#### $$E\\Big[X^2 - 2XE[X] + E[X]^2 \\Big]$$\n",
    "#### $$E[X^2] - 2E[X]E[X] + E[X]^2$$\n",
    "#### $$Var(X) = E[X^2] - E[X]^2$$\n",
    "\n",
    "Great, so now that have that defintion of the $Var(X)$, we can plug in $X*Y$ for the original X:\n",
    "\n",
    "#### $$Var[XY] = E[(XY)^2] - (E[XY])^2$$\n",
    "\n",
    "Which we can then algebraically manipulate:\n",
    "\n",
    "#### $$Var[XY] = E[(X^2Y^2)] - (E[X]E[Y])^2$$\n",
    "#### $$E[X^2]E[Y^2] - (E[X])^2(E[Y])^2$$\n",
    "#### $$(\\sigma_x^2 + \\mu_x^2)(\\sigma_y^2 + \\mu_y^2) - \\mu_x^2 \\mu_y^2$$\n",
    "#### $$\\sigma_x^2 \\sigma_y^2 + \\mu_x^2 \\mu_y^2 + \\sigma_x^2\\mu_y^2 + \\sigma_y^2\\mu_x^2 - \\mu_x^2\\mu_y^2$$\n",
    "#### $$Var[XY] = \\sigma_x^2 \\sigma_y^2 + \\sigma_x^2\\mu_y^2 + \\sigma_y^2\\mu_x^2 $$"
   ]
  },
  {
   "cell_type": "code",
   "execution_count": null,
   "metadata": {
    "collapsed": true
   },
   "outputs": [],
   "source": []
  }
 ],
 "metadata": {
  "kernelspec": {
   "display_name": "Python 3",
   "language": "python3",
   "name": "python3"
  },
  "language_info": {
   "codemirror_mode": {
    "name": "ipython",
    "version": 3
   },
   "file_extension": ".py",
   "mimetype": "text/x-python",
   "name": "python",
   "nbconvert_exporter": "python",
   "pygments_lexer": "ipython3",
   "version": "3.6.4"
  }
 },
 "nbformat": 4,
 "nbformat_minor": 2
}
