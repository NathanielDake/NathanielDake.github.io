{
 "cells": [
  {
   "cell_type": "markdown",
   "metadata": {},
   "source": [
    "# 1. Numerical Differentiation \n",
    "Often in machine learning, we will need to calculate the derivative of a function programmatically. Now, in general we will use a library to accomplish this-however, understanding how the implementation works under the hood is most definitely a valuable skill. \n",
    "\n",
    "So, based on our knowledge of the derivative, we know that for a small magnitude $\\epsilon$, the value of the derivative of a function $g(\\omega)$ is approximately:\n",
    "\n",
    "$$\\frac{d}{d\\omega}g(\\omega) \\approx \\frac{g(\\omega + \\epsilon) - g(\\omega)}{\\epsilon}$$\n",
    "\n",
    "So, in order to make a program that estimates the derivative of some function at a point, we can simply choose a small positive value $\\epsilon$ and approximate all derivatives we come across as:\n",
    "\n",
    "$$\\frac{g(\\omega + \\epsilon) - g(\\omega)}{\\epsilon}$$"
   ]
  },
  {
   "cell_type": "code",
   "execution_count": 2,
   "metadata": {},
   "outputs": [],
   "source": [
    "class NumericalDerivative:\n",
    "  \"\"\"A function for computing the numerical derivative of an arbitrary\n",
    "  input function and user-chosen epsilon\"\"\"\n",
    "  def __init__(self, g):\n",
    "    # load in function to differentiate and user epsilon\n",
    "    self.g = g; self.epsilon = 10*-5\n",
    "    \n",
    "  def __call__(self, w, **kwargs):\n",
    "    # make local copies\n",
    "    g, epsilon = self.g, self.epsilon\n",
    "    \n",
    "    print(kwargs)\n",
    "    \n",
    "    # set epsilon to desired value or use default\n",
    "    if 'epsilon' in kwargs:\n",
    "      epsilon = kwargs['epsilon']\n",
    "      \n",
    "    # Compute derivative approximation and return\n",
    "    approx = (g(w + epsilon) - g(w))/epsilon \n",
    "    return approx"
   ]
  },
  {
   "cell_type": "code",
   "execution_count": null,
   "metadata": {
    "collapsed": true
   },
   "outputs": [],
   "source": []
  }
 ],
 "metadata": {
  "kernelspec": {
   "display_name": "Python 3",
   "language": "python3",
   "name": "python3"
  },
  "language_info": {
   "codemirror_mode": {
    "name": "ipython",
    "version": 3
   },
   "file_extension": ".py",
   "mimetype": "text/x-python",
   "name": "python",
   "nbconvert_exporter": "python",
   "pygments_lexer": "ipython3",
   "version": "3.6.5"
  }
 },
 "nbformat": 4,
 "nbformat_minor": 2
}
