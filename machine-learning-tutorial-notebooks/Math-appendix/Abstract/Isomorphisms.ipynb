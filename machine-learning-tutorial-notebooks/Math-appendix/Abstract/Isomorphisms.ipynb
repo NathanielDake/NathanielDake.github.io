{
 "cells": [
  {
   "cell_type": "markdown",
   "metadata": {
    "collapsed": true
   },
   "source": [
    "# TODO\n",
    "* Define the following\n",
    "    * map\n",
    "    * injective, bijective, surjective, etc\n",
    "    * isomorphism\n",
    "    * then finally perform proof about vector spaces?\n",
    "    \n",
    "    https://en.wikipedia.org/wiki/System_of_linear_equations"
   ]
  },
  {
   "cell_type": "markdown",
   "metadata": {
    "collapsed": true
   },
   "source": [
    "# 1. Isomorphism\n",
    "The idea behind an **isomorphism** is an extremely powerful one that is used across many fields-from mathematics to linguistics, natural language processing to cognitive science, it truly does show up everywhere. The purpose of this notebook is to pull together the necessary background surrounding the mathematical definition of an isomorphism, so that it can strengthen the general purpose understanding.\n",
    "\n",
    "---\n",
    "\n",
    "# 2. Map\n",
    "The first concept that must be understood is that of a **[map](https://en.wikipedia.org/wiki/Map_(mathematics)**. A map, by it's mathematical definition is:\n",
    "> _**Map**_: Refers to either a _function_, often with some sort of special structure, or a morphism in category theory, which generalizes the idea of a function.\n",
    "\n",
    "So, in general we can view a map as a function. In _topology_ a map is a _continuous function_; in _linear algebra_ a map is a _linear transformation_. \n",
    "\n",
    "We can also think of maps as _**morphisms**_, something a bit more general than a function. \n",
    "\n",
    "---\n",
    "\n",
    "# 3. Morphism\n",
    "Now, a [morphism](https://en.wikipedia.org/wiki/Morphism) is very closely linked to a map. By definition it is:\n",
    "\n",
    "> _**Morphism**_: A structure-preserving map from one mathematical structure to another one of the same type. In set theory, morphisms are functions; in linear algebra, linear transformations; in topology, continuous functions, and so on.\n",
    "\n",
    "A morphism f with source X and target Y is written:\n",
    "\n",
    "$$f : X \\rightarrow Y$$\n",
    "\n",
    "And the morphism itself is represented by an _arrow_ from its source to its target. \n",
    "\n",
    "---\n",
    "\n",
    "# 4. Injection, Surjection, Bijection \n",
    "We now arrive at the next set of definitions we must be comfortable with in our quest to understand an isomorphism. \n",
    "\n",
    "### 4.1 Injective Function\n",
    "First up, we can look at an **Injective Function**. In mathematics, an injective function is a _one-to-one function_ that preserves distinctness. We can see two examples below:\n",
    "\n",
    "<img src=\"images/injection1.png\">\n",
    "<img src=\"images/bijection.png\">\n",
    "\n",
    "For a peak into how this looks graphically, the following is an injective function:\n",
    "\n",
    "<img src=\"images/injection2.png\" width=\"250\">\n",
    "\n",
    "While, this function is not injective:\n",
    "\n",
    "<img src=\"images/injection3.png\" width=\"250\">\n",
    "\n",
    "### 4.2 Bijective Function \n",
    "A **Bijective Function** is a _one-to-one correspondence_ between elements of two sets, where each element of one set is paired with exactly one element of the other set. \n",
    "\n",
    "<img src=\"images/bijection.png\">\n",
    "\n",
    "### 4.3 Surjective Function \n",
    "A function $f$ from a set $X$ to a set $Y$ is **surjective**, if for every element $y$ in the codomain $Y$ of $f$ there is at least one element $x$ in the domain $X$ of $f$ such that $f(x) = y$. It is not required that $x$ is unique; the function f may map one or more elements of X to the same element of Y. Below is an example of a surjective function:\n",
    "\n",
    "<img src=\"images/surjection.png\">\n",
    "\n",
    "And here we can see a non surjective function:\n",
    "\n",
    "<img src=\"images/non-surjective.png\">"
   ]
  },
  {
   "cell_type": "markdown",
   "metadata": {},
   "source": [
    "---\n",
    "\n",
    "# 5. Isomorphism\n",
    "We have finally hit a point where we are going to dig into what an isomorphism actually is! When $f$ is both an _injection_ and _surjection_, meaning that every single element in the _domain_ $G$ maps to a unique value in the codomain $H$, leaving no values that have not been mapped to in $H$, we have an _isomorphism_!\n",
    "\n",
    "<img src=\"images/isomorphism.png\" width=\"400\">\n",
    "\n",
    "For our full definition:\n",
    "\n",
    "> _**Isomorphism**_: An isomorphism is a homomorphism that is one-to-one and onto. In other words, a homomorphism and bijection. \n",
    "\n",
    "The simplest way to think about whether a function is isomorphic or not is to the do the following: First determine if the function is able to map _all_ element of the _domain_ to _all_ elements of the _codomain_. If so, then it is one-to-one and onto. \n",
    "\n",
    "For instance, consider the logarithm. It's range (codomain) is all real numbers, input (domain) is all real positive numbers, and every input maps a unique output in the codomain. Hence, we have:\n",
    "\n",
    "$$log : R^+ \\rightarrow R$$\n",
    "\n",
    "And because we have the ability to go back from the codomain to the domain via the inverse (the exponential):\n",
    "\n",
    "$$exp : R \\rightarrow R^+$$\n",
    "\n",
    "We can see that log is an isomorphism of both groups! "
   ]
  },
  {
   "cell_type": "code",
   "execution_count": null,
   "metadata": {
    "collapsed": true
   },
   "outputs": [],
   "source": []
  }
 ],
 "metadata": {
  "kernelspec": {
   "display_name": "Python 3",
   "language": "python3",
   "name": "python3"
  },
  "language_info": {
   "codemirror_mode": {
    "name": "ipython",
    "version": 3
   },
   "file_extension": ".py",
   "mimetype": "text/x-python",
   "name": "python",
   "nbconvert_exporter": "python",
   "pygments_lexer": "ipython3",
   "version": "3.6.5"
  }
 },
 "nbformat": 4,
 "nbformat_minor": 2
}
