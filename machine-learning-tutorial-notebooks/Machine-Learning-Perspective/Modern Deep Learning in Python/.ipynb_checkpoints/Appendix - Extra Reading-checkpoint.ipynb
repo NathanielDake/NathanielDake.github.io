{
 "cells": [
  {
   "cell_type": "markdown",
   "metadata": {},
   "source": [
    "The Marginal Value of Adaptive Gradient Methods in Machine Learning\n",
    "https://arxiv.org/abs/1705.08292\n",
    "\n",
    "Asynchronous Stochastic Gradient Descent with Delay Compensation for Distributed Deep Learning\n",
    "https://arxiv.org/abs/1609.08326\n",
    "\n",
    "Asynchronous Stochastic Gradient Descent with Variance Reduction for Non-Convex Optimization\n",
    "https://arxiv.org/abs/1604.03584\n",
    "\n",
    "Large Scale Distributed Deep Networks\n",
    "https://static.googleusercontent.com/media/research.google.com/en//archive/large_deep_networks_nips2012.pdf\n",
    "\n",
    "Batch Normalization: Accelerating Deep Network Training by Reducing Internal Covariate Shift\n",
    "Sergey Ioffe, Christian Szegedy\n",
    "https://arxiv.org/abs/1502.03167\n",
    "\n",
    "Xavier (Glorot) Normal Initializer\n",
    "http://jmlr.org/proceedings/papers/v9/glorot10a/glorot10a.pdf\n",
    "\n",
    "He Normal Initializer\n",
    "http://arxiv.org/abs/1502.01852\n",
    "\n",
    "For understanding Nesterov Momentum:\n",
    "Advances in optimizing Recurrent Networks by Yoshua Bengio, Section 3.5\n",
    "http://arxiv.org/pdf/1212.0901v2.pdf"
   ]
  },
  {
   "cell_type": "code",
   "execution_count": null,
   "metadata": {
    "collapsed": true
   },
   "outputs": [],
   "source": []
  }
 ],
 "metadata": {
  "kernelspec": {
   "display_name": "Python 3",
   "language": "python3",
   "name": "python3"
  },
  "language_info": {
   "codemirror_mode": {
    "name": "ipython",
    "version": 3
   },
   "file_extension": ".py",
   "mimetype": "text/x-python",
   "name": "python",
   "nbconvert_exporter": "python",
   "pygments_lexer": "ipython3",
   "version": "3.6.4"
  }
 },
 "nbformat": 4,
 "nbformat_minor": 2
}
