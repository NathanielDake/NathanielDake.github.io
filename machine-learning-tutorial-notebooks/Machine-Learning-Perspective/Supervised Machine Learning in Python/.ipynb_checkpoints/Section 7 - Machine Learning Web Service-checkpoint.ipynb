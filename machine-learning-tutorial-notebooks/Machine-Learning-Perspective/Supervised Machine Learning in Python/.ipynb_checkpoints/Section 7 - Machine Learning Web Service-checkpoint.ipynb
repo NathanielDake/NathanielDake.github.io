{
 "cells": [
  {
   "cell_type": "markdown",
   "metadata": {},
   "source": [
    "# Machine Learning Web Service Concepts\n",
    "* we are going to build a machine learning web service \n",
    "\n",
    "# Outline \n",
    "* we are going to build a webservice that can predict on images of handwritten digits\n",
    "* Luckily, we already have a dataset to learn from \n",
    "* Of course the idea couldbe extended to images of anything\n",
    "\n",
    "# 3 main files\n",
    "### 1 \n",
    "* `app_trainer.py` - this trains the model on known data, and saves it \n",
    "* we are going to use a random forest classifier\n",
    "* in the real world this may be run periodically when new data becomes available \n",
    "\n",
    "### 2\n",
    "* `app.py` - uses tornado framework, python library\n",
    "* create an endpoint called predict, which takes in one parameter \"input\"\n",
    "* application will make prediction using model, return JSON with prediction {\"prediction\": k}\n",
    "* going to make it a POST, even though POSTs technically should be used for requests which change data on a server \n",
    "* if we made it a get request, you would see the entire array in the URL\n",
    "\n",
    "### 3 \n",
    "* `app_caller.py`\n",
    "* this will simulate how an external application would call the API\n",
    "* choose a digit at random, call web service to make prediction, print prediction + true label, show image "
   ]
  },
  {
   "cell_type": "code",
   "execution_count": null,
   "metadata": {
    "collapsed": true
   },
   "outputs": [],
   "source": []
  }
 ],
 "metadata": {
  "kernelspec": {
   "display_name": "Python 3",
   "language": "python",
   "name": "python3"
  },
  "language_info": {
   "codemirror_mode": {
    "name": "ipython",
    "version": 3
   },
   "file_extension": ".py",
   "mimetype": "text/x-python",
   "name": "python",
   "nbconvert_exporter": "python",
   "pygments_lexer": "ipython3",
   "version": "3.6.1"
  }
 },
 "nbformat": 4,
 "nbformat_minor": 2
}
