{
 "cells": [
  {
   "cell_type": "markdown",
   "metadata": {},
   "source": [
    "# Continuous Random Variables and Probability Density Functions\n",
    "* Quantities whose values range over an interval of numbers are called continuous random variables, denoted, $x$\n",
    "* Associated with $X$ is a **probability density function** (abbreviated **pdf**), $f(x)$, so that:\n",
    "$$p(a \\leq x \\leq b) = \\int_{a}^{b}f(x)dx$$\n",
    "Basically, you are trying to calculate that a random variable $x$ is between two particular values. To do this, you integrate over the probability density function, and those values turn into your limits of integration. \n",
    "\n",
    "Keep in mind that a probability must always be greater than or equal to zero. So our pdf must satisfy this restriction:\n",
    "$$f(x) \\geq 0 \\;\\forall x$$\n",
    "saying that for any x value, the pdf *has to be greater than zero*. It must also satisfy the following:\n",
    "$$\\int_{-\\infty}^{\\infty}f(x)dx = 1$$\n",
    "Which calculates the total probability, it must add up to 1, or 100%. \n",
    "\n",
    "### You can often prove that a function is a probability density function if it satisfies those two requirements.\n",
    "\n",
    "### Example: Waiting time at call center\n",
    "Suppose you call into a call center, and your average waiting time for your call to be answered is 6 minutes. Associated with your waiting time is a probability density function! We will use $f(t)$ since it associated with time. \n",
    "\n",
    "Here is what $f(t)$ looks like:\n",
    "$$f(t) = \\begin{cases} 0 \\; if\\; t < 0 \\\\ \\frac{1}{6}e^{\\frac{-t}{6}} \\; if\\; t \\geq 0 \\end{cases}$$\n",
    "So here is the question: Given what we know about the pdf, what is the probability that your call is answered within the first 2 minutes?\n",
    "\n",
    "So we are trying to find:\n",
    "$$P(0\\leq X \\leq 2)$$\n",
    "\n",
    "Which means what we are trying to solve is:\n",
    "$$\\int_{0}^{2}\\frac{1}{6}e^{\\frac{-t}{6}}dt$$\n",
    "\n",
    "Lets not go through and solve this now, but solving it would give an answer of 28.35%. \n",
    "\n",
    "# Binomial Distribution\n",
    "This is a discrete probability distribution. Background required- must know the combinations formula!\n",
    "\n",
    "## Combinations Formula \n",
    "Lets say that we have 6 people: \n",
    "$$A,B,C,D,E,F$$\n",
    "and we have 4 chairs:\n",
    "$$1,2,3,4$$\n",
    "\n",
    "How many different ways can we fit these people into these 4 chairs?\n",
    "\n",
    "Well it looks like this: When we have someone sit in the first chair, there are 6 people so 6 possibilities. When we then have someone sit in the second chair, there are only 5 possibilities since someone had already sat in the first chair. When we fill in the 3rd chair we only have 4 possible people left to fill it, and only 3 people left by the time we reach the 4th chair.\n",
    "\n",
    "Mathematically that looks like:\n",
    "$$6*5*4*3$$\n",
    "And it represents the number of permutations!\n",
    "\n",
    "Recall: \n",
    "\n",
    "**Combination:** when the order does not matter\n",
    "**Permutation:** when the order does mater \n",
    "\n",
    "Now if we wanted to write the above equation in terms of factorial, we could write it as:\n",
    "$$\\frac{6!}{(6-4)!} = \\frac{6*5*4*3*2*1}{2!} = 360$$\n",
    "\n",
    "This is an example of the permutations formula. This basically says if I am taking $n$ things and putting them into $k$ spots, the number of permutations looks like:\n",
    "$$_nP_k = \\frac{n!}{(n-k)!}$$\n",
    "\n",
    "Now we go into the world of combinations. In permutations, a distinction was made between who was sitting in what chair. In other worlds, when it comes to permutations:\n",
    "$$ABCD$$\n",
    "is different than\n",
    "$$DABC$$\n",
    "However, in combinations, those would be the same combination! Mathematically that looks like (**combinations formula**):\n",
    "$$_nC_k = \\frac{\\frac{n!}{(n-k)!}}{k!}= \\frac{n!}{k!(n-k)!} = \\begin{pmatrix}n \\\\ k \\end{pmatrix}$$\n",
    "where the k! represents the number of ways to arrange k things in k spots!\n",
    "\n",
    "So in relation to our example above, we saw there were 360 ways of seating 6 people into 4 chairs. But what if we didn't care about order? What if we just cared about how many different ways there were to choose 4 people from a pool of 6? That would be:\n",
    "$$_6C_4 = \\begin{pmatrix}6 \\\\ 4 \\end{pmatrix} = \\frac{6!}{4!(6-4)!} = 15$$\n",
    "So there are only 15 different combinations compared to 360 permutations!"
   ]
  },
  {
   "attachments": {
    "bernoulli-distribution.png": {
     "image/png": "[encoded data removed]"
    }
   },
   "cell_type": "markdown",
   "metadata": {},
   "source": [
    "## Bernoulli Distribution\n",
    "\n",
    "![bernoulli-distribution.png](attachment:bernoulli-distribution.png)\n",
    "\n",
    "This is a discrete probability distribution. For example, say we toss a fair coin once. What is the distribution of the number of heads? \n",
    "\n",
    "It is going to have a Bernoulli Distribution. Suppose we have:\n",
    "* a single trial\n",
    "* the trial can result in one of two possible outcomes, labelled success and failure\n",
    "* P(success) = p\n",
    "* P(failure) = 1 - p\n",
    "\n",
    "Let X = 1 if a success occurs, and X = 0 if a failure occurs.  \n",
    "\n",
    "In this case X will have a **Bernoulli distribution**: \n",
    "$$P(X=x)= p(x) = p^x(1-p)^{1-x}$$\n",
    "for x = 0, or 1. If we were to write this out for each case (x=0, x=1):\n",
    "$$P(X=1)= p^1(1-p)^{1-1}=p = probability \\; of \\; success$$\n",
    "and\n",
    "$$P(X=0) = p^0(1-p)^{1-0}=1-p = probability \\; of \\; failure$$\n",
    "The original equation is just combining these two into 1 line. \n",
    "\n",
    "It can be shown that the mean, $\\mu$, of a bernoulli distribution is equal to:\n",
    "$$p$$\n",
    "and the variance, $\\sigma^2$, is equal to:\n",
    "$$p(1-p)$$\n",
    "\n",
    "Okay, so let say that approximately 1 in 200 ammerican adults are lawyers. One american adult is randomly selected. **What is the distribution of the number of lawyers? **\n",
    "\n",
    "Well lets think about this for a second. We have a **single trial**, each person is a lawyer or they are not, and the conditions of the Bernoulli distribution are satisfied! So we will end up with a Bernoulli distribution with p =1/200. If we let the random variable $X$ represent the number of lawyers in our sample size 1, then the probability that the random variable $X$ takes on the value $x$ is:\n",
    "$$P(X =x)=(\\frac{1}{200})^x(1-\\frac{1}{200})^{1-x}$$\n",
    "for x = 0, or x =1, because we are either going to get yes the person is a lawyer, or no they are not!\n",
    "\n",
    "Think for a moment about what this simplifies to! In the case of \"what is the probability that a person is a lawyer?\"\n",
    "$$P(X=1)=\\frac{1}{200}$$\n",
    "and for \"what is the probability that a person is not a lawyer?\"\n",
    "$$P(X=0)=\\frac{199}{200}$$\n",
    "This makes sense intuitively! But you may wonder at this point you may wonder, what is the point of all this? We have the initial fact: \"1 in 200 american adults are lawyers\", so it isn't rocket science to say that the probability that we get 1 lawyer is 1 in 200. \n",
    "\n",
    "But saying something has a Bernoulli distribution is a nice concise description of the situation at hand. "
   ]
  },
  {
   "cell_type": "markdown",
   "metadata": {},
   "source": [
    "## Back to Binomial Distribution\n",
    "Okay, so lets say that a coin is flipped 100 times. What is the probability that heads comes up at least 60 times? We can use a binomial distribution to calculate this probability!"
   ]
  },
  {
   "cell_type": "code",
   "execution_count": null,
   "metadata": {
    "collapsed": true
   },
   "outputs": [],
   "source": []
  }
 ],
 "metadata": {
  "kernelspec": {
   "display_name": "Python 3",
   "language": "python",
   "name": "python3"
  },
  "language_info": {
   "codemirror_mode": {
    "name": "ipython",
    "version": 3
   },
   "file_extension": ".py",
   "mimetype": "text/x-python",
   "name": "python",
   "nbconvert_exporter": "python",
   "pygments_lexer": "ipython3",
   "version": "3.6.1"
  }
 },
 "nbformat": 4,
 "nbformat_minor": 2
}
