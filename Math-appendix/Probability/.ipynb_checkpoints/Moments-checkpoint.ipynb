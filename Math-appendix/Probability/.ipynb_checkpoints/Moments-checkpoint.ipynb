{
 "cells": [
  {
   "cell_type": "markdown",
   "metadata": {},
   "source": [
    "# 1. Moments\n",
    "When a set of values has a sufficiently strong tendency, that is, a tendency to cluster around a particular value, then it may be useful to characterize the set by a few numbers that are related to it's **moments**. Moments can be defined as:\n",
    "> \"The sums of integer powers of the values\"\n",
    "\n",
    "The best known moment is the **mean**:\n",
    "### 1.1 First Moment: Mean\n",
    "#### $$\\bar{x} = \\frac{1}{N}\\sum_{j=1}^Nx_j$$\n",
    "Which is meant to estimate the value around which central clustering occurs.  You should be aware that the mean is not the only available estimator of this quantity, nor is it necessarily the best one. For values drawn from a probability distribution with very broad “tails,” the mean may converge poorly, or not at all, as the number of sampled points is increased. Alternative estimators, the median and the mode, should not be forgotten. \n",
    "\n",
    "### 1.2. Second Moment: Variance\n",
    "Having characterized a distribution’s central value, one conventionally next\n",
    "characterizes its “width” or “variability” around that value. Here again, more than\n",
    "one measure is available. Most common is the **variance**:\n",
    "\n",
    "#### $$Var(x_1...x_N) = \\frac{1}{N-1}\\sum_{j=1}^N(x_j-\\bar{x})^2$$\n",
    "\n",
    "# 2. Moments of Distributions \n",
    "Let's look at this again from another angle. We often have a distribution that we want to be able to characterize and work with. However, a table is clearly not a good choice seeing as that will quickly become unwieldly as it grows in size. How about a graph of the distribution that is characterized by only a few numbers? Of course, that throws away information, but throwing away information is the only way to fit the complexity of the world into our brains. The art of this comes in keeping the most important information. \n",
    "\n",
    "Two moments that most people are already familiar with are **mean** and **variance**. We can define these more formally.\n",
    "\n",
    "### 2.1 First Moment\n",
    "The mean is the first moment of a distribution, and it is also called the **expected value**. \n",
    "\n",
    "#### $$\\langle x \\rangle = \\sum p_ix_i$$\n",
    "\n",
    "This will give us some information about what our  distribution may look like, but not much. Think about it if you had a hollowed out ring, and a disk. The center of mass for each object is in the same place, but they are very different objects. We need more information. \n",
    "\n",
    "### 2.2 Second Moment\n",
    "The second moment is now talking about the expected value of $x^2$. So it is still a sum, and each value is still weighted by $p_i$, but now we square each possible $x$ value. This is also called the mean square. First you square the x values, then you take the mean, weighting each $x_i$ by its probability $p_i$. \n",
    "\n",
    "#### $$\\langle x^2 \\rangle = \\sum p_ix_i^2$$\n",
    "\n",
    "So how does the second moment help us get a better picture of our distribution? Because it can help us calculate something called the **variance**. The variance measures how spread out the distribution is around the mean! The calculate the variance, you first subtract the mean from each $x_i$ (think of it as finding the distance of each $x_i$ from the mean). You *then* square the result and multiply it by $p_i$. \n",
    "\n",
    "#### $$var = \\sum p_i (x_i - \\langle x \\rangle)^2$$\n",
    "\n",
    "We can also express the variance as the second moment minus the square of the first moment: \n",
    "\n",
    "#### $$var = \\langle x^2 \\rangle - \\langle x \\rangle^2$$\n",
    "\n",
    "### 2.3 Central Moments\n",
    "Note that if we started to refer to central moments they are specifically referencing moments about the mean. "
   ]
  },
  {
   "cell_type": "code",
   "execution_count": null,
   "metadata": {
    "collapsed": true
   },
   "outputs": [],
   "source": []
  }
 ],
 "metadata": {
  "kernelspec": {
   "display_name": "Python 3",
   "language": "python3",
   "name": "python3"
  },
  "language_info": {
   "codemirror_mode": {
    "name": "ipython",
    "version": 3
   },
   "file_extension": ".py",
   "mimetype": "text/x-python",
   "name": "python",
   "nbconvert_exporter": "python",
   "pygments_lexer": "ipython3",
   "version": "3.6.4"
  }
 },
 "nbformat": 4,
 "nbformat_minor": 2
}
