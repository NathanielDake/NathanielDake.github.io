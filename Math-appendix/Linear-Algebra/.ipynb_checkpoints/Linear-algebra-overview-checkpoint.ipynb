{
 "cells": [
  {
   "cell_type": "markdown",
   "metadata": {},
   "source": [
    "# Linear Algebra Overview \n",
    "<br></br>\n",
    "Linear algebra is frequently utilized in the implementation of machine learning algorithms, so it is very important to have an intuitive understanding of what it represents and how it is used. I recommend looking at this along side of my numpy walkthrough in the math appendix. \n",
    "This overview is going to consist of three main parts: \n",
    "\n",
    "<br></br>\n",
    "**1. Linear Algebra: Programmers Inuition**\n",
    "\n",
    "The first section is going to go through an overview from a programming perspective about what linear algebra is all about.\n",
    "\n",
    "<br></br>\n",
    "**2. Matrix Multiplication: Programmers Inuition**\n",
    "\n",
    "The second section is going to go through the visual process of matrix and vector multiplication and how to think about these processes from a programming perspective. Some terminology will be introduced here as well. \n",
    "\n",
    "<br></br>\n",
    "**3. Linear Algebra: Geometric and Mathematical Inuition**\n",
    "\n",
    "The third section is going to go through a thorough explanation of why we even have linear algebra, what matrix transformations are, why eigenvalues and vectors are useful, and more. "
   ]
  },
  {
   "cell_type": "markdown",
   "metadata": {},
   "source": [
    "---\n",
    "<br></br>\n",
    "# Linear Algebra: A Programmers Intuition"
   ]
  },
  {
   "cell_type": "markdown",
   "metadata": {},
   "source": [
    "---\n",
    "<br></br>\n",
    "# Matrix Multiplication: A Programmers Intuition\n",
    "\n",
    "Matrix multiplication, and linear algebra in general, are often explained in one of two ways: \n",
    "1. Geometrically. Intuitions are formed around \n",
    "\n",
    "<img src=\"images/linear-transformation.gif\" >"
   ]
  },
  {
   "cell_type": "code",
   "execution_count": null,
   "metadata": {},
   "outputs": [],
   "source": []
  }
 ],
 "metadata": {
  "kernelspec": {
   "display_name": "Python 3",
   "language": "python",
   "name": "python3"
  },
  "language_info": {
   "codemirror_mode": {
    "name": "ipython",
    "version": 2
   },
   "file_extension": ".py",
   "mimetype": "text/x-python",
   "name": "python",
   "nbconvert_exporter": "python",
   "pygments_lexer": "ipython2",
   "version": "2.7.13"
  }
 },
 "nbformat": 4,
 "nbformat_minor": 2
}
