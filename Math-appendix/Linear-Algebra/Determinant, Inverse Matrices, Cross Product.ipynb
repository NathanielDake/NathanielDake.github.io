{
 "cells": [
  {
   "cell_type": "markdown",
   "metadata": {
    "collapsed": true
   },
   "source": [
    "# 1. The Determinant\n",
    "Recall that when we discussed linear transformations, some will stretch space out, while others squish it on in:\n",
    "\n",
    "<img src=\"images/determinant-stretch.png\" width=\"300\">\n",
    "\n",
    "<img src=\"images/determinant-squish.png\" width=\"300\">\n",
    "\n",
    "One thing that turns out to be pretty useful when it comes to these transformations, it to measure exactly _how much_ it stretches or squishes things. More specifically, to measure the factor by which a given area increases or decreases:\n",
    "\n",
    "<img src=\"images/det-area-1.png\" width=\"300\">\n",
    "<img src=\"images/det-area-2.png\" width=\"300\">\n",
    "\n",
    "For example look at the matrix below; it scales $\\hat{i}$ by a factor of 3, and $\\hat{j}$ by a factor of 2:\n",
    "\n",
    "<img src=\"images/det-area-4.png\" width=\"300\">\n",
    "<img src=\"images/det-area-3.png\" width=\"300\">\n",
    "\n",
    "Now, if we focus our attention on the 1x1 square who's bottom sits on $\\hat{i}$ and whose left side sits on $\\hat{j}$:\n",
    "\n",
    "<img src=\"images/det-area-5.png\" width=\"300\">\n",
    "\n",
    "After the transformation, this turns into a 2x3 rectangle:\n",
    "\n",
    "<img src=\"images/det-area-6.png\" width=\"300\">\n",
    "\n",
    "Since this region started out with an area of 1, and ended up with an area of 6, we can say the linear transformation has _scaled its area_ by a factor of 6. Compare that to a shear whose matrix has the form:\n",
    "\n",
    "#### $$\n",
    "\\begin{bmatrix}\n",
    "    1  & 1\\\\\n",
    "    0  & 1\n",
    "\\end{bmatrix}$$\n",
    "\n",
    "In this case the original area, contained by the square of the two unit vectors, is slanted; yet its area does not change: \n",
    "\n",
    "<img src=\"images/det-area-7.png\" width=\"300\">\n",
    "<img src=\"images/det-area-8.png\" width=\"300\">\n",
    "\n",
    "This brings up to a **key point**:\n",
    "> If you know how a single unit square's area changes, you can determine how the area of any possible region in space changes. \n",
    "\n",
    "For starters, whatever happens to one square in the grid, has to happen to any other square in the grid, no matter the size (this follows from the fact that grid lines must remain parallel and evenly spaced):\n",
    "\n",
    "<img src=\"images/det-area-9.png\" width=\"300\">\n",
    "<img src=\"images/det-area-10.png\" width=\"300\">\n",
    "\n",
    "## 1.1 Determinant Definition\n",
    "Now this very special scaling factor-the factor by which a linear transformation changes any area-is called the _**determinant**_ of a transformation. So, in the case of our earlier example:\n",
    "\n",
    "#### $$det\\Big(\n",
    "\\begin{bmatrix}\n",
    "    3  & 2\\\\\n",
    "    0  & 2\n",
    "\\end{bmatrix}\\Big) = 6$$\n",
    "\n",
    "Now, the _determinant_ of a transformation would be 3, if that transformation increases the area of a region by a factor of 3. It would be 1/2 if it squishes down all areas by a factor of 1/2. Finally, the determinant of a transformation is zero if it squishes all of space onto a line! Note, this will be relevant when we discuss eigenvectors. It means that checking if the determinant of a given matrix is zero will give a way of computing whether or not the transformation associated with that matrix squishes everything into a smaller dimension. \n",
    "\n",
    "We should also quickly mention that a determinant can be _negative_. This means that space has been inverted (visually we can think of it as being flipped). A simple way to check if this has happened is to note that $\\hat{j}$ always starts to the left of $\\hat{i}$. If, after a transformation, $\\hat{i}$ is to the left of $\\hat{j}$ then we know orientation has changed. The absolute value of the determinant will still tell us the factor by which the area has been scaled. \n",
    "\n",
    "You may (reasonably) ask, why does this negative area relate to orientation flipping? That is most easily explained with a beautiful visual, seen [here](https://youtu.be/Ip3X9LOh2dk?list=PLZHQObOWTQDPD3MizzM2xVFitgF8hE_ab&t=306).\n",
    "\n",
    "## 1.2 Determinant Computation\n",
    "You may still be wondering at this point, how we actually compute the determinant? While the actual computation is not nearly as important as the underlying meaning and what it represents, it is still useful to cover. We will define the computation as follows:\n",
    "\n",
    "#### $$det\\Big(\n",
    "\\begin{bmatrix}\n",
    "    a  & b\\\\\n",
    "    c  & d\n",
    "\\end{bmatrix}\\Big) = ad - bc$$"
   ]
  },
  {
   "cell_type": "code",
   "execution_count": null,
   "metadata": {
    "collapsed": true
   },
   "outputs": [],
   "source": [
    "\n"
   ]
  },
  {
   "cell_type": "code",
   "execution_count": 1,
   "metadata": {
    "collapsed": true
   },
   "outputs": [],
   "source": [
    "import numpy as np\n",
    "import matplotlib.pyplot as plt"
   ]
  },
  {
   "cell_type": "markdown",
   "metadata": {},
   "source": [
    "## Scenario\n",
    "#### $$2x + 2y = -4$$\n",
    "#### $$1x + 3y = -1$$\n",
    "#### $$\n",
    "\\begin{bmatrix}\n",
    "    2  & 2\\\\\n",
    "    1  & 3\n",
    "\\end{bmatrix}\n",
    "\\begin{bmatrix}\n",
    "    x \\\\\n",
    "    y \n",
    "\\end{bmatrix} = \n",
    "\\begin{bmatrix}\n",
    "    -4 \\\\\n",
    "    -1\n",
    "\\end{bmatrix}$$\n",
    "#### $$A \\vec{x} = \\vec{v}$$"
   ]
  },
  {
   "cell_type": "code",
   "execution_count": 21,
   "metadata": {
    "collapsed": true
   },
   "outputs": [],
   "source": [
    "x = np.arange(-10, 10, 0.1)"
   ]
  },
  {
   "cell_type": "code",
   "execution_count": 22,
   "metadata": {},
   "outputs": [],
   "source": [
    "y1 = (-2*x - 4) / 2\n",
    "\n",
    "y2 = (-1*x - 1) / 3 "
   ]
  },
  {
   "cell_type": "code",
   "execution_count": 23,
   "metadata": {},
   "outputs": [
    {
     "data": {
      "text/plain": [
       "[<matplotlib.lines.Line2D at 0x10e95c390>]"
      ]
     },
     "execution_count": 23,
     "metadata": {},
     "output_type": "execute_result"
    },
    {
     "data": {
      "image/png": "[encoded data removed]",
      "text/plain": [
       "<matplotlib.figure.Figure at 0x10e3c3b70>"
      ]
     },
     "metadata": {},
     "output_type": "display_data"
    }
   ],
   "source": [
    "fig, ax = plt.subplots(figsize=(12,8))\n",
    "plt.plot(x, y1)\n",
    "plt.plot(x, y2)"
   ]
  },
  {
   "cell_type": "markdown",
   "metadata": {},
   "source": [
    "We can see that our two equations intersect at: (-2.5, 0.5). This is where our system of equations is holding true in our current world (scenario). Let's see the vector that our system of equations solves for:"
   ]
  },
  {
   "cell_type": "code",
   "execution_count": 25,
   "metadata": {},
   "outputs": [
    {
     "name": "stdout",
     "output_type": "stream",
     "text": [
      "[-2.5  0.5]\n"
     ]
    }
   ],
   "source": [
    "import numpy as np\n",
    "A = np.array([[2, 2], [1, 3]])\n",
    "b = np.array([-4, -1])\n",
    "\n",
    "xvec = np.linalg.solve(A, b)\n",
    "print(xvec)"
   ]
  },
  {
   "cell_type": "markdown",
   "metadata": {},
   "source": [
    "Awesome! The vector x that our system solves for is also -2.5, 0.5! After the transformation is performed, our x vector would land on -4, -1. \n",
    "\n",
    "This is a very cool way to look at things. When looking at the original equations: \n",
    "\n",
    "#### $$2x + 2y = -4$$\n",
    "#### $$1x + 3y = -1$$\n",
    "\n",
    "You may wonder to yourself: \"What exactly do the -4 and -1 represent?\". They don't show up in the plot, and they aren't part of either functions curve. What is very interesting is that they instead have a direct representation in our linear transformation! They represent the resulting vector that our intersection vector (-2.5, 0.5) ends up at after it has been transformed via the matrix A. "
   ]
  },
  {
   "cell_type": "code",
   "execution_count": 17,
   "metadata": {},
   "outputs": [
    {
     "data": {
      "text/plain": [
       "array([-4,  1])"
      ]
     },
     "execution_count": 17,
     "metadata": {},
     "output_type": "execute_result"
    }
   ],
   "source": []
  },
  {
   "cell_type": "code",
   "execution_count": null,
   "metadata": {
    "collapsed": true
   },
   "outputs": [],
   "source": []
  }
 ],
 "metadata": {
  "kernelspec": {
   "display_name": "Python 3",
   "language": "python3",
   "name": "python3"
  },
  "language_info": {
   "codemirror_mode": {
    "name": "ipython",
    "version": 3
   },
   "file_extension": ".py",
   "mimetype": "text/x-python",
   "name": "python",
   "nbconvert_exporter": "python",
   "pygments_lexer": "ipython3",
   "version": "3.6.5"
  }
 },
 "nbformat": 4,
 "nbformat_minor": 2
}
