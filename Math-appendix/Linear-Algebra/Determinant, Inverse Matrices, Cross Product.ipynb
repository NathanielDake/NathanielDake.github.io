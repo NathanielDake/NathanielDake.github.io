{
 "cells": [
  {
   "cell_type": "markdown",
   "metadata": {
    "collapsed": true
   },
   "source": [
    "# 1. The Determinant\n",
    "Recall that when we discussed linear transformations, some will stretch space out, while others squish it on in:\n",
    "\n",
    "<img src=\"images/determinant-stretch.png\" width=\"300\">\n",
    "\n",
    "<img src=\"images/determinant-squish.png\" width=\"300\">\n",
    "\n",
    "One thing that turns out to be pretty useful when it comes to these transformations, it to measure exactly _how much_ it stretches or squishes things. More specifically, to measure the factor by which a given area increases or decreases:\n",
    "\n",
    "<img src=\"images/det-area-1.png\" width=\"300\">\n",
    "<img src=\"images/det-area-2.png\" width=\"300\">\n",
    "\n",
    "For example look at the matrix below; it scales $\\hat{i}$ by a factor of 3, and $\\hat{j}$ by a factor of 2:\n",
    "\n",
    "<img src=\"images/det-area-4.png\" width=\"300\">\n",
    "<img src=\"images/det-area-3.png\" width=\"300\">\n",
    "\n",
    "Now, if we focus our attention on the 1x1 square who's bottom sits on $\\hat{i}$ and whose left side sits on $\\hat{j}$:\n",
    "\n",
    "<img src=\"images/det-area-5.png\" width=\"300\">\n",
    "\n",
    "After the transformation, this turns into a 2x3 rectangle:\n",
    "\n",
    "<img src=\"images/det-area-6.png\" width=\"300\">\n",
    "\n",
    "Since this region started out with an area of 1, and ended up with an area of 6, we can say the linear transformation has _scaled its area_ by a factor of 6. Compare that to a shear whose matrix has the form:\n",
    "\n",
    "#### $$\n",
    "\\begin{bmatrix}\n",
    "    1  & 1\\\\\n",
    "    0  & 1\n",
    "\\end{bmatrix}$$\n",
    "\n",
    "In this case the original area, contained by the square of the two unit vectors, is slanted; yet its area does not change: \n",
    "\n",
    "<img src=\"images/det-area-7.png\" width=\"300\">\n",
    "<img src=\"images/det-area-8.png\" width=\"300\">\n",
    "\n",
    "This brings up to a **key point**:\n",
    "> If you know how a single unit square's area changes, you can determine how the area of any possible region in space changes. \n",
    "\n",
    "For starters, whatever happens to one square in the grid, has to happen to any other square in the grid, no matter the size (this follows from the fact that grid lines must remain parallel and evenly spaced):\n",
    "\n",
    "<img src=\"images/det-area-9.png\" width=\"300\">\n",
    "<img src=\"images/det-area-10.png\" width=\"300\">\n",
    "\n",
    "## 1.1 Determinant Definition\n",
    "Now this very special scaling factor-the factor by which a linear transformation changes any area-is called the _**determinant**_ of a transformation. So, in the case of our earlier example:\n",
    "\n",
    "#### $$det\\Big(\n",
    "\\begin{bmatrix}\n",
    "    3  & 2\\\\\n",
    "    0  & 2\n",
    "\\end{bmatrix}\\Big) = 6$$\n",
    "\n",
    "Now, the _determinant_ of a transformation would be 3, if that transformation increases the area of a region by a factor of 3. It would be 1/2 if it squishes down all areas by a factor of 1/2. Finally, the determinant of a transformation is zero if it squishes all of space onto a line! Note, this will be relevant when we discuss eigenvectors. It means that checking if the determinant of a given matrix is zero will give a way of computing whether or not the transformation associated with that matrix squishes everything into a smaller dimension. \n",
    "\n",
    "We should also quickly mention that a determinant can be _negative_. This means that space has been inverted (visually we can think of it as being flipped). A simple way to check if this has happened is to note that $\\hat{j}$ always starts to the left of $\\hat{i}$. If, after a transformation, $\\hat{i}$ is to the left of $\\hat{j}$ then we know orientation has changed. The absolute value of the determinant will still tell us the factor by which the area has been scaled. \n",
    "\n",
    "You may (reasonably) ask, why does this negative area relate to orientation flipping? That is most easily explained with a beautiful visual, seen [here](https://youtu.be/Ip3X9LOh2dk?list=PLZHQObOWTQDPD3MizzM2xVFitgF8hE_ab&t=306).\n",
    "\n",
    "## 1.2 Determinant Computation\n",
    "You may still be wondering at this point, how we actually compute the determinant? While the actual computation is not nearly as important as the underlying meaning and what it represents, it is still useful to cover. We will define the computation as follows:\n",
    "\n",
    "#### $$det\\Big(\n",
    "\\begin{bmatrix}\n",
    "    a  & b\\\\\n",
    "    c  & d\n",
    "\\end{bmatrix}\\Big) = ad - bc$$"
   ]
  },
  {
   "cell_type": "markdown",
   "metadata": {
    "collapsed": true
   },
   "source": [
    "---\n",
    "\n",
    "# 2. Linear Systems of Equations & Inverse Matrices\n",
    "Now one of the reasons that linear algebra is more broadly applicable, and is required for nearly all technical disciplines, is that it lets us solve certain _systems of equations_. Before digging into a few key points concerning systems of equations, let's look an example:\n",
    "\n",
    "#### $$2x + 5y + 3z = -3$$\n",
    "#### $$4x + 0y + 8z = 0$$\n",
    "#### $$1x + 3y + 0z = 2$$\n",
    "\n",
    "In this case we have two main entities: \n",
    "> 1. **A list of variables, which are unknown**.\n",
    "2. **A list equations that relate these unknown variables.**\n",
    "\n",
    "Now, there is a key point that is often glanced over, but it is crucial to keep in mind:\n",
    "> A System of equations is meant to be treated as an entire _system_. It represents a given _situation_ or _scenario_ in which _all_ of the equations apply. These equations are meant to help define the current state of the world if you will, and in the current state of the world, these equations _all hold true_. This property of all equations in our system holding true means that there must be some set of unique values of the variables involved that make all equations in the system true at the same time. \n",
    "\n",
    "We can say this yet one final way:\n",
    "> We are in a situation/scenario where all equations above hold for a certain $x, y$ and $z$. In order for them to all hold (since we are treating them as a system), we must find the $x, y$ and $z$ where they _intersect_!\n",
    "\n",
    "## 2.1 Geometric Coordinate Space\n",
    "Before digging into the linear algebra solution, it is important to have a good understanding of what is happening in _coordinate space_. Let's say we are dealing with the following system of equations:\n",
    "\n",
    "#### $$2x + 2y = -4$$\n",
    "#### $$1x + 3y = -1$$\n",
    "\n",
    "What this means is that our world is at a current state where both of these equations hold true! We can quickly plot the equations below:"
   ]
  },
  {
   "cell_type": "code",
   "execution_count": 2,
   "metadata": {},
   "outputs": [
    {
     "data": {
      "text/plain": [
       "[<matplotlib.lines.Line2D at 0x1101b6cc0>]"
      ]
     },
     "execution_count": 2,
     "metadata": {},
     "output_type": "execute_result"
    }
   ],
   "source": [
    "import numpy as np\n",
    "import matplotlib.pyplot as plt\n",
    "import seaborn as sns\n",
    "x = np.arange(-5, 5, 0.1)\n",
    "y1 = (-2*x - 4) / 2\n",
    "y2 = (-1*x - 1) / 3 \n",
    "plt.plot(x, y1)"
   ]
  },
  {
   "cell_type": "code",
   "execution_count": 29,
   "metadata": {},
   "outputs": [
    {
     "data": {
      "text/plain": [
       "[<matplotlib.lines.Line2D at 0x11399c470>]"
      ]
     },
     "execution_count": 29,
     "metadata": {},
     "output_type": "execute_result"
    },
    {
     "data": {
      "image/png": "[encoded data removed]",
      "text/plain": [
       "<matplotlib.figure.Figure at 0x112687e48>"
      ]
     },
     "metadata": {},
     "output_type": "display_data"
    }
   ],
   "source": [
    "plt.plot(x, y2)"
   ]
  },
  {
   "cell_type": "markdown",
   "metadata": {},
   "source": [
    "Now, we can see our geometric representation of the equation's above-both straight lines. The fact that they are defined to be a system of equations means that they are both true at the same time (in our current state). Well, when do both equations have the same $x$ and $y$? When they _intersect_!"
   ]
  },
  {
   "cell_type": "code",
   "execution_count": 30,
   "metadata": {},
   "outputs": [
    {
     "data": {
      "text/plain": [
       "[<matplotlib.lines.Line2D at 0x113a84d30>]"
      ]
     },
     "execution_count": 30,
     "metadata": {},
     "output_type": "execute_result"
    },
    {
     "data": {
      "image/png": "[encoded data removed]",
      "text/plain": [
       "<matplotlib.figure.Figure at 0x1139b9f28>"
      ]
     },
     "metadata": {},
     "output_type": "display_data"
    }
   ],
   "source": [
    "fig, ax = plt.subplots()\n",
    "plt.plot(x, y1)\n",
    "plt.plot(x, y2)"
   ]
  },
  {
   "cell_type": "markdown",
   "metadata": {},
   "source": [
    "We can see above that the intersection point-the point at which both equations have the same $x$ and $y$ values, and hence they are both true-is $x=-2.5$ and $y=0.5$. We can solve it by performing some simple algebraic manipulation, but for now what we really need is to just focus on the underlying geometry.\n",
    "\n",
    "## 2.2 Linear Algebra View Point\n",
    "Alright, we have just looked at what a system of equations represents from the perspective of geometric coordinate space. Now, there is an alternative view that is rather power. Let's try and view this system of equations through the lense of linear algebra. \n",
    "\n",
    "To begin, we can look at our system of equations again (the 3 dimensional case):\n",
    "\n",
    "#### $$2x + 5y + 3z = -3$$\n",
    "#### $$4x + 0y + 8z = 0$$\n",
    "#### $$1x + 3y + 0z = 2$$\n",
    "\n",
    "Recall, we did not _need_ to align the system this way; we chose to. The $x$, $y$, and $z$ vertically inline, with the constant on the right, was a choice on our part. Once that choice was made, however, we can see a few things that are rather interesting.\n",
    "\n",
    "> 1. The left hand side of each equation is a _**linear combination**_ of the variables $x$, $y$, and $z$. \n",
    "2. We know that vectors can often be expressed as _linear combinations_ of basis vectors. \n",
    "3. It almost looks as though our left hand side could be expressed via matrix vector multiplication-and it can! \n",
    "\n",
    "We can express the left hand side of equation as matrix vector multiplication!\n",
    "\n",
    "#### $$\n",
    "\\begin{bmatrix}\n",
    "    2 & 5 & 3 \\\\\n",
    "    4 & 0 & 8 \\\\\n",
    "    1 & 3 & 0 \n",
    "\\end{bmatrix}\n",
    "\\begin{bmatrix}\n",
    "    x \\\\\n",
    "    y \\\\\n",
    "    z\n",
    "\\end{bmatrix} \n",
    "$$\n",
    "\n",
    "To be clear about how we arrived here, let's actually work from this matrix represntation back to our coordinate space system of equations:\n",
    "\n",
    "#### $$\n",
    "\\begin{bmatrix}\n",
    "    2 & 5 & 3 \\\\\n",
    "    4 & 0 & 8 \\\\\n",
    "    1 & 3 & 0 \n",
    "\\end{bmatrix}\n",
    "\\begin{bmatrix}\n",
    "    x \\\\\n",
    "    y \\\\\n",
    "    z\n",
    "\\end{bmatrix} =\n",
    "\\begin{bmatrix}\n",
    "    -3 \\\\\n",
    "    0 \\\\\n",
    "    2\n",
    "\\end{bmatrix} \\longleftrightarrow A \\vec{x} = \\vec{v}\n",
    "$$\n",
    "#### $$\\downarrow$$\n",
    "#### $$\n",
    "\\begin{bmatrix}\n",
    "    2 \\\\\n",
    "    4 \\\\\n",
    "    1 \n",
    "\\end{bmatrix} \\cdot x + \n",
    "\\begin{bmatrix}\n",
    "    5 \\\\\n",
    "    0 \\\\\n",
    "    3 \n",
    "\\end{bmatrix} \\cdot y +\n",
    "\\begin{bmatrix}\n",
    "    3 \\\\\n",
    "    8 \\\\\n",
    "    0 \n",
    "\\end{bmatrix} \\cdot z =\n",
    "\\begin{bmatrix}\n",
    "    -3 \\\\\n",
    "    0 \\\\\n",
    "    2\n",
    "\\end{bmatrix} \n",
    "$$\n",
    "#### $$\\downarrow$$\n",
    "#### $$\n",
    "\\begin{bmatrix}\n",
    "    2x \\\\\n",
    "    4x \\\\\n",
    "    1x \n",
    "\\end{bmatrix} + \n",
    "\\begin{bmatrix}\n",
    "    5y \\\\\n",
    "    0y \\\\\n",
    "    3y \n",
    "\\end{bmatrix} +\n",
    "\\begin{bmatrix}\n",
    "    3z \\\\\n",
    "    8z \\\\\n",
    "    0z \n",
    "\\end{bmatrix} =\n",
    "\\begin{bmatrix}\n",
    "    -3 \\\\\n",
    "    0 \\\\\n",
    "    2\n",
    "\\end{bmatrix} \n",
    "$$\n",
    "#### $$\\downarrow$$\n",
    "\n",
    "#### $$\n",
    "\\begin{bmatrix}\n",
    "    2x + 5y + 3z = -3 \\\\\n",
    "    4x + 0y + 8z = 0 \\\\\n",
    "    1x + 3y + 0z = 2\n",
    "\\end{bmatrix}\n",
    "$$\n",
    "\n",
    "We have just shown how these two representations-one in coordinate and one in vector space-are equivalent. From the linear algebra matrix-vector multiplication side of things, we can interpret it as follows:\n",
    "> What vector $\\begin{bmatrix}x \\\\y \\\\z\\end{bmatrix}$ can be linearly transformed via the matrix: $\\begin{bmatrix}2 & 5 & 3 \\\\4 & 0 & 8 \\\\1 & 3 & 0 \\end{bmatrix}$ and result in the output vector: $\\begin{bmatrix}-3 \\\\0 \\\\2\\end{bmatrix}$? \n",
    "\n",
    "Now, the above is a vector space interpretation of our problem! It may feel a little strange at first, because it is living in a different space than our coordinate interpretation. "
   ]
  },
  {
   "cell_type": "markdown",
   "metadata": {},
   "source": [
    "### 2.2.1 Intuition\n",
    "This next bit of intuition is seldom taught in courses, but I think you will find it rather useful. Even though we have proven above how we can switch back and forth between a geometric coordinate space (the system of equations) and a vector space (the matrix and vector), the question remains _how are they connected_? In other words:\n",
    "\n",
    "> Why does solving a linear system of equations by methods of substitution end up being equivalent to finding the pre-transformation vector $\\vec{x}$ in the equation $A\\vec{x} = \\vec{v}$? In other words, finding the vector $\\vec{x}$ in the original vector space, that after being transformed via $A$, results in the vector $\\vec{v}$\n",
    "\n",
    "We can state this one more way, just to make sure we have run the gamut of ways to express this situation:\n",
    "\n",
    "> Why does solving a linear system of equations by methods of substitution end up being equivalent to finding a linear combination of the _column vectors of $A$_ that give $\\vec{v}$?\n",
    "\n",
    "To fully understand this, we will approach the problem from two different angles; the theoretical angle and experimental angle. \n",
    "\n",
    "### 2.2.1.1 Intuition Theoretical\n",
    "Let's look at our linear system of equations and matrix interpretation again:\n",
    "\n",
    "#### $$\n",
    "\\begin{bmatrix}\n",
    "    2 & 5 & 3 \\\\\n",
    "    4 & 0 & 8 \\\\\n",
    "    1 & 3 & 0 \n",
    "\\end{bmatrix}\n",
    "\\begin{bmatrix}\n",
    "    x \\\\\n",
    "    y \\\\\n",
    "    z\n",
    "\\end{bmatrix} =\n",
    "\\begin{bmatrix}\n",
    "    -3 \\\\\n",
    "    0 \\\\\n",
    "    2\n",
    "\\end{bmatrix} \\hspace{1cm} \\longleftrightarrow \\hspace{1cm}\n",
    "\\begin{bmatrix}\n",
    "    2x + 5y + 3z = -3 \\\\\n",
    "    4x + 0y + 8z = 0 \\\\\n",
    "    1x + 3y + 0z = 2\n",
    "\\end{bmatrix}\n",
    "$$\n",
    "\n",
    "We have proven how we can shift back and forth between the vector space (left) and coordinate space (right). If we let (in the right hand side of our equation) the linear transformation matrix be $A$, the vector that is being transformed be $\\vec{x}$, and the output/transformed vector be $\\vec{v}$, then we can rewrite this as:\n",
    "\n",
    "#### $$A \\vec{x} = \\vec{v}$$\n",
    "\n",
    "What this is saying, is that $A$ will _transform_ $\\vec{x}$ in such a way, that it lands on $\\vec{v}$. From a functional notation perspective we would see that:\n",
    "\n",
    "#### $$\\vec{x} \\rightarrow A(\\vec{x}) \\rightarrow \\vec{v}$$\n",
    "#### $$\\begin{bmatrix}\n",
    "    x \\\\\n",
    "    y \\\\\n",
    "    z\n",
    "\\end{bmatrix} \\rightarrow A(\\vec{x}) \\rightarrow \\begin{bmatrix}\n",
    "    -3 \\\\\n",
    "    0 \\\\\n",
    "    2\n",
    "\\end{bmatrix}$$\n",
    "\n",
    "Which allows us to clearly see that, each coordinate of our original three dimensional vectors moves as follows:\n",
    "\n",
    "#### $$\\begin{bmatrix}\n",
    "    x \\rightarrow -3 \\\\\n",
    "    y \\rightarrow 0\\\\\n",
    "    z \\rightarrow 2\n",
    "\\end{bmatrix}$$\n",
    "\n",
    "This brings up the _first hurdle_ that you may encounter when going through this (as I did). All seems fine and well at this point, the mechanical manipulation of the numbers is no problem, until you realize: _the order of the equations was arbitrary_. That gave me pause when first learning this. If the order of the equations is arbitrary, and we could have just as easily have grouped them as follows when we started: \n",
    "\n",
    "#### $$\n",
    "\\begin{bmatrix}\n",
    "    4x + 0y + 8z = 0 \\\\\n",
    "    2x + 5y + 3z = -3 \\\\\n",
    "    1x + 3y + 0z = 2\n",
    "\\end{bmatrix}\n",
    "$$\n",
    "\n",
    "Then wouldn't that correspond to a _different matrix $A$_, and a _**different linear transformation**_? The answer is that _it would_! In this case, our transformation matrix would look like:\n",
    "\n",
    "#### $$ A =\n",
    "\\begin{bmatrix}\n",
    "    4 & 0 & 8 \\\\\n",
    "    2 & 5 & 3 \\\\\n",
    "    1 & 3 & 0 \n",
    "\\end{bmatrix}\n",
    "$$\n",
    "\n",
    "But wait! All is not lost. The order of the output vector $\\vec{v}$ would of course change as well (because it of course would have had to when reordering our equations):\n",
    "\n",
    "#### $$\n",
    "\\begin{bmatrix}\n",
    "    4 & 0 & 8 \\\\\n",
    "    2 & 5 & 3 \\\\\n",
    "    1 & 3 & 0 \n",
    "\\end{bmatrix}\n",
    "\\begin{bmatrix}\n",
    "    x \\\\\n",
    "    y \\\\\n",
    "    z\n",
    "\\end{bmatrix} =\n",
    "\\begin{bmatrix}\n",
    "    0 \\\\\n",
    "    -3 \\\\\n",
    "    2\n",
    "\\end{bmatrix}\n",
    "$$\n",
    "\n",
    "Now we arrive at the _second hurdle_ that I encountered, and you may as well. The order of our vector $\\vec{x}$ _does not change_. In other words, in our new ordering of the equations, we now have a transformation $A$ that takes $\\vec{x}$ and moves it as follows:\n",
    "\n",
    "#### $$\\begin{bmatrix}\n",
    "    x \\rightarrow 0 \\\\\n",
    "    y \\rightarrow -3 \\\\\n",
    "    z \\rightarrow 2\n",
    "\\end{bmatrix}$$\n",
    "\n",
    "What we are seeing is that _the ordering does not matter_! Yes our transformation matrix $A$ has changed, but the output vector $\\vec{v}$ has changed also! This _new_ transformation will take our original $\\vec{x}$ and move it to the _new_ $\\vec{v}$. This means that we can still solve for our $\\vec{x}$ without a problem! "
   ]
  },
  {
   "cell_type": "markdown",
   "metadata": {},
   "source": [
    "### 2.2.1.2 Intuition Theoretical - Key Point\n",
    "Alright, I must confess that at this point I still had several gaps in my intuition surrounding this. I still was struggling to understand how one equation (of the 3 that make up the system):\n",
    "\n",
    "#### $$2x + 5y + 3z = -3$$\n",
    "\n",
    "Can relate to a _row_ from the matrix-vector representation. Now, this next bit of intuition will require a very solid understanding of linear transformation (I have another notebook on it-check it out). We can actually represent this equation as our original vector $\\vec{x}$, transformed by a 1x3 matrix, into a 1-dimensional output:\n",
    "\n",
    "#### $$\n",
    "\\begin{bmatrix}\n",
    "    2 & 5 & 3 \\\\\n",
    "\\end{bmatrix}\n",
    "\\begin{bmatrix}\n",
    "    x \\\\\n",
    "    y \\\\\n",
    "    z\n",
    "\\end{bmatrix} =\n",
    "\\begin{bmatrix}\n",
    "    -3 \n",
    "\\end{bmatrix}\n",
    "$$\n",
    "\n",
    "This leads to a _very_ crucial point: \n",
    "\n",
    "> _**Each equation is a linear combination that yields one value.**_\n",
    "\n",
    "Here, in coordinate space, the equation is a linear combination that will yield a single output. When we view it in vector space, we see that $\\vec{x}$ is transformed from 3 dimensional space, to a single dimension (via the _dot product_). Stated again so we recognize how important this is:\n",
    "\n",
    "> When we look at only _one_ row from the transformation matrix, we can view that as transforming $\\vec{x}$ into 1 dimension! \n",
    "\n",
    "This has essentially allowed us to the find the transformed version of _one of the basis vectors_ (either $\\hat{i}, \\hat{j}$ or $\\hat{k}$). \n",
    "\n",
    "**Most Crucial Point**<br>\n",
    "And here is the best part of all! Because we don't simply have 1 equation, we have a _system_ of them, we are able to solve for the transformed versions of the remaining basis vectors as well! You may think: what transformed basis vector does the above 1 dimensional output represent? Well, it doesn't technically map to _any_ when performed on its own; it takes on its meaning once treated within the system. This corresponds nicely to the geometric approach where a single equation with 3 unknowns cannot be solved on its own. Only in _conjunction_ with 2 other equations can all 3 variables be solved for (since they place _constraints_ on state that we are in). \n",
    "\n",
    "As we saw earlier, we can change the order of the equations, which yields a different transformation matrix and output vector, however, the input vector remains the same! This is analogous to saying that we have a simple equation such as:\n",
    "\n",
    "#### $$5 = x + 3$$\n",
    "\n",
    "And then updating that to be:\n",
    "\n",
    "#### $$8 = x + 6$$\n",
    "\n",
    "We have changed the way in which we update the side with the variable (adding 3 and then adding 6), but our left hand side _is also updated_ to reflect this! The same thing is happening when we change the order of our equations, and subsequently get a different matrix. The operation (transformation) of our vector is altered, but the output is altered to match the alterered operation, keeping things in sync. \n",
    "\n",
    "A way to think about it is that we are _just trying to find linear combinations in **either space**_!"
   ]
  },
  {
   "cell_type": "markdown",
   "metadata": {},
   "source": [
    "### 2.2.1.1 Intuition Experimental"
   ]
  },
  {
   "cell_type": "markdown",
   "metadata": {},
   "source": [
    "## Scenario\n",
    "#### $$2x + 2y = -4$$\n",
    "#### $$1x + 3y = -1$$\n",
    "#### $$\n",
    "\\begin{bmatrix}\n",
    "    2  & 2\\\\\n",
    "    1  & 3\n",
    "\\end{bmatrix}\n",
    "\\begin{bmatrix}\n",
    "    x \\\\\n",
    "    y \n",
    "\\end{bmatrix} = \n",
    "\\begin{bmatrix}\n",
    "    -4 \\\\\n",
    "    -1\n",
    "\\end{bmatrix}$$\n",
    "#### $$A \\vec{x} = \\vec{v}$$"
   ]
  },
  {
   "cell_type": "code",
   "execution_count": 39,
   "metadata": {
    "collapsed": true
   },
   "outputs": [],
   "source": [
    "x = np.arange(-10, 10, 0.1)"
   ]
  },
  {
   "cell_type": "code",
   "execution_count": 40,
   "metadata": {
    "collapsed": true
   },
   "outputs": [],
   "source": [
    "y1 = (-2*x - 4) / 2\n",
    "\n",
    "y2 = (-1*x - 1) / 3 "
   ]
  },
  {
   "cell_type": "code",
   "execution_count": 41,
   "metadata": {},
   "outputs": [
    {
     "data": {
      "text/plain": [
       "[<matplotlib.lines.Line2D at 0x110392e80>]"
      ]
     },
     "execution_count": 41,
     "metadata": {},
     "output_type": "execute_result"
    },
    {
     "data": {
      "image/png": "[encoded data removed]",
      "text/plain": [
       "<matplotlib.figure.Figure at 0x110fef6d8>"
      ]
     },
     "metadata": {},
     "output_type": "display_data"
    }
   ],
   "source": [
    "fig, ax = plt.subplots()\n",
    "plt.plot(x, y1)\n",
    "plt.plot(x, y2)"
   ]
  },
  {
   "cell_type": "markdown",
   "metadata": {},
   "source": [
    "We can see that our two equations intersect at: (-2.5, 0.5). This is where our system of equations is holding true in our current world (scenario). Let's see the vector that our system of equations solves for:"
   ]
  },
  {
   "cell_type": "code",
   "execution_count": 2,
   "metadata": {},
   "outputs": [
    {
     "name": "stdout",
     "output_type": "stream",
     "text": [
      "[-2.5  0.5]\n"
     ]
    }
   ],
   "source": [
    "import numpy as np\n",
    "A = np.array([[2, 2], [1, 3]])\n",
    "b = np.array([-4, -1])\n",
    "\n",
    "xvec = np.linalg.solve(A, b)\n",
    "print(xvec)"
   ]
  },
  {
   "cell_type": "code",
   "execution_count": 3,
   "metadata": {},
   "outputs": [
    {
     "name": "stdout",
     "output_type": "stream",
     "text": [
      "[-2.5  0.5]\n"
     ]
    }
   ],
   "source": [
    "A1 = np.array([[1, 3], [2, 2]])\n",
    "b1 = np.array([-1, -4])\n",
    "\n",
    "xvec1 = np.linalg.solve(A, b)\n",
    "print(xvec1)"
   ]
  },
  {
   "cell_type": "markdown",
   "metadata": {},
   "source": [
    "Awesome! The vector x that our system solves for is also -2.5, 0.5! After the transformation is performed, our x vector would land on -4, -1. \n",
    "\n",
    "This is a very cool way to look at things. When looking at the original equations: \n",
    "\n",
    "#### $$2x + 2y = -4$$\n",
    "#### $$1x + 3y = -1$$\n",
    "\n",
    "You may wonder to yourself: \"What exactly do the -4 and -1 represent?\". They don't show up in the plot, and they aren't part of either functions curve. What is very interesting is that they instead have a direct representation in our linear transformation! They represent the resulting vector that our intersection vector (-2.5, 0.5) ends up at after it has been transformed via the matrix A. "
   ]
  },
  {
   "cell_type": "code",
   "execution_count": 54,
   "metadata": {},
   "outputs": [
    {
     "data": {
      "text/plain": [
       "array([-4., -1.])"
      ]
     },
     "execution_count": 54,
     "metadata": {},
     "output_type": "execute_result"
    }
   ],
   "source": [
    "np.dot(A, xvec)"
   ]
  },
  {
   "cell_type": "code",
   "execution_count": 59,
   "metadata": {},
   "outputs": [
    {
     "data": {
      "text/plain": [
       "array([[ 0.75, -0.5 ],\n",
       "       [-0.25,  0.5 ]])"
      ]
     },
     "execution_count": 59,
     "metadata": {},
     "output_type": "execute_result"
    }
   ],
   "source": [
    "Ainv = np.linalg.inv(A)\n",
    "Ainv"
   ]
  },
  {
   "cell_type": "code",
   "execution_count": 60,
   "metadata": {},
   "outputs": [
    {
     "data": {
      "text/plain": [
       "array([-4., -1.])"
      ]
     },
     "execution_count": 60,
     "metadata": {},
     "output_type": "execute_result"
    }
   ],
   "source": [
    "np.linalg.solve(Ainv, xvec)"
   ]
  },
  {
   "cell_type": "markdown",
   "metadata": {},
   "source": [
    "#### $$.75*x - 0.5*y = -2.5$$\n",
    "#### $$-0.25*x + 0.5*y = 0.5$$"
   ]
  },
  {
   "cell_type": "code",
   "execution_count": 62,
   "metadata": {},
   "outputs": [
    {
     "data": {
      "text/plain": [
       "[<matplotlib.lines.Line2D at 0x11491d390>]"
      ]
     },
     "execution_count": 62,
     "metadata": {},
     "output_type": "execute_result"
    },
    {
     "data": {
      "image/png": "[encoded data removed]",
      "text/plain": [
       "<matplotlib.figure.Figure at 0x11422eb00>"
      ]
     },
     "metadata": {},
     "output_type": "display_data"
    }
   ],
   "source": [
    "ya = (-0.75*x - 2.5) / -0.5\n",
    "yb = (0.25*x + 0.5)/0.5\n",
    "fig, ax = plt.subplots()\n",
    "plt.plot(x, ya)\n",
    "plt.plot(x, yb)"
   ]
  },
  {
   "cell_type": "markdown",
   "metadata": {
    "collapsed": true
   },
   "source": [
    "# KEY POINT\n",
    "* A system of equations is representing the world, and all must hold at one single time\n",
    "* This system can be represented as a matrice\n",
    "* The first row in this matrice, when dotted with our vector [x,y], shows the location that our x basis vector ends up at (after the entire 3d input space is squished into the x dimension)\n",
    "* This is then repeated for the others"
   ]
  },
  {
   "cell_type": "code",
   "execution_count": 42,
   "metadata": {},
   "outputs": [
    {
     "data": {
      "image/png": "[encoded data removed]",
      "text/plain": [
       "<matplotlib.figure.Figure at 0x11186b278>"
      ]
     },
     "metadata": {},
     "output_type": "display_data"
    }
   ],
   "source": [
    "fig, ax = plt.subplots(figsize=(8,8))\n",
    "sns.set()\n",
    "plt.rc('text', usetex=True)\n",
    "# Basis vectors (i and j)\n",
    "ax.quiver([0], [0], [1, 0], [0, 1], angles='xy', scale_units='xy', scale=1, color=['b'])\n",
    "\n",
    "# Linearly transformed i and j\n",
    "ax.quiver([0], [0], [2, 2], [1, 3], angles='xy', scale_units='xy', scale=1, color=['cyan'])\n",
    "\n",
    "\n",
    "# x, pre transformation\n",
    "ax.quiver([0], [0], [-2.5], [0.5], angles='xy', scale_units='xy', scale=1, color=['g'])\n",
    "\n",
    "# v, (x post transformation)\n",
    "ax.quiver([0], [0], [ -4], [-1], angles='xy', scale_units='xy', scale=1, color=['r'])\n",
    "\n",
    "ax.legend(['Basis Vectors', 'Transformed Basis Vectors', \n",
    "           r'$\\vec{x}$', r'$\\vec{v}$'], fontsize=13)\n",
    "\n",
    "plt.plot(x, y1)\n",
    "plt.plot(x, y2)\n",
    "\n",
    "plt.xlim(-5, 5)\n",
    "plt.ylim(-5, 5)\n",
    "plt.show()"
   ]
  },
  {
   "cell_type": "code",
   "execution_count": 53,
   "metadata": {},
   "outputs": [
    {
     "data": {
      "text/plain": [
       "<matplotlib.quiver.Quiver at 0x114313710>"
      ]
     },
     "execution_count": 53,
     "metadata": {},
     "output_type": "execute_result"
    },
    {
     "data": {
      "image/png": "[encoded data removed]",
      "text/plain": [
       "<matplotlib.figure.Figure at 0x1140534a8>"
      ]
     },
     "metadata": {},
     "output_type": "display_data"
    }
   ],
   "source": [
    "fig, ax = plt.subplots()\n",
    "plt.plot(x, y1)\n",
    "plt.plot(x, y2)\n",
    "plt.quiver([0], [0], [-2.5, -4], [0.5, -1], angles='xy', scale_units='xy', scale=1)\n"
   ]
  },
  {
   "cell_type": "markdown",
   "metadata": {},
   "source": [
    "https://math.stackexchange.com/questions/2055226/linear-algebra-how-to-interpret-vectors-and-equations-of-a-system-of-equations\n",
    "* column space?\n",
    "* row space\n",
    "* read comments\n",
    "\n",
    "https://www.r-bloggers.com/visualizing-systems-of-linear-equations-and-linear-transformations/"
   ]
  },
  {
   "cell_type": "markdown",
   "metadata": {
    "collapsed": true
   },
   "source": [
    "Leaving Off: Let's say we are in a scenario where we want to know what x and y are, for a given state of our world. We intially have _no idea_ what they are. However, we first learn that for the given our current state, a certain relationship holds true (a function concerning both x and y). This alone will only give us a line in the coordinate space, _or_ it will give us a transformation of a vector from 2 dimensions into one, _but_ we are not sure what the original vector values-it could be many! For instance, if the transformation was:\n",
    "\n",
    "#### $$\n",
    "\\begin{bmatrix}\n",
    "    2 & 5 \\\\\n",
    "\\end{bmatrix}\n",
    "\\begin{bmatrix}\n",
    "    x \\\\\n",
    "    y \\\\\n",
    "\\end{bmatrix} =\n",
    "\\begin{bmatrix}\n",
    "    -3 \n",
    "\\end{bmatrix}\n",
    "$$\n",
    "\n",
    "There are multiple linear combinations that will satisfy this! For instance, $x = 1$ and $y = -1$. Or, $x = 6$ and $y = -3$. The list goes on and on. We _do not know_ which values of x and y correspond to our particular situation yet. By trying to solve the matrix vector multiplication at this point, we run into an issue of linear dependence: https://en.wikipedia.org/wiki/Linear_independence\n",
    "\n",
    "Now, suddenly we are given _another_ relationship concerning $x$ and $y$ that holds true for our current state of the world. We have been given another _constraint_. Now, from a coordinate space perspective, we have been given another line. From the vector space, it is another transformation that is holding true in our current state. At this point, we have 2 linear combinations. Because we know that they _both currently are true_, we treat them as a system. This means that we can hold them in a 2x2 matrix and treat it as one whole transformation (instead of 2 separate ones that resemble the dot product). \n",
    "\n",
    "How does this relate back to linear dependence/independence? "
   ]
  },
  {
   "cell_type": "code",
   "execution_count": null,
   "metadata": {
    "collapsed": true
   },
   "outputs": [],
   "source": []
  }
 ],
 "metadata": {
  "kernelspec": {
   "display_name": "Python 3",
   "language": "python3",
   "name": "python3"
  },
  "language_info": {
   "codemirror_mode": {
    "name": "ipython",
    "version": 3
   },
   "file_extension": ".py",
   "mimetype": "text/x-python",
   "name": "python",
   "nbconvert_exporter": "python",
   "pygments_lexer": "ipython3",
   "version": "3.6.5"
  }
 },
 "nbformat": 4,
 "nbformat_minor": 2
}
