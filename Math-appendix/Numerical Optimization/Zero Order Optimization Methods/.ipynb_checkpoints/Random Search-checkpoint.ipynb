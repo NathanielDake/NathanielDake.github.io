{
 "cells": [
  {
   "cell_type": "markdown",
   "metadata": {},
   "source": [
    "# Random Search Algorithm\n",
    "Random Search is **Zero Order Optimization method**, also known as **simulated annealing**, that determines descent direction at each step by examining a number of random directions stemming from our current point. This method does not scale well, but provides a great base framework of _descent directions_, _step length parameters_, and _issues of convergence_. "
   ]
  },
  {
   "cell_type": "code",
   "execution_count": 12,
   "metadata": {
    "collapsed": true
   },
   "outputs": [],
   "source": [
    "import numpy as np"
   ]
  },
  {
   "cell_type": "code",
   "execution_count": 104,
   "metadata": {
    "collapsed": true
   },
   "outputs": [],
   "source": [
    "def random_search(g, alpha_choice, max_iter, w, num_samples):\n",
    "  \"Random Search Function - Zero Order Optimization Method\"\n",
    "  # Initialize weight and cost arrays (for debugging and plotting purposes)\n",
    "  weight_history = []\n",
    "  cost_history = []\n",
    "  alpha = 0\n",
    "  \n",
    "  for k in range(1, max_iter + 1):\n",
    "    # Check if diminishing steplength rule used\n",
    "    alpha = 1 / float(k) if (alpha_choice == 'diminishing') else alpha_choice\n",
    "    \n",
    "    # Record weights and cost evaluation\n",
    "    weight_history.append(w)\n",
    "    cost_history.append(g(w))\n",
    "    \n",
    "    # Construct set of random unit directions\n",
    "    directions = np.random.randn(num_samples, np.size(w))\n",
    "    norms = np.sqrt(np.sum(directions*directions, axis=1)).reshape(num_samples,1)\n",
    "    directions = directions / norms\n",
    "    \n",
    "    # --- Pick best descent direction ---\n",
    "    # Compute all new candidate points\n",
    "    w_candidates = w + alpha*directions\n",
    "    \n",
    "    # Evaluate all candidates\n",
    "    evals = np.array([g(w_val) for w_val in w_candidates])\n",
    "    \n",
    "    # If we find a real descent directions take the step in its directions \n",
    "    ind = np.argmin(evals)\n",
    "    if evals[ind] < g(w):\n",
    "      # Grab the best descent directions, take step\n",
    "      d = directions[ind, :]\n",
    "      w = w + alpha * d\n",
    "  \n",
    "  # Record weights and cost evalutation \n",
    "  weight_history.append(w)\n",
    "  cost_history.append(g(w))\n",
    "  return weight_history, cost_history"
   ]
  },
  {
   "cell_type": "markdown",
   "metadata": {},
   "source": [
    "And we can now run our defined random search algorithm. Note that we will define $g$ to be:\n",
    "\n",
    "#### $$g(w_0, w_1) = w_0^2 + w_1^2 + 2 $$"
   ]
  },
  {
   "cell_type": "code",
   "execution_count": 105,
   "metadata": {
    "collapsed": true
   },
   "outputs": [],
   "source": [
    "# Define our function\n",
    "g = lambda w: np.dot(w.T, w) + 2\n",
    "\n",
    "# Run random search algorithm\n",
    "alpha_choice = 1\n",
    "w = np.array([3,4])\n",
    "num_samples = 1000\n",
    "max_iter = 5\n",
    "weight_history, cost_history = random_search(g, alpha_choice, max_iter, w, num_samples)"
   ]
  },
  {
   "cell_type": "code",
   "execution_count": 108,
   "metadata": {
    "collapsed": true
   },
   "outputs": [],
   "source": [
    "import seaborn as sns\n",
    "import matplotlib.pyplot as plt\n",
    "%matplotlib inline\n",
    "\n",
    "# Seaborn Plot Styling\n",
    "sns.set(style=\"white\", palette=\"husl\")\n",
    "sns.set_context(\"poster\")\n",
    "sns.set_style(\"ticks\")"
   ]
  },
  {
   "cell_type": "code",
   "execution_count": 130,
   "metadata": {
    "collapsed": true
   },
   "outputs": [],
   "source": [
    "w0 = list(map(lambda weights: weights[0], weight_history))\n",
    "w1 = list(map(lambda weights: weights[0], weight_history))"
   ]
  },
  {
   "cell_type": "code",
   "execution_count": 133,
   "metadata": {},
   "outputs": [
    {
     "data": {
      "text/plain": [
       "[<matplotlib.lines.Line2D at 0x10aead940>]"
      ]
     },
     "execution_count": 133,
     "metadata": {},
     "output_type": "execute_result"
    },
    {
     "data": {
      "image/png": "[encoded data removed]",
      "text/plain": [
       "<matplotlib.figure.Figure at 0x10b764710>"
      ]
     },
     "metadata": {},
     "output_type": "display_data"
    }
   ],
   "source": [
    "plt.plot(w0)"
   ]
  },
  {
   "cell_type": "code",
   "execution_count": 134,
   "metadata": {},
   "outputs": [
    {
     "data": {
      "text/plain": [
       "[<matplotlib.lines.Line2D at 0x10b9f9550>]"
      ]
     },
     "execution_count": 134,
     "metadata": {},
     "output_type": "execute_result"
    },
    {
     "data": {
      "image/png": "[encoded data removed]",
      "text/plain": [
       "<matplotlib.figure.Figure at 0x10aedac88>"
      ]
     },
     "metadata": {},
     "output_type": "display_data"
    }
   ],
   "source": [
    "plt.plot(w1)"
   ]
  },
  {
   "cell_type": "code",
   "execution_count": 1,
   "metadata": {},
   "outputs": [
    {
     "ename": "NameError",
     "evalue": "name 'plt' is not defined",
     "output_type": "error",
     "traceback": [
      "\u001b[0;31m---------------------------------------------------------------------------\u001b[0m",
      "\u001b[0;31mNameError\u001b[0m                                 Traceback (most recent call last)",
      "\u001b[0;32m<ipython-input-1-4d43954565ee>\u001b[0m in \u001b[0;36m<module>\u001b[0;34m()\u001b[0m\n\u001b[0;32m----> 1\u001b[0;31m \u001b[0mplt\u001b[0m\u001b[0;34m.\u001b[0m\u001b[0mplot\u001b[0m\u001b[0;34m(\u001b[0m\u001b[0mcost_history\u001b[0m\u001b[0;34m)\u001b[0m\u001b[0;34m\u001b[0m\u001b[0m\n\u001b[0m",
      "\u001b[0;31mNameError\u001b[0m: name 'plt' is not defined"
     ]
    }
   ],
   "source": [
    "plt.plot(cost_history)"
   ]
  },
  {
   "cell_type": "code",
   "execution_count": null,
   "metadata": {
    "collapsed": true
   },
   "outputs": [],
   "source": []
  }
 ],
 "metadata": {
  "kernelspec": {
   "display_name": "Python 3",
   "language": "python3",
   "name": "python3"
  },
  "language_info": {
   "codemirror_mode": {
    "name": "ipython",
    "version": 3
   },
   "file_extension": ".py",
   "mimetype": "text/x-python",
   "name": "python",
   "nbconvert_exporter": "python",
   "pygments_lexer": "ipython3",
   "version": "3.6.5"
  }
 },
 "nbformat": 4,
 "nbformat_minor": 2
}
