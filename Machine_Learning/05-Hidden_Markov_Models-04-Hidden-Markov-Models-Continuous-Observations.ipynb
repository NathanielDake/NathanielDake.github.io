{
 "cells": [
  {
   "cell_type": "markdown",
   "metadata": {},
   "source": [
    "# 7. HMM's with Continuous Observations \n",
    "At this point we are ready to look at the use application of Hidden Markov Model's to discrete observations. All that is meant by continuous observations is that what you observe is a number on a scale, rather than a symbol such as heads or tails, or words. This is an interesting topic in and of itself, because it allows us to think about:\n",
    "* What is continuous? \n",
    "* What is discrete?\n",
    "* What are we approximating as discrete that is really continuous?\n",
    "\n",
    "Think of an audio signal for a moment. Audio is simply sound, and sound is just air pressure that vibrates. By vibrating I just mean that it is oscillating in time. So, when audio is stored on your computer, obviously your computer cannot store an infinite number of values, and hence the air pressure has to be **quantized**; it has to be given a number that it can represent. Now, there are actually two things to quantize:\n",
    "\n",
    "1. The **amplitude** of the sound pressure $\\rightarrow$ 16 bit int.\n",
    "2. The **time** the amplitude occurred $\\rightarrow$ 44100 Hz.\n",
    "\n",
    "As has been mentioned before in other posts, sound is generally sampled at 44.1 KHz. That is far too fast for your brain to realize it is not continuous. So, what happens when we use a hidden markov model, but we assume the observed variable is a mixture of gaussians? Well, in essence:\n",
    "\n",
    "> The amplitude becomes continuous, and the time stays discrete.\n",
    "\n",
    "So, what changes when we use hidden markov models with Gaussian Mixture Models? Well, assuming you are familiar with GMM's (if not please review my posts on unsupervised learning). With that said, remember that a Hidden Markov Model is defined by three things: $\\pi$, $A$, and $B$. It seems that $B$ is what needs to change, since it used to be an $MxV$ matrix, and there are no longer just $V$ possible symbols. Recall, that there are three things that we need for a Gaussian Mixture Model:\n",
    "\n",
    "* The responsibilities, the probability of a specific gaussian: $R$\n",
    "* For each individual gaussian, the mean: $\\mu$\n",
    "* For each individual gaussian, the covariance: $\\Sigma$\n",
    "\n",
    "So, we are replacing $B$ by three new parameters: $R$, $\\mu$ and $\\Sigma$. We will use the letter $K$ to be the number of gaussians. So, we will store $R$ as an $MxK$ matrix, so there is one row for each state, and then for each state there are $K$ different probabilties. Since this is a probability matrix, each row must sum to one. Each individual $\\mu$ is $K$ dimensional, and there are "
   ]
  },
  {
   "cell_type": "code",
   "execution_count": null,
   "metadata": {},
   "outputs": [],
   "source": []
  }
 ],
 "metadata": {
  "kernelspec": {
   "display_name": "Python 3",
   "language": "python",
   "name": "python3"
  },
  "language_info": {
   "codemirror_mode": {
    "name": "ipython",
    "version": 3
   },
   "file_extension": ".py",
   "mimetype": "text/x-python",
   "name": "python",
   "nbconvert_exporter": "python",
   "pygments_lexer": "ipython3",
   "version": "3.6.2"
  }
 },
 "nbformat": 4,
 "nbformat_minor": 2
}
