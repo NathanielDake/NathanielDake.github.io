{
 "cells": [
  {
   "cell_type": "markdown",
   "metadata": {},
   "source": [
    "# 6. Summary\n",
    "We started off this series talking about the bias-variance trade-off. We showed that the error of any classification or regression model is a combination of **bias**, **variance**, and **irreducible error**. We then demonstrated that irreducible error can't be reduced, by bias and variance can! In the ideal situation both bias and variance are **low**. The main dilemma we saw was that as we decrease one, the other tends to increase. So, the idea that we found was that we want to find a happy medium where we are optimizing the test error. We learned than ensemble methods are a way to make the tradeoff, less of a tradeoff (i.e. attain low bias and low variance)!\n",
    "\n",
    "<br>\n",
    "## 1.1 Bootstrap\n",
    "We began our discussion of ensemble methods with the **bootstrap technique**. We showed that by using the bootstrap we can not only estimate confidence intervals, but we can actually reduce the variance of whatever we are trying to estimate; just by estimating it over and over again with resampled data sets. The key equation below, showed us that the variance of the bootstrap estimate was a function of the original variance, the correlation between each bootstrap sample, and the number of bootstrap samples. \n",
    "\n",
    "$$var(\\bar{\\theta}_B) = \\frac{1 - \\rho}{B}\\sigma^2 + \\rho \\sigma^2$$\n",
    "\n",
    "This equation showed us that when the correlation between each bootstrap sample is 1, we do not get any reduction in variance. But, when the correlation between each bootstrap sample is 0, then we get the maximum reduction in variance, which is a $\\frac{1}{B}$ decrease. \n",
    "\n",
    "<br>\n",
    "## 1.2 Bagging\n",
    "The bootstrap technique motivated the idea of **bagging**. This is where we would create an ensemble of models by training them on bootstrapped samples of the training data. We deduced that by using trees, which have very low bias and very high variance, we could achieve the desired decorrelation effect. We then combined the trees to lower the variance. \n",
    "\n",
    "<br>\n",
    "## 1.3 Random Forest\n",
    "Next we looked at the random forest, which further decorrelated the ensemble of trees by sampling the features as well. \n",
    "\n",
    "<br>\n",
    "## 1.4 AdaBoost\n",
    "Next we looked at AdaBoost, which unlike bagged trees and random forest, did not aim to use low bias, high variance models. Instead, the idea behind boosting was that many individual weak learners could be combined to be a strong learner if weighted properly. We demonstrated that this is true, by showing that AdaBoost achieve the best error rate on our data. \n",
    "\n",
    "<br>\n",
    "## 1.4 Mixture of Experts\n",
    "An interesting idea is how you may even go past boosting. First, we know that a bagging classifier just outputs the sum of all of its base learner predictions (assuming we are using -1 and +1 as targets). \n",
    "\n",
    "$$\\textbf{Bagging} \\rightarrow F(x) = \\sum_{m=1}^Mf_m(x)$$\n",
    "\n",
    "Boosting extends this by adding weights to each base learner. These weights, however, are not dependent on the input. Thus, each weight has the same value no matter what x is. \n",
    "\n",
    "$$\\textbf{Boosting} \\rightarrow F(x) = \\sum_{m=1}^M \\alpha_mf_m(x)$$\n",
    "\n",
    "One idea is that you can extend that by making each base learner an expert at something different. In other words, the model weight will also depend on x, and that will tell us how good the model is at classifying that x. This is known as mixture of experts. \n",
    "\n",
    "$$\\textbf{Mixture of Experts} \\rightarrow F(x) = \\sum_{m=1}^M \\alpha_m(x)f_m(x)$$"
   ]
  },
  {
   "cell_type": "code",
   "execution_count": null,
   "metadata": {
    "collapsed": true
   },
   "outputs": [],
   "source": []
  }
 ],
 "metadata": {
  "kernelspec": {
   "display_name": "Python 3",
   "language": "python3",
   "name": "python3"
  },
  "language_info": {
   "codemirror_mode": {
    "name": "ipython",
    "version": 3
   },
   "file_extension": ".py",
   "mimetype": "text/x-python",
   "name": "python",
   "nbconvert_exporter": "python",
   "pygments_lexer": "ipython3",
   "version": "3.6.5"
  }
 },
 "nbformat": 4,
 "nbformat_minor": 2
}
