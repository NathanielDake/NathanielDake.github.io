{
 "cells": [
  {
   "cell_type": "markdown",
   "metadata": {},
   "source": [
    "# 1. Introduction\n",
    "In the real world, you can imagine that you may not always have access to the optimal answer. Or, maybe there isn't an optimal or correct answer. You would want the robot to be able to explore things on its own, and learn things just by looking for patterns. \n",
    "\n",
    "There are two main types of unsupervised learning that we are going to talk about. The first is **clustering**. This is where instead of training on labels, we try and create our own labels. We will do this grouping together data that looks alike. There are two methods of clustering that we will talk about- **K-means clustering** and **hierarchical clustering**. \n",
    "\n",
    "Next, because in machine learning we like to talk about probability distributions, we will go into **Gaussian Mixture Models** and **Kernel Density Estimation**. This is where we talk about how to learn the probability distribution of a set of data. \n",
    "\n",
    "On interesting fact is that under certain conditions, Gaussian Mixture Models and **K-Means Clustering** are exactly the same. We will prove how this is the case. "
   ]
  },
  {
   "cell_type": "markdown",
   "metadata": {},
   "source": [
    "---\n",
    "\n",
    "<br>\n",
    "# 2. What is Unsupervised Learning used for?\n",
    "<br>\n",
    "## 2.1 Learning the structure or probability distribution of the data\n",
    "<br>\n",
    "**Density Estimation**\n",
    "<br>\n",
    "The first thing that we can go over that unsupervised learning is used for is **density estimation**. This is an entire area of study in statistics. We already know that we use the **probability density function** to tell us the probability of a random variable. Density estimation is the process of taking samples of the random variable, and figuring out the probability density function. Once you learn the distribution of the variable, you can generate samples of the variable using that distribution. For example, you could learn the distribution of a shakespeare play, and then generate text that looks like shakespeare. \n",
    "\n",
    "<br>\n",
    "**Latent Variables**\n",
    "<br>\n",
    "Another example is latent variables. Often, we want to know about hidden or underlying causes of the data we are seeing. These can be thought of as latent, missing, or hidden variables. As an example, say you are given a set of documents, but you aren't told what they are. You could do clustering on them and discover that there are a few distinct groups in that set of documents. Then when you actually read some of the documents in the data set you can see that one set of the documents is romance novels, the other is childrens books, and so on. Often, the data set is so large that it is infeasible to look at the entire dataset yourself, so you need some way of summarizing the data like this. One example of this is topic modeling. Here the latent variable is the topic, and the observed variable is the words. \n",
    "\n",
    "## 2.2 Dimensionality Reduction \n",
    "Methods such as Principle Component Analysis (PCA) and Singular Value Decomposition (SVD) generally do this. "
   ]
  },
  {
   "cell_type": "code",
   "execution_count": null,
   "metadata": {
    "collapsed": true
   },
   "outputs": [],
   "source": []
  }
 ],
 "metadata": {
  "kernelspec": {
   "display_name": "Python 3",
   "language": "python3",
   "name": "python3"
  },
  "language_info": {
   "codemirror_mode": {
    "name": "ipython",
    "version": 3
   },
   "file_extension": ".py",
   "mimetype": "text/x-python",
   "name": "python",
   "nbconvert_exporter": "python",
   "pygments_lexer": "ipython3",
   "version": "3.6.5"
  }
 },
 "nbformat": 4,
 "nbformat_minor": 2
}
