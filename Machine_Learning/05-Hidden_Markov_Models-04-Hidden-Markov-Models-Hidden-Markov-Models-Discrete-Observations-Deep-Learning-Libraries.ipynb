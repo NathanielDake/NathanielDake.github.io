{
 "cells": [
  {
   "cell_type": "markdown",
   "metadata": {},
   "source": [
    "# 6. Hidden Markov Models with Theano and TensorFlow\n",
    "* What is different about this process compared to old process?\n",
    "    * Specifically, expectation maximization vs stochastic gradient descent. \n",
    "* Set the stage for theano example, specifically the ease of taking the gradient compared to all the moving parts of EM\n",
    "* Describe each part of theano code block"
   ]
  },
  {
   "cell_type": "code",
   "execution_count": null,
   "metadata": {},
   "outputs": [],
   "source": []
  }
 ],
 "metadata": {
  "kernelspec": {
   "display_name": "Python 3",
   "language": "python",
   "name": "python3"
  },
  "language_info": {
   "codemirror_mode": {
    "name": "ipython",
    "version": 3
   },
   "file_extension": ".py",
   "mimetype": "text/x-python",
   "name": "python",
   "nbconvert_exporter": "python",
   "pygments_lexer": "ipython3",
   "version": "3.6.2"
  }
 },
 "nbformat": 4,
 "nbformat_minor": 2
}
